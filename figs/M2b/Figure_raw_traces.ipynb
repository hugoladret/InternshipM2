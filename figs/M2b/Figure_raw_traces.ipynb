{
 "cells": [
  {
   "cell_type": "markdown",
   "metadata": {},
   "source": [
    "# Figure 1 : Tracé de l'activité avec le signal brut"
   ]
  },
  {
   "cell_type": "code",
   "execution_count": 1,
   "metadata": {
    "ExecuteTime": {
     "end_time": "2019-05-18T22:36:35.592244Z",
     "start_time": "2019-05-18T22:36:34.443083Z"
    }
   },
   "outputs": [],
   "source": [
    "%matplotlib inline"
   ]
  },
  {
   "cell_type": "code",
   "execution_count": null,
   "metadata": {
    "ExecuteTime": {
     "start_time": "2019-05-17T22:15:04.391Z"
    },
    "scrolled": false
   },
   "outputs": [],
   "source": [
    "import numpy as np\n",
    "import matplotlib.pyplot as plt\n",
    "from scipy.signal import butter, lfilter\n",
    "from tqdm import tqdm\n",
    "import csv\n",
    "\n",
    "#Filter functions\n",
    "def butter_bandpass(lowcut, highcut, fs, order=5):\n",
    "    nyq = 0.5 * fs\n",
    "    low = lowcut / nyq\n",
    "    high = highcut / nyq\n",
    "    b, a = butter(order, [low, high], btype='band')\n",
    "    return b, a\n",
    "\n",
    "def butter_bandpass_filter(data, lowcut, highcut, fs, order=5):\n",
    "    b, a = butter_bandpass(lowcut, highcut, fs, order=order)\n",
    "    y = lfilter(b, a, data)\n",
    "    return y\n",
    "\n",
    "# Find nearest point\n",
    "def find_nearest(array, value):\n",
    "    array = np.asarray(array)\n",
    "    idx = (np.abs(array - value)).argmin()\n",
    "    return array[idx]\n",
    "\n",
    "\n",
    "# Parameters\n",
    "folder = 'A006_a17/'\n",
    "num_spikes_to_extract = 1000\n",
    "window = 30\n",
    "\n",
    "clust_chan_tuples = [(81,31),\n",
    "                    (77,30),\n",
    "                    (83,29),\n",
    "                    (69,28),\n",
    "                    (46,27),\n",
    "                    (80,26),\n",
    "                    (96,25),\n",
    "                    (91, 24),\n",
    "                    (95, 23),\n",
    "                    (2, 22),\n",
    "                    (94, 21),\n",
    "                    (97, 20),\n",
    "                    (72,19),\n",
    "                    (66, 18),\n",
    "                    (30, 18),\n",
    "                    (74,17),\n",
    "                    (92,16),\n",
    "                    (88,15),\n",
    "                    (85,14),\n",
    "                    (86,13),\n",
    "                    (17,12),\n",
    "                    (64, 11),\n",
    "                    (82,10)]\n",
    "\n",
    "fs = 30000.0\n",
    "lowcut = 300.0\n",
    "highcut = 3000.0\n",
    "order = 6\n",
    "\n",
    "# Open raw file\n",
    "f = open(folder + 'converted_data.bin', \"r\")\n",
    "a = np.fromfile(f, dtype=np.int16)\n",
    "a = np.reshape(a, (-1, 32))\n",
    "\n",
    "# Load spikes\n",
    "spike_times = np.load(folder+'spike_times.npy')\n",
    "spike_clusters = np.load(folder+'spike_clusters.npy')\n",
    "\n",
    "# group spike with cluster identity\n",
    "spike_cluster_table = []\n",
    "for i, spike in enumerate(spike_times):\n",
    "    spike_cluster_table.append((spike[0], spike_clusters[i]))\n",
    "\n",
    "# extract cluster metadata\n",
    "cluster_groups = []\n",
    "with open(folder+'cluster_groups.csv', 'r') as csvFile:\n",
    "    reader = csv.reader(csvFile)\n",
    "    for row in reader:\n",
    "        if row[0].split('\\t')[1] == 'good':\n",
    "            cluster_groups.append(int(row[0].split('\\t')[0]))\n",
    "good_spikes = []\n",
    "for good_cluster in cluster_groups:\n",
    "    temp_lst = []\n",
    "    for spike_cluster in spike_cluster_table:\n",
    "        if spike_cluster[-1] == good_cluster:\n",
    "            temp_lst.append(spike_cluster[0])\n",
    "\n",
    "    good_spikes.append(temp_lst)\n",
    "\n",
    "plot_window_beg = 56000\n",
    "plot_window_end = plot_window_beg+30000\n",
    "\n",
    "#Main loop, average waveforms and get points\n",
    "mean_waveforms = []\n",
    "carac_points = []\n",
    "fig = plt.figure(figsize = (5,15))\n",
    "for it, cluster_tuple in enumerate(clust_chan_tuples) :\n",
    "    cluster_channel = cluster_tuple[1] - 1\n",
    "    index_cluster = cluster_groups.index(cluster_tuple[0])\n",
    "\n",
    "    y = butter_bandpass_filter(a[:, cluster_channel], lowcut, highcut, fs, order)\n",
    "    \n",
    "    #plotting time\n",
    "\n",
    "    plt.subplot(len(clust_chan_tuples), 1, it+1)\n",
    "    plt.plot(a[:, cluster_channel][plot_window_beg:plot_window_end], c='gray', alpha=.4)\n",
    "    \n",
    "    window_spiketimes = np.where((np.asarray(good_spikes[it]) > plot_window_beg) & (np.asarray(good_spikes[it]) < plot_window_end))[0]\n",
    "    for spiketimes in window_spiketimes:\n",
    "        plt.axvline(good_spikes[it][spiketimes]-plot_window_beg,\n",
    "                   ymin = .5, ymax = .8, c = 'k')\n",
    "        \n",
    "    plt.axhline(0, c = 'gray', linewidth = 2, alpha = .8)\n",
    "    plt.axis('off')\n",
    "    #plt.show()\n",
    "    #plt.pause(.05)\n",
    "    \n",
    "plt.subplots_adjust(bottom = 0, wspace=0, hspace=0)\n",
    "fig.savefig('raw_and_spikes.svg'%cluster_channel, format = 'svg', transparent = True)\n",
    "plt.show()"
   ]
  },
  {
   "cell_type": "code",
   "execution_count": null,
   "metadata": {
    "ExecuteTime": {
     "start_time": "2019-05-17T22:15:04.392Z"
    }
   },
   "outputs": [],
   "source": [
    "it = 0\n",
    "window_spiketimes = np.where((np.asarray(good_spikes[it]) > plot_window_beg) & (np.asarray(good_spikes[it]) < plot_window_end))[0]\n",
    "for spiketimes in window_spiketimes:\n",
    "    print(good_spikes[it][spiketimes])"
   ]
  },
  {
   "cell_type": "code",
   "execution_count": null,
   "metadata": {
    "ExecuteTime": {
     "start_time": "2019-05-17T22:15:04.394Z"
    }
   },
   "outputs": [],
   "source": [
    "len(y[plot_window_beg:plot_window_end])"
   ]
  },
  {
   "cell_type": "code",
   "execution_count": null,
   "metadata": {
    "ExecuteTime": {
     "start_time": "2019-05-17T22:15:04.396Z"
    }
   },
   "outputs": [],
   "source": [
    "plot_window_beg"
   ]
  },
  {
   "cell_type": "code",
   "execution_count": null,
   "metadata": {
    "ExecuteTime": {
     "start_time": "2019-05-17T22:15:04.397Z"
    }
   },
   "outputs": [],
   "source": [
    "plot_window_end"
   ]
  },
  {
   "cell_type": "code",
   "execution_count": null,
   "metadata": {
    "ExecuteTime": {
     "start_time": "2019-05-17T22:15:04.399Z"
    }
   },
   "outputs": [],
   "source": [
    "plt.close('all')"
   ]
  }
 ],
 "metadata": {
  "kernelspec": {
   "display_name": "Python 3",
   "language": "python",
   "name": "python3"
  },
  "language_info": {
   "codemirror_mode": {
    "name": "ipython",
    "version": 3
   },
   "file_extension": ".py",
   "mimetype": "text/x-python",
   "name": "python",
   "nbconvert_exporter": "python",
   "pygments_lexer": "ipython3",
   "version": "3.7.2"
  }
 },
 "nbformat": 4,
 "nbformat_minor": 2
}
