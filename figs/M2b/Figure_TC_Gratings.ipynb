{
 "cells": [
  {
   "cell_type": "markdown",
   "metadata": {},
   "source": [
    "# Figure Tuning curve Gratings\n",
    "On a 5 blocs de 96 patrons, ou chaque patron est une combinaison de 12 angles et 8 niveaux de bruits. \n",
    "\n",
    "Donc quand on mesure les tunings curve à la fin, il faut les diviser par 5 quand c'est une tuning curve en fonction du bruit, ou par 5+8 quand c'est un niveau total.\n",
    "\n",
    "C'est une copie du notebook des PSTH, avec les TC plus jolis"
   ]
  },
  {
   "cell_type": "markdown",
   "metadata": {},
   "source": [
    "# Extracting photodiode data"
   ]
  },
  {
   "cell_type": "code",
   "execution_count": 1,
   "metadata": {
    "ExecuteTime": {
     "end_time": "2019-05-21T11:43:13.655347Z",
     "start_time": "2019-05-21T11:43:10.415732Z"
    }
   },
   "outputs": [],
   "source": [
    "import numpy as np\n",
    "import matplotlib.pyplot as plt\n",
    "import KwikTools as kt\n",
    "from tqdm import tqdm\n",
    "import csv"
   ]
  },
  {
   "cell_type": "code",
   "execution_count": 2,
   "metadata": {
    "ExecuteTime": {
     "end_time": "2019-05-21T11:43:13.658333Z",
     "start_time": "2019-05-21T11:43:13.656531Z"
    }
   },
   "outputs": [],
   "source": [
    "subfolder = 'E007_a17//'"
   ]
  },
  {
   "cell_type": "code",
   "execution_count": 3,
   "metadata": {
    "ExecuteTime": {
     "end_time": "2019-05-21T11:43:14.489650Z",
     "start_time": "2019-05-21T11:43:13.659485Z"
    }
   },
   "outputs": [],
   "source": [
    "dataset = kt.load(subfolder+'/experiment1_100.raw.kwd',\n",
    "                  'all')\n",
    "\n",
    "info = dataset['info']['0']\n",
    "data = dataset['data']['0']\n",
    "channels = dataset['channel_bit_volts']['0']\n",
    "timestamps = dataset['timestamps']['0']"
   ]
  },
  {
   "cell_type": "code",
   "execution_count": 4,
   "metadata": {
    "ExecuteTime": {
     "end_time": "2019-05-21T11:43:14.831157Z",
     "start_time": "2019-05-21T11:43:14.490867Z"
    }
   },
   "outputs": [
    {
     "name": "stdout",
     "output_type": "stream",
     "text": [
      "Timestamps shape (30502500,)\n",
      "Timestamps range from 6888.49 to 7905.239966666667\n",
      "Which should be 1016.7499666666672 seconds\n"
     ]
    }
   ],
   "source": [
    "print('Timestamps shape', timestamps.shape)\n",
    "print('Timestamps range from %s to %s' % (timestamps.min(), timestamps.max()))\n",
    "print('Which should be %s seconds' % (timestamps.max() - timestamps.min()))"
   ]
  },
  {
   "cell_type": "code",
   "execution_count": 5,
   "metadata": {
    "ExecuteTime": {
     "end_time": "2019-05-21T11:43:15.796879Z",
     "start_time": "2019-05-21T11:43:14.832368Z"
    }
   },
   "outputs": [
    {
     "data": {
      "image/png": "[encoded data removed]",
      "text/plain": [
       "<Figure size 432x288 with 1 Axes>"
      ]
     },
     "metadata": {
      "needs_background": "light"
     },
     "output_type": "display_data"
    }
   ],
   "source": [
    "plt.plot(channels, '.b')\n",
    "plt.title('Code digital des canaux')\n",
    "plt.show()\n",
    "plt.close('all')"
   ]
  },
  {
   "cell_type": "markdown",
   "metadata": {
    "ExecuteTime": {
     "end_time": "2019-03-27T15:39:50.577445Z",
     "start_time": "2019-03-27T15:39:17.631911Z"
    }
   },
   "source": [
    "plt.figure(figsize=(10, 6))\n",
    "plt.plot(data[:,35][::10], linewidth=1)\n",
    "plt.title(\"Photodiode signal, zoom on a peak, get the amplitude and the inter peak and multiply by 100\")\n",
    "plt.show()"
   ]
  },
  {
   "cell_type": "markdown",
   "metadata": {
    "ExecuteTime": {
     "end_time": "2019-04-30T14:26:13.041951Z",
     "start_time": "2019-04-30T14:25:33.449941Z"
    }
   },
   "source": [
    "plt.plot(data[:,70][::10])\n",
    "plt.pause(.1)\n",
    "plt.close('all')"
   ]
  },
  {
   "cell_type": "code",
   "execution_count": 6,
   "metadata": {
    "ExecuteTime": {
     "end_time": "2019-05-21T11:44:25.054618Z",
     "start_time": "2019-05-21T11:43:15.798653Z"
    }
   },
   "outputs": [
    {
     "ename": "KeyboardInterrupt",
     "evalue": "",
     "output_type": "error",
     "traceback": [
      "\u001b[0;31m---------------------------------------------------------------------------\u001b[0m",
      "\u001b[0;31mKeyboardInterrupt\u001b[0m                         Traceback (most recent call last)",
      "\u001b[0;32m<ipython-input-6-208cbdef3176>\u001b[0m in \u001b[0;36m<module>\u001b[0;34m()\u001b[0m\n\u001b[0;32m----> 1\u001b[0;31m \u001b[0mphotodiode_channel\u001b[0m \u001b[0;34m=\u001b[0m \u001b[0mdata\u001b[0m\u001b[0;34m[\u001b[0m\u001b[0;34m:\u001b[0m\u001b[0;34m,\u001b[0m \u001b[0;36m70\u001b[0m\u001b[0;34m]\u001b[0m\u001b[0;34m\u001b[0m\u001b[0;34m\u001b[0m\u001b[0m\n\u001b[0m\u001b[1;32m      2\u001b[0m \u001b[0;32mdel\u001b[0m \u001b[0mdata\u001b[0m\u001b[0;34m\u001b[0m\u001b[0;34m\u001b[0m\u001b[0m\n",
      "\u001b[0;32mh5py/_objects.pyx\u001b[0m in \u001b[0;36mh5py._objects.with_phil.wrapper\u001b[0;34m()\u001b[0m\n",
      "\u001b[0;32mh5py/_objects.pyx\u001b[0m in \u001b[0;36mh5py._objects.with_phil.wrapper\u001b[0;34m()\u001b[0m\n",
      "\u001b[0;32m~/anaconda3/lib/python3.7/site-packages/h5py/_hl/dataset.py\u001b[0m in \u001b[0;36m__getitem__\u001b[0;34m(self, args)\u001b[0m\n\u001b[1;32m    494\u001b[0m         \u001b[0mmspace\u001b[0m \u001b[0;34m=\u001b[0m \u001b[0mh5s\u001b[0m\u001b[0;34m.\u001b[0m\u001b[0mcreate_simple\u001b[0m\u001b[0;34m(\u001b[0m\u001b[0mmshape\u001b[0m\u001b[0;34m)\u001b[0m\u001b[0;34m\u001b[0m\u001b[0;34m\u001b[0m\u001b[0m\n\u001b[1;32m    495\u001b[0m         \u001b[0mfspace\u001b[0m \u001b[0;34m=\u001b[0m \u001b[0mselection\u001b[0m\u001b[0;34m.\u001b[0m\u001b[0mid\u001b[0m\u001b[0;34m\u001b[0m\u001b[0;34m\u001b[0m\u001b[0m\n\u001b[0;32m--> 496\u001b[0;31m         \u001b[0mself\u001b[0m\u001b[0;34m.\u001b[0m\u001b[0mid\u001b[0m\u001b[0;34m.\u001b[0m\u001b[0mread\u001b[0m\u001b[0;34m(\u001b[0m\u001b[0mmspace\u001b[0m\u001b[0;34m,\u001b[0m \u001b[0mfspace\u001b[0m\u001b[0;34m,\u001b[0m \u001b[0marr\u001b[0m\u001b[0;34m,\u001b[0m \u001b[0mmtype\u001b[0m\u001b[0;34m,\u001b[0m \u001b[0mdxpl\u001b[0m\u001b[0;34m=\u001b[0m\u001b[0mself\u001b[0m\u001b[0;34m.\u001b[0m\u001b[0m_dxpl\u001b[0m\u001b[0;34m)\u001b[0m\u001b[0;34m\u001b[0m\u001b[0;34m\u001b[0m\u001b[0m\n\u001b[0m\u001b[1;32m    497\u001b[0m \u001b[0;34m\u001b[0m\u001b[0m\n\u001b[1;32m    498\u001b[0m         \u001b[0;31m# Patch up the output for NumPy\u001b[0m\u001b[0;34m\u001b[0m\u001b[0;34m\u001b[0m\u001b[0;34m\u001b[0m\u001b[0m\n",
      "\u001b[0;31mKeyboardInterrupt\u001b[0m: "
     ]
    }
   ],
   "source": [
    "photodiode_channel = data[:, 70]\n",
    "del data"
   ]
  },
  {
   "cell_type": "code",
   "execution_count": null,
   "metadata": {
    "ExecuteTime": {
     "end_time": "2019-05-21T11:44:25.055150Z",
     "start_time": "2019-05-21T11:43:10.443Z"
    },
    "scrolled": false
   },
   "outputs": [],
   "source": [
    "# https://stackoverflow.com/questions/15800895/finding-clusters-of-numbers-in-a-list\n",
    "def grouper(iterable, timeframe):\n",
    "    prev = None\n",
    "    group = []\n",
    "    for item in iterable:\n",
    "        if not prev or item - prev <= timeframe:\n",
    "            group.append(item)\n",
    "        else:\n",
    "            yield group\n",
    "            group = [item]\n",
    "        prev = item\n",
    "    if group:\n",
    "        yield group\n",
    "\n",
    "\n",
    "above_threshold = np.where(photodiode_channel > 1100)[0]\n",
    "chunk_list = list(enumerate(grouper(above_threshold, 600), 1))\n",
    "print('Found %s chunks' % len(chunk_list))"
   ]
  },
  {
   "cell_type": "code",
   "execution_count": null,
   "metadata": {
    "ExecuteTime": {
     "end_time": "2019-05-21T11:44:25.055787Z",
     "start_time": "2019-05-21T11:43:10.445Z"
    }
   },
   "outputs": [],
   "source": [
    "chunk_beg_list = []\n",
    "chunk_end_list = []\n",
    "min_timestamps = timestamps.min()\n",
    "\n",
    "for chunk in chunk_list:\n",
    "    chunk_beg_list.append(chunk[1][0])  # /30000+min_timestamps)\n",
    "    chunk_end_list.append(chunk[1][-1])  # /30000+min_timestamps)\n",
    "\n",
    "plt.figure(figsize=(12, 6))\n",
    "plt.plot(photodiode_channel[:9000000])\n",
    "plt.plot(chunk_beg_list[:65], np.full_like(chunk_beg_list[:65], 1100), '.r',\n",
    "         label='Sequences begs')\n",
    "plt.plot(chunk_end_list[:65], np.full_like(chunk_end_list[:65], 1100), '.y',\n",
    "         label='Sequences ends')\n",
    "plt.legend()\n",
    "#plt.xlim(100000/2, 380000/2)\n",
    "plt.xlim(-50000, 300000)\n",
    "plt.title(\"We're losing the very first trace using chunk ends, but at least there is no init artifact\")\n",
    "plt.show()\n",
    "\n",
    "plt.figure(figsize=(12, 6))\n",
    "plt.plot(np.linspace(len(photodiode_channel)-900000, len(photodiode_channel), 900000),\n",
    "         photodiode_channel[-900000:])\n",
    "plt.plot(chunk_beg_list[-25:], np.full_like(chunk_beg_list[-25:], 1100), '.r',\n",
    "         label='Sequences begs')\n",
    "plt.plot(chunk_end_list[-25:], np.full_like(chunk_end_list[-25:], 1100), '.y',\n",
    "         label='Sequences ends')\n",
    "plt.legend()\n",
    "plt.xlim(len(photodiode_channel)-200000, len(photodiode_channel)+50000)\n",
    "plt.title(\"Same thing but for the end. The dip is the end of stim, and then the white from JupNotebook\\n the last\\\n",
    "          end to end sequence has to be deleted\")\n",
    "plt.show()\n",
    "\n",
    "plt.close('all')\n",
    "\n",
    "# rerunning the chunk lists with sample rate converted to actual time\n",
    "chunk_beg_list = []\n",
    "chunk_end_list = []\n",
    "for chunk in chunk_list:\n",
    "    chunk_beg_list.append(chunk[1][0]/30000+min_timestamps)\n",
    "    chunk_end_list.append(chunk[1][-1]/30000+min_timestamps)\n",
    "\n",
    "# we remove the un-needed last sequence\n",
    "del chunk_end_list[-1]\n",
    "del chunk_beg_list[-1]"
   ]
  },
  {
   "cell_type": "code",
   "execution_count": null,
   "metadata": {
    "ExecuteTime": {
     "end_time": "2019-05-21T11:44:25.056617Z",
     "start_time": "2019-05-21T11:43:10.447Z"
    }
   },
   "outputs": [],
   "source": [
    "plt.figure(figsize=(10, 5))\n",
    "plt.plot(np.asarray(chunk_end_list[1:]) - np.asarray(chunk_end_list[:-1]))\n",
    "plt.title('Stimulus presentation time\\n We have very little deviation between each presentation, at most a few ms')\n",
    "plt.xlabel('Trial no')\n",
    "plt.ylabel('Presentation duration')\n",
    "plt.show()"
   ]
  },
  {
   "cell_type": "markdown",
   "metadata": {},
   "source": [
    "# Extracting spike times from clusters "
   ]
  },
  {
   "cell_type": "code",
   "execution_count": null,
   "metadata": {
    "ExecuteTime": {
     "end_time": "2019-05-21T11:44:25.057326Z",
     "start_time": "2019-05-21T11:43:10.449Z"
    }
   },
   "outputs": [],
   "source": [
    "spike_times = np.load(subfolder+'spike_times.npy')\n",
    "spike_clusters = np.load(subfolder+'spike_clusters.npy')\n",
    "\n",
    "# group spike with cluster identity\n",
    "spike_cluster_table = []\n",
    "for i, spike in enumerate(spike_times):\n",
    "    spike_cluster_table.append((spike[0], spike_clusters[i]))\n",
    "\n",
    "# extract cluster metadata\n",
    "cluster_groups = []\n",
    "with open(subfolder+'./cluster_groups.csv', 'r') as csvFile:\n",
    "    reader = csv.reader(csvFile)\n",
    "    for row in reader:\n",
    "        if row[0].split('\\t')[1] == 'good':\n",
    "            cluster_groups.append(int(row[0].split('\\t')[0]))"
   ]
  },
  {
   "cell_type": "code",
   "execution_count": null,
   "metadata": {
    "ExecuteTime": {
     "end_time": "2019-05-21T11:44:25.057926Z",
     "start_time": "2019-05-21T11:43:10.452Z"
    }
   },
   "outputs": [],
   "source": [
    "plt.figure(figsize=(8, 6))\n",
    "plt.scatter(*zip(*spike_cluster_table), s=1)\n",
    "plt.xlabel('Time (in sample not seconds)')\n",
    "plt.ylabel('Cluster')\n",
    "plt.title('Spiking times for each cluster')\n",
    "plt.show()"
   ]
  },
  {
   "cell_type": "code",
   "execution_count": null,
   "metadata": {
    "ExecuteTime": {
     "end_time": "2019-05-21T11:44:25.058470Z",
     "start_time": "2019-05-21T11:43:10.455Z"
    }
   },
   "outputs": [],
   "source": [
    "good_spikes = []\n",
    "\n",
    "for good_cluster in cluster_groups:\n",
    "    temp_lst = []\n",
    "    for spike_cluster in spike_cluster_table:\n",
    "        if spike_cluster[-1] == good_cluster:\n",
    "            temp_lst.append(spike_cluster[0]/30000+min_timestamps)\n",
    "\n",
    "    good_spikes.append(temp_lst)"
   ]
  },
  {
   "cell_type": "code",
   "execution_count": null,
   "metadata": {
    "ExecuteTime": {
     "end_time": "2019-05-21T11:44:25.058991Z",
     "start_time": "2019-05-21T11:43:10.458Z"
    },
    "scrolled": false
   },
   "outputs": [],
   "source": [
    "hist_list = []\n",
    "for it, cluster in enumerate(good_spikes):\n",
    "    plt.figure(figsize=(4, 4))\n",
    "    hist = plt.hist(cluster, bins=chunk_end_list)\n",
    "    hist_list.append(hist[0])\n",
    "    plt.xlabel('Time (s)')\n",
    "    plt.ylabel('Spikes')\n",
    "    plt.title('Spikes binned (matplotlib) per sequences for neuron cluster #%s' % it)\n",
    "    plt.show()\n",
    "    plt.pause(.1)\n",
    "\n",
    "plt.close('all')"
   ]
  },
  {
   "cell_type": "code",
   "execution_count": null,
   "metadata": {
    "ExecuteTime": {
     "end_time": "2019-05-21T11:44:25.059566Z",
     "start_time": "2019-05-21T11:43:10.462Z"
    }
   },
   "outputs": [],
   "source": [
    "plt.figure(figsize=(12, 8))\n",
    "cluster_spike_bins = []\n",
    "for cluster in good_spikes:\n",
    "    spike_bins = []\n",
    "\n",
    "    for i in range(len(chunk_end_list)-1):\n",
    "        where = np.where(\n",
    "            (cluster >= chunk_beg_list[i]) & (cluster <= chunk_end_list[i]-.5))[0]\n",
    "        spike_bins.append(len(where))\n",
    "\n",
    "    plt.ylabel('Spikes')\n",
    "    plt.xlabel('Sequence #')\n",
    "    plt.title('Spiked bin (custom)')\n",
    "    plt.plot(spike_bins)\n",
    "    cluster_spike_bins.append(spike_bins)"
   ]
  },
  {
   "cell_type": "code",
   "execution_count": null,
   "metadata": {
    "ExecuteTime": {
     "end_time": "2019-05-21T11:44:25.060176Z",
     "start_time": "2019-05-21T11:43:10.466Z"
    }
   },
   "outputs": [],
   "source": [
    "plt.close('all')"
   ]
  },
  {
   "cell_type": "markdown",
   "metadata": {},
   "source": [
    "# Linking the results with the stimulation\n",
    "For the gratings I don't have a stim file but I saved and controlled the code for each sequence, so I can re-generate it"
   ]
  },
  {
   "cell_type": "code",
   "execution_count": null,
   "metadata": {
    "ExecuteTime": {
     "end_time": "2019-05-21T11:44:25.060841Z",
     "start_time": "2019-05-21T11:43:10.469Z"
    }
   },
   "outputs": [],
   "source": [
    "import itertools\n",
    "\n",
    "# Orientations\n",
    "N_thetas = 12\n",
    "# we offset by pi/2 to prevent problems with matplotlib's displays and psychopy\n",
    "thetas = np.linspace(0, np.pi, N_thetas)\n",
    "\n",
    "# Noise\n",
    "B_thetas = np.linspace(np.pi/2, np.pi/32, 8)/2.5\n",
    "B_thetas = np.linspace(20, 5, 8)\n",
    "# Presentation of each pattern\n",
    "stim_duration = .02  # s\n",
    "\n",
    "# Repetition of each block\n",
    "repetition = 5\n",
    "\n",
    "rng = np.random.RandomState(42)\n",
    "sequence = list(itertools.product(thetas, B_thetas))\n",
    "\n",
    "plt.scatter(*zip(*sequence))\n",
    "plt.title('Each dot is a stimulus')\n",
    "plt.xlabel('theta(pi)')\n",
    "plt.ylabel('SF ()')\n",
    "plt.show()"
   ]
  },
  {
   "cell_type": "code",
   "execution_count": null,
   "metadata": {
    "ExecuteTime": {
     "end_time": "2019-05-21T11:44:25.061510Z",
     "start_time": "2019-05-21T11:43:10.470Z"
    }
   },
   "outputs": [],
   "source": [
    "sorted_by_btheta = sorted(sequence, key=lambda tup: tup[1], reverse=True)\n",
    "sorted_by_btheta\n",
    "sequence = sorted_by_btheta"
   ]
  },
  {
   "cell_type": "code",
   "execution_count": null,
   "metadata": {
    "ExecuteTime": {
     "end_time": "2019-05-21T11:44:25.062154Z",
     "start_time": "2019-05-21T11:43:10.472Z"
    }
   },
   "outputs": [],
   "source": [
    "full_sequences = sequence.copy()\n",
    "for rep in range(repetition-1):\n",
    "    full_sequences += sequence"
   ]
  },
  {
   "cell_type": "code",
   "execution_count": null,
   "metadata": {
    "ExecuteTime": {
     "end_time": "2019-05-21T11:44:25.062699Z",
     "start_time": "2019-05-21T11:43:10.474Z"
    }
   },
   "outputs": [],
   "source": [
    "len(full_sequences) == len(chunk_end_list)"
   ]
  },
  {
   "cell_type": "code",
   "execution_count": null,
   "metadata": {
    "ExecuteTime": {
     "end_time": "2019-05-21T11:44:25.063274Z",
     "start_time": "2019-05-21T11:43:10.476Z"
    }
   },
   "outputs": [],
   "source": [
    "len(cluster_spike_bins[0])"
   ]
  },
  {
   "cell_type": "code",
   "execution_count": null,
   "metadata": {
    "ExecuteTime": {
     "end_time": "2019-05-21T11:44:25.063907Z",
     "start_time": "2019-05-21T11:43:10.479Z"
    }
   },
   "outputs": [],
   "source": [
    "# n sequences is n-1 bins\n",
    "(len(sequence)*5)-1 == len(cluster_spike_bins[0])"
   ]
  },
  {
   "cell_type": "code",
   "execution_count": null,
   "metadata": {
    "ExecuteTime": {
     "end_time": "2019-05-21T11:44:25.064516Z",
     "start_time": "2019-05-21T11:43:10.480Z"
    }
   },
   "outputs": [],
   "source": [
    "seq_FR_list = []\n",
    "for it, cluster in enumerate(cluster_spike_bins):\n",
    "    # print(it) #cluster number\n",
    "    temp_list = []  # list of sequence info with firing rate\n",
    "    for it2, sequence in enumerate(full_sequences):\n",
    "        # print(it2) #sequence number\n",
    "        i = it2-1\n",
    "        FR = cluster[i] / (chunk_end_list[i] - chunk_beg_list[i])\n",
    "        temp_list.append((sequence, FR))\n",
    "\n",
    "    seq_FR_list.append(temp_list)"
   ]
  },
  {
   "cell_type": "code",
   "execution_count": null,
   "metadata": {
    "ExecuteTime": {
     "end_time": "2019-05-21T11:44:25.065064Z",
     "start_time": "2019-05-21T11:43:10.482Z"
    }
   },
   "outputs": [],
   "source": [
    "all_unique_tuple_FR_list = []\n",
    "\n",
    "for cluster in seq_FR_list:\n",
    "    uniqs = np.unique(np.asarray(cluster)[:, 0])\n",
    "    # first element is sequence info (theta,cpd) and second is FR summed on 5 repetitions\n",
    "    unique_tuple_FR_list = []\n",
    "    for unique_tuple in uniqs:\n",
    "        sum_list = []\n",
    "        for seq_fr in cluster:\n",
    "            if seq_fr[0] == unique_tuple:\n",
    "                sum_list.append(seq_fr[1])\n",
    "        seq_sum = np.sum(sum_list)\n",
    "        unique_tuple_FR_list.append((unique_tuple, seq_sum))\n",
    "\n",
    "    all_unique_tuple_FR_list.append(unique_tuple_FR_list)"
   ]
  },
  {
   "cell_type": "code",
   "execution_count": null,
   "metadata": {
    "ExecuteTime": {
     "end_time": "2019-05-21T11:44:25.065670Z",
     "start_time": "2019-05-21T11:43:10.484Z"
    }
   },
   "outputs": [],
   "source": [
    "uniq_theta = thetas.copy()\n",
    "uniq_b_theta = B_thetas.copy()"
   ]
  },
  {
   "cell_type": "code",
   "execution_count": null,
   "metadata": {
    "ExecuteTime": {
     "end_time": "2019-05-21T11:44:25.066278Z",
     "start_time": "2019-05-21T11:43:10.486Z"
    }
   },
   "outputs": [],
   "source": [
    "all_unique_tuple_FR_list[0]"
   ]
  },
  {
   "cell_type": "markdown",
   "metadata": {},
   "source": [
    "# Global tuning curve (taking in account all noise levels)"
   ]
  },
  {
   "cell_type": "code",
   "execution_count": null,
   "metadata": {
    "ExecuteTime": {
     "end_time": "2019-05-21T11:44:25.066906Z",
     "start_time": "2019-05-21T11:43:10.488Z"
    }
   },
   "outputs": [],
   "source": [
    "from lmfit import Model, Parameters\n",
    "\n",
    "\n",
    "def tuning_function(x, j, B, fmax):  # von mises, baseline is the minimum neuron activity\n",
    "    N = len(x)\n",
    "    if B == np.inf:\n",
    "        VM = np.ones_like(x)\n",
    "    else:\n",
    "        VM = np.exp((np.cos(2.*np.pi*(x-j)/N)-1.)/4/(B*np.pi/180)**2)\n",
    "    #VM /= VM.sum(axis=0)\n",
    "    return fmax * VM\n",
    "\n",
    "\n",
    "def fit_plot(array, datacol='.b', fitcol='k', data_kws=None, do_title=True,\n",
    "             seq_nbr=None):\n",
    "\n",
    "    # fit the gaussian\n",
    "    x = np.linspace(0, len(array), len(array))\n",
    "    y = array\n",
    "    N = len(array)\n",
    "\n",
    "    #mod = GaussianModel()\n",
    "\n",
    "    mod = Model(tuning_function)\n",
    "    pars = Parameters()\n",
    "    y = y-np.min(y)\n",
    "    pars.add_many(('j', y.argmax(), True,  0.0, N), ('B', 15., True,  0.1, 360),\n",
    "                  ('fmax', y.max(), True,  0.0, 100.))\n",
    "\n",
    "    #pars = mod.guess(y, x=x)\n",
    "    #pars['center'] = lmfit.Parameter('center', seq_nbr*15)\n",
    "    out = mod.fit(y, pars, x=x, nan_policy='omit')\n",
    "    # print(out.fit_report(min_correl=0.25))\n",
    "\n",
    "    '''# plot the fits\n",
    "    out.plot_fit(datafmt=datacol, fitfmt=fitcol,\n",
    "                 data_kws=data_kws, show_init=False)'''\n",
    "    # print(out.fit_report())\n",
    "    sigma = out.best_values['B']\n",
    "\n",
    "    '''    \n",
    "    if do_title:\n",
    "        ax.set_title('Sequence #%s -- ' % seq_nbr + r'$B_\\theta$ = %.2f' % sigma)'''\n",
    "    return out.best_values, (1-out.residual.var() / np.var(y))"
   ]
  },
  {
   "cell_type": "code",
   "execution_count": null,
   "metadata": {
    "ExecuteTime": {
     "end_time": "2019-05-21T11:44:25.067644Z",
     "start_time": "2019-05-21T11:43:10.491Z"
    },
    "scrolled": false
   },
   "outputs": [],
   "source": [
    "# we can sum along theta, which is likely to be uninformative due to noise in certains patterns\n",
    "\n",
    "for it, neuron in enumerate(all_unique_tuple_FR_list):\n",
    "    FR_sum = []\n",
    "    FR_ind = []\n",
    "    for thetas in uniq_theta:\n",
    "        theta_sum_list = []\n",
    "        for tup_fr in neuron:\n",
    "            if tup_fr[0][0] == thetas:\n",
    "                theta_sum_list.append(tup_fr[1])\n",
    "\n",
    "        FR_sum.append(np.sum(theta_sum_list))\n",
    "        FR_ind.append(theta_sum_list)\n",
    "    xs = np.linspace(0, len(FR_sum), len(FR_sum))\n",
    "    fig = plt.figure(figsize=(10, 7.5))\n",
    "    ax = plt.subplot(111)\n",
    "\n",
    "    best_vals = fit_plot(np.asarray(FR_sum)/(5+8))[0]\n",
    "    fit_report = fit_plot(np.asarray(FR_sum)/(5+8))[1]\n",
    "\n",
    "\n",
    "    for it3, theta in enumerate(FR_ind):\n",
    "        ax.errorbar(xs[it3],\n",
    "                    np.sum(FR_ind[it3])/(5+8),\n",
    "                    np.std(FR_ind[it3])/(5+8), fmt='o', capsize=3,\n",
    "                    c='k', alpha=.7)\n",
    "    #ax.plot(xs, np.asarray(FR_sum)/(5+8), '.b')\n",
    "    \n",
    "    ax.plot(xs,\n",
    "        tuning_function(x=xs,\n",
    "                        j=best_vals['j'], fmax=best_vals['fmax'],\n",
    "                        B=best_vals['B'])+(np.asarray(FR_sum)/(5+8)).min(),\n",
    "        c='k')\n",
    "\n",
    "    ax.set_ylabel('Fréquence de décharge (Hz)', fontsize=14)\n",
    "    ax.set_xlabel('Angle (°)', fontsize=14)\n",
    "    ax.set_title('Ouverture à mi-hauteur : ' + r'$B_\\theta$ = %.2f°  ' %\n",
    "                 best_vals['B'], fontsize=16)\n",
    "    plt.suptitle('(r² = %.2f)' % fit_report, fontsize=14, y=.88)\n",
    "\n",
    "    ax.spines[\"right\"].set_visible(False)\n",
    "    ax.spines[\"top\"].set_visible(False)\n",
    "\n",
    "    labels = [item.get_text() for item in ax.get_xticklabels()]\n",
    "    labels = np.linspace(0, np.pi, len(labels))*180/np.pi\n",
    "\n",
    "    ax.set_xticklabels(labels)\n",
    "\n",
    "    ax.tick_params(axis='both', which='major', labelsize=12)\n",
    "    fig.savefig('./TC_global/Global_TC_pen%s_N%s.svg' % (subfolder.split('/')[0], it),\n",
    "                format='svg', transparent=True, bbox_inches='tight')\n",
    "    plt.show()\n",
    "    plt.close('all')"
   ]
  },
  {
   "cell_type": "markdown",
   "metadata": {},
   "source": [
    "# Angle and noise dissociated (so 8 tuning curves per neuron)"
   ]
  },
  {
   "cell_type": "code",
   "execution_count": null,
   "metadata": {
    "ExecuteTime": {
     "end_time": "2019-05-21T11:44:25.068272Z",
     "start_time": "2019-05-21T11:43:10.493Z"
    },
    "scrolled": false
   },
   "outputs": [],
   "source": [
    "neuron_to_plot = 1\n",
    "\n",
    "all_btheta_list = []\n",
    "for btheta in uniq_b_theta:\n",
    "    theta_fr_perBtheta = []\n",
    "    for theta in uniq_theta:\n",
    "        for tup_theta_btheta in seq_FR_list[neuron_to_plot]:\n",
    "            if tup_theta_btheta[0][0] == theta and tup_theta_btheta[0][1] == btheta:\n",
    "                theta_fr_perBtheta.append(tup_theta_btheta)\n",
    "\n",
    "    all_btheta_list.append(theta_fr_perBtheta)\n",
    "\n",
    "\n",
    "for b_theta_curve in all_btheta_list:\n",
    "    b_theta_points = []\n",
    "    for theta in uniq_theta:\n",
    "        theta_lst = []\n",
    "        for tup in b_theta_curve:\n",
    "            if tup[0][0] == theta:\n",
    "                theta_lst.append(tup[1])\n",
    "        b_theta_points.append(theta_lst)\n",
    "\n",
    "    fig = plt.figure(figsize=(10, 7.5))\n",
    "    ax = plt.subplot(111)\n",
    "\n",
    "    xs = np.linspace(0, len(b_theta_points), len(b_theta_points))\n",
    "    FR_sum = np.sum(np.asarray(b_theta_points), axis=1)\n",
    "\n",
    "    best_vals = fit_plot(np.asarray(FR_sum))[0]\n",
    "    fit_report = fit_plot(np.asarray(FR_sum))[1]\n",
    "\n",
    "    ax.plot(xs,\n",
    "            tuning_function(x=xs,\n",
    "                            j=best_vals['j'], fmax=best_vals['fmax'],\n",
    "                            B=best_vals['B'])+(np.asarray(FR_sum)/(5)).min(),\n",
    "            c='k')\n",
    "\n",
    "    ax.errorbar(xs,\n",
    "                FR_sum,\n",
    "                np.std(b_theta_points, axis=1), fmt='o', capsize=3,\n",
    "                 c='k', alpha=.8)\n",
    "\n",
    "    ax.set_ylabel('Fréquence de décharge (Hz)', fontsize=14)\n",
    "    ax.set_xlabel('Angle (°)', fontsize=14)\n",
    "    ax.set_title('CPD stim. = %.1f  ;  ' % b_theta_curve[0][0][1] + r'$B_\\theta$ = %.2f°' %\n",
    "                 best_vals['B'], fontsize=16)\n",
    "    plt.suptitle('(r² = %.2f)' % fit_report, fontsize=14, y=.88)\n",
    "\n",
    "    ax.spines[\"right\"].set_visible(False)\n",
    "    ax.spines[\"top\"].set_visible(False)\n",
    "    labels = [item.get_text() for item in ax.get_xticklabels()]\n",
    "    labels = np.linspace(0, np.pi, len(labels))*180/np.pi\n",
    "\n",
    "    ax.set_xticklabels(labels)\n",
    "\n",
    "    ax.tick_params(axis='both', which='major', labelsize=12)\n",
    "    fig.savefig('./TC_Btheta/N%s_B_theta_TC_pen%s_CPD%.2f.svg' % (neuron_to_plot, subfolder.split('/')[0], b_theta_curve[0][0][1]),\n",
    "                format='svg', transparent=True, bbox_inches='tight')\n",
    "   \n",
    "    plt.show()\n",
    "    plt.close('all')\n"
   ]
  }
 ],
 "metadata": {
  "kernelspec": {
   "display_name": "Python 3",
   "language": "python",
   "name": "python3"
  },
  "language_info": {
   "codemirror_mode": {
    "name": "ipython",
    "version": 3
   },
   "file_extension": ".py",
   "mimetype": "text/x-python",
   "name": "python",
   "nbconvert_exporter": "python",
   "pygments_lexer": "ipython3",
   "version": "3.7.2"
  }
 },
 "nbformat": 4,
 "nbformat_minor": 2
}
