{
 "cells": [
  {
   "cell_type": "code",
   "execution_count": 1,
   "metadata": {
    "ExecuteTime": {
     "end_time": "2019-05-26T20:47:38.216968Z",
     "start_time": "2019-05-26T20:47:38.085859Z"
    }
   },
   "outputs": [],
   "source": [
    "import numpy as np\n",
    "import matplotlib.pyplot as plt"
   ]
  },
  {
   "cell_type": "code",
   "execution_count": null,
   "metadata": {},
   "outputs": [],
   "source": [
    "#max is 100\n",
    "# 20 per sequence\n",
    "# 1 = 5, 2 = 6, 3 = 10, 4= 20, 5 = 12"
   ]
  },
  {
   "cell_type": "code",
   "execution_count": 30,
   "metadata": {
    "ExecuteTime": {
     "end_time": "2019-05-26T20:54:24.874493Z",
     "start_time": "2019-05-26T20:54:24.871661Z"
    }
   },
   "outputs": [],
   "source": [
    "positions = [3, 5, 6, 10, 15, 18,\n",
    "            22, 23, 25, 28, 29, 34,\n",
    "            41, 44, 48, 49, 50, 55, 56,\n",
    "            60, 61, 62, 63, 64, 65, 66, 67, 69, 72, 75, 79, 81,\n",
    "            85, 89, 92, 95, 98]\n"
   ]
  },
  {
   "cell_type": "code",
   "execution_count": 50,
   "metadata": {
    "ExecuteTime": {
     "end_time": "2019-05-26T20:58:33.889058Z",
     "start_time": "2019-05-26T20:58:33.739148Z"
    }
   },
   "outputs": [
    {
     "data": {
      "text/plain": [
       "(-1.75, 102.75, 0.0, 1.0)"
      ]
     },
     "execution_count": 50,
     "metadata": {},
     "output_type": "execute_result"
    },
    {
     "data": {
      "image/png": "[encoded data removed]",
      "text/plain": [
       "<Figure size 1134x432 with 1 Axes>"
      ]
     },
     "metadata": {
      "needs_background": "light"
     },
     "output_type": "display_data"
    }
   ],
   "source": [
    "plt.figure(figsize = (10.75+5, 6))\n",
    "for i, pos in enumerate(positions): \n",
    "    if pos > 56 and pos < 81:\n",
    "        plt.axvline(pos,ymin=.5, ymax = .8, c = 'k', linewidth = 5) \n",
    "    else :\n",
    "        plt.axvline(pos,ymin=.5, ymax = .8, c = 'k', linewidth = 2)\n",
    "        \n",
    "plt.axhline(.6, c = 'k', linewidth = 4)\n",
    "plt.axis('off')"
   ]
  },
  {
   "cell_type": "code",
   "execution_count": null,
   "metadata": {},
   "outputs": [],
   "source": []
  },
  {
   "cell_type": "code",
   "execution_count": null,
   "metadata": {},
   "outputs": [],
   "source": [
    "ax.axdd"
   ]
  },
  {
   "cell_type": "code",
   "execution_count": 6,
   "metadata": {
    "ExecuteTime": {
     "end_time": "2019-05-26T19:48:46.511552Z",
     "start_time": "2019-05-26T19:48:46.357256Z"
    }
   },
   "outputs": [
    {
     "name": "stderr",
     "output_type": "stream",
     "text": [
      "Traceback (most recent call last):\n",
      "  File \"/home/hugo/anaconda3/lib/python3.7/site-packages/matplotlib/cbook/__init__.py\", line 215, in process\n",
      "    func(*args, **kwargs)\n",
      "  File \"/home/hugo/anaconda3/lib/python3.7/site-packages/matplotlib/animation.py\", line 999, in _start\n",
      "    self._init_draw()\n",
      "  File \"/home/hugo/anaconda3/lib/python3.7/site-packages/matplotlib/animation.py\", line 1746, in _init_draw\n",
      "    raise RuntimeError('The init_func must return a '\n",
      "RuntimeError: The init_func must return a sequence of Artist objects.\n"
     ]
    },
    {
     "data": {
      "image/png": "[encoded data removed]",
      "text/plain": [
       "<Figure size 720x576 with 1 Axes>"
      ]
     },
     "metadata": {
      "needs_background": "light"
     },
     "output_type": "display_data"
    }
   ],
   "source": [
    "from mpl_toolkits.mplot3d import Axes3D\n",
    "from matplotlib import animation\n",
    "\n",
    "fig = plt.figure(figsize=(10, 8))\n",
    "ax = fig.add_subplot(111)\n",
    "\n",
    "def init():\n",
    "    ax.axvline(x=0)\n",
    "\n",
    "def animate(i):\n",
    "    ax.axvline(x=i/10)\n",
    "    return im\n",
    "\n",
    "\n",
    "anim = animation.FuncAnimation(fig, animate, init_func=init,\n",
    "                               interval=1, blit = True, save_count = 800)\n",
    "#anim.save('./figs/gradient_ratio_anim.gif', writer = 'imagemagick', dpi = 40, fps = 120)"
   ]
  }
 ],
 "metadata": {
  "kernelspec": {
   "display_name": "Python 3",
   "language": "python",
   "name": "python3"
  },
  "language_info": {
   "codemirror_mode": {
    "name": "ipython",
    "version": 3
   },
   "file_extension": ".py",
   "mimetype": "text/x-python",
   "name": "python",
   "nbconvert_exporter": "python",
   "pygments_lexer": "ipython3",
   "version": "3.7.2"
  }
 },
 "nbformat": 4,
 "nbformat_minor": 2
}
