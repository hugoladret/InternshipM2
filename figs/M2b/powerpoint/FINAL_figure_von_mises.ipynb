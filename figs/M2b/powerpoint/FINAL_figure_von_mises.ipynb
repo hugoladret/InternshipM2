{
 "cells": [
  {
   "cell_type": "markdown",
   "metadata": {},
   "source": [
    "# Notebook final : Faire une représentation graphique de la loi de Von Mises\n",
    "\n",
    "Afin de s'assurer qu'on représente bien ce qui se passe en interne, la fonction utilisée pour faire la Von Mises dans le réseau est copiée collée et montrée graphiquement"
   ]
  },
  {
   "cell_type": "markdown",
   "metadata": {},
   "source": [
    "On importe les bibliothèques :"
   ]
  },
  {
   "cell_type": "code",
   "execution_count": 1,
   "metadata": {
    "ExecuteTime": {
     "end_time": "2019-05-26T19:37:55.780929Z",
     "start_time": "2019-05-26T19:37:48.492600Z"
    }
   },
   "outputs": [
    {
     "name": "stdout",
     "output_type": "stream",
     "text": [
      "CSAConnector: libneurosim support not available in NEST.\n",
      "Falling back on PyNN's default CSAConnector.\n",
      "Please re-compile NEST using --with-libneurosim=PATH\n"
     ]
    },
    {
     "name": "stderr",
     "output_type": "stream",
     "text": [
      "/home/hugo/anaconda3/lib/python3.7/site-packages/PyNN-0.9.2-py3.7.egg/pyNN/nest/__init__.py:55: UserWarning: Unable to install NEST extensions. Certain models may not be available.\n",
      "Further details: DynamicModuleManagementError in Install: Module 'pynn_extensions' could not be opened.\n",
      "The dynamic loader returned the following error: 'file not found'.\n",
      "\n",
      "Please check LD_LIBRARY_PATH (OSX: DYLD_LIBRARY_PATH)!\n",
      "  warnings.warn(\"Unable to install NEST extensions. Certain models may not be available.\\nFurther details: {}\".format(err))\n"
     ]
    }
   ],
   "source": [
    "import numpy as np\n",
    "import pyNN.nest as sim\n",
    "from pyNN.random import NumpyRNG\n",
    "from pyNN.random import RandomDistribution as rnd\n",
    "import matplotlib.pyplot as plt\n",
    "from lmfit.models import GaussianModel\n",
    "import lmfit\n",
    "import matplotlib.gridspec as gridspec"
   ]
  },
  {
   "cell_type": "markdown",
   "metadata": {},
   "source": [
    "On défini la fonction de Von Mises, telle qu'elle est également implémentée dans les simulations"
   ]
  },
  {
   "cell_type": "code",
   "execution_count": 2,
   "metadata": {
    "ExecuteTime": {
     "end_time": "2019-05-26T19:37:55.784308Z",
     "start_time": "2019-05-26T19:37:55.782025Z"
    }
   },
   "outputs": [],
   "source": [
    "def tuning_function(x, j, B, fmax):  # von mises\n",
    "    N = len(x)\n",
    "    if B == np.inf:\n",
    "        VM = np.ones_like(x)\n",
    "    else:\n",
    "        VM = np.exp((np.cos(2.*np.pi*(x-j)/N)-1.)/4/(B*np.pi/180)**2)\n",
    "    #VM /= VM.sum(axis=0)\n",
    "    return fmax * VM"
   ]
  },
  {
   "cell_type": "markdown",
   "metadata": {},
   "source": [
    "Et on affiche le résultat"
   ]
  },
  {
   "cell_type": "code",
   "execution_count": 9,
   "metadata": {
    "ExecuteTime": {
     "end_time": "2019-05-26T19:42:14.922036Z",
     "start_time": "2019-05-26T19:42:14.813570Z"
    }
   },
   "outputs": [
    {
     "data": {
      "image/png": "[encoded data removed]",
      "text/plain": [
       "<Figure size 720x432 with 1 Axes>"
      ]
     },
     "metadata": {
      "needs_background": "light"
     },
     "output_type": "display_data"
    }
   ],
   "source": [
    "plt.figure(figsize = (10,6))\n",
    "\n",
    "plt.plot(tuning_function(1. * np.arange(180),\n",
    "                         90, 30, 1),\n",
    "        label = '$B_\\Theta$ = 30°; $\\Theta$ = 90°',\n",
    "        c = '#1387b0')\n",
    "\n",
    "\n",
    "\n",
    "#plt.axvline(150, linestyle = '--', color = 'gray')\n",
    "\n",
    "#plt.legend(fontsize = 12)\n",
    "plt.xlabel('Angle (degrés)')\n",
    "plt.ylabel('Probabilité')\n",
    "plt.axis('off')\n",
    "plt.savefig('tuning_curve.svg', format = 'svg', dpi = 200, bbox_inches = 'tight', transparent = True)"
   ]
  }
 ],
 "metadata": {
  "kernelspec": {
   "display_name": "Python 3",
   "language": "python",
   "name": "python3"
  },
  "language_info": {
   "codemirror_mode": {
    "name": "ipython",
    "version": 3
   },
   "file_extension": ".py",
   "mimetype": "text/x-python",
   "name": "python",
   "nbconvert_exporter": "python",
   "pygments_lexer": "ipython3",
   "version": "3.7.2"
  }
 },
 "nbformat": 4,
 "nbformat_minor": 2
}
