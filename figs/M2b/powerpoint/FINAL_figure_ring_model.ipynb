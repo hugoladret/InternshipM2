{
 "cells": [
  {
   "cell_type": "markdown",
   "metadata": {},
   "source": [
    "# Notebook final : générer la figure sup qui représente le réseau\n",
    "\n",
    "Pour pouvoir utiliser sur plusieurs projets (rapport, présentation de labo et écriture de l'article) la même figure, elle est directement codée en Python"
   ]
  },
  {
   "cell_type": "code",
   "execution_count": 1,
   "metadata": {
    "ExecuteTime": {
     "end_time": "2019-01-03T14:04:33.009778Z",
     "start_time": "2019-01-03T14:04:32.875957Z"
    }
   },
   "outputs": [],
   "source": [
    "%matplotlib inline"
   ]
  },
  {
   "cell_type": "code",
   "execution_count": 14,
   "metadata": {
    "ExecuteTime": {
     "end_time": "2019-05-28T10:28:34.942401Z",
     "start_time": "2019-05-28T10:28:34.792043Z"
    },
    "scrolled": false
   },
   "outputs": [
    {
     "name": "stderr",
     "output_type": "stream",
     "text": [
      "/home/hugo/anaconda3/lib/python3.7/site-packages/matplotlib/figure.py:98: MatplotlibDeprecationWarning: \n",
      "Adding an axes using the same arguments as a previous axes currently reuses the earlier instance.  In a future version, a new instance will always be created and returned.  Meanwhile, this warning can be suppressed, and the future behavior ensured, by passing a unique label to each axes instance.\n",
      "  \"Adding an axes using the same arguments as a previous axes \"\n"
     ]
    },
    {
     "data": {
      "image/png": "[encoded data removed]",
      "text/plain": [
       "<Figure size 576x576 with 1 Axes>"
      ]
     },
     "metadata": {},
     "output_type": "display_data"
    }
   ],
   "source": [
    "import matplotlib.patches as patches\n",
    "import numpy as np\n",
    "import matplotlib.pyplot as plt\n",
    "from matplotlib.patches import Rectangle, Arrow\n",
    "from matplotlib.colors import hsv_to_rgb\n",
    "from matplotlib.collections import PatchCollection\n",
    "\n",
    "def envelope(th, theta, B_theta):\n",
    "    if B_theta==np.inf:\n",
    "        env = np.ones_like(th) \n",
    "    elif B_theta==0:\n",
    "        env = np.zeros_like(th)\n",
    "        env[np.argmin(th < theta)] = 1.\n",
    "    else:\n",
    "        env = np.exp((np.cos(2*(th-theta))-1)/4/B_theta**2)\n",
    "    return env/env.max()      \n",
    "\n",
    "patch_list = []\n",
    "fig = plt.figure(figsize=(8, 8))\n",
    "\n",
    "ax2 = fig.add_subplot(111, alpha=0.)\n",
    "ax2.set_facecolor((1,1,1,0))\n",
    "ax = fig.add_subplot(111, projection='polar', alpha=0.)\n",
    "ax.set_facecolor((1,1,1,0))\n",
    "\n",
    "opts= dict(ha='center', fontsize=14)\n",
    "opts_small= dict(ha='center', fontsize=11)\n",
    "N = 24\n",
    "s = 42\n",
    "theta = np.linspace(0, 2*np.pi, N+1, endpoint=True)\n",
    "\n",
    "## connexions\n",
    "N_arrow = 4 #number of connection arrows \n",
    "dthetas = alphas = np.linspace(-N_arrow, N_arrow, 2*N_arrow+1, endpoint=True)\n",
    "dthetas *= 1.75*np.pi/N\n",
    "alphas = np.exp( - alphas**2/ .4**2 / 2)\n",
    "\n",
    "for dtheta, alpha in zip(dthetas, alphas): #extra-layers arrows\n",
    "    #feedforward arrows\n",
    "    plt.arrow(np.pi/2, 1.05, dtheta, -.185, color='r', alpha=alpha, head_width = .03)\n",
    "    plt.arrow(np.pi/2, .75, dtheta, -.02, color='#71afc6', alpha=alpha, head_width = .03)\n",
    "    #plt.arrow(np.pi, .82, dtheta, -.1, color='k', alpha=alpha, head_width = .03)\n",
    "    #feedback arrows\n",
    "    plt.arrow(0, .85, dtheta, .135, color='b', alpha=alpha, head_width = .03)\n",
    "    plt.arrow(-np.pi/2, 1.05, dtheta, -.02, color='r', alpha=alpha, head_width = .03)\n",
    "    \n",
    "\n",
    "## neurones\n",
    "'''colors = theta\n",
    "for r, c in zip([1.2], ['#c35635']): #scattering neurons\n",
    "    ax.plot(theta, r*np.ones_like(theta), c=c, alpha=.4) #ring drawing\n",
    "    c = ax.scatter(theta[:-1], r*np.ones_like(theta[:-1]), c=c, s=s)'''\n",
    "    \n",
    "\n",
    "\n",
    "## entrée\n",
    "N = 360\n",
    "theta = np.linspace(0, 2*np.pi, N, endpoint=True)\n",
    "#ax.fill_between(theta, 1.45, 1.45 + envelope(theta/2, np.pi/4, np.pi/24)/2.5, lw=0, color='g', alpha=.3)\n",
    "#ax.fill_between(theta, .4, .38 + envelope(theta/2, np.pi/4, np.pi/26)/-3.5, lw=0, color='g', alpha=.6)\n",
    "\n",
    "ax.set_ylim((0, 2))\n",
    "\n",
    "\n",
    "'''ax.text(np.pi/2, 1.50, 'Entrée\\n orientée bruitée', **opts_small)\n",
    "ax.text(np.pi+.05, 1.6, 'Neurones\\nExcitateurs', color = 'r', **opts)\n",
    "ax.text(np.pi+.25, .25, 'Neurones\\nInhibiteurs',color = 'b', **opts)'''\n",
    "\n",
    "# Polar barplot\n",
    "#N = 128\n",
    "#theta = np.linspace(np.pi/3, 2*np.pi/3, N)\n",
    "#radius = envelope(theta, np.pi/2, np.pi/16)/3\n",
    "#rands = np.random.normal(.15, .1, N)/4\n",
    "\n",
    "# using np.random.vonmises\n",
    "'''N, N_samples = 128, 256\n",
    "theta = np.linspace(np.pi/4, 3*np.pi/4, N)\n",
    "#theta = np.linspace(0, np.pi, N)\n",
    "B_theta = np.pi/30\n",
    "mu, kappa = 0.0, 1/4.0/B_theta**2 # mean and dispersion\n",
    "s = np.random.vonmises(np.pi/2, kappa, 1000)\n",
    "print('min', s.min(), s.max())\n",
    "hist, bins = np.histogram(s, bins=theta, normed=True)\n",
    "hist /= hist.max()'\n",
    "\n",
    "#width = theta[1] - theta[0]\n",
    "bars = ax.bar(theta[:-1], hist/3, width=theta[1] - theta[0], bottom=1.15, color = 'g', alpha = .4)'''\n",
    "#for i, t in enumerate(theta) :\n",
    "#    bars = ax.bar(t, radius[i]+np.abs(np.sin(20*t)/5)+rands[i], width=width, bottom=1.45, color = 'g', alpha = .4)\n",
    "    #bars = ax.bar(t, radius[i]*np.sin(t), width=width, bottom=1.45, color = 'g', alpha = .3)\n",
    "\n",
    "for ax_ in [ax, ax2]:\n",
    "    ax_.grid(False, axis='both')\n",
    "\n",
    "    ax_.set_xticks([])\n",
    "    ax_.set_yticks([])\n",
    "    ax_.set_axis_off()\n",
    "\n",
    "#ax.add_collection(PatchCollection(patch_list))\n",
    "#fig.subplots_adjust(hspace = .0, wspace = .0, left=0.01, bottom=0.01, right=.99, top=.99)\n",
    "plt.show()\n",
    "fig.savefig('./4_lat.svg', format='svg', transparent = True, bbox_inches = 'tight')"
   ]
  }
 ],
 "metadata": {
  "kernelspec": {
   "display_name": "Python 3",
   "language": "python",
   "name": "python3"
  },
  "language_info": {
   "codemirror_mode": {
    "name": "ipython",
    "version": 3
   },
   "file_extension": ".py",
   "mimetype": "text/x-python",
   "name": "python",
   "nbconvert_exporter": "python",
   "pygments_lexer": "ipython3",
   "version": "3.7.2"
  },
  "toc": {
   "base_numbering": 1,
   "nav_menu": {},
   "number_sections": true,
   "sideBar": true,
   "skip_h1_title": false,
   "title_cell": "Table of Contents",
   "title_sidebar": "Contents",
   "toc_cell": false,
   "toc_position": {},
   "toc_section_display": true,
   "toc_window_display": false
  }
 },
 "nbformat": 4,
 "nbformat_minor": 2
}
