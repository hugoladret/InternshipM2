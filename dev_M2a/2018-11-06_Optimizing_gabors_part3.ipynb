{
 "cells": [
  {
   "cell_type": "markdown",
   "metadata": {},
   "source": [
    "# 2018 11 06 Getting over the optimization of filters\n",
    "Fonction OK, il reste maintenant à faire le temps correct pour prendre en compte les FPS de la vidéo\n",
    "\n",
    "Il y a aussi le souci de rajouter des spikes sur le plot du voltage membranaire\n",
    "\n",
    "TODO : Faire marcher le filtre pour n'importe quelle taille d'input ou fournir un input carré de 64x64"
   ]
  },
  {
   "cell_type": "code",
   "execution_count": 24,
   "metadata": {
    "ExecuteTime": {
     "end_time": "2018-11-08T12:26:38.812346Z",
     "start_time": "2018-11-08T12:26:38.798318Z"
    }
   },
   "outputs": [],
   "source": [
    "import numpy as np\n",
    "import matplotlib.pyplot as plt\n",
    "from LogGabor import LogGabor"
   ]
  },
  {
   "cell_type": "code",
   "execution_count": 25,
   "metadata": {
    "ExecuteTime": {
     "end_time": "2018-11-08T12:26:39.668469Z",
     "start_time": "2018-11-08T12:26:39.499588Z"
    }
   },
   "outputs": [],
   "source": [
    "# les classiques\n",
    "\n",
    "\n",
    "def spatial_filter(wx=5., wy=5., xres=.1, yres=.1, sigma_center=1., sigma_surround=1.2,\n",
    "                   x_trans=0, y_trans=0, theta=0, end_multiplier=-1.):\n",
    "    ''' wx, wy : x/y width\n",
    "    xres, yres : x/y resolution\n",
    "    sigma_center : U.A related to the center of the circle\n",
    "    sigma_surround : U.A related to the surround of of the circle\n",
    "    x_trans, y_trans : 0, 0 #translation of the filter\n",
    "    end_mutiplier : decreases the spatial filter response and triggers ON(negative value) or OFF(positives)\n",
    "    center-surround fields\n",
    "    '''\n",
    "    x = np.arange((-wx+x_trans), (wx+x_trans), xres)\n",
    "    y = np.arange((-wy+y_trans), (wy+y_trans), yres)\n",
    "    X, Y = np.meshgrid(x, y)\n",
    "\n",
    "    radius = np.sqrt((X-x_trans)**2 + (Y-y_trans)**2)\n",
    "    center = (1.0 / sigma_center**2) * np.exp(-.5*(radius / sigma_center)**2)\n",
    "    surround = (1.0 / sigma_surround**2) * \\\n",
    "        np.exp(-.5*(radius / sigma_surround)**2)\n",
    "\n",
    "    Z = surround - center\n",
    "    Z *= end_multiplier\n",
    "    return X, Y, Z\n",
    "\n",
    "\n",
    "def temporal_filter(t=1, response_time=175, refrac_time=50,\n",
    "                    K1=.92, c1=0.2, n1=7, t1=-6,\n",
    "                    K2=.2, c2=.12, n2=8, t2=-6,\n",
    "                    baseline=0., gain=90):\n",
    "    '''\n",
    "    Arguments :\n",
    "    --> time = time for which the filter's reponse is calculated\n",
    "    --> total_time = time the filter takes to do a full response, starting from 0, peaking, undershooting\n",
    "    and going to 0 again\n",
    "    --> refrac_time = refraction time after which the filter can be activated again\n",
    "    --> other params are as f(x) = K * [ (c*(t-1))**2 * e^(-c1(t-t1)) ] / [ (n**2) * e^-n]\n",
    "    (see wikipedia for formula)\n",
    "    -->-->K relates to the height, c to the opening\n",
    "    '''\n",
    "\n",
    "    #t = np.arange(0, total_time*t_res, t_res)\n",
    "    p = baseline\n",
    "    p += K1 * ((c1 * (t - t1))**n1 * np.exp(-c1 * (t-t1))) / \\\n",
    "        (n1**2)*np.exp(-n1)\n",
    "    p -= K2 * ((c2 * (t - t2))**n2 * np.exp(-c2 * (t-t2))) / \\\n",
    "        (n2**2)*np.exp(-n2)\n",
    "    return p*gain  # oups je me suis planté d'un facteur 90, c'est un sacré miss"
   ]
  },
  {
   "cell_type": "code",
   "execution_count": 26,
   "metadata": {
    "ExecuteTime": {
     "end_time": "2018-11-08T12:26:40.339473Z",
     "start_time": "2018-11-08T12:26:40.284039Z"
    }
   },
   "outputs": [],
   "source": [
    "def gabor_connectivity(filters, phi, theta, threshold, on=True):\n",
    "    '''\n",
    "    From an array of filters and a gabor phi-space, returns the filters in the phi-space above a threshold\n",
    "    Args :\n",
    "        Filters (ndarray) : A 2D array of filters to localize on the gabor\n",
    "        Phi : A phi space from a LogGabor\n",
    "        Threshold : the threshold above which (or below, given 'on' param) we select the filters\n",
    "        on : True if we're passing on center filters, False if we're doing off center filters\n",
    "    '''\n",
    "    if on:\n",
    "        gab_above_threshold = np.array(\n",
    "            [*np.where(phi[theta, 0] > threshold)], dtype=float).T\n",
    "    else:\n",
    "        gab_above_threshold = np.array(\n",
    "            [*np.where(phi[theta, 0] < threshold)], dtype=float).T\n",
    "\n",
    "    filters_in_gabor = []\n",
    "    for it, filt in enumerate(filters):\n",
    "        for gabs in gab_above_threshold:\n",
    "            if np.all(filt.astype(int) == gabs):\n",
    "                filters_in_gabor.append(filt)\n",
    "\n",
    "    return filters_in_gabor"
   ]
  },
  {
   "cell_type": "code",
   "execution_count": 27,
   "metadata": {
    "ExecuteTime": {
     "end_time": "2018-11-08T12:26:41.156927Z",
     "start_time": "2018-11-08T12:26:41.127322Z"
    }
   },
   "outputs": [],
   "source": [
    "def save_currents(savepath, arr_nbr, arr):\n",
    "    '''\n",
    "    Uses numpy basic array saving to dump all the currents into a subfolder of the output folder \n",
    "    '''\n",
    "    \n",
    "    import os\n",
    "    if not os.path.exists(savepath):\n",
    "        os.makedirs(savepath)\n",
    "        \n",
    "    np.save(savepath+str(arr_nbr)+'.npy', np.asarray(arr))"
   ]
  },
  {
   "cell_type": "code",
   "execution_count": 28,
   "metadata": {
    "ExecuteTime": {
     "end_time": "2018-11-08T12:26:44.991911Z",
     "start_time": "2018-11-08T12:26:44.668015Z"
    }
   },
   "outputs": [],
   "source": [
    "def generate_small_gabors_coordinates_multithread(theta,params, N_X, N_Y,  centers_coordinates, nbr_gabors=6,\n",
    "                                      B_theta=15, sf_0=.05, B_sf=.5,\n",
    "                                      distrib_size=8, grid_res=3, on_thresh=.1, off_thresh=-.1,\n",
    "                                      verbose=True):\n",
    "    '''\n",
    "    Multithreading modification : we pass the theta as an argument\n",
    "    \n",
    "    Given some gabor parameters, a set of coordinates for centering gabors, returns a set of \n",
    "    coordinates for filters belonging into the gabors\n",
    "\n",
    "    The code iterates through thetas and generate nbr_gabors set of ON/OFF filters\n",
    "\n",
    "    Params :\n",
    "        params : the default parameters dictionnary\n",
    "        N_X, N_Y : Gabor size, usually the same as the video, 54 usually\n",
    "        N_theta : number of orientations\n",
    "        centers_coordinates : a 2D array containing two list of coordinates for\n",
    "                                centering the gabors\n",
    "        nbr_gabors : the number of gabor done per each theta\n",
    "        B_theta, sf_0, B_sf : usual params for the gabor shape, \n",
    "                                B_theta being the opening of the gabor, sf_0 the spatia frequency \n",
    "                                and b_sf the bandwidth frequency\n",
    "    '''\n",
    "\n",
    "    xs = centers_coordinates[0]\n",
    "    ys = centers_coordinates[1]\n",
    "\n",
    "    N_X = int(N_X)\n",
    "    N_Y = int(N_Y)\n",
    "    N_phase = 2\n",
    "\n",
    "    lg = LogGabor(params)\n",
    "    lg.set_size((N_X, N_Y))\n",
    "\n",
    "    B_theta = B_theta / 180 * np.pi\n",
    "    params = {'sf_0': sf_0, 'B_sf': B_sf, 'B_theta': B_theta}\n",
    "\n",
    "    filters_per_theta = []\n",
    "\n",
    "    phi = np.zeros((1, N_phase, N_X, N_Y))\n",
    "    params.update(theta=theta)\n",
    "\n",
    "    filters_per_gab = []\n",
    "    for gab in range(nbr_gabors):\n",
    "        x = xs[gab]\n",
    "        y = ys[gab]\n",
    "\n",
    "        for i_phase in range(N_phase):\n",
    "            phase = i_phase * np.pi/2\n",
    "            kernel = lg.invert(lg.loggabor(\n",
    "                x, y, **params)*np.exp(-1j*phase))\n",
    "            phi[0, i_phase, :] = lg.normalize(kernel)\n",
    "\n",
    "        fx_min = x - distrib_size\n",
    "        fx_max = x + distrib_size\n",
    "        fy_min = y - distrib_size\n",
    "        fy_max = y + distrib_size\n",
    "        filters_coordinates = np.mgrid[fx_min:fx_max:grid_res,\n",
    "                                       fy_min:fy_max:grid_res].reshape(2, -1).T\n",
    "        if verbose and gab == 0:\n",
    "            print('Thread started !\\nFilter grid shape', filters_coordinates.shape, '\\n')\n",
    "\n",
    "        filters_in_gabor = gabor_connectivity(filters=filters_coordinates,\n",
    "                                              phi=phi, theta=0, threshold=on_thresh)\n",
    "        off_filters_in_gabor = gabor_connectivity(filters=filters_coordinates,\n",
    "                                                  phi=phi, theta=0, threshold=off_thresh, on=False)\n",
    "\n",
    "        filters_per_gab.append((filters_in_gabor, off_filters_in_gabor))\n",
    "\n",
    "    \n",
    "\n",
    "    return filters_per_gab"
   ]
  },
  {
   "cell_type": "code",
   "execution_count": 6,
   "metadata": {
    "ExecuteTime": {
     "end_time": "2018-11-08T10:34:26.695422Z",
     "start_time": "2018-11-08T10:33:52.393890Z"
    }
   },
   "outputs": [
    {
     "name": "stderr",
     "output_type": "stream",
     "text": [
      "[Parallel(n_jobs=-1)]: Using backend LokyBackend with 4 concurrent workers.\n",
      "[Parallel(n_jobs=-1)]: Done   5 tasks      | elapsed:   23.2s\n",
      "[Parallel(n_jobs=-1)]: Done   7 out of  12 | elapsed:   24.4s remaining:   17.5s\n",
      "[Parallel(n_jobs=-1)]: Done   9 out of  12 | elapsed:   30.8s remaining:   10.3s\n",
      "[Parallel(n_jobs=-1)]: Done  12 out of  12 | elapsed:   34.0s finished\n"
     ]
    }
   ],
   "source": [
    "from joblib import Parallel, delayed\n",
    "\n",
    "gabors_parameterfile = {'B_sf': 0.4, 'B_theta': 0.17453277777777776, 'N_X': 256, 'N_Y': 256,\n",
    "                        'N_image': 100, 'base_levels': 1.618, 'datapath': 'database', 'do_mask': True,\n",
    "                        'do_whitening': True, 'dpi': 450, 'edgefigpath': 'results/edges', 'edgematpath': 'cache_dir/edges',\n",
    "                        'ext': '.pdf', 'figpath': 'results', 'figsize': 14.0, 'formats': ['pdf', 'png', 'jpg'],\n",
    "                        'mask_exponent': 3.0, 'matpath': 'cache_dir', 'n_theta': 24, 'noise': 0.1, 'seed': None,\n",
    "                        'use_cache': True, 'verbose': 0, 'white_N': 0.07, 'white_N_0': 0.0, 'white_alpha': 1.4,\n",
    "                        'white_f_0': 0.4, 'white_n_learning': 0, 'white_name_database': 'kodakdb',\n",
    "                        'white_recompute': False, 'white_steepness': 4.0}\n",
    "\n",
    "distrib_size = 8\n",
    "grid_res = 3\n",
    "N_theta = 12\n",
    "centers_coordinates = np.array(\n",
    "    [[35, 20, 35, 10, 20, 35], [35, 20, 10, 35, 35, 20]])\n",
    "\n",
    "filters_multithread = Parallel(n_jobs=-1, backend='loky', verbose = 10)(delayed(generate_small_gabors_coordinates_multithread)\n",
    "                    (theta,\n",
    "                     params=gabors_parameterfile, N_X=54, N_Y=54,\n",
    "                     centers_coordinates=centers_coordinates,\n",
    "                     distrib_size=distrib_size, grid_res=grid_res)\n",
    "                        for theta in np.linspace(0, np.pi, N_theta))"
   ]
  },
  {
   "cell_type": "code",
   "execution_count": 7,
   "metadata": {
    "ExecuteTime": {
     "end_time": "2018-11-08T10:34:26.723885Z",
     "start_time": "2018-11-08T10:34:26.704105Z"
    }
   },
   "outputs": [
    {
     "data": {
      "text/plain": [
       "(12, 6, 2)"
      ]
     },
     "execution_count": 7,
     "metadata": {},
     "output_type": "execute_result"
    }
   ],
   "source": [
    "np.asarray(filters_multithread).shape"
   ]
  },
  {
   "cell_type": "code",
   "execution_count": 8,
   "metadata": {
    "ExecuteTime": {
     "end_time": "2018-11-08T10:34:27.617642Z",
     "start_time": "2018-11-08T10:34:26.731239Z"
    }
   },
   "outputs": [],
   "source": [
    "def coordinates_to_currents_multithread(filters,\n",
    "                            stimuli, total_time, filter_size, filter_res):\n",
    "    '''\n",
    "    Unused atm, implements a lower sampling rate to do faster currents\n",
    "    Multithreading modification : filters are passed together then separeted in the function,\n",
    "    to ease the iterators on the Joblib Delayed decorator\n",
    "    \n",
    "    Creates currents from spatiotemporal filters in given coordinates set, by convolving\n",
    "    the apex of the ST filter with the receptive field in a fed video\n",
    "\n",
    "    Args :\n",
    "        filters_in_gabor : a set of coordinates for ON CENTER RFs\n",
    "        off_filters_in_gabor : a set of coordinates for OFF CENTER RFs\n",
    "\n",
    "        stimulus = a video transformed into a numpy array (see the associated .py file)\n",
    "                    must be (WxHxlen) shape\n",
    "        total_time = total time of the current simulation, usually equal to the stimulus length\n",
    "\n",
    "        filter_size, filter_res = spatiotemporal filters arguments\n",
    "                                    other parameters have been optimized and are left by default\n",
    "\n",
    "    '''\n",
    "    \n",
    "    sampling_rate = 250 #number of linspace point, eg : 250 for 1000 total_time = 200Hz\n",
    "    \n",
    "    levels_per_gabor = []\n",
    "    for gabors in filters : #iterate through the six gabor per filter\n",
    "        \n",
    "        filters_in_gabor, off_filters_in_gabor = gabors[0], gabors[1] #simple as that\n",
    "        # a number of aborted filters due to edge-closeness\n",
    "        err_nbr = 0\n",
    "\n",
    "        # LES FILTRES ON\n",
    "\n",
    "        st_list = []\n",
    "        on_st_levels = []\n",
    "\n",
    "        for filt in range(len(filters_in_gabor)):\n",
    "            try:\n",
    "                X, Y, Z = spatial_filter(wx=filter_size, wy=filter_size,\n",
    "                                         xres=filter_res, yres=filter_res,\n",
    "                                         x_trans=filters_in_gabor[filt][0],\n",
    "                                         y_trans=filters_in_gabor[filt][1])\n",
    "                t = [temporal_filter(i)\n",
    "                     for i in np.linspace(0, total_time, sampling_rate)]\n",
    "            \n",
    "                # Convolution coordinates, centered around the filter and the size of the filter space\n",
    "                X_convo_minus = int(filters_in_gabor[filt][0]-filter_size)\n",
    "                X_convo_plus = int(filters_in_gabor[filt][0]+filter_size)\n",
    "                Y_convo_minus = int(filters_in_gabor[filt][1]-filter_size)\n",
    "                Y_convo_plus = int(filters_in_gabor[filt][1]+filter_size)\n",
    "                \n",
    "                activations = []\n",
    "                for i in np.linspace(0, total_time-1, sampling_rate):\n",
    "                    activations.append(np.max(stimuli[:, :, int(i)][X_convo_minus:X_convo_plus, Y_convo_minus:Y_convo_plus]\n",
    "                                              * Z[X_convo_minus:X_convo_plus, Y_convo_minus:Y_convo_plus]))\n",
    "\n",
    "                ys = np.convolve(t, activations)\n",
    "                st = Z[:, :, None] * ys[None, None, :]\n",
    "\n",
    "\n",
    "                st_list.append(st)\n",
    "\n",
    "                on_st_level = []\n",
    "                for i in range(sampling_rate):\n",
    "                    on_st_level.append(np.max(st[:, :, i]))\n",
    "                on_st_levels.append(on_st_level)\n",
    "            except:\n",
    "                err_nbr += 1\n",
    "                pass\n",
    "\n",
    "        # LES FILTRES OFF\n",
    "        st_list = []\n",
    "        off_st_levels = []\n",
    "\n",
    "        for filt in range(len(off_filters_in_gabor)):\n",
    "            try:\n",
    "                X, Y, Z = spatial_filter(wx=filter_size, wy=filter_size,\n",
    "                                         xres=filter_res, yres=filter_res,\n",
    "                                         x_trans=off_filters_in_gabor[filt][0],\n",
    "                                         y_trans=off_filters_in_gabor[filt][1],\n",
    "                                         end_multiplier=1.)\n",
    "                t = [temporal_filter(i)\n",
    "                     for i in np.linspace(0, total_time, sampling_rate)]\n",
    "\n",
    "                # Convolution coordinates, centered around the filter and the size of the filter space\n",
    "                X_convo_minus = int(off_filters_in_gabor[filt][0]-filter_size)\n",
    "                X_convo_plus = int(off_filters_in_gabor[filt][0]+filter_size)\n",
    "                Y_convo_minus = int(off_filters_in_gabor[filt][1]-filter_size)\n",
    "                Y_convo_plus = int(off_filters_in_gabor[filt][1]+filter_size)\n",
    "\n",
    "                activations = []\n",
    "                for i in np.linspace(0, total_time-1, sampling_rate):\n",
    "                    activations.append(np.max(stimuli[:, :, int(i)][X_convo_minus:X_convo_plus, Y_convo_minus:Y_convo_plus]\n",
    "                                              * Z[X_convo_minus:X_convo_plus, Y_convo_minus:Y_convo_plus]))\n",
    "\n",
    "                ys = np.convolve(t, activations)\n",
    "                st = Z[:, :, None] * ys[None, None, :]\n",
    "\n",
    "\n",
    "                st_list.append(st)\n",
    "\n",
    "                off_st_level = []\n",
    "                for i in range(sampling_rate):\n",
    "                    off_st_level.append(np.max(st[:, :, i]))\n",
    "                off_st_levels.append(off_st_level)\n",
    "            except:\n",
    "                err_nbr += 1\n",
    "                pass\n",
    "\n",
    "        if err_nbr > 0:\n",
    "            print('Due to misplacement, %s / %s filters were removed' %\n",
    "                  (err_nbr, (len(filters_in_gabor)+len(off_filters_in_gabor))))\n",
    "        levels_per_gabor.append((on_st_levels, off_st_levels))\n",
    "\n",
    "    return levels_per_gabor"
   ]
  },
  {
   "cell_type": "code",
   "execution_count": 9,
   "metadata": {
    "ExecuteTime": {
     "end_time": "2018-11-08T10:34:28.447481Z",
     "start_time": "2018-11-08T10:34:27.628070Z"
    }
   },
   "outputs": [],
   "source": [
    "def coordinates_to_currents_multithread(filters,\n",
    "                            stimuli, total_time, filter_size, filter_res):\n",
    "    '''\n",
    "    Multithreading modification : filters are passed together then separeted in the function,\n",
    "    to ease the iterators on the Joblib Delayed decorator\n",
    "    \n",
    "    Creates currents from spatiotemporal filters in given coordinates set, by convolving\n",
    "    the apex of the ST filter with the receptive field in a fed video\n",
    "\n",
    "    Args :\n",
    "        filters_in_gabor : a set of coordinates for ON CENTER RFs\n",
    "        off_filters_in_gabor : a set of coordinates for OFF CENTER RFs\n",
    "\n",
    "        stimulus = a video transformed into a numpy array (see the associated .py file)\n",
    "                    must be (WxHxlen) shape\n",
    "        total_time = total time of the current simulation, usually equal to the stimulus length\n",
    "\n",
    "        filter_size, filter_res = spatiotemporal filters arguments\n",
    "                                    other parameters have been optimized and are left by default\n",
    "\n",
    "    '''\n",
    "    levels_per_gabor = []\n",
    "    for gabors in filters : #iterate through the six gabor per filter\n",
    "        \n",
    "        filters_in_gabor, off_filters_in_gabor = gabors[0], gabors[1] #simple as that\n",
    "        # a number of aborted filters due to edge-closeness\n",
    "        err_nbr = 0\n",
    "\n",
    "        # LES FILTRES ON\n",
    "\n",
    "        st_list = []\n",
    "        on_st_levels = []\n",
    "\n",
    "        for filt in range(len(filters_in_gabor)):\n",
    "            try:\n",
    "                X, Y, Z = spatial_filter(wx=filter_size, wy=filter_size,\n",
    "                                         xres=filter_res, yres=filter_res,\n",
    "                                         x_trans=filters_in_gabor[filt][0],\n",
    "                                         y_trans=filters_in_gabor[filt][1])\n",
    "                t = [temporal_filter(i)\n",
    "                     for i in np.linspace(0, total_time, total_time)]\n",
    "\n",
    "                # Convolution coordinates, centered around the filter and the size of the filter space\n",
    "                X_convo_minus = int(filters_in_gabor[filt][0]-filter_size)\n",
    "                X_convo_plus = int(filters_in_gabor[filt][0]+filter_size)\n",
    "                Y_convo_minus = int(filters_in_gabor[filt][1]-filter_size)\n",
    "                Y_convo_plus = int(filters_in_gabor[filt][1]+filter_size)\n",
    "\n",
    "                activations = []\n",
    "                for i in np.linspace(0, total_time-1, total_time):\n",
    "                    activations.append(np.max(stimuli[:, :, int(i)][X_convo_minus:X_convo_plus, Y_convo_minus:Y_convo_plus]\n",
    "                                              * Z[X_convo_minus:X_convo_plus, Y_convo_minus:Y_convo_plus]))\n",
    "\n",
    "                ys = np.convolve(t, activations)\n",
    "                st = Z[:, :, None] * ys[None, None, :]\n",
    "\n",
    "\n",
    "                st_list.append(st)\n",
    "\n",
    "                on_st_level = []\n",
    "                for i in range(total_time):\n",
    "                    on_st_level.append(np.max(st[:, :, i]))\n",
    "                on_st_levels.append(on_st_level)\n",
    "            except:\n",
    "                err_nbr += 1\n",
    "                pass\n",
    "\n",
    "        # LES FILTRES OFF\n",
    "        st_list = []\n",
    "        off_st_levels = []\n",
    "\n",
    "        for filt in range(len(off_filters_in_gabor)):\n",
    "            try:\n",
    "                X, Y, Z = spatial_filter(wx=filter_size, wy=filter_size,\n",
    "                                         xres=filter_res, yres=filter_res,\n",
    "                                         x_trans=off_filters_in_gabor[filt][0],\n",
    "                                         y_trans=off_filters_in_gabor[filt][1],\n",
    "                                         end_multiplier=1.)\n",
    "                t = [temporal_filter(i)\n",
    "                     for i in np.linspace(0, total_time, total_time)]\n",
    "\n",
    "                # Convolution coordinates, centered around the filter and the size of the filter space\n",
    "                X_convo_minus = int(off_filters_in_gabor[filt][0]-filter_size)\n",
    "                X_convo_plus = int(off_filters_in_gabor[filt][0]+filter_size)\n",
    "                Y_convo_minus = int(off_filters_in_gabor[filt][1]-filter_size)\n",
    "                Y_convo_plus = int(off_filters_in_gabor[filt][1]+filter_size)\n",
    "\n",
    "                activations = []\n",
    "                for i in np.linspace(0, total_time-1, total_time):\n",
    "                    activations.append(np.max(stimuli[:, :, int(i)][X_convo_minus:X_convo_plus, Y_convo_minus:Y_convo_plus]\n",
    "                                              * Z[X_convo_minus:X_convo_plus, Y_convo_minus:Y_convo_plus]))\n",
    "\n",
    "                ys = np.convolve(t, activations)\n",
    "                st = Z[:, :, None] * ys[None, None, :]\n",
    "\n",
    "                st_list.append(st)\n",
    "\n",
    "                off_st_level = []\n",
    "                for i in range(total_time):\n",
    "                    off_st_level.append(np.max(st[:, :, i]))\n",
    "                off_st_levels.append(off_st_level)\n",
    "            except:\n",
    "                err_nbr += 1\n",
    "                pass\n",
    "\n",
    "        if err_nbr > 0:\n",
    "            print('Due to misplacement, %s / %s filters were removed' %\n",
    "                  (err_nbr, (len(filters_in_gabor)+len(off_filters_in_gabor))))\n",
    "        levels_per_gabor.append((on_st_levels, off_st_levels))\n",
    "\n",
    "    return levels_per_gabor"
   ]
  },
  {
   "cell_type": "code",
   "execution_count": 10,
   "metadata": {
    "ExecuteTime": {
     "end_time": "2018-11-08T10:37:00.422497Z",
     "start_time": "2018-11-08T10:34:28.454341Z"
    }
   },
   "outputs": [],
   "source": [
    "from joblib import Parallel, delayed\n",
    "\n",
    "gabors_parameterfile = {'B_sf': 0.4, 'B_theta': 0.17453277777777776, 'N_X': 256, 'N_Y': 256,\n",
    "                        'N_image': 100, 'base_levels': 1.618, 'datapath': 'database', 'do_mask': True,\n",
    "                        'do_whitening': True, 'dpi': 450, 'edgefigpath': 'results/edges', 'edgematpath': 'cache_dir/edges',\n",
    "                        'ext': '.pdf', 'figpath': 'results', 'figsize': 14.0, 'formats': ['pdf', 'png', 'jpg'],\n",
    "                        'mask_exponent': 3.0, 'matpath': 'cache_dir', 'n_theta': 24, 'noise': 0.1, 'seed': None,\n",
    "                        'use_cache': True, 'verbose': 0, 'white_N': 0.07, 'white_N_0': 0.0, 'white_alpha': 1.4,\n",
    "                        'white_f_0': 0.4, 'white_n_learning': 0, 'white_name_database': 'kodakdb',\n",
    "                        'white_recompute': False, 'white_steepness': 4.0}\n",
    "\n",
    "total_time = 1000\n",
    "filter_size = 2.\n",
    "filter_res = .1\n",
    "\n",
    "video = np.load('../montypython.npy')\n",
    "video = np.rot90(video)\n",
    "\n",
    "\n",
    "#with theta-based loop : \n",
    "\n",
    "currents_multithread = Parallel(n_jobs=-1, backend='loky')(delayed(coordinates_to_currents_multithread)\n",
    "                              (filters,\n",
    "                               stimuli=video, total_time=total_time,\n",
    "                               filter_size=filter_size, filter_res=filter_res)\n",
    "                                for filters in filters_multithread)\n"
   ]
  },
  {
   "cell_type": "code",
   "execution_count": 11,
   "metadata": {
    "ExecuteTime": {
     "end_time": "2018-11-08T10:37:00.772136Z",
     "start_time": "2018-11-08T10:37:00.429712Z"
    }
   },
   "outputs": [
    {
     "data": {
      "text/plain": [
       "(12, 6, 2)"
      ]
     },
     "execution_count": 11,
     "metadata": {},
     "output_type": "execute_result"
    }
   ],
   "source": [
    "np.asarray(currents_multithread).shape"
   ]
  },
  {
   "cell_type": "code",
   "execution_count": 12,
   "metadata": {
    "ExecuteTime": {
     "end_time": "2018-11-08T10:37:01.425557Z",
     "start_time": "2018-11-08T10:37:00.777812Z"
    }
   },
   "outputs": [
    {
     "data": {
      "text/plain": [
       "[<matplotlib.lines.Line2D at 0x7f01a8023898>]"
      ]
     },
     "execution_count": 12,
     "metadata": {},
     "output_type": "execute_result"
    },
    {
     "data": {
      "image/png": "[encoded data removed]",
      "text/plain": [
       "<Figure size 432x288 with 1 Axes>"
      ]
     },
     "metadata": {},
     "output_type": "display_data"
    }
   ],
   "source": [
    "plt.plot(currents_multithread[1][0][0][0])#current for second theta, first gabor, on filters, first on filter\n",
    "\n",
    "#théorème de shannon, on a pas besoin d'échantillonner plus que 2 fois la fréquence du plus petit evenement\n",
    "#1 AP = 1 ms, donc on peut descendre à 120Hz si besoin. On prend 200 pour etre large ?\n",
    "plt.plot(np.linspace(0,1000,200),currents_multithread[1][0][0][0][::5], alpha = .5)"
   ]
  },
  {
   "cell_type": "code",
   "execution_count": 13,
   "metadata": {
    "ExecuteTime": {
     "end_time": "2018-11-08T10:37:05.346323Z",
     "start_time": "2018-11-08T10:37:01.452038Z"
    }
   },
   "outputs": [
    {
     "name": "stderr",
     "output_type": "stream",
     "text": [
      "/home/hugo/anaconda3/lib/python3.6/site-packages/h5py/__init__.py:36: FutureWarning: Conversion of the second argument of issubdtype from `float` to `np.floating` is deprecated. In future, it will be treated as `np.float64 == np.dtype(float).type`.\n",
      "  from ._conv import register_converters as _register_converters\n"
     ]
    },
    {
     "name": "stdout",
     "output_type": "stream",
     "text": [
      "CSAConnector: libneurosim support not available in NEST.\n",
      "Falling back on PyNN's default CSAConnector.\n",
      "Please re-compile NEST using --with-libneurosim=PATH\n"
     ]
    }
   ],
   "source": [
    "import pyNN.nest as sim\n",
    "from pyNN.random import RandomDistribution as rnd\n",
    "from pyNN.parameters import Sequence\n",
    "from pyNN.utility.plotting import Figure, Panel\n",
    "\n",
    "##########\n",
    "# Params #\n",
    "##########\n",
    "neuron_params = {'cm': .5, #nF - McCormick\n",
    "                 'e_rev_E': 0.0, #mV - McCormick but default values\n",
    "                 'e_rev_I': -70.0, #mV - McCormick but default values\n",
    "                 'tau_m': 30, #ms - Markram\n",
    "                 'tau_refrac': 1.5, #ms - McCormick\n",
    "                 'tau_syn_E': 0.25, #ms -McCormick\n",
    "                 'tau_syn_I': 0.75, #ms - McCormick\n",
    "                 'v_reset': -56.5, #mV - McCormick\n",
    "                 'v_rest': -73.6, #mV - McCormick\n",
    "                 'v_thresh': -52.5 #mV - McCormick #mV - McCormick\n",
    "                    }\n",
    "\n",
    "#neuron_params = sim.IF_cond_alpha.default_parameters\n",
    "\n",
    "st_levels = currents_multithread[0][0] #we inject only the first theta, first gabor\n",
    "gain = 2\n",
    "injection_sampling_rate = 1\n",
    "current_times = np.linspace(0,total_time,len(st_levels[0][0][::injection_sampling_rate]))\n",
    "current_list = []\n",
    "\n",
    "##############\n",
    "# Simulation #\n",
    "##############\n",
    "sim.setup(timestep=0.1)\n",
    "\n",
    "post = sim.Population(1, sim.IF_cond_alpha(**neuron_params),\n",
    "                    initial_values={\"v\": neuron_params[\"v_reset\"]}, label=\"postsynaptic\")\n",
    "\n",
    "\n",
    "#injecting all ON cells current\n",
    "for inputs in range(len(st_levels[0])):\n",
    "\n",
    "    current_levels = st_levels[0][inputs][::injection_sampling_rate]\n",
    "    current_levels = np.asarray(current_levels)\n",
    "\n",
    "    current_input = sim.StepCurrentSource(times = current_times,\n",
    "                                     amplitudes = current_levels*gain)\n",
    "    current_input.inject_into(post)\n",
    "    current_list.append(current_input)\n",
    "    current_input.record()\n",
    "    \n",
    "#injecting all OFF cells current\n",
    "for inputs in range(len(st_levels[1])):\n",
    "\n",
    "    current_levels = st_levels[1][inputs][::injection_sampling_rate]\n",
    "    current_levels = np.asarray(current_levels)\n",
    "\n",
    "    current_input = sim.StepCurrentSource(times = current_times,\n",
    "                                     amplitudes = current_levels*gain)\n",
    "    current_input.inject_into(post)\n",
    "    current_list.append(current_input)\n",
    "    current_input.record()\n",
    "    \n",
    "post.record(['spikes', 'v'])\n",
    "\n",
    "sim.run(total_time)\n",
    "sim.end()\n",
    "\n",
    "#PLOTTING and DATA\n",
    "post_v = post.get_data().segments[0]\n",
    "sig = post_v.analogsignals[0]"
   ]
  },
  {
   "cell_type": "markdown",
   "metadata": {},
   "source": [
    "# The non-showing spikes problem "
   ]
  },
  {
   "cell_type": "code",
   "execution_count": 14,
   "metadata": {
    "ExecuteTime": {
     "end_time": "2018-11-08T10:37:05.851690Z",
     "start_time": "2018-11-08T10:37:05.352448Z"
    }
   },
   "outputs": [
    {
     "data": {
      "image/png": "[encoded data removed]",
      "text/plain": [
       "<Figure size 432x288 with 1 Axes>"
      ]
     },
     "metadata": {},
     "output_type": "display_data"
    }
   ],
   "source": [
    "plt.plot(sig, color = 'b')\n",
    "\n",
    "for spikes in np.asarray(post_v.spiketrains[0]):\n",
    "    plt.plot( [ spikes*10,spikes*10 ] , [sig[int(spikes)] , 20], color = 'b')\n",
    "    #plt.axvline(spikes*10, ymin = .15, ymax = .9)\n",
    "    \n",
    "plt.title(' %s spikes fired' % np.asarray(post_v.spiketrains[0]).shape[0])\n",
    "plt.show()"
   ]
  },
  {
   "cell_type": "code",
   "execution_count": 15,
   "metadata": {
    "ExecuteTime": {
     "end_time": "2018-11-08T10:37:06.548963Z",
     "start_time": "2018-11-08T10:37:05.859096Z"
    }
   },
   "outputs": [
    {
     "data": {
      "text/plain": [
       "(-1, 1001)"
      ]
     },
     "execution_count": 15,
     "metadata": {},
     "output_type": "execute_result"
    },
    {
     "data": {
      "image/png": "[encoded data removed]",
      "text/plain": [
       "<Figure size 432x288 with 1 Axes>"
      ]
     },
     "metadata": {},
     "output_type": "display_data"
    }
   ],
   "source": [
    "plt.scatter(post_v.spiketrains, np.ones_like(post_v.spiketrains), s = 10)\n",
    "plt.xlim(-1, 1001)"
   ]
  },
  {
   "cell_type": "markdown",
   "metadata": {},
   "source": [
    "# The FPS problem"
   ]
  },
  {
   "cell_type": "code",
   "execution_count": 16,
   "metadata": {
    "ExecuteTime": {
     "end_time": "2018-11-08T10:37:06.626653Z",
     "start_time": "2018-11-08T10:37:06.555764Z"
    }
   },
   "outputs": [
    {
     "data": {
      "text/plain": [
       "(36, 64, 640)"
      ]
     },
     "execution_count": 16,
     "metadata": {},
     "output_type": "execute_result"
    }
   ],
   "source": [
    "brian_vid = np.load('./LifeOfBrian_29.97FPS.npy')\n",
    "brian_vid = np.swapaxes(brian_vid, 0, -1)\n",
    "brian_vid = np.swapaxes(brian_vid, 0, 1)\n",
    "brian_vid.shape"
   ]
  },
  {
   "cell_type": "code",
   "execution_count": 17,
   "metadata": {
    "ExecuteTime": {
     "end_time": "2018-11-08T10:37:07.162942Z",
     "start_time": "2018-11-08T10:37:06.633034Z"
    }
   },
   "outputs": [
    {
     "data": {
      "text/plain": [
       "<matplotlib.image.AxesImage at 0x7f017a075048>"
      ]
     },
     "execution_count": 17,
     "metadata": {},
     "output_type": "execute_result"
    },
    {
     "data": {
      "image/png": "[encoded data removed]",
      "text/plain": [
       "<Figure size 432x288 with 1 Axes>"
      ]
     },
     "metadata": {},
     "output_type": "display_data"
    }
   ],
   "source": [
    "plt.imshow(brian_vid[:,:,4], cmap = plt.cm.cividis)"
   ]
  },
  {
   "cell_type": "code",
   "execution_count": 18,
   "metadata": {
    "ExecuteTime": {
     "end_time": "2018-11-08T10:37:07.273713Z",
     "start_time": "2018-11-08T10:37:07.185622Z"
    }
   },
   "outputs": [
    {
     "name": "stdout",
     "output_type": "stream",
     "text": [
      "Total frames: 640\n",
      "Frames per second: 29.97\n",
      "Frame duration at 29.97 fps: 33.37 ms\n",
      "Video length inferred from fps: 23 s\n",
      "Sanity check passed !\n"
     ]
    }
   ],
   "source": [
    "print('Total frames:', brian_vid.shape[-1])\n",
    "\n",
    "#médaille d'or du one liner 2018\n",
    "fps = float('./LifeOfBrian_29.97FPS.npy'.split('_')[1].split('FPS')[0])\n",
    "print('Frames per second:', fps)\n",
    "print('Frame duration at %s fps: %.2f ms' % (fps, total_time/fps))\n",
    "print('Video length inferred from fps: %s s'% brian_vid[:,:,::int(fps)].shape[-1])\n",
    "frame_duration = int(total_time/fps)\n",
    "\n",
    "stimuli = []\n",
    "for ms in range(int(total_time/frame_duration)) :\n",
    "    for same_frame in range(frame_duration):\n",
    "        stimuli.append(brian_vid[:,:,ms])\n",
    "while len(stimuli) < total_time:\n",
    "    stimuli.append(stimuli[-1])\n",
    "        \n",
    "#Check that a random pixel is the same in the previous frame\n",
    "if stimuli[0][0,30]!=stimuli[frame_duration+1][0,30] : print('Sanity check passed !')\n"
   ]
  },
  {
   "cell_type": "code",
   "execution_count": 19,
   "metadata": {
    "ExecuteTime": {
     "end_time": "2018-11-08T10:37:07.324300Z",
     "start_time": "2018-11-08T10:37:07.284773Z"
    }
   },
   "outputs": [
    {
     "data": {
      "text/plain": [
       "(36, 64, 1000)"
      ]
     },
     "execution_count": 19,
     "metadata": {},
     "output_type": "execute_result"
    }
   ],
   "source": [
    "stimuli =  np.swapaxes(stimuli, 0, -1)\n",
    "stimuli = np.swapaxes(stimuli, 0, 1)\n",
    "stimuli.shape"
   ]
  },
  {
   "cell_type": "code",
   "execution_count": 20,
   "metadata": {
    "ExecuteTime": {
     "end_time": "2018-11-08T10:37:37.745893Z",
     "start_time": "2018-11-08T10:37:07.331914Z"
    }
   },
   "outputs": [
    {
     "name": "stderr",
     "output_type": "stream",
     "text": [
      "[Parallel(n_jobs=-1)]: Using backend LokyBackend with 4 concurrent workers.\n",
      "[Parallel(n_jobs=-1)]: Done   5 tasks      | elapsed:   17.7s\n",
      "[Parallel(n_jobs=-1)]: Done   7 out of  12 | elapsed:   20.7s remaining:   14.8s\n",
      "[Parallel(n_jobs=-1)]: Done   9 out of  12 | elapsed:   27.0s remaining:    9.0s\n",
      "[Parallel(n_jobs=-1)]: Done  12 out of  12 | elapsed:   30.3s finished\n"
     ]
    }
   ],
   "source": [
    "#generate the coordinates\n",
    "from joblib import Parallel, delayed\n",
    "\n",
    "gabors_parameterfile = {'B_sf': 0.4, 'B_theta': 0.17453277777777776, 'N_X': 256, 'N_Y': 256,\n",
    "                        'N_image': 100, 'base_levels': 1.618, 'datapath': 'database', 'do_mask': True,\n",
    "                        'do_whitening': True, 'dpi': 450, 'edgefigpath': 'results/edges', 'edgematpath': 'cache_dir/edges',\n",
    "                        'ext': '.pdf', 'figpath': 'results', 'figsize': 14.0, 'formats': ['pdf', 'png', 'jpg'],\n",
    "                        'mask_exponent': 3.0, 'matpath': 'cache_dir', 'n_theta': 24, 'noise': 0.1, 'seed': None,\n",
    "                        'use_cache': True, 'verbose': 0, 'white_N': 0.07, 'white_N_0': 0.0, 'white_alpha': 1.4,\n",
    "                        'white_f_0': 0.4, 'white_n_learning': 0, 'white_name_database': 'kodakdb',\n",
    "                        'white_recompute': False, 'white_steepness': 4.0}\n",
    "\n",
    "distrib_size = 8\n",
    "grid_res = 3\n",
    "N_theta = 12\n",
    "centers_coordinates = np.array(\n",
    "    [[35, 20, 35, 10, 20, 35], [35, 20, 10, 35, 35, 20]])\n",
    "\n",
    "filters_multithread = Parallel(n_jobs=-1, backend='loky', verbose = 10)(delayed(generate_small_gabors_coordinates_multithread)\n",
    "                    (theta,\n",
    "                     params=gabors_parameterfile, N_X=stimuli.shape[1], N_Y=stimuli.shape[0],\n",
    "                     centers_coordinates=centers_coordinates,\n",
    "                     distrib_size=distrib_size, grid_res=grid_res)\n",
    "                        for theta in np.linspace(0, np.pi, N_theta))"
   ]
  },
  {
   "cell_type": "code",
   "execution_count": 21,
   "metadata": {
    "ExecuteTime": {
     "end_time": "2018-11-08T10:39:40.214344Z",
     "start_time": "2018-11-08T10:37:37.761624Z"
    }
   },
   "outputs": [],
   "source": [
    "#generate the currents\n",
    "from joblib import Parallel, delayed\n",
    "\n",
    "gabors_parameterfile = {'B_sf': 0.4, 'B_theta': 0.17453277777777776, 'N_X': 256, 'N_Y': 256,\n",
    "                        'N_image': 100, 'base_levels': 1.618, 'datapath': 'database', 'do_mask': True,\n",
    "                        'do_whitening': True, 'dpi': 450, 'edgefigpath': 'results/edges', 'edgematpath': 'cache_dir/edges',\n",
    "                        'ext': '.pdf', 'figpath': 'results', 'figsize': 14.0, 'formats': ['pdf', 'png', 'jpg'],\n",
    "                        'mask_exponent': 3.0, 'matpath': 'cache_dir', 'n_theta': 24, 'noise': 0.1, 'seed': None,\n",
    "                        'use_cache': True, 'verbose': 0, 'white_N': 0.07, 'white_N_0': 0.0, 'white_alpha': 1.4,\n",
    "                        'white_f_0': 0.4, 'white_n_learning': 0, 'white_name_database': 'kodakdb',\n",
    "                        'white_recompute': False, 'white_steepness': 4.0}\n",
    "\n",
    "total_time = 1000\n",
    "filter_size = 2.\n",
    "filter_res = .1\n",
    "\n",
    "video = np.load('../montypython.npy')\n",
    "video = np.rot90(video)\n",
    "\n",
    "#this generates all the currents for ONE theta only, 15 s per theta, so I infer 180s runtime\n",
    "#with theta-based loop : \n",
    "\n",
    "currents_multithread = Parallel(n_jobs=-1, backend='loky')(delayed(coordinates_to_currents_multithread)\n",
    "                              (filters,\n",
    "                               stimuli=stimuli, total_time=total_time,\n",
    "                               filter_size=filter_size, filter_res=filter_res)\n",
    "                                for filters in filters_multithread)\n"
   ]
  },
  {
   "cell_type": "code",
   "execution_count": 22,
   "metadata": {
    "ExecuteTime": {
     "end_time": "2018-11-08T10:39:40.984879Z",
     "start_time": "2018-11-08T10:39:40.219574Z"
    }
   },
   "outputs": [],
   "source": [
    "import pyNN.nest as sim\n",
    "from pyNN.random import RandomDistribution as rnd\n",
    "from pyNN.parameters import Sequence\n",
    "from pyNN.utility.plotting import Figure, Panel\n",
    "\n",
    "##########\n",
    "# Params #\n",
    "##########\n",
    "neuron_params = {'cm': .5, #nF - McCormick\n",
    "                 'e_rev_E': 0.0, #mV - McCormick but default values\n",
    "                 'e_rev_I': -70.0, #mV - McCormick but default values\n",
    "                 'tau_m': 30, #ms - Markram\n",
    "                 'tau_refrac': 1.5, #ms - McCormick\n",
    "                 'tau_syn_E': 0.25, #ms -McCormick\n",
    "                 'tau_syn_I': 0.75, #ms - McCormick\n",
    "                 'v_reset': -56.5, #mV - McCormick\n",
    "                 'v_rest': -73.6, #mV - McCormick\n",
    "                 'v_thresh': -52.5 #mV - McCormick #mV - McCormick\n",
    "                    }\n",
    "\n",
    "#neuron_params = sim.IF_cond_alpha.default_parameters\n",
    "\n",
    "st_levels = currents_multithread[0][0] #we inject only the first theta, first gabor\n",
    "gain = .5\n",
    "injection_sampling_rate = 1\n",
    "current_times = np.linspace(0,total_time,len(st_levels[0][0][::injection_sampling_rate]))\n",
    "current_list = []\n",
    "\n",
    "##############\n",
    "# Simulation #\n",
    "##############\n",
    "sim.setup(timestep=0.1)\n",
    "\n",
    "post = sim.Population(1, sim.IF_cond_alpha(**neuron_params),\n",
    "                    initial_values={\"v\": neuron_params[\"v_reset\"]}, label=\"postsynaptic\")\n",
    "\n",
    "\n",
    "#injecting all ON cells current\n",
    "for inputs in range(len(st_levels[0])):\n",
    "\n",
    "    current_levels = st_levels[0][inputs][::injection_sampling_rate]\n",
    "    current_levels = np.asarray(current_levels)\n",
    "\n",
    "    current_input = sim.StepCurrentSource(times = current_times,\n",
    "                                     amplitudes = current_levels*gain)\n",
    "    current_input.inject_into(post)\n",
    "    current_list.append(current_input)\n",
    "    current_input.record()\n",
    "    \n",
    "#injecting all OFF cells current\n",
    "for inputs in range(len(st_levels[1])):\n",
    "\n",
    "    current_levels = st_levels[1][inputs][::injection_sampling_rate]\n",
    "    current_levels = np.asarray(current_levels)\n",
    "\n",
    "    current_input = sim.StepCurrentSource(times = current_times,\n",
    "                                     amplitudes = current_levels*gain)\n",
    "    current_input.inject_into(post)\n",
    "    current_list.append(current_input)\n",
    "    current_input.record()\n",
    "    \n",
    "post.record(['spikes', 'v'])\n",
    "\n",
    "sim.run(total_time)\n",
    "sim.end()\n",
    "\n",
    "#PLOTTING and DATA\n",
    "post_v = post.get_data().segments[0]\n",
    "sig = post_v.analogsignals[0]"
   ]
  },
  {
   "cell_type": "code",
   "execution_count": 23,
   "metadata": {
    "ExecuteTime": {
     "end_time": "2018-11-08T10:39:41.390532Z",
     "start_time": "2018-11-08T10:39:40.989724Z"
    }
   },
   "outputs": [
    {
     "data": {
      "image/png": "[encoded data removed]",
      "text/plain": [
       "<Figure size 432x288 with 1 Axes>"
      ]
     },
     "metadata": {},
     "output_type": "display_data"
    }
   ],
   "source": [
    "plt.plot(sig, color = 'b')\n",
    "\n",
    "for spikes in np.asarray(post_v.spiketrains[0]):\n",
    "    plt.plot( [ spikes*10,spikes*10 ] , [sig[int(spikes)] , 20], color = 'b')\n",
    "    #plt.axvline(spikes*10, ymin = .15, ymax = .9)\n",
    "    \n",
    "plt.title(' %s spikes fired' % np.asarray(post_v.spiketrains[0]).shape[0])\n",
    "plt.show()"
   ]
  },
  {
   "cell_type": "markdown",
   "metadata": {
    "ExecuteTime": {
     "end_time": "2018-11-06T15:58:08.743040Z",
     "start_time": "2018-11-06T15:57:40.936548Z"
    }
   },
   "source": [
    "import datetime\n",
    "now = datetime.datetime.now()\n",
    "strtime = now.strftime(\"%Y-%m-%d_%H_%M\")\n",
    "\n",
    "save_currents('./output/'+strtime+'/', 0, currents_multithread)"
   ]
  }
 ],
 "metadata": {
  "kernelspec": {
   "display_name": "Python 3",
   "language": "python",
   "name": "python3"
  },
  "language_info": {
   "codemirror_mode": {
    "name": "ipython",
    "version": 3
   },
   "file_extension": ".py",
   "mimetype": "text/x-python",
   "name": "python",
   "nbconvert_exporter": "python",
   "pygments_lexer": "ipython3",
   "version": "3.6.4"
  },
  "toc": {
   "base_numbering": 1,
   "nav_menu": {},
   "number_sections": true,
   "sideBar": true,
   "skip_h1_title": false,
   "title_cell": "Table of Contents",
   "title_sidebar": "Contents",
   "toc_cell": false,
   "toc_position": {},
   "toc_section_display": true,
   "toc_window_display": false
  }
 },
 "nbformat": 4,
 "nbformat_minor": 2
}
