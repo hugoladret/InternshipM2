{
 "cells": [
  {
   "cell_type": "markdown",
   "metadata": {},
   "source": [
    "# Ajouter une ring topology au réseau dense"
   ]
  },
  {
   "cell_type": "code",
   "execution_count": 1,
   "metadata": {
    "ExecuteTime": {
     "end_time": "2018-12-24T12:51:17.113887Z",
     "start_time": "2018-12-24T12:51:16.382322Z"
    }
   },
   "outputs": [
    {
     "name": "stdout",
     "output_type": "stream",
     "text": [
      "CSAConnector: libneurosim support not available in NEST.\n",
      "Falling back on PyNN's default CSAConnector.\n",
      "Please re-compile NEST using --with-libneurosim=PATH\n"
     ]
    },
    {
     "name": "stderr",
     "output_type": "stream",
     "text": [
      "/usr/local/lib/python3.7/site-packages/pyNN/nest/__init__.py:55: UserWarning: Unable to install NEST extensions. Certain models may not be available.\n",
      "Further details: DynamicModuleManagementError in Install: Module 'pynn_extensions' could not be opened.\n",
      "The dynamic loader returned the following error: 'file not found'.\n",
      "\n",
      "Please check LD_LIBRARY_PATH (OSX: DYLD_LIBRARY_PATH)!\n",
      "  warnings.warn(\"Unable to install NEST extensions. Certain models may not be available.\\nFurther details: {}\".format(err))\n"
     ]
    }
   ],
   "source": [
    "import numpy as np\n",
    "import pyNN.nest as sim\n",
    "from pyNN.random import NumpyRNG\n",
    "from pyNN.random import RandomDistribution as rnd\n",
    "import matplotlib.pyplot as plt\n",
    "from lmfit.models import GaussianModel\n",
    "import lmfit\n",
    "import matplotlib.gridspec as gridspec"
   ]
  },
  {
   "cell_type": "markdown",
   "metadata": {},
   "source": [
    "# Spatial structure"
   ]
  },
  {
   "cell_type": "code",
   "execution_count": 2,
   "metadata": {
    "ExecuteTime": {
     "end_time": "2018-12-24T12:51:17.490583Z",
     "start_time": "2018-12-24T12:51:17.115374Z"
    }
   },
   "outputs": [
    {
     "data": {
      "image/png": "[encoded data removed]",
      "text/plain": [
       "<Figure size 432x288 with 1 Axes>"
      ]
     },
     "metadata": {
      "needs_background": "light"
     },
     "output_type": "display_data"
    },
    {
     "data": {
      "text/plain": [
       "[<matplotlib.lines.Line2D at 0x12571a828>]"
      ]
     },
     "execution_count": 2,
     "metadata": {},
     "output_type": "execute_result"
    },
    {
     "data": {
      "image/png": "[encoded data removed]",
      "text/plain": [
       "<Figure size 432x288 with 1 Axes>"
      ]
     },
     "metadata": {
      "needs_background": "light"
     },
     "output_type": "display_data"
    }
   ],
   "source": [
    "import numpy as np\n",
    "import matplotlib.pyplot as plt\n",
    "\n",
    "x = np.cos(np.linspace(0, 2*np.pi, 60))+1\n",
    "y = np.sin(np.linspace(0, 2*np.pi, 60))+1\n",
    "\n",
    "plt.plot(x, y, '.b')\n",
    "plt.axis('square')\n",
    "plt.pause(.1)\n",
    "\n",
    "plt.plot(np.exp(-np.linspace(0, 10, 100)))"
   ]
  },
  {
   "cell_type": "code",
   "execution_count": 3,
   "metadata": {
    "ExecuteTime": {
     "end_time": "2018-12-24T12:51:17.496516Z",
     "start_time": "2018-12-24T12:51:17.492515Z"
    }
   },
   "outputs": [],
   "source": [
    "from pyNN.space import *\n",
    "\n",
    "\n",
    "class MyStructure(BaseStructure):\n",
    "    parameter_names = 'radius'\n",
    "\n",
    "    def __init__(self, radius):\n",
    "        print('Init')\n",
    "        self.radius = radius\n",
    "\n",
    "    def generate_positions(self, n):\n",
    "        return np.array([\n",
    "            np.cos(np.linspace(0, 2*np.pi, n))+(self.radius-1),\n",
    "            np.sin(np.linspace(0, 2*np.pi, n))+(self.radius-1),\n",
    "            np.zeros(n)\n",
    "        ])\n",
    "        # must return a 3xn numpy array"
   ]
  },
  {
   "cell_type": "code",
   "execution_count": 4,
   "metadata": {
    "ExecuteTime": {
     "end_time": "2018-12-24T12:51:17.614270Z",
     "start_time": "2018-12-24T12:51:17.498365Z"
    }
   },
   "outputs": [
    {
     "name": "stdout",
     "output_type": "stream",
     "text": [
      "Init\n"
     ]
    },
    {
     "data": {
      "text/plain": [
       "(3, 60)"
      ]
     },
     "execution_count": 4,
     "metadata": {},
     "output_type": "execute_result"
    }
   ],
   "source": [
    "test = MyStructure(radius=3)\n",
    "pos = test.generate_positions(60)\n",
    "pos.shape"
   ]
  },
  {
   "cell_type": "code",
   "execution_count": 5,
   "metadata": {
    "ExecuteTime": {
     "end_time": "2018-12-24T12:51:17.915829Z",
     "start_time": "2018-12-24T12:51:17.618380Z"
    }
   },
   "outputs": [
    {
     "name": "stdout",
     "output_type": "stream",
     "text": [
      "Init\n"
     ]
    },
    {
     "data": {
      "text/plain": [
       "1000.0"
      ]
     },
     "execution_count": 5,
     "metadata": {},
     "output_type": "execute_result"
    }
   ],
   "source": [
    "n_pop = 60\n",
    "neuron_parameters = {'cm': .5,  # nF - McCormick\n",
    "                     'e_rev_E': 0.0,  # mV - McCormick but default values\n",
    "                     'e_rev_I': -70.0,  # mV - McCormick but default values\n",
    "                     'tau_m': 30,  # ms - Markram\n",
    "                     'tau_refrac': 1.5,  # ms - McCormick\n",
    "                     'tau_syn_E': 0.25,  # ms -McCormick\n",
    "                     'tau_syn_I': 0.75,  # ms - McCormick\n",
    "                     'v_reset': -56.5,  # mV - McCormick\n",
    "                     'v_rest': -65.5,  # mV - McCormick\n",
    "                     'v_thresh': -52.5,  # mV - McCormick\n",
    "                     }\n",
    "\n",
    "sim.setup(threads=4)\n",
    "\n",
    "test_pop = sim.Population(n_pop, sim.IF_cond_exp(**neuron_parameters),\n",
    "                          initial_values={\"v\": neuron_parameters[\"v_reset\"]},\n",
    "                          structure=MyStructure(radius=2),\n",
    "                          label=\"Neurones Exictateurs\")\n",
    "\n",
    "intra_dist_prob = sim.DistanceDependentProbabilityConnector(\"exp(-d)\")\n",
    "syn_inp_exc = sim.Projection(test_pop, test_pop,\n",
    "                             connector=intra_dist_prob,\n",
    "                             synapse_type=sim.StaticSynapse(weight=1))\n",
    "\n",
    "sim.run(1000)"
   ]
  },
  {
   "cell_type": "markdown",
   "metadata": {},
   "source": [
    "# Et avec l'index ?\n",
    "Marchepo"
   ]
  },
  {
   "cell_type": "markdown",
   "metadata": {
    "ExecuteTime": {
     "end_time": "2018-12-24T12:28:25.745649Z",
     "start_time": "2018-12-24T12:28:25.717195Z"
    }
   },
   "source": [
    "n_pop = 60\n",
    "neuron_parameters = {'cm': .5,  # nF - McCormick\n",
    "                     'e_rev_E': 0.0,  # mV - McCormick but default values\n",
    "                     'e_rev_I': -70.0,  # mV - McCormick but default values\n",
    "                     'tau_m': 30,  # ms - Markram\n",
    "                     'tau_refrac': 1.5,  # ms - McCormick\n",
    "                     'tau_syn_E': 0.25,  # ms -McCormick\n",
    "                     'tau_syn_I': 0.75,  # ms - McCormick\n",
    "                     'v_reset': -56.5,  # mV - McCormick\n",
    "                     'v_rest': -65.5,  # mV - McCormick\n",
    "                     'v_thresh': -52.5,  # mV - McCormick\n",
    "                     }\n",
    "\n",
    "sim.setup(threads=4)\n",
    "\n",
    "test_pop = sim.Population(n_pop, sim.IF_cond_exp(**neuron_parameters),\n",
    "                          initial_values={\"v\": neuron_parameters[\"v_reset\"]},\n",
    "                          label=\"Neurones Exictateurs\")\n",
    "\n",
    "intra_dist_prob = sim.IndexBasedProbabilityConnector(\"exp(-i*j)\")\n",
    "syn_inp_exc = sim.Projection(test_pop, test_pop,\n",
    "                             connector=intra_dist_prob,\n",
    "                             synapse_type=sim.StaticSynapse(weight=1))\n",
    "\n",
    "sim.run(1000)"
   ]
  },
  {
   "cell_type": "markdown",
   "metadata": {},
   "source": [
    "# Et ça retourne !\n"
   ]
  },
  {
   "cell_type": "code",
   "execution_count": 6,
   "metadata": {
    "ExecuteTime": {
     "end_time": "2018-12-24T12:51:17.925350Z",
     "start_time": "2018-12-24T12:51:17.917535Z"
    }
   },
   "outputs": [],
   "source": [
    "def tuning_function(x, j, B, fmax):  # von mises\n",
    "    N = len(x)\n",
    "    if B == np.inf:\n",
    "        VM = np.ones_like(x)\n",
    "    else:\n",
    "        VM = np.exp((np.cos(2.*np.pi*(x-j)/N)-1.)/4/(B*np.pi/180)**2)\n",
    "    #VM /= VM.sum(axis=0)\n",
    "    return fmax * VM\n",
    "\n",
    "\n",
    "def fit_plot(popsize, spike_array, ax, datacol='.r', fitcol='--k', data_kws=None, do_title=True,\n",
    "             seq_nbr=None):\n",
    "    '''\n",
    "    calculates a spike array gaussian lmfit profile and plots it\n",
    "    '''\n",
    "    # extracts the spiketrains\n",
    "\n",
    "    # fit the gaussian\n",
    "    x = np.linspace(0, popsize, popsize)\n",
    "    y = spike_array\n",
    "    N = len(spike_array)\n",
    "\n",
    "    #mod = GaussianModel()\n",
    "    from lmfit import Model, Parameters\n",
    "    mod = Model(tuning_function)\n",
    "    pars = Parameters()\n",
    "    pars.add_many(('j', y.argmax(), True,  0.0, N), ('B', 15., True,  0.1, 360),\n",
    "                  ('fmax', y.max(), True,  0.0, 200.))\n",
    "\n",
    "    #pars = mod.guess(y, x=x)\n",
    "    #pars['center'] = lmfit.Parameter('center', seq_nbr*15)\n",
    "    out = mod.fit(y, pars, x=x, nan_policy='omit')\n",
    "    # print(out.fit_report(min_correl=0.25))\n",
    "\n",
    "    # plot the fits\n",
    "    out.plot_fit(ax=ax, datafmt=datacol, fitfmt=fitcol,\n",
    "                 data_kws=data_kws, show_init=False)\n",
    "\n",
    "    # eye cancer-triggering lines\n",
    "    sigma = out.best_values['B']\n",
    "\n",
    "    if do_title:\n",
    "        ax.set_title('Sequence #%s -- ' % seq_nbr + r'$\\sigma$ = %.2f' % sigma)\n",
    "\n",
    "    return ax, sigma\n",
    "\n",
    "\n",
    "def cut_spiketrain(array, window):\n",
    "    '''\n",
    "    Cut a spiketrain array between window*500 and window+1 *500\n",
    "    we use it to only visualize a specific time window of the network\n",
    "    '''\n",
    "    spiketrain_len = []\n",
    "    for spiketrain in np.asarray(array.spiketrains):\n",
    "        spiketrain_array = np.array(spiketrain, dtype=float)\n",
    "\n",
    "        spiketrain_cut = np.where(\n",
    "            (spiketrain_array > window*1250) & (spiketrain_array < (window+1)*1250))[0]\n",
    "\n",
    "        spiketrain_len.append(len(spiketrain_cut))\n",
    "\n",
    "    spikelen_array = np.asarray(spiketrain_len)\n",
    "    return spikelen_array"
   ]
  },
  {
   "cell_type": "code",
   "execution_count": 7,
   "metadata": {
    "ExecuteTime": {
     "end_time": "2018-12-24T12:51:18.039800Z",
     "start_time": "2018-12-24T12:51:17.927195Z"
    }
   },
   "outputs": [],
   "source": [
    "def SuperPlotter(SpikesP, SpikesE, SpikesI,\n",
    "                 popsize, simtime,\n",
    "                 title='Title', markersize=.5,\n",
    "                 figsize=(9, 6), shifts=None):\n",
    "    # oh la jolie double fonction\n",
    "    def plot_spiketrains(ax, spikes, color, ylabel, do_ticks):\n",
    "        for spiketrain in spikes.spiketrains:\n",
    "            y = np.ones_like(spiketrain) * spiketrain.annotations['source_id']\n",
    "            ax.scatter(spiketrain, y, color=color, s=markersize)\n",
    "            ax.set_ylabel(ylabel)\n",
    "            if not do_ticks:\n",
    "                ax.set_xticklabels([])\n",
    "            if shifts != None:\n",
    "                for i, times in enumerate(shifts):\n",
    "                    ax.axvline(x=times, color='k',\n",
    "                               linestyle='-.', linewidth=1)\n",
    "\n",
    "    fig = plt.figure(figsize=figsize)\n",
    "    gs = gridspec.GridSpec(3, 8)\n",
    "    axs1 = plt.subplot(gs[0, :4])\n",
    "    axs2 = plt.subplot(gs[1, :4])\n",
    "    axs3 = plt.subplot(gs[2, :4])\n",
    "\n",
    "    axs4 = plt.subplot(gs[0:1, 4:6])\n",
    "    axs5 = plt.subplot(gs[0:1, 6:8])\n",
    "    axs6 = plt.subplot(gs[1:2, 4:6])\n",
    "    axs7 = plt.subplot(gs[1:2, 6:8])\n",
    "\n",
    "    # what a fucking mess\n",
    "    min_poisson = int(SpikesP.description.split('ID range')[\n",
    "                      1].split('\\n')[0].split(': ')[1].split('-')[0])\n",
    "    max_poisson = int(SpikesP.description.split('ID range')[\n",
    "                      1].split('\\n')[0].split(': ')[1].split('-')[1])\n",
    "    axs1.set_ylim(min_poisson, max_poisson)\n",
    "\n",
    "    plot_spiketrains(axs1, SpikesP, color='g',\n",
    "                     ylabel='Neuron Index', do_ticks=False)\n",
    "    axs1.set_title('Poisson input')\n",
    "    plot_spiketrains(axs2, SpikesI, color='b',\n",
    "                     ylabel='Neuron Index', do_ticks=False)\n",
    "    axs2.set_title('Inhibitory population')\n",
    "    plot_spiketrains(axs3, SpikesE, color='r',\n",
    "                     ylabel='Neuron Index', do_ticks=True)\n",
    "    axs3.set_title('Excitatory population')\n",
    "    axs3.set_xlabel('Time(ms)')\n",
    "\n",
    "    '''axs1.set_xlim(1250, 1300)\n",
    "    axs2.set_xlim(1250, 1300)\n",
    "    axs3.set_xlim(1250, 1300)'''\n",
    "\n",
    "    axs4.plot(cut_spiketrain(SpikesP, 0), color='g')\n",
    "    fit_plot(popsize, cut_spiketrain(SpikesE, 0), axs4, seq_nbr=1)[1]\n",
    "    axs4.set_xticklabels([])\n",
    "    axs4.set_yticklabels([])\n",
    "    axs4.set_xlabel('')\n",
    "    axs4.set_ylabel('')\n",
    "\n",
    "    axs5.plot(cut_spiketrain(SpikesP, 1), color='g')\n",
    "    fit_plot(popsize, cut_spiketrain(SpikesE, 1), axs5, seq_nbr=2)[1]\n",
    "    axs5.set_xticklabels([])\n",
    "    axs5.set_yticklabels([])\n",
    "    axs5.set_xlabel('')\n",
    "    axs5.set_ylabel('')\n",
    "\n",
    "    axs6.plot(cut_spiketrain(SpikesP, 2), color='g')\n",
    "    fit_plot(popsize, cut_spiketrain(SpikesE, 2), axs6, seq_nbr=3)[1]\n",
    "    axs6.set_xticklabels([])\n",
    "    axs6.set_yticklabels([])\n",
    "    axs6.set_xlabel('')\n",
    "    axs6.set_ylabel('')\n",
    "\n",
    "    axs7.plot(cut_spiketrain(SpikesP, 3), color='g')\n",
    "    fit_plot(popsize, cut_spiketrain(SpikesE, 3), axs7, seq_nbr=4)[1]\n",
    "    axs7.set_xlabel('Neuron index')\n",
    "    axs7.set_ylabel('Sequence spikes', rotation=270)\n",
    "    axs7.yaxis.tick_right()\n",
    "    axs7.yaxis.set_label_position(\"right\")\n",
    "\n",
    "    fig.suptitle(title, fontsize=12)\n",
    "    plt.show()\n",
    "    return fig"
   ]
  },
  {
   "cell_type": "markdown",
   "metadata": {},
   "source": [
    "# Simulation"
   ]
  },
  {
   "cell_type": "code",
   "execution_count": 8,
   "metadata": {
    "ExecuteTime": {
     "end_time": "2018-12-24T12:51:18.147755Z",
     "start_time": "2018-12-24T12:51:18.041214Z"
    }
   },
   "outputs": [],
   "source": [
    "n_pop = 60\n",
    "neuron_parameters = {'cm': .5,  # nF - McCormick\n",
    "                     'e_rev_E': 0.0,  # mV - McCormick but default values\n",
    "                     'e_rev_I': -70.0,  # mV - McCormick but default values\n",
    "                     'tau_m': 30,  # ms - Markram\n",
    "                     'tau_refrac': 1.5,  # ms - McCormick\n",
    "                     'tau_syn_E': 0.25,  # ms -McCormick\n",
    "                     'tau_syn_I': 0.75,  # ms - McCormick\n",
    "                     'v_reset': -56.5,  # mV - McCormick\n",
    "                     'v_rest': -65.5,  # mV - McCormick\n",
    "                     'v_thresh': -52.5,  # mV - McCormick\n",
    "                     }\n",
    "\n",
    "simtime = 5000\n",
    "rng = sim.NumpyRNG(seed=42)\n",
    "\n",
    "rate_gain = 20.  # multiplier for the rates\n",
    "angle_input = 40  # degrees\n",
    "b_theta = 15  # degrees"
   ]
  },
  {
   "cell_type": "code",
   "execution_count": 9,
   "metadata": {
    "ExecuteTime": {
     "end_time": "2018-12-24T12:51:22.960739Z",
     "start_time": "2018-12-24T12:51:18.149549Z"
    }
   },
   "outputs": [
    {
     "name": "stdout",
     "output_type": "stream",
     "text": [
      "Init\n",
      "Init\n"
     ]
    },
    {
     "ename": "AttributeError",
     "evalue": "'MyStructure' object has no attribute 'r'",
     "output_type": "error",
     "traceback": [
      "\u001b[0;31m---------------------------------------------------------------------------\u001b[0m",
      "\u001b[0;31mAttributeError\u001b[0m                            Traceback (most recent call last)",
      "\u001b[0;32m<ipython-input-9-8eaa36759dca>\u001b[0m in \u001b[0;36m<module>\u001b[0;34m\u001b[0m\n\u001b[1;32m    173\u001b[0m \u001b[0msim\u001b[0m\u001b[0;34m.\u001b[0m\u001b[0mend\u001b[0m\u001b[0;34m(\u001b[0m\u001b[0;34m)\u001b[0m\u001b[0;34m\u001b[0m\u001b[0;34m\u001b[0m\u001b[0m\n\u001b[1;32m    174\u001b[0m \u001b[0;34m\u001b[0m\u001b[0m\n\u001b[0;32m--> 175\u001b[0;31m \u001b[0mexc_data\u001b[0m \u001b[0;34m=\u001b[0m \u001b[0mexc\u001b[0m\u001b[0;34m.\u001b[0m\u001b[0mget_data\u001b[0m\u001b[0;34m(\u001b[0m\u001b[0;34m)\u001b[0m\u001b[0;34m.\u001b[0m\u001b[0msegments\u001b[0m\u001b[0;34m[\u001b[0m\u001b[0;36m0\u001b[0m\u001b[0;34m]\u001b[0m\u001b[0;34m\u001b[0m\u001b[0;34m\u001b[0m\u001b[0m\n\u001b[0m\u001b[1;32m    176\u001b[0m \u001b[0minh_data\u001b[0m \u001b[0;34m=\u001b[0m \u001b[0minh\u001b[0m\u001b[0;34m.\u001b[0m\u001b[0mget_data\u001b[0m\u001b[0;34m(\u001b[0m\u001b[0;34m)\u001b[0m\u001b[0;34m.\u001b[0m\u001b[0msegments\u001b[0m\u001b[0;34m[\u001b[0m\u001b[0;36m0\u001b[0m\u001b[0;34m]\u001b[0m\u001b[0;34m\u001b[0m\u001b[0;34m\u001b[0m\u001b[0m\n\u001b[1;32m    177\u001b[0m \u001b[0minp_data\u001b[0m \u001b[0;34m=\u001b[0m \u001b[0minput_pop\u001b[0m\u001b[0;34m.\u001b[0m\u001b[0mget_data\u001b[0m\u001b[0;34m(\u001b[0m\u001b[0;34m)\u001b[0m\u001b[0;34m.\u001b[0m\u001b[0msegments\u001b[0m\u001b[0;34m[\u001b[0m\u001b[0;36m0\u001b[0m\u001b[0;34m]\u001b[0m\u001b[0;34m\u001b[0m\u001b[0;34m\u001b[0m\u001b[0m\n",
      "\u001b[0;32m/usr/local/lib/python3.7/site-packages/pyNN/common/populations.py\u001b[0m in \u001b[0;36mget_data\u001b[0;34m(self, variables, gather, clear)\u001b[0m\n\u001b[1;32m    505\u001b[0m         \u001b[0mIf\u001b[0m\u001b[0;31m \u001b[0m\u001b[0;31m`\u001b[0m\u001b[0mclear\u001b[0m\u001b[0;31m`\u001b[0m \u001b[0;32mis\u001b[0m \u001b[0;32mTrue\u001b[0m\u001b[0;34m,\u001b[0m \u001b[0mrecorded\u001b[0m \u001b[0mdata\u001b[0m \u001b[0mwill\u001b[0m \u001b[0mbe\u001b[0m \u001b[0mdeleted\u001b[0m \u001b[0;32mfrom\u001b[0m \u001b[0mthe\u001b[0m\u001b[0;31m \u001b[0m\u001b[0;31m`\u001b[0m\u001b[0mPopulation\u001b[0m\u001b[0;31m`\u001b[0m\u001b[0;34m.\u001b[0m\u001b[0;34m\u001b[0m\u001b[0;34m\u001b[0m\u001b[0m\n\u001b[1;32m    506\u001b[0m         \"\"\"\n\u001b[0;32m--> 507\u001b[0;31m         \u001b[0;32mreturn\u001b[0m \u001b[0mself\u001b[0m\u001b[0;34m.\u001b[0m\u001b[0mrecorder\u001b[0m\u001b[0;34m.\u001b[0m\u001b[0mget\u001b[0m\u001b[0;34m(\u001b[0m\u001b[0mvariables\u001b[0m\u001b[0;34m,\u001b[0m \u001b[0mgather\u001b[0m\u001b[0;34m,\u001b[0m \u001b[0mself\u001b[0m\u001b[0;34m.\u001b[0m\u001b[0m_record_filter\u001b[0m\u001b[0;34m,\u001b[0m \u001b[0mclear\u001b[0m\u001b[0;34m)\u001b[0m\u001b[0;34m\u001b[0m\u001b[0;34m\u001b[0m\u001b[0m\n\u001b[0m\u001b[1;32m    508\u001b[0m \u001b[0;34m\u001b[0m\u001b[0m\n\u001b[1;32m    509\u001b[0m     \u001b[0;34m@\u001b[0m\u001b[0mdeprecated\u001b[0m\u001b[0;34m(\u001b[0m\u001b[0;34m\"write_data(file, 'spikes')\"\u001b[0m\u001b[0;34m)\u001b[0m\u001b[0;34m\u001b[0m\u001b[0;34m\u001b[0m\u001b[0m\n",
      "\u001b[0;32m/usr/local/lib/python3.7/site-packages/pyNN/recording/__init__.py\u001b[0m in \u001b[0;36mget\u001b[0;34m(self, variables, gather, filter_ids, clear, annotations)\u001b[0m\n\u001b[1;32m    307\u001b[0m                          for segment in self.cache]\n\u001b[1;32m    308\u001b[0m         \u001b[0;32mif\u001b[0m \u001b[0mself\u001b[0m\u001b[0;34m.\u001b[0m\u001b[0m_simulator\u001b[0m\u001b[0;34m.\u001b[0m\u001b[0mstate\u001b[0m\u001b[0;34m.\u001b[0m\u001b[0mrunning\u001b[0m\u001b[0;34m:\u001b[0m  \u001b[0;31m# reset() has not been called, so current segment is not in cache\u001b[0m\u001b[0;34m\u001b[0m\u001b[0;34m\u001b[0m\u001b[0m\n\u001b[0;32m--> 309\u001b[0;31m             \u001b[0mdata\u001b[0m\u001b[0;34m.\u001b[0m\u001b[0msegments\u001b[0m\u001b[0;34m.\u001b[0m\u001b[0mappend\u001b[0m\u001b[0;34m(\u001b[0m\u001b[0mself\u001b[0m\u001b[0;34m.\u001b[0m\u001b[0m_get_current_segment\u001b[0m\u001b[0;34m(\u001b[0m\u001b[0mfilter_ids\u001b[0m\u001b[0;34m=\u001b[0m\u001b[0mfilter_ids\u001b[0m\u001b[0;34m,\u001b[0m \u001b[0mvariables\u001b[0m\u001b[0;34m=\u001b[0m\u001b[0mvariables\u001b[0m\u001b[0;34m,\u001b[0m \u001b[0mclear\u001b[0m\u001b[0;34m=\u001b[0m\u001b[0mclear\u001b[0m\u001b[0;34m)\u001b[0m\u001b[0;34m)\u001b[0m\u001b[0;34m\u001b[0m\u001b[0;34m\u001b[0m\u001b[0m\n\u001b[0m\u001b[1;32m    310\u001b[0m         \u001b[0;31m# collect channel indexes\u001b[0m\u001b[0;34m\u001b[0m\u001b[0;34m\u001b[0m\u001b[0;34m\u001b[0m\u001b[0m\n\u001b[1;32m    311\u001b[0m         \u001b[0;32mfor\u001b[0m \u001b[0msegment\u001b[0m \u001b[0;32min\u001b[0m \u001b[0mdata\u001b[0m\u001b[0;34m.\u001b[0m\u001b[0msegments\u001b[0m\u001b[0;34m:\u001b[0m\u001b[0;34m\u001b[0m\u001b[0;34m\u001b[0m\u001b[0m\n",
      "\u001b[0;32m/usr/local/lib/python3.7/site-packages/pyNN/recording/__init__.py\u001b[0m in \u001b[0;36m_get_current_segment\u001b[0;34m(self, filter_ids, variables, clear)\u001b[0m\n\u001b[1;32m    247\u001b[0m     \u001b[0;32mdef\u001b[0m \u001b[0m_get_current_segment\u001b[0m\u001b[0;34m(\u001b[0m\u001b[0mself\u001b[0m\u001b[0;34m,\u001b[0m \u001b[0mfilter_ids\u001b[0m\u001b[0;34m=\u001b[0m\u001b[0;32mNone\u001b[0m\u001b[0;34m,\u001b[0m \u001b[0mvariables\u001b[0m\u001b[0;34m=\u001b[0m\u001b[0;34m'all'\u001b[0m\u001b[0;34m,\u001b[0m \u001b[0mclear\u001b[0m\u001b[0;34m=\u001b[0m\u001b[0;32mFalse\u001b[0m\u001b[0;34m)\u001b[0m\u001b[0;34m:\u001b[0m\u001b[0;34m\u001b[0m\u001b[0;34m\u001b[0m\u001b[0m\n\u001b[1;32m    248\u001b[0m         segment = neo.Segment(name=\"segment%03d\" % self._simulator.state.segment_counter,\n\u001b[0;32m--> 249\u001b[0;31m                               \u001b[0mdescription\u001b[0m\u001b[0;34m=\u001b[0m\u001b[0mself\u001b[0m\u001b[0;34m.\u001b[0m\u001b[0mpopulation\u001b[0m\u001b[0;34m.\u001b[0m\u001b[0mdescribe\u001b[0m\u001b[0;34m(\u001b[0m\u001b[0;34m)\u001b[0m\u001b[0;34m,\u001b[0m\u001b[0;34m\u001b[0m\u001b[0;34m\u001b[0m\u001b[0m\n\u001b[0m\u001b[1;32m    250\u001b[0m                               rec_datetime=datetime.now())  # would be nice to get the time at the start of the recording, not the end\n\u001b[1;32m    251\u001b[0m         \u001b[0mvariables_to_include\u001b[0m \u001b[0;34m=\u001b[0m \u001b[0mset\u001b[0m\u001b[0;34m(\u001b[0m\u001b[0mself\u001b[0m\u001b[0;34m.\u001b[0m\u001b[0mrecorded\u001b[0m\u001b[0;34m.\u001b[0m\u001b[0mkeys\u001b[0m\u001b[0;34m(\u001b[0m\u001b[0;34m)\u001b[0m\u001b[0;34m)\u001b[0m\u001b[0;34m\u001b[0m\u001b[0;34m\u001b[0m\u001b[0m\n",
      "\u001b[0;32m/usr/local/lib/python3.7/site-packages/pyNN/common/populations.py\u001b[0m in \u001b[0;36mdescribe\u001b[0;34m(self, template, engine)\u001b[0m\n\u001b[1;32m    771\u001b[0m             })\n\u001b[1;32m    772\u001b[0m         \u001b[0;32mif\u001b[0m \u001b[0mself\u001b[0m\u001b[0;34m.\u001b[0m\u001b[0mstructure\u001b[0m\u001b[0;34m:\u001b[0m\u001b[0;34m\u001b[0m\u001b[0;34m\u001b[0m\u001b[0m\n\u001b[0;32m--> 773\u001b[0;31m             \u001b[0mcontext\u001b[0m\u001b[0;34m[\u001b[0m\u001b[0;34m\"structure\"\u001b[0m\u001b[0;34m]\u001b[0m \u001b[0;34m=\u001b[0m \u001b[0mself\u001b[0m\u001b[0;34m.\u001b[0m\u001b[0mstructure\u001b[0m\u001b[0;34m.\u001b[0m\u001b[0mdescribe\u001b[0m\u001b[0;34m(\u001b[0m\u001b[0mtemplate\u001b[0m\u001b[0;34m=\u001b[0m\u001b[0;32mNone\u001b[0m\u001b[0;34m)\u001b[0m\u001b[0;34m\u001b[0m\u001b[0;34m\u001b[0m\u001b[0m\n\u001b[0m\u001b[1;32m    774\u001b[0m         \u001b[0;32mreturn\u001b[0m \u001b[0mdescriptions\u001b[0m\u001b[0;34m.\u001b[0m\u001b[0mrender\u001b[0m\u001b[0;34m(\u001b[0m\u001b[0mengine\u001b[0m\u001b[0;34m,\u001b[0m \u001b[0mtemplate\u001b[0m\u001b[0;34m,\u001b[0m \u001b[0mcontext\u001b[0m\u001b[0;34m)\u001b[0m\u001b[0;34m\u001b[0m\u001b[0;34m\u001b[0m\u001b[0m\n\u001b[1;32m    775\u001b[0m \u001b[0;34m\u001b[0m\u001b[0m\n",
      "\u001b[0;32m/usr/local/lib/python3.7/site-packages/pyNN/space.py\u001b[0m in \u001b[0;36mdescribe\u001b[0;34m(self, template, engine)\u001b[0m\n\u001b[1;32m    174\u001b[0m         \"\"\"\n\u001b[1;32m    175\u001b[0m         context = {'name': self.__class__.__name__,\n\u001b[0;32m--> 176\u001b[0;31m                    'parameters': self.get_parameters()}\n\u001b[0m\u001b[1;32m    177\u001b[0m         \u001b[0;32mreturn\u001b[0m \u001b[0mdescriptions\u001b[0m\u001b[0;34m.\u001b[0m\u001b[0mrender\u001b[0m\u001b[0;34m(\u001b[0m\u001b[0mengine\u001b[0m\u001b[0;34m,\u001b[0m \u001b[0mtemplate\u001b[0m\u001b[0;34m,\u001b[0m \u001b[0mcontext\u001b[0m\u001b[0;34m)\u001b[0m\u001b[0;34m\u001b[0m\u001b[0;34m\u001b[0m\u001b[0m\n\u001b[1;32m    178\u001b[0m \u001b[0;34m\u001b[0m\u001b[0m\n",
      "\u001b[0;32m/usr/local/lib/python3.7/site-packages/pyNN/space.py\u001b[0m in \u001b[0;36mget_parameters\u001b[0;34m(self)\u001b[0m\n\u001b[1;32m    160\u001b[0m         \u001b[0mP\u001b[0m \u001b[0;34m=\u001b[0m \u001b[0;34m{\u001b[0m\u001b[0;34m}\u001b[0m\u001b[0;34m\u001b[0m\u001b[0;34m\u001b[0m\u001b[0m\n\u001b[1;32m    161\u001b[0m         \u001b[0;32mfor\u001b[0m \u001b[0mname\u001b[0m \u001b[0;32min\u001b[0m \u001b[0mself\u001b[0m\u001b[0;34m.\u001b[0m\u001b[0mparameter_names\u001b[0m\u001b[0;34m:\u001b[0m\u001b[0;34m\u001b[0m\u001b[0;34m\u001b[0m\u001b[0m\n\u001b[0;32m--> 162\u001b[0;31m             \u001b[0mP\u001b[0m\u001b[0;34m[\u001b[0m\u001b[0mname\u001b[0m\u001b[0;34m]\u001b[0m \u001b[0;34m=\u001b[0m \u001b[0mgetattr\u001b[0m\u001b[0;34m(\u001b[0m\u001b[0mself\u001b[0m\u001b[0;34m,\u001b[0m \u001b[0mname\u001b[0m\u001b[0;34m)\u001b[0m\u001b[0;34m\u001b[0m\u001b[0;34m\u001b[0m\u001b[0m\n\u001b[0m\u001b[1;32m    163\u001b[0m         \u001b[0;32mreturn\u001b[0m \u001b[0mP\u001b[0m\u001b[0;34m\u001b[0m\u001b[0;34m\u001b[0m\u001b[0m\n\u001b[1;32m    164\u001b[0m \u001b[0;34m\u001b[0m\u001b[0m\n",
      "\u001b[0;31mAttributeError\u001b[0m: 'MyStructure' object has no attribute 'r'"
     ]
    }
   ],
   "source": [
    "stdp_weight_init = .1\n",
    "stdp_max_w = 2 * stdp_weight_init\n",
    "normal_weights = stdp_weight_init\n",
    "\n",
    "delays = rnd('normal_clipped', mu=3, sigma=5, low=0.1,\n",
    "             high=5,\n",
    "             rng=rng)\n",
    "\n",
    "# la stdp normale\n",
    "causal_hebian_timing_dependence = sim.SpikePairRule(tau_plus=30., tau_minus=30.,\n",
    "                                                    A_plus=.025, A_minus=.025)\n",
    "# la stdp à l'envers\n",
    "anticausal_hebian_timing_dependence = sim.SpikePairRule(tau_plus=30., tau_minus=30.,\n",
    "                                                        A_plus=-.025, A_minus=-.025)\n",
    "# la symétrique positive\n",
    "causal_sym_timing_dependence = sim.SpikePairRule(tau_plus=30., tau_minus=30.,\n",
    "                                                 A_plus=.025, A_minus=-.025)\n",
    "# la symétrique négative\n",
    "anticausal_sym_timing_dependence = sim.SpikePairRule(tau_plus=30., tau_minus=30.,\n",
    "                                                     A_plus=-.025, A_minus=.025)\n",
    "\n",
    "\n",
    "sim.setup(timestep=.1, threads=8)\n",
    "exc = sim.Population(n_pop, sim.IF_cond_exp(**neuron_parameters),\n",
    "                     initial_values={\"v\": neuron_parameters[\"v_reset\"]},\n",
    "                     structure=MyStructure(radius=1),\n",
    "                     label=\"Neurones Exictateurs\")\n",
    "\n",
    "inh = sim.Population(n_pop, sim.IF_cond_exp(**neuron_parameters),\n",
    "                     initial_values={\"v\": neuron_parameters[\"v_reset\"]},\n",
    "                     structure=MyStructure(radius=1),\n",
    "                     label=\"Neurones Inhibiteurs\")\n",
    "\n",
    "input_pop = sim.Population(n_pop,\n",
    "                           sim.SpikeSourcePoisson(\n",
    "                               rate=1500, duration=simtime, start=0),\n",
    "                           label=\"Entree Orientation\")\n",
    "noise_pop = sim.Population(n_pop,\n",
    "                           sim.SpikeSourcePoisson(\n",
    "                               rate=5, duration=simtime, start=0),\n",
    "                           label=\"Entree Orientation\")\n",
    "\n",
    "# INPUT STDP\n",
    "in_mult = 5\n",
    "in_causal_STDP_syn = sim.STDPMechanism(\n",
    "    timing_dependence=causal_hebian_timing_dependence,\n",
    "    weight_dependence=sim.MultiplicativeWeightDependence(\n",
    "        w_min=0, w_max=in_mult*stdp_max_w),\n",
    "    weight=in_mult*stdp_weight_init,\n",
    "    delay=delays,\n",
    "    dendritic_delay_fraction=1.)\n",
    "in_anticausal_STDP_syn = sim.STDPMechanism(\n",
    "    timing_dependence=anticausal_hebian_timing_dependence,\n",
    "    weight_dependence=sim.MultiplicativeWeightDependence(\n",
    "        w_min=0, w_max=in_mult*stdp_max_w),\n",
    "    weight=in_mult*stdp_weight_init,\n",
    "    delay=delays,\n",
    "    dendritic_delay_fraction=1.)\n",
    "\n",
    "# CAUSAL STDP\n",
    "causal_STDP_syn = sim.STDPMechanism(\n",
    "    timing_dependence=causal_hebian_timing_dependence,\n",
    "    weight_dependence=sim.MultiplicativeWeightDependence(\n",
    "        w_min=0, w_max=stdp_max_w),\n",
    "    weight=stdp_weight_init,\n",
    "    delay=delays,\n",
    "    dendritic_delay_fraction=1.)\n",
    "\n",
    "# ANTICAUSAL STDP\n",
    "anticausal_STDP_syn = sim.STDPMechanism(\n",
    "    timing_dependence=anticausal_hebian_timing_dependence,\n",
    "    weight_dependence=sim.MultiplicativeWeightDependence(\n",
    "        w_min=0, w_max=stdp_max_w*2),\n",
    "    weight=stdp_weight_init*2,\n",
    "    delay=delays,\n",
    "    dendritic_delay_fraction=1.)\n",
    "inh_anticausal_STDP_syn = sim.STDPMechanism(\n",
    "    timing_dependence=anticausal_hebian_timing_dependence,\n",
    "    weight_dependence=sim.MultiplicativeWeightDependence(\n",
    "        w_min=0, w_max=-stdp_max_w*2),\n",
    "    weight=-stdp_weight_init*2,\n",
    "    delay=delays,\n",
    "    dendritic_delay_fraction=1.)\n",
    "\n",
    "# SYMETRIC POSITIVE STDP\n",
    "sim_plus_STDP_syn = sim.STDPMechanism(\n",
    "    timing_dependence=causal_sym_timing_dependence,\n",
    "    weight_dependence=sim.MultiplicativeWeightDependence(\n",
    "        w_min=0, w_max=stdp_max_w/2),\n",
    "    weight=stdp_weight_init/2,\n",
    "    delay=delays,\n",
    "    dendritic_delay_fraction=1.)\n",
    "inh_sim_plus_STDP_syn = sim.STDPMechanism(\n",
    "    timing_dependence=causal_sym_timing_dependence,\n",
    "    weight_dependence=sim.MultiplicativeWeightDependence(\n",
    "        w_min=0, w_max=-stdp_max_w),\n",
    "    weight=-stdp_weight_init,\n",
    "    delay=delays,\n",
    "    dendritic_delay_fraction=1.)\n",
    "\n",
    "# SYMETRIC NEGATIVE STDP\n",
    "sim_neg_STDP_syn = sim.STDPMechanism(\n",
    "    timing_dependence=anticausal_sym_timing_dependence,\n",
    "    weight_dependence=sim.MultiplicativeWeightDependence(\n",
    "        w_min=0, w_max=-stdp_max_w*5),\n",
    "    weight=-stdp_weight_init*5,\n",
    "    delay=delays,\n",
    "    dendritic_delay_fraction=1.)\n",
    "\n",
    "# Intras\n",
    "syn_exc_exc = sim.Projection(exc, exc,\n",
    "                             connector=sim.DistanceDependentProbabilityConnector(\"exp(-d)\",\n",
    "                                 allow_self_connections=False),\n",
    "                             synapse_type=sim_plus_STDP_syn)\n",
    "syn_inh_inh = sim.Projection(inh, inh,\n",
    "                             connector=sim.DistanceDependentProbabilityConnector(\"exp(-d)\",\n",
    "                                 allow_self_connections=False),\n",
    "                             synapse_type=inh_sim_plus_STDP_syn)\n",
    "\n",
    "# Inters\n",
    "syn_exc_inh = sim.Projection(exc, inh,\n",
    "                             connector=sim.AllToAllConnector(\n",
    "                                 allow_self_connections=False),\n",
    "                             synapse_type=causal_STDP_syn)\n",
    "syn_inh_exc = sim.Projection(inh, exc,\n",
    "                             connector=sim.AllToAllConnector(\n",
    "                                 allow_self_connections=False),\n",
    "                             synapse_type=inh_anticausal_STDP_syn)\n",
    "\n",
    "# Input\n",
    "syn_inp_exc = sim.Projection(input_pop, exc,\n",
    "                             connector=sim.OneToOneConnector(),\n",
    "                             synapse_type=in_causal_STDP_syn)\n",
    "syn_inp_inh = sim.Projection(input_pop, inh,\n",
    "                             connector=sim.OneToOneConnector(),\n",
    "                             synapse_type=in_anticausal_STDP_syn)\n",
    "\n",
    "'''# Noise\n",
    "syn_noise_exc = sim.Projection(noise_pop, exc,\n",
    "                             connector=sim.OneToOneConnector(),\n",
    "                             synapse_type=sim.StaticSynapse(\n",
    "                                 weight=1, delay=1))\n",
    "syn_noise_inh = sim.Projection(noise_pop, inh,\n",
    "                             connector=sim.OneToOneConnector(),\n",
    "                             synapse_type=sim.StaticSynapse(\n",
    "                                 weight=1, delay=1))'''\n",
    "\n",
    "\n",
    "def vary_angle(t):\n",
    "    '''\n",
    "    callback function that shifts the maximum angle\n",
    "    '''\n",
    "\n",
    "    n_pop = 60\n",
    "    shift = 40\n",
    "    noise = .3\n",
    "\n",
    "    angle = 1. * np.arange(n_pop)\n",
    "    rates = tuning_function(\n",
    "        angle, (t*shift)+(angle_input)/180.*n_pop, b_theta, rate_gain)\n",
    "    rates = (1-noise)*rates + noise * rate_gain\n",
    "\n",
    "    for i, cell in enumerate(input_pop):\n",
    "        cell.set_parameters(rate=rates[i])\n",
    "\n",
    "    return t + simtime/4\n",
    "\n",
    "\n",
    "exc.record('spikes')\n",
    "inh.record('spikes')\n",
    "input_pop.record('spikes')\n",
    "sim.run(simtime, callbacks=[vary_angle])\n",
    "sim.end()\n",
    "\n",
    "exc_data = exc.get_data().segments[0]\n",
    "inh_data = inh.get_data().segments[0]\n",
    "inp_data = input_pop.get_data().segments[0]\n",
    "\n",
    "fig = SuperPlotter(inp_data, exc_data, inh_data,\n",
    "                   60, simtime,\n",
    "                   title='Optimal network from parameters scanned',\n",
    "                   figsize=(14, 6)\n",
    "                   )\n",
    "# fit_plot(n_pop, exc_data)\n",
    "\n",
    "plt.show()\n",
    "\n",
    "# fig.savefig('./figs/2018_12_11_Optim_ring_shifts.pdf', format = 'pdf', dpi = 200)"
   ]
  },
  {
   "cell_type": "code",
   "execution_count": null,
   "metadata": {
    "ExecuteTime": {
     "end_time": "2018-12-24T12:51:23.352854Z",
     "start_time": "2018-12-24T12:51:22.962279Z"
    }
   },
   "outputs": [],
   "source": [
    "plt.hist(syn_inh_inh.get(\"weight\", format=\"list\",\n",
    "                         with_address=False), label='syn_inh_inh', alpha=.8)\n",
    "plt.hist(syn_exc_exc.get(\"weight\", format=\"list\",\n",
    "                         with_address=False), label='syn_exc_exc')\n",
    "plt.hist(syn_exc_inh.get(\"weight\", format=\"list\",\n",
    "                         with_address=False), label='syn_exc_inh')\n",
    "plt.hist(syn_inh_exc.get(\"weight\", format=\"list\",\n",
    "                         with_address=False), label='syn_inh_exc', alpha=.8)\n",
    "plt.legend()\n",
    "plt.show()"
   ]
  },
  {
   "cell_type": "code",
   "execution_count": null,
   "metadata": {
    "ExecuteTime": {
     "end_time": "2018-12-24T12:51:23.486725Z",
     "start_time": "2018-12-24T12:51:23.354436Z"
    }
   },
   "outputs": [],
   "source": [
    "plt.plot(syn_inh_inh.get(\"weight\", format=\"list\",\n",
    "                         with_address=False), '.b', label='syn_inh_inh')"
   ]
  },
  {
   "cell_type": "code",
   "execution_count": null,
   "metadata": {
    "ExecuteTime": {
     "end_time": "2018-12-24T12:51:23.635553Z",
     "start_time": "2018-12-24T12:51:23.488253Z"
    }
   },
   "outputs": [],
   "source": [
    "plt.plot(syn_exc_exc.get(\"weight\", format=\"list\",\n",
    "                         with_address=False), '.b', label='syn_inh_inh')"
   ]
  },
  {
   "cell_type": "code",
   "execution_count": null,
   "metadata": {
    "ExecuteTime": {
     "end_time": "2018-12-24T12:54:33.696239Z",
     "start_time": "2018-12-24T12:54:33.212607Z"
    }
   },
   "outputs": [],
   "source": [
    "fig, axs = plt.subplots(1, 2, figsize=(15, 7))\n",
    "\n",
    "end_w = syn_exc_exc.get(\"weight\", format=\"list\", with_address=False)\n",
    "delta_w = np.asarray(end_w) - stdp_weight_init\n",
    "\n",
    "counts_null = 0\n",
    "for weights in end_w:\n",
    "    if weights == 0:\n",
    "        counts_null += 1\n",
    "sparseness = (1 - (counts_null/len(end_w))) * 100\n",
    "\n",
    "axs[0].plot(delta_w, '.r', markersize=5)\n",
    "axs[0].axhline(0, c='k', linestyle='--')\n",
    "axs[0].set_xlabel('nbr synapses (!= nbr neurones)')\n",
    "axs[0].set_ylabel(\n",
    "    '$\\Delta_w$\\n Depression    ---    Potentialisation', fontsize=12)\n",
    "axs[0].set_title(\n",
    "    'Plasticité intras des neurones excitateurs\\n Sparseness = %.2f %%' % sparseness)\n",
    "\n",
    "\n",
    "end_w = syn_exc_inh.get(\"weight\", format=\"list\", with_address=False)\n",
    "delta_w = np.asarray(end_w) - stdp_weight_init\n",
    "\n",
    "counts_null = 0\n",
    "for weights in end_w:\n",
    "    if weights == 0:\n",
    "        counts_null += 1\n",
    "sparseness = (1 - (counts_null/len(end_w))) * 100\n",
    "\n",
    "axs[1].plot(delta_w, '.g', markersize=5)\n",
    "axs[1].axhline(0, c='k', linestyle='--')\n",
    "plt.xlabel('nbr synapses (!= nbr neurones)')\n",
    "plt.title('Plasticité inter des neurones excitateurs à inhibiteurs\\n Sparseness = %.2f %%' % sparseness)\n",
    "plt.show()\n",
    "plt.pause(.1)"
   ]
  }
 ],
 "metadata": {
  "kernelspec": {
   "display_name": "Python 3",
   "language": "python",
   "name": "python3"
  },
  "language_info": {
   "codemirror_mode": {
    "name": "ipython",
    "version": 3
   },
   "file_extension": ".py",
   "mimetype": "text/x-python",
   "name": "python",
   "nbconvert_exporter": "python",
   "pygments_lexer": "ipython3",
   "version": "3.7.1"
  }
 },
 "nbformat": 4,
 "nbformat_minor": 2
}
