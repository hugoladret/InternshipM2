{
 "cells": [
  {
   "cell_type": "code",
   "execution_count": 1,
   "metadata": {
    "ExecuteTime": {
     "end_time": "2018-11-27T10:02:52.466780Z",
     "start_time": "2018-11-27T10:02:52.091563Z"
    }
   },
   "outputs": [],
   "source": [
    "%load_ext autoreload\n",
    "%autoreload 2\n",
    "%matplotlib inline"
   ]
  },
  {
   "cell_type": "markdown",
   "metadata": {},
   "source": [
    "# 2018-09-11_Getting started with BRIAN"
   ]
  },
  {
   "cell_type": "markdown",
   "metadata": {},
   "source": [
    "# 1/Neurons"
   ]
  },
  {
   "cell_type": "code",
   "execution_count": 2,
   "metadata": {
    "ExecuteTime": {
     "end_time": "2018-11-27T10:02:54.987267Z",
     "start_time": "2018-11-27T10:02:52.468348Z"
    }
   },
   "outputs": [
    {
     "ename": "ModuleNotFoundError",
     "evalue": "No module named 'brian2'",
     "output_type": "error",
     "traceback": [
      "\u001b[0;31m---------------------------------------------------------------------------\u001b[0m",
      "\u001b[0;31mModuleNotFoundError\u001b[0m                       Traceback (most recent call last)",
      "\u001b[0;32m<ipython-input-2-0662cb4848fc>\u001b[0m in \u001b[0;36m<module>\u001b[0;34m()\u001b[0m\n\u001b[0;32m----> 1\u001b[0;31m \u001b[0;32mfrom\u001b[0m \u001b[0mbrian2\u001b[0m \u001b[0;32mimport\u001b[0m \u001b[0;34m*\u001b[0m\u001b[0;34m\u001b[0m\u001b[0m\n\u001b[0m",
      "\u001b[0;31mModuleNotFoundError\u001b[0m: No module named 'brian2'"
     ]
    }
   ],
   "source": [
    "from brian2 import *"
   ]
  },
  {
   "cell_type": "code",
   "execution_count": null,
   "metadata": {
    "ExecuteTime": {
     "end_time": "2018-11-27T10:02:55.004181Z",
     "start_time": "2018-11-27T10:02:54.988945Z"
    }
   },
   "outputs": [],
   "source": [
    "#units demo\n",
    "#micro from shortcuts\n",
    "print(-60e-3*volt)\n",
    "print(-60*mvolt)\n",
    "print(120*amp)\n",
    "print(120*mamp)\n",
    "#type multiplication\n",
    "print(120*mamp*60*ohm)"
   ]
  },
  {
   "cell_type": "markdown",
   "metadata": {},
   "source": [
    "## Equation demos"
   ]
  },
  {
   "cell_type": "code",
   "execution_count": null,
   "metadata": {
    "ExecuteTime": {
     "end_time": "2018-11-27T10:02:58.567764Z",
     "start_time": "2018-11-27T10:02:55.005865Z"
    }
   },
   "outputs": [],
   "source": [
    "#clean previous variables\n",
    "start_scope()\n",
    "\n",
    "#simple neuron\n",
    "tau = 10*ms\n",
    "\n",
    "equations = '''\n",
    "dv/dt = (1-v)/tau : 1\n",
    "'''\n",
    "\n",
    "#a group of one neuron using the previous equation\n",
    "pop = NeuronGroup(1, equations, method='exact')\n",
    "monitor = StateMonitor(pop, 'v', record = True)\n",
    "\n",
    "#run the sim\n",
    "run(50*ms)\n",
    "\n",
    "#plot the sim\n",
    "plot(monitor.t/ms, monitor.v[0])\n",
    "xlabel('Time in ms')\n",
    "ylabel('Voltage of neuron')"
   ]
  },
  {
   "cell_type": "code",
   "execution_count": null,
   "metadata": {
    "ExecuteTime": {
     "end_time": "2018-11-27T10:03:01.242114Z",
     "start_time": "2018-11-27T10:02:58.569561Z"
    }
   },
   "outputs": [],
   "source": [
    "#oscillating behavior\n",
    "start_scope()\n",
    "\n",
    "tau = 10*ms\n",
    "equations = '''\n",
    "dv/dt = (sin(2*pi*250*Hz*t)-v)/tau : 1\n",
    "'''\n",
    "\n",
    "pop = NeuronGroup(1, equations, method = 'euler')\n",
    "monitor = StateMonitor(pop, 'v', record = True)\n",
    "\n",
    "#init\n",
    "pop.v = 2\n",
    "\n",
    "run(100*ms)\n",
    "\n",
    "plot(monitor.t/ms, monitor.v[0])\n",
    "xlabel('Time in ms')\n",
    "ylabel('Voltage of neuron')"
   ]
  },
  {
   "cell_type": "markdown",
   "metadata": {},
   "source": [
    "## Spiking demos"
   ]
  },
  {
   "cell_type": "code",
   "execution_count": null,
   "metadata": {
    "ExecuteTime": {
     "end_time": "2018-11-27T10:03:08.686737Z",
     "start_time": "2018-11-27T10:03:01.244541Z"
    }
   },
   "outputs": [],
   "source": [
    "#with spikes, much slower than a simple equation when the neuron has to behave too\n",
    "\n",
    "start_scope()\n",
    "\n",
    "tau = 20*ms\n",
    "equations = '''\n",
    "dv/dt = (1-v)/tau : 1\n",
    "'''\n",
    "\n",
    "pop = NeuronGroup(1, equations, threshold='v>.8', reset = 'v = 0', method = 'euler')\n",
    "monitor = StateMonitor(pop, 'v', record = True)\n",
    "spikemonitor = SpikeMonitor(pop)\n",
    "\n",
    "pop.v = .5\n",
    "\n",
    "run(100*ms)\n",
    "\n",
    "plot(monitor.t/ms, monitor.v[0], label = 'voltage variation')\n",
    "for spikes in spikemonitor.t :\n",
    "    axvline(spikes/ms, ls = '-.',color = 'red', label = 'spike')\n",
    "xlabel('Time in ms')\n",
    "ylabel('Voltage of neuron')\n",
    "\n",
    "print('Spikes at : %s' % spikemonitor.t[:])"
   ]
  },
  {
   "cell_type": "code",
   "execution_count": null,
   "metadata": {
    "ExecuteTime": {
     "end_time": "2018-11-27T10:03:17.736153Z",
     "start_time": "2018-11-27T10:03:08.688398Z"
    }
   },
   "outputs": [],
   "source": [
    "#with spikes and refraction after firing (dont forget to mention it in the equations)\n",
    "\n",
    "start_scope()\n",
    "\n",
    "tau = 20*ms\n",
    "equations = '''\n",
    "dv/dt = (1-v)/tau : 1 (unless refractory)\n",
    "'''\n",
    "\n",
    "pop = NeuronGroup(1, equations, threshold='v>.8', refractory=10*ms, reset = 'v = 0', method = 'euler')\n",
    "monitor = StateMonitor(pop, 'v', record = True)\n",
    "spikemonitor = SpikeMonitor(pop)\n",
    "\n",
    "pop.v = .5\n",
    "\n",
    "run(100*ms)\n",
    "\n",
    "plot(monitor.t/ms, monitor.v[0], label = 'voltage variation')\n",
    "for spikes in spikemonitor.t :\n",
    "    axvline(spikes/ms, ls = '-.',color = 'red', label = 'spike')\n",
    "xlabel('Time in ms')\n",
    "ylabel('Voltage of neuron')\n",
    "\n",
    "print('Spikes at : %s' % spikemonitor.t[:])"
   ]
  },
  {
   "cell_type": "code",
   "execution_count": null,
   "metadata": {
    "ExecuteTime": {
     "end_time": "2018-11-27T10:03:22.678413Z",
     "start_time": "2018-11-27T10:03:17.738188Z"
    }
   },
   "outputs": [],
   "source": [
    "#spiking behavior of a group of neuron during time\n",
    "#rasterplot is the word I was looking for\n",
    "\n",
    "#with spikes and refraction after firing (dont forget to mention it in the equations)\n",
    "start_scope()\n",
    "\n",
    "N=30\n",
    "tau = 10*ms\n",
    "equations = '''\n",
    "dv/dt = (1-v)/tau : 1 (unless refractory)\n",
    "'''\n",
    "\n",
    "pop = NeuronGroup(N, equations, threshold='v>.8', refractory=5*ms, reset = 'v = 0', method = 'euler')\n",
    "monitor = StateMonitor(pop, 'v', record = True)\n",
    "spikemonitor = SpikeMonitor(pop)\n",
    "\n",
    "pop.v = 'rand()' #otherwise it's too uniform\n",
    "\n",
    "run(100*ms)\n",
    "\n",
    "plot(spikemonitor.t/ms, spikemonitor.i, '.k') #.k otherwise it's a line plot\n",
    "\n",
    "xlabel('Time in ms')\n",
    "ylabel('Neuron index')\n",
    "\n",
    "print('Spikes at : %s' % spikemonitor.t[:])"
   ]
  },
  {
   "cell_type": "markdown",
   "metadata": {},
   "source": [
    "## Neuron-wise parameters demo"
   ]
  },
  {
   "cell_type": "code",
   "execution_count": null,
   "metadata": {
    "ExecuteTime": {
     "end_time": "2018-11-27T10:03:24.454777Z",
     "start_time": "2018-11-27T10:03:22.680324Z"
    }
   },
   "outputs": [],
   "source": [
    "#without noise\n",
    "start_scope()\n",
    "\n",
    "N = 30\n",
    "tau = 10*ms\n",
    "v0_max = 3.\n",
    "\n",
    "#v0 is a per neuron parameter with unit one (dimensionless)\n",
    "equations = '''\n",
    "dv/dt = (v0-v)/tau : 1 (unless refractory)\n",
    "v0 : 1 \n",
    "'''\n",
    "\n",
    "population = NeuronGroup(N, equations,\n",
    "                         threshold = 'v>.8', reset = 'v=0', refractory = 2*ms, method = 'exact')\n",
    "spikemonitor = SpikeMonitor(population)\n",
    "\n",
    "#each neuron's v0 is then initialised to a value between 0 to v_max (i is the index)\n",
    "#the greater the index the greater v0, the greater the firing rate\n",
    "population.v0 = 'i*v0_max/(N-1)'\n",
    "\n",
    "run(100*ms)\n",
    "\n",
    "figure(figsize = (15,8))\n",
    "subplot(121)\n",
    "plot(spikemonitor.t/ms, spikemonitor.i, '.k')\n",
    "xlabel('Time in ms')\n",
    "ylabel('Neuron index')\n",
    "title('Raster plot of the population')\n",
    "subplot(122)\n",
    "plot(population.v0, spikemonitor.count/100*ms) #spikemonitor.count is an array of the number of spikes per neuron\n",
    "xlabel('v0')\n",
    "ylabel('Firing rate')\n",
    "title('Input vs Firing rate (If curve)')"
   ]
  },
  {
   "cell_type": "code",
   "execution_count": null,
   "metadata": {
    "ExecuteTime": {
     "end_time": "2018-11-27T10:03:33.966149Z",
     "start_time": "2018-11-27T10:03:24.456716Z"
    }
   },
   "outputs": [],
   "source": [
    "#with noise, using xi\n",
    "start_scope()\n",
    "\n",
    "N = 30\n",
    "tau = 10*ms\n",
    "v0_max = 3.\n",
    "sigma = .2\n",
    "\n",
    "#v0 is a per neuron parameter with unit one (dimensionless)\n",
    "equations = '''\n",
    "dv/dt = (v0-v)/tau+sigma*xi*tau**-.5 : 1 (unless refractory)\n",
    "v0 : 1 \n",
    "'''\n",
    "\n",
    "population = NeuronGroup(N, equations,\n",
    "                         threshold = 'v>.8', reset = 'v=0', refractory = 5*ms, method = 'euler')\n",
    "spikemonitor = SpikeMonitor(population)\n",
    "\n",
    "#each neuron's v0 is then initialised to a value between 0 to v_max (i is the index)\n",
    "#the greater the index the greater v0, the greater the firing rate\n",
    "population.v0 = 'i*v0_max/(N-1)'\n",
    "\n",
    "run(1000*ms)\n",
    "\n",
    "figure(figsize = (15,8))\n",
    "subplot(121)\n",
    "plot(spikemonitor.t/ms, spikemonitor.i, '.k')\n",
    "xlabel('Time in ms')\n",
    "ylabel('Neuron index')\n",
    "title('Raster plot of the population')\n",
    "subplot(122)\n",
    "plot(population.v0, spikemonitor.count/1000*ms) #spikemonitor.count is an array of the number of spikes per neuron\n",
    "xlabel('v0')\n",
    "ylabel('Firing rate')\n",
    "title('Input vs Firing rate (If curve)')"
   ]
  },
  {
   "cell_type": "markdown",
   "metadata": {},
   "source": [
    "## End of the Neuron tutorial"
   ]
  },
  {
   "cell_type": "code",
   "execution_count": null,
   "metadata": {
    "ExecuteTime": {
     "end_time": "2018-11-27T10:03:34.005209Z",
     "start_time": "2018-11-27T10:03:33.968097Z"
    }
   },
   "outputs": [],
   "source": [
    "import random \n",
    "\n",
    "#with equations to describe behavior instead of a fixed limit\n",
    "start_scope()\n",
    "\n",
    "N=30\n",
    "tau = 10*ms\n",
    "resting_potential = -65*mV\n",
    "\n",
    "firing_threshold = -50*mV\n",
    "delta_vt0 = 5*mV\n",
    "\n",
    "tau_t = 10*ms\n",
    "sigma = 0.5*(firing_threshold-resting_potential)\n",
    "v_drive = 2*(firing_threshold-resting_potential)\n",
    "\n",
    "duration = 50*ms\n",
    "random_index = random.randint(0,N)-1\n",
    "equations = '''\n",
    "dv/dt = (v_drive+resting_potential-v)/tau + sigma*xi*tau**-.5 : volt\n",
    "dvt/dt = (firing_threshold-vt)/tau_t : volt\n",
    "'''\n",
    "\n",
    "reset = '''\n",
    "v = resting_potential\n",
    "vt += delta_vt0\n",
    "'''\n",
    "\n",
    "#notice the string casting from the reset equation into the treshold one just below\n",
    "population = NeuronGroup(N, equations, threshold = 'v>vt', reset = reset, refractory = 5*ms, method = 'euler') \n",
    "spikemonitor = SpikeMonitor(population)\n",
    "\n",
    "monitor = StateMonitor(population, 'v', record = random_index)\n",
    "\n",
    "population.v = 'rand()*(firing_threshold-resting_potential)+resting_potential'\n",
    "population.vt = vt0\n",
    "\n",
    "run(duration)\n",
    "\n",
    "figure(figsize=(15,8))\n",
    "subplot(121)\n",
    "__ = hist(spikemonitor.t/ms, 100, histtype='stepfilled', facecolor = 'k',\n",
    "        weights = ones(len(spikemonitor))/(N*defaultclock.dt))\n",
    "xlabel('Time in ms')\n",
    "ylabel('Total firing rate sps/s')\n",
    "title('Population FR over time')\n",
    "\n",
    "subplot(122)\n",
    "\n",
    "plot(monitor.t/ms, monitor.v[0])\n",
    "#we get only the spiketimes for the recorded neuron using monitor.spike_trains() dictionnary\n",
    "for spikes in spikemonitor.spike_trains()[random_index]:\n",
    "    axvline(spikes/ms, ls = '-.',color = 'red', label = 'spike')\n",
    "axhline(-50e-3, color = 'orange', label = 'Firing Threshold')\n",
    "xlabel('Time in ms')\n",
    "ylabel('Voltage')\n",
    "legend()\n",
    "title('Voltage variation from one random neuron')"
   ]
  },
  {
   "cell_type": "markdown",
   "metadata": {},
   "source": [
    "# 2/ Synapses"
   ]
  },
  {
   "cell_type": "code",
   "execution_count": null,
   "metadata": {
    "ExecuteTime": {
     "end_time": "2018-11-27T10:03:51.818034Z",
     "start_time": "2018-11-27T10:03:51.790240Z"
    }
   },
   "outputs": [],
   "source": [
    "from brian2 import *"
   ]
  },
  {
   "cell_type": "code",
   "execution_count": null,
   "metadata": {
    "ExecuteTime": {
     "end_time": "2018-11-27T10:04:05.252665Z",
     "start_time": "2018-11-27T10:03:52.498340Z"
    }
   },
   "outputs": [],
   "source": [
    "#previously neuron were synchronized by system variable, now we'll use synapses\n",
    "#god it's slow\n",
    "start_scope()\n",
    "\n",
    "equations = '''\n",
    "dv/dt = (I-v)/tau : 1\n",
    "I : 1\n",
    "tau : second\n",
    "'''\n",
    "\n",
    "population = NeuronGroup(2, equations, threshold = 'v>1', reset = 'v=0', method = 'euler')\n",
    "\n",
    "#neuron one spikes fairly fast but neuron two won't spike on its own\n",
    "population.I = [2,0]\n",
    "population.tau = [10, 100]*ms\n",
    "\n",
    "#when the spike occurs on_pre neuron, the post synaptic neuron gains .2V (this is a shomewhat weight)\n",
    "synapses = Synapses(population, population, on_pre = 'v_post += .2',\n",
    "                   delay = 5*ms)\n",
    "\n",
    "#0 and 1 are ID, not weights\n",
    "synapses.connect(i=0, j=1)\n",
    "\n",
    "monitor = StateMonitor(population, 'v', record = True)\n",
    "\n",
    "run(100*ms)\n",
    "\n",
    "figure(figsize=(12,8))\n",
    "plot(monitor.t/ms, monitor.v[0], label = 'Neuron 1')\n",
    "plot(monitor.t/ms, monitor.v[1], label = 'Neuron 2')\n",
    "\n",
    "axvline(6.8, color = 'black', label = 'Synaptic cleft delay')\n",
    "axvline(11.8, color = 'black')\n",
    "\n",
    "xlabel('Time in ms')\n",
    "ylabel('Voltage')\n",
    "legend()"
   ]
  },
  {
   "cell_type": "code",
   "execution_count": null,
   "metadata": {
    "ExecuteTime": {
     "end_time": "2018-11-27T10:04:16.719820Z",
     "start_time": "2018-11-27T10:04:05.254288Z"
    }
   },
   "outputs": [],
   "source": [
    "#with dynamic synapse weight\n",
    "#toy example where the ID of a synapse increase its threshold as well as its delay\n",
    "start_scope()\n",
    "\n",
    "equations = '''\n",
    "dv/dt = (I-v)/tau : 1\n",
    "I : 1\n",
    "tau : second\n",
    "'''\n",
    "\n",
    "population = NeuronGroup(3, equations, threshold = 'v>1', reset = 'v=0', method = 'euler')\n",
    "\n",
    "#three neurons, only the first one spikes\n",
    "population.I = [2,0,0]\n",
    "population.tau = [10, 100, 100]*ms\n",
    "\n",
    "#when the spike occurs on_pre neuron, the post synaptic neuron gains .2V (this is a shomewhat weight)\n",
    "synapses = Synapses(population, population, 'w : 1', on_pre = 'v_post += w')\n",
    "\n",
    "#0 and 1 are ID, not weights\n",
    "synapses.connect(i=0, j=[1,2])\n",
    "synapses.w = 'j*.2'\n",
    "synapses.delay = 'j*.2*ms' #don't forget the ms\n",
    "\n",
    "monitor = StateMonitor(population, 'v', record = True)\n",
    "\n",
    "run(100*ms)\n",
    "\n",
    "figure(figsize=(12,8))\n",
    "plot(monitor.t/ms, monitor.v[0], label = 'Neuron 1')\n",
    "plot(monitor.t/ms, monitor.v[1], label = 'Neuron 2')\n",
    "plot(monitor.t/ms, monitor.v[2], label = 'Neuron 3')\n",
    "\n",
    "'''\n",
    "axvline(6.8, color = 'black', label = 'Synaptic cleft delay')\n",
    "axvline(11.8, color = 'black')\n",
    "'''\n",
    "\n",
    "xlabel('Time in ms')\n",
    "ylabel('Voltage')\n",
    "legend()"
   ]
  },
  {
   "cell_type": "code",
   "execution_count": null,
   "metadata": {
    "ExecuteTime": {
     "end_time": "2018-11-27T10:04:41.563789Z",
     "start_time": "2018-11-27T10:04:16.721547Z"
    }
   },
   "outputs": [],
   "source": [
    "#probabilistic connectivity\n",
    "# connects i with j as long as it's not a neuron-neuron autapse, with a probability of .2\n",
    "    \n",
    "#cool fonction from the demo\n",
    "def visualise_connectivity(S):\n",
    "    Ns = len(S.source)\n",
    "    Nt = len(S.target)\n",
    "    \n",
    "    figure(figsize=(10, 4))\n",
    "    subplot(121)\n",
    "    plot(zeros(Ns), arange(Ns), 'ok', ms=10, color = 'blue') #pre\n",
    "    plot(ones(Nt), arange(Nt), 'ok', ms=10, color = 'red') #post\n",
    "    for i, j in zip(S.i, S.j): #line plotting from pre to post\n",
    "        plot([0, 1], [i, j], '-k')\n",
    "    #graphicals\n",
    "    xticks([0, 1], ['Source', 'Target'])\n",
    "    ylabel('Neuron index')\n",
    "    xlim(-0.1, 1.1)\n",
    "    ylim(-1, max(Ns, Nt))\n",
    "    \n",
    "    subplot(122)\n",
    "    plot(S.i, S.j, 'ok')\n",
    "    xlim(-1, Ns)\n",
    "    ylim(-1, Nt)\n",
    "    xlabel('Source neuron index')\n",
    "    ylabel('Target neuron index')\n",
    "\n",
    "start_scope()\n",
    "N=10\n",
    "pop = NeuronGroup(N, 'v:1')\n",
    "\n",
    "for probas in [0.1, .2, .5, .7, 1] :\n",
    "    syn = Synapses(pop, pop)\n",
    "    syn.connect(condition ='i!=j', p = probas)\n",
    "    visualise_connectivity(syn)"
   ]
  },
  {
   "cell_type": "code",
   "execution_count": null,
   "metadata": {
    "ExecuteTime": {
     "end_time": "2018-11-27T10:04:46.290253Z",
     "start_time": "2018-11-27T10:04:41.565570Z"
    }
   },
   "outputs": [],
   "source": [
    "#neighbouring connectivity, iaoi neurons are 4 units close and excluding autapses\n",
    "\n",
    "start_scope()\n",
    "N=10\n",
    "pop = NeuronGroup(N, 'v : 1')\n",
    "syn = Synapses(pop, pop)\n",
    "syn.connect(condition='abs(i-j)<4 and i!=j', skip_if_invalid = True)\n",
    "visualise_connectivity(syn)"
   ]
  },
  {
   "cell_type": "code",
   "execution_count": null,
   "metadata": {
    "ExecuteTime": {
     "end_time": "2018-11-27T10:04:54.808284Z",
     "start_time": "2018-11-27T10:04:46.292658Z"
    }
   },
   "outputs": [],
   "source": [
    "#stop ! STDP time\n",
    "\n",
    "import warnings\n",
    "warnings.filterwarnings(\"ignore\") #diss useless dot product deperecation vars\n",
    "\n",
    "start_scope()\n",
    "\n",
    "tau_pre = tau_post = 20*ms\n",
    "wmax = 0.01\n",
    "\n",
    "#traces of the synaptic activity\n",
    "Apre = 0.01 \n",
    "Apost = -Apre*tau_pre/tau_post*1.05\n",
    "\n",
    "pop = NeuronGroup(2, 'v:1', threshold='t>(1+i)*10*ms', refractory = 100*ms, method='exact')\n",
    "\n",
    "'''Three dynamic variables, w, onpre, onpost\n",
    "Here we use clock driven updates but we could use\n",
    "event driven meaning the variable is only updated after a spike (otherwise it's not efficient)\n",
    "on_pre : first line updates the weight, second line updates the synaptic activity, third lines clips the weight\n",
    "on_post : same as on_pre but doesn't update synaptic weight\n",
    "'''\n",
    "syn = Synapses(pop, pop,\n",
    "              '''\n",
    "              w : 1\n",
    "              dapre/dt = -apre/tau_pre : 1 (clock-driven)\n",
    "              dapost/dt = -apost/tau_post : 1 (clock-driven)\n",
    "              ''',\n",
    "              on_pre='''\n",
    "              v_post +=w\n",
    "              apre += Apre\n",
    "              w = clip(w+apost, 0, wmax)\n",
    "              ''',\n",
    "              on_post='''\n",
    "              apost+=Apost\n",
    "              w=clip(w+apre, 0, wmax)\n",
    "              ''',\n",
    "                method='exact')\n",
    "syn.connect(i=0, j=1)\n",
    "monitor = StateMonitor(syn, ['w', 'apre', 'apost'], record = True)\n",
    "\n",
    "run(30*ms)\n",
    "\n",
    "figure(figsize=(12,8))\n",
    "subplot(121)\n",
    "plot(monitor.t/ms, monitor.apre[0], label = 'Presyn activity')\n",
    "plot(monitor.t/ms, monitor.apost[0], label = 'Postsyn activity')\n",
    "legend()\n",
    "subplot(122)\n",
    "plot(monitor.t/ms, monitor.w[0], label = 'Weight')"
   ]
  },
  {
   "cell_type": "markdown",
   "metadata": {},
   "source": [
    "# 3/ Simulation"
   ]
  },
  {
   "cell_type": "code",
   "execution_count": null,
   "metadata": {
    "ExecuteTime": {
     "end_time": "2018-11-27T10:05:09.557291Z",
     "start_time": "2018-11-27T10:04:54.810291Z"
    }
   },
   "outputs": [],
   "source": [
    "# an example of poisson neurons spiking to a leaky fire and integrate neuron\n",
    "# how does the firing rate of this neuron varies depending on its time constant tau ?\n",
    "#we'll use the store and restore to save up computation time, which can also be a good idea for training/testing\n",
    "\n",
    "start_scope()\n",
    "\n",
    "num_inputs = 100\n",
    "input_rate = 10 * Hz\n",
    "weight = .1\n",
    "\n",
    "tau_range = linspace(1,10, 30)*ms\n",
    "output_rates = []\n",
    "\n",
    "poisson_pop = PoissonGroup(num_inputs, rates = input_rate)\n",
    "\n",
    "equations = '''\n",
    "dv/dt = -v/tau : 1\n",
    "'''\n",
    "population = NeuronGroup(1, equations, threshold ='v>1', reset = 'v=0', method = 'exact')\n",
    "syn = Synapses(poisson_pop, population, on_pre ='v+=weight')\n",
    "syn.connect()\n",
    "\n",
    "spikemonitor = SpikeMonitor(population)\n",
    "store() #we can save the state of the network and use a restore loop to save computation time\n",
    "\n",
    "for tau in tau_range :\n",
    "    restore() #here we go\n",
    "    run(300*ms)\n",
    "    output_rates.append(spikemonitor.num_spikes/second)\n",
    "    \n",
    "plot(tau_range/ms, output_rates)\n",
    "xlabel('Time constant Tau')\n",
    "ylabel('Firing rate avg over 300 ms')"
   ]
  },
  {
   "cell_type": "code",
   "execution_count": null,
   "metadata": {
    "ExecuteTime": {
     "end_time": "2018-11-27T10:05:18.618740Z",
     "start_time": "2018-11-27T10:05:09.559326Z"
    }
   },
   "outputs": [],
   "source": [
    "#dynamic variable change for a HH neuron, we'll change the amplitude of a current injected\n",
    "#will be interesting for delay learnings \n",
    "#we could also do neat tricks to change ion concentrations\n",
    "# VERSION WORKING ON STANDALONE C++ CODE\n",
    "\n",
    "start_scope()\n",
    "# Parameters\n",
    "area = 20000*umetre**2\n",
    "Cm = 1*ufarad*cm**-2 * area\n",
    "gl = 5e-5*siemens*cm**-2 * area\n",
    "\n",
    "#electrochemical forces\n",
    "El = -65*mV\n",
    "EK = -90*mV\n",
    "ENa = 50*mV\n",
    "\n",
    "#chemical gradients\n",
    "g_na = 100*msiemens*cm**-2 * area\n",
    "g_kd = 30*msiemens*cm**-2 * area\n",
    "VT = -63*mV\n",
    "\n",
    "# The Nobel-worth equations\n",
    "eqs_HH = '''\n",
    "dv/dt = (gl*(El-v) - g_na*(m*m*m)*h*(v-ENa) - g_kd*(n*n*n*n)*(v-EK) + I)/Cm : volt\n",
    "dm/dt = 0.32*(mV**-1)*(13.*mV-v+VT)/\n",
    "    (exp((13.*mV-v+VT)/(4.*mV))-1.)/ms*(1-m)-0.28*(mV**-1)*(v-VT-40.*mV)/\n",
    "    (exp((v-VT-40.*mV)/(5.*mV))-1.)/ms*m : 1\n",
    "dn/dt = 0.032*(mV**-1)*(15.*mV-v+VT)/\n",
    "    (exp((15.*mV-v+VT)/(5.*mV))-1.)/ms*(1.-n)-.5*exp((10.*mV-v+VT)/(40.*mV))/ms*n : 1\n",
    "dh/dt = 0.128*exp((17.*mV-v+VT)/(18.*mV))/ms*(1.-h)-4./(1+exp((40.*mV-v+VT)/(5.*mV)))/ms*h : 1\n",
    "I : amp\n",
    "'''\n",
    "group = NeuronGroup(1, eqs_HH,\n",
    "                    threshold='v > -40*mV',\n",
    "                    refractory='v > -40*mV',\n",
    "                    method='exponential_euler')\n",
    "group.v = El #init voltage at resting potential\n",
    "\n",
    "statemon = StateMonitor(group, 'v', record=True)\n",
    "spikemon = SpikeMonitor(group, variables='v')\n",
    "\n",
    "#instead of looping and changing the value of I with group.I, we can use group.run_regularly for massive speedups\n",
    "#the code has to be specific to the neurongroup /!/\n",
    "group.run_regularly('I = rand()*50*nA', dt = 10*ms)\n",
    "run(50*ms)\n",
    "\n",
    "figure(figsize=(12, 8))\n",
    "for l in range(5): #five runs\n",
    "    axvline(l*10, ls='--', c='k', label = 'Var change')\n",
    "    \n",
    "axhline(El/mV, ls='-', c='lightgray', lw=3, label = 'Resting Potential')\n",
    "\n",
    "plot(statemon.t/ms, statemon.v[0]/mV, '-b')\n",
    "plot(spikemon.t/ms, spikemon.v/mV, 'ob')\n",
    "xlabel('Time (ms)')\n",
    "ylabel('v (mV)')"
   ]
  },
  {
   "cell_type": "code",
   "execution_count": null,
   "metadata": {
    "ExecuteTime": {
     "end_time": "2018-11-27T10:05:27.556448Z",
     "start_time": "2018-11-27T10:05:18.620879Z"
    }
   },
   "outputs": [],
   "source": [
    "#dynamic variable change for a HH neuron, we'll change the amplitude of a current injected\n",
    "#will be interesting for delay learnings\n",
    "# VERSION NOT WORKING ON STANDALONE C++ CODE\n",
    "#this method looks the fastest\n",
    "\n",
    "start_scope()\n",
    "# Parameters\n",
    "area = 20000*umetre**2\n",
    "Cm = 1*ufarad*cm**-2 * area\n",
    "gl = 5e-5*siemens*cm**-2 * area\n",
    "\n",
    "#electrochemical forces\n",
    "El = -65*mV\n",
    "EK = -90*mV\n",
    "ENa = 50*mV\n",
    "\n",
    "#chemical gradients\n",
    "g_na = 100*msiemens*cm**-2 * area\n",
    "g_kd = 30*msiemens*cm**-2 * area\n",
    "VT = -63*mV\n",
    "\n",
    "# The Nobel-worth equations\n",
    "eqs_HH = '''\n",
    "dv/dt = (gl*(El-v) - g_na*(m*m*m)*h*(v-ENa) - g_kd*(n*n*n*n)*(v-EK) + I)/Cm : volt\n",
    "dm/dt = 0.32*(mV**-1)*(13.*mV-v+VT)/\n",
    "    (exp((13.*mV-v+VT)/(4.*mV))-1.)/ms*(1-m)-0.28*(mV**-1)*(v-VT-40.*mV)/\n",
    "    (exp((v-VT-40.*mV)/(5.*mV))-1.)/ms*m : 1\n",
    "dn/dt = 0.032*(mV**-1)*(15.*mV-v+VT)/\n",
    "    (exp((15.*mV-v+VT)/(5.*mV))-1.)/ms*(1.-n)-.5*exp((10.*mV-v+VT)/(40.*mV))/ms*n : 1\n",
    "dh/dt = 0.128*exp((17.*mV-v+VT)/(18.*mV))/ms*(1.-h)-4./(1+exp((40.*mV-v+VT)/(5.*mV)))/ms*h : 1\n",
    "I : amp\n",
    "'''\n",
    "group = NeuronGroup(1, eqs_HH,\n",
    "                    threshold='v > -40*mV',\n",
    "                    refractory='v > -40*mV',\n",
    "                    method='exponential_euler')\n",
    "group.v = El #init voltage at resting potential\n",
    "\n",
    "statemon = StateMonitor(group, 'v', record=True)\n",
    "spikemon = SpikeMonitor(group, variables='v')\n",
    "\n",
    "#We can also use network operation static methods, which support any python operation (yei)\n",
    "#Won't work on C++ tree generation though (nei)\n",
    "\n",
    "@network_operation(dt=10*ms)\n",
    "def change_I():\n",
    "    group.I = rand()*50*nA\n",
    "run(50*ms)\n",
    "\n",
    "figure(figsize=(12, 8))\n",
    "for l in range(5): #five runs\n",
    "    axvline(l*10, ls='--', c='k', label = 'Var change')\n",
    "    \n",
    "axhline(El/mV, ls='-', c='lightgray', lw=3, label = 'Resting Potential')\n",
    "\n",
    "plot(statemon.t/ms, statemon.v[0]/mV, '-b')\n",
    "plot(spikemon.t/ms, spikemon.v/mV, 'ob')\n",
    "xlabel('Time (ms)')\n",
    "ylabel('v (mV)')"
   ]
  },
  {
   "cell_type": "code",
   "execution_count": null,
   "metadata": {
    "ExecuteTime": {
     "end_time": "2018-11-27T10:05:30.849149Z",
     "start_time": "2018-11-27T10:05:27.558575Z"
    }
   },
   "outputs": [],
   "source": [
    "#shared variable exemple, just in case we'd want to synchronize some variables\n",
    "\n",
    "start_scope()\n",
    "N = 3\n",
    "eqs_HH_3 = '''\n",
    "dv/dt = (gl*(El-v) - g_na*(m*m*m)*h*(v-ENa) - g_kd*(n*n*n*n)*(v-EK) + I)/C : volt\n",
    "dm/dt = 0.32*(mV**-1)*(13.*mV-v+VT)/\n",
    "    (exp((13.*mV-v+VT)/(4.*mV))-1.)/ms*(1-m)-0.28*(mV**-1)*(v-VT-40.*mV)/\n",
    "    (exp((v-VT-40.*mV)/(5.*mV))-1.)/ms*m : 1\n",
    "dn/dt = 0.032*(mV**-1)*(15.*mV-v+VT)/\n",
    "    (exp((15.*mV-v+VT)/(5.*mV))-1.)/ms*(1.-n)-.5*exp((10.*mV-v+VT)/(40.*mV))/ms*n : 1\n",
    "dh/dt = 0.128*exp((17.*mV-v+VT)/(18.*mV))/ms*(1.-h)-4./(1+exp((40.*mV-v+VT)/(5.*mV)))/ms*h : 1\n",
    "I : amp (shared) # everything is the same except we've added this shared\n",
    "C : farad\n",
    "'''\n",
    "group = NeuronGroup(N, eqs_HH_3,\n",
    "                    threshold='v > -40*mV',\n",
    "                    refractory='v > -40*mV',\n",
    "                    method='exponential_euler')\n",
    "group.v = El\n",
    "group.C = array([0.8, 1, 1.2])*ufarad*cm**-2*area\n",
    "statemon = StateMonitor(group, 'v', record=True)\n",
    "group.run_regularly('I = rand()*50*nA', dt=10*ms)\n",
    "run(50*ms)\n",
    "figure(figsize=(9, 4))\n",
    "for l in range(5):\n",
    "    axvline(l*10, ls='--', c='k')\n",
    "axhline(El/mV, ls='-', c='lightgray', lw=3)\n",
    "plot(statemon.t/ms, statemon.v.T/mV, '-')\n",
    "xlabel('Time (ms)')\n",
    "ylabel('v (mV)');"
   ]
  },
  {
   "cell_type": "code",
   "execution_count": null,
   "metadata": {
    "ExecuteTime": {
     "end_time": "2018-11-27T10:05:40.005291Z",
     "start_time": "2018-11-27T10:05:30.851069Z"
    }
   },
   "outputs": [],
   "source": [
    "#image input, a wee bit of fun\n",
    "from matplotlib.image import imread\n",
    "start_scope()\n",
    "img = (1-imread('./misc/PDS_example.png'))[::-1, :, 0]\n",
    "\n",
    "num_samples, N = img.shape #x,y length of the img, will be used for rasterplotting dims\n",
    "\n",
    "ta = TimedArray(img, dt=1*ms) #dummy time array to display as a rasterplot\n",
    "A = 1.5\n",
    "tau = 2*ms\n",
    "\n",
    "#the term before xi can be used as a knob that modifies the noise quantity\n",
    "equations = '''\n",
    "dv/dt = (A*ta(t,i)-v)/tau+0.5*xi*tau**-.5 : 1\n",
    "'''\n",
    "pop = NeuronGroup(N, equations, threshold='v>1', reset = 'v=0', method='euler')\n",
    "spikemonitor = SpikeMonitor(pop)\n",
    "\n",
    "run(num_samples*ms)\n",
    "figure(figsize = (1.86*10,10))\n",
    "plot(spikemonitor.t/ms, spikemonitor.i, '.k', ms = 3)\n",
    "xlim(0, num_samples)\n",
    "ylim(0, N)\n",
    "xlabel('Temps en milisecondes')\n",
    "ylabel('Evenement neuronal')\n",
    "title(\"Ca c'est de l'Optimal Packing qui envoie !\")\n",
    "savefig('./misc/OptimalToy.png')"
   ]
  },
  {
   "cell_type": "code",
   "execution_count": null,
   "metadata": {},
   "outputs": [],
   "source": []
  }
 ],
 "metadata": {
  "kernelspec": {
   "display_name": "Python 3",
   "language": "python",
   "name": "python3"
  },
  "language_info": {
   "codemirror_mode": {
    "name": "ipython",
    "version": 3
   },
   "file_extension": ".py",
   "mimetype": "text/x-python",
   "name": "python",
   "nbconvert_exporter": "python",
   "pygments_lexer": "ipython3",
   "version": "3.7.0"
  },
  "toc": {
   "base_numbering": 1,
   "nav_menu": {},
   "number_sections": true,
   "sideBar": true,
   "skip_h1_title": false,
   "title_cell": "Table of Contents",
   "title_sidebar": "Contents",
   "toc_cell": false,
   "toc_position": {},
   "toc_section_display": true,
   "toc_window_display": false
  }
 },
 "nbformat": 4,
 "nbformat_minor": 2
}
