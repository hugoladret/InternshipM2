{
 "cells": [
  {
   "cell_type": "markdown",
   "metadata": {},
   "source": [
    "# 2018-11-15 Tuning curve based on entry, not LGN-V1 connectivity\n",
    "Voir le distinguo 2018-11-12\n",
    "\n",
    "On présente un motioncloud qui change d'orientation (de 0 a pi) et on calcule le courant pour 4 theta, celui qui nous intéresse étant le theta à pi/3\n",
    "\n",
    "# TODO : Rerun at home for faster computations"
   ]
  },
  {
   "cell_type": "code",
   "execution_count": 1,
   "metadata": {
    "ExecuteTime": {
     "end_time": "2018-11-15T09:04:05.895239Z",
     "start_time": "2018-11-15T09:04:04.784297Z"
    }
   },
   "outputs": [],
   "source": [
    "import numpy as np\n",
    "import Spiking_LGN as SpiLGN\n",
    "import MotionClouds as mc"
   ]
  },
  {
   "cell_type": "code",
   "execution_count": 13,
   "metadata": {
    "ExecuteTime": {
     "end_time": "2018-11-15T12:45:47.495303Z",
     "start_time": "2018-11-15T09:54:20.466870Z"
    }
   },
   "outputs": [
    {
     "name": "stderr",
     "output_type": "stream",
     "text": [
      "\n",
      "  0%|          | 0/12 [00:00<?, ?it/s]\u001b[A"
     ]
    },
    {
     "name": "stdout",
     "output_type": "stream",
     "text": [
      "Warning : offset lower than distribution, risk of filters being eliminated\n",
      "\n"
     ]
    },
    {
     "name": "stderr",
     "output_type": "stream",
     "text": [
      "/home/hugo/anaconda3/lib/python3.6/site-packages/ipykernel_launcher.py:47: DeprecationWarning: object of type <class 'float'> cannot be safely interpreted as an integer.\n",
      "\n",
      "  8%|▊         | 1/12 [07:07<1:18:18, 427.12s/it]\u001b[A"
     ]
    },
    {
     "name": "stdout",
     "output_type": "stream",
     "text": [
      "Warning : offset lower than distribution, risk of filters being eliminated\n",
      "\n"
     ]
    },
    {
     "name": "stderr",
     "output_type": "stream",
     "text": [
      "\n",
      " 17%|█▋        | 2/12 [13:58<1:09:52, 419.25s/it]\u001b[A"
     ]
    },
    {
     "name": "stdout",
     "output_type": "stream",
     "text": [
      "Warning : offset lower than distribution, risk of filters being eliminated\n",
      "\n"
     ]
    },
    {
     "name": "stderr",
     "output_type": "stream",
     "text": [
      "\n",
      " 25%|██▌       | 3/12 [20:34<1:01:43, 411.53s/it]\u001b[A"
     ]
    },
    {
     "name": "stdout",
     "output_type": "stream",
     "text": [
      "Warning : offset lower than distribution, risk of filters being eliminated\n",
      "\n"
     ]
    },
    {
     "name": "stderr",
     "output_type": "stream",
     "text": [
      "\n",
      " 33%|███▎      | 4/12 [27:15<54:30, 408.85s/it]  \u001b[A"
     ]
    },
    {
     "name": "stdout",
     "output_type": "stream",
     "text": [
      "Warning : offset lower than distribution, risk of filters being eliminated\n",
      "\n"
     ]
    },
    {
     "name": "stderr",
     "output_type": "stream",
     "text": [
      "\n",
      " 42%|████▏     | 5/12 [33:51<47:23, 406.25s/it]\u001b[A"
     ]
    },
    {
     "name": "stdout",
     "output_type": "stream",
     "text": [
      "Warning : offset lower than distribution, risk of filters being eliminated\n",
      "\n"
     ]
    },
    {
     "name": "stderr",
     "output_type": "stream",
     "text": [
      "\n",
      " 50%|█████     | 6/12 [40:37<40:37, 406.30s/it]\u001b[A"
     ]
    },
    {
     "name": "stdout",
     "output_type": "stream",
     "text": [
      "Warning : offset lower than distribution, risk of filters being eliminated\n",
      "\n"
     ]
    },
    {
     "name": "stderr",
     "output_type": "stream",
     "text": [
      "\n",
      " 58%|█████▊    | 7/12 [47:15<33:45, 405.13s/it]\u001b[A"
     ]
    },
    {
     "name": "stdout",
     "output_type": "stream",
     "text": [
      "Warning : offset lower than distribution, risk of filters being eliminated\n",
      "\n"
     ]
    },
    {
     "name": "stderr",
     "output_type": "stream",
     "text": [
      "\n",
      " 67%|██████▋   | 8/12 [53:52<26:56, 404.06s/it]\u001b[A"
     ]
    },
    {
     "name": "stdout",
     "output_type": "stream",
     "text": [
      "Warning : offset lower than distribution, risk of filters being eliminated\n",
      "\n"
     ]
    },
    {
     "name": "stderr",
     "output_type": "stream",
     "text": [
      "\n",
      " 75%|███████▌  | 9/12 [1:00:29<20:09, 403.29s/it]\u001b[A"
     ]
    },
    {
     "name": "stdout",
     "output_type": "stream",
     "text": [
      "Warning : offset lower than distribution, risk of filters being eliminated\n",
      "\n"
     ]
    },
    {
     "name": "stderr",
     "output_type": "stream",
     "text": [
      "\n",
      " 83%|████████▎ | 10/12 [2:36:43<31:20, 940.37s/it]\u001b[A"
     ]
    },
    {
     "name": "stdout",
     "output_type": "stream",
     "text": [
      "Warning : offset lower than distribution, risk of filters being eliminated\n",
      "\n"
     ]
    },
    {
     "name": "stderr",
     "output_type": "stream",
     "text": [
      "\n",
      " 92%|█████████▏| 11/12 [2:43:57<14:54, 894.31s/it]\u001b[A"
     ]
    },
    {
     "name": "stdout",
     "output_type": "stream",
     "text": [
      "Warning : offset lower than distribution, risk of filters being eliminated\n",
      "\n"
     ]
    },
    {
     "name": "stderr",
     "output_type": "stream",
     "text": [
      "\n",
      "100%|██████████| 12/12 [2:51:26<00:00, 857.17s/it]\u001b[A\n",
      "\u001b[A"
     ]
    }
   ],
   "source": [
    "import pyNN.nest as sim\n",
    "from pyNN.random import RandomDistribution as rnd\n",
    "from pyNN.parameters import Sequence\n",
    "from pyNN.utility.plotting import Figure, Panel\n",
    "from tqdm import tqdm\n",
    "\n",
    "##########\n",
    "# Params #\n",
    "##########\n",
    "neuron_params = {'cm': .5, #nF - McCormick\n",
    "                 'e_rev_E': 0.0, #mV - McCormick but default values\n",
    "                 'e_rev_I': -70.0, #mV - McCormick but default values\n",
    "                 'tau_m': 30, #ms - Markram\n",
    "                 'tau_refrac': 1.5, #ms - McCormick\n",
    "                 'tau_syn_E': 0.25, #ms -McCormick\n",
    "                 'tau_syn_I': 0.75, #ms - McCormick\n",
    "                 'v_reset': -56.5, #mV - McCormick\n",
    "                 'v_rest': -73.6, #mV - McCormick\n",
    "                 'v_thresh': -52.5 #mV - McCormick #mV - McCormick\n",
    "                    }\n",
    "\n",
    "gain = .4\n",
    "injection_sampling_rate = 1\n",
    "fr_list = []\n",
    "\n",
    "for mc_theta in tqdm(np.linspace(0, np.pi, 12)):\n",
    "    fx, fy, ft = mc.get_grids(64, 64, 128)\n",
    "    envelope = mc.envelope_gabor(fx, fy, ft,\n",
    "                                 V_X=1., V_Y=0., B_V=.1,\n",
    "                                 sf_0=.15, B_sf=.1,\n",
    "                                 theta=np.pi/3, B_theta=np.pi/12, alpha=1.)\n",
    "    movie = mc.random_cloud(envelope)\n",
    "    movie = mc.rectif(movie)\n",
    "    \n",
    "    output_currents = SpiLGN.input_to_currents(video=movie, FPS=24., total_time=1000,\n",
    "                                           distrib_size=8, safeguard_offset=12, random_shift=1, grid_res=3,\n",
    "                                           N_theta=4, B_theta=15, sf_0=.05, B_sf=.5,\n",
    "                                           on_thresh=0, off_thresh=0,\n",
    "                                           filter_size=2., filter_res=.1,\n",
    "                                           sampling_rate = 2,\n",
    "                                           n_jobs=-1, backend='loky', mt_verbose=0,\n",
    "                                              verbose = False)\n",
    "    load_arr = output_currents\n",
    "    \n",
    "    total_time = len(load_arr[0][0][0][0])\n",
    "    current_levels = load_arr[1][3] #second theta approx. 60 degrees and third gabor to be safe\n",
    "    current_times = np.linspace(0,total_time,total_time/injection_sampling_rate)\n",
    "    \n",
    "    ##############\n",
    "    # Simulation #\n",
    "    ##############\n",
    "    sim.setup(timestep=0.1)\n",
    "\n",
    "    post = sim.Population(1, sim.IF_cond_alpha(**neuron_params),\n",
    "                        initial_values={\"v\": neuron_params[\"v_reset\"]}, label=\"postsynaptic\")\n",
    "\n",
    "\n",
    "    #injecting all ON cells current\n",
    "    for inputs in range(len(current_levels[0])):\n",
    "\n",
    "        current_level = current_levels[0][inputs][::injection_sampling_rate]\n",
    "        current_level = np.asarray(current_level)\n",
    "\n",
    "        current_input = sim.StepCurrentSource(times = current_times,\n",
    "                                         amplitudes = current_level*gain)\n",
    "        current_input.inject_into(post)\n",
    "        current_input.record()\n",
    "\n",
    "    #injecting all OFF cells current\n",
    "    for inputs in range(len(current_levels[1])):\n",
    "\n",
    "        current_level = current_levels[1][inputs][::injection_sampling_rate]\n",
    "        current_level = np.asarray(current_level)\n",
    "\n",
    "        current_input = sim.StepCurrentSource(times = current_times,\n",
    "                                         amplitudes = current_level*gain)\n",
    "        current_input.inject_into(post)\n",
    "        current_input.record()\n",
    "\n",
    "    post.record(['spikes', 'v'])\n",
    "\n",
    "    sim.run(total_time)\n",
    "    sim.end()\n",
    "\n",
    "    #PLOTTING and DATA\n",
    "    post_v = post.get_data().segments[0]\n",
    "    sig = post_v.analogsignals[0]\n",
    "\n",
    "    beg = 200 # we have an initialisation firing that causes problems so we remove the first 200 ms\n",
    "\n",
    "    non_init_times = post_v.spiketrains[0].times > beg\n",
    "    non_init_spikes = np.asarray(post_v.spiketrains[0])*non_init_times\n",
    "    non_init_spikes = np.nonzero(non_init_spikes)[0]\n",
    "    \n",
    "    fr = non_init_spikes.shape[0]*1000/800\n",
    "\n",
    "    fr_list.append(fr)"
   ]
  },
  {
   "cell_type": "code",
   "execution_count": 17,
   "metadata": {
    "ExecuteTime": {
     "end_time": "2018-11-15T12:46:27.961616Z",
     "start_time": "2018-11-15T12:46:27.471717Z"
    }
   },
   "outputs": [
    {
     "data": {
      "text/plain": [
       "[<matplotlib.lines.Line2D at 0x7fa1544c0550>]"
      ]
     },
     "execution_count": 17,
     "metadata": {},
     "output_type": "execute_result"
    },
    {
     "data": {
      "image/png": "[encoded data removed]",
      "text/plain": [
       "<Figure size 432x288 with 1 Axes>"
      ]
     },
     "metadata": {},
     "output_type": "display_data"
    }
   ],
   "source": [
    "import matplotlib.pyplot as plt\n",
    "plt.plot(fr_list, '.b')"
   ]
  }
 ],
 "metadata": {
  "kernelspec": {
   "display_name": "Python 3",
   "language": "python",
   "name": "python3"
  },
  "language_info": {
   "codemirror_mode": {
    "name": "ipython",
    "version": 3
   },
   "file_extension": ".py",
   "mimetype": "text/x-python",
   "name": "python",
   "nbconvert_exporter": "python",
   "pygments_lexer": "ipython3",
   "version": "3.7.0"
  }
 },
 "nbformat": 4,
 "nbformat_minor": 2
}
