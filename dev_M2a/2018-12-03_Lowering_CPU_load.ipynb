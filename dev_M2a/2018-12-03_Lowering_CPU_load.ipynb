{
 "cells": [
  {
   "cell_type": "markdown",
   "metadata": {},
   "source": [
    "# 2018-12-03 - Améliorer la gestion de l'initialisation du réseau\n",
    "Je soupçonne les 200 premières ms d'être a l'origine du crash, a cause de l'artéfact d'initialisation. Ce notebook de test retire les 200 premiers point du courant et les remplace par des 0.\n",
    "\n",
    "Je diminue aussi de moitié la fréquence d'injection des courants"
   ]
  },
  {
   "cell_type": "markdown",
   "metadata": {},
   "source": [
    "# Removing first steps in the array"
   ]
  },
  {
   "cell_type": "code",
   "execution_count": 1,
   "metadata": {
    "ExecuteTime": {
     "end_time": "2018-12-20T08:00:34.763128Z",
     "start_time": "2018-12-20T08:00:33.579824Z"
    }
   },
   "outputs": [
    {
     "name": "stdout",
     "output_type": "stream",
     "text": [
      "CSAConnector: libneurosim support not available in NEST.\n",
      "Falling back on PyNN's default CSAConnector.\n",
      "Please re-compile NEST using --with-libneurosim=PATH\n"
     ]
    }
   ],
   "source": [
    "import numpy as np\n",
    "import matplotlib.pyplot as plt\n",
    "from LogGabor import LogGabor\n",
    "import Spiking_LGN as SpiLGN\n",
    "import datetime\n",
    "from tqdm import tqdm\n",
    "\n",
    "import pyNN.nest as sim\n",
    "from pyNN.random import RandomDistribution as rnd\n",
    "from pyNN.parameters import Sequence\n",
    "from pyNN.utility import ProgressBar\n",
    "from pyNN.utility.plotting import Figure, Panel"
   ]
  },
  {
   "cell_type": "code",
   "execution_count": 39,
   "metadata": {
    "ExecuteTime": {
     "end_time": "2018-12-20T08:13:08.578705Z",
     "start_time": "2018-12-20T08:13:07.365536Z"
    }
   },
   "outputs": [],
   "source": [
    "load_npz = np.load('./output/2018-12-20_08_40.npz') #what a great, descriptive filename\n",
    "load_arr = load_npz['arr_0.npy']"
   ]
  },
  {
   "cell_type": "code",
   "execution_count": 40,
   "metadata": {
    "ExecuteTime": {
     "end_time": "2018-12-20T08:13:08.582546Z",
     "start_time": "2018-12-20T08:13:08.579763Z"
    }
   },
   "outputs": [
    {
     "name": "stdout",
     "output_type": "stream",
     "text": [
      "Swapped array shape (12, 16, 2)\n",
      "Total V1 Ring Neurons : 192\n"
     ]
    }
   ],
   "source": [
    "test_arr = load_arr.copy()\n",
    "\n",
    "print('Swapped array shape', test_arr.shape)\n",
    "total_neurons = test_arr.shape[0] * test_arr.shape[1]\n",
    "print('Total V1 Ring Neurons :', total_neurons)"
   ]
  },
  {
   "cell_type": "code",
   "execution_count": 41,
   "metadata": {
    "ExecuteTime": {
     "end_time": "2018-12-20T08:13:08.665748Z",
     "start_time": "2018-12-20T08:13:08.583867Z"
    }
   },
   "outputs": [],
   "source": [
    "load_arr = None"
   ]
  },
  {
   "cell_type": "code",
   "execution_count": 42,
   "metadata": {
    "ExecuteTime": {
     "end_time": "2018-12-20T08:13:09.480990Z",
     "start_time": "2018-12-20T08:13:09.478902Z"
    }
   },
   "outputs": [],
   "source": [
    "test_arr = test_arr.tolist()"
   ]
  },
  {
   "cell_type": "code",
   "execution_count": 43,
   "metadata": {
    "ExecuteTime": {
     "end_time": "2018-12-20T08:13:10.187237Z",
     "start_time": "2018-12-20T08:13:10.184497Z"
    }
   },
   "outputs": [
    {
     "data": {
      "text/plain": [
       "numpy.ndarray"
      ]
     },
     "execution_count": 43,
     "metadata": {},
     "output_type": "execute_result"
    }
   ],
   "source": [
    "type(test_arr[0][0][0][0])"
   ]
  },
  {
   "cell_type": "code",
   "execution_count": 48,
   "metadata": {
    "ExecuteTime": {
     "end_time": "2018-12-20T08:13:35.703512Z",
     "start_time": "2018-12-20T08:13:35.537257Z"
    },
    "scrolled": true
   },
   "outputs": [],
   "source": [
    "del_time = 175\n",
    "\n",
    "#que linus me pardonne d'avoir écrit un bloc aussi atroce\n",
    "for orientations in test_arr:\n",
    "    for positions in orientations:\n",
    "        for onoff in positions:\n",
    "            onoff = onoff.tolist()\n",
    "            for filt in onoff:\n",
    "                del filt[:del_time]\n",
    "                filt.reverse()\n",
    "                filt+=np.zeros(del_time).tolist()\n",
    "                filt.reverse()"
   ]
  },
  {
   "cell_type": "code",
   "execution_count": 49,
   "metadata": {
    "ExecuteTime": {
     "end_time": "2018-12-20T08:13:36.230047Z",
     "start_time": "2018-12-20T08:13:36.117317Z"
    }
   },
   "outputs": [
    {
     "data": {
      "text/plain": [
       "Text(0.5, 1.0, 'An example of removed start in filter')"
      ]
     },
     "execution_count": 49,
     "metadata": {},
     "output_type": "execute_result"
    },
    {
     "data": {
      "image/png": "[encoded data removed]",
      "text/plain": [
       "<Figure size 432x288 with 1 Axes>"
      ]
     },
     "metadata": {
      "needs_background": "light"
     },
     "output_type": "display_data"
    }
   ],
   "source": [
    "plt.plot(test_arr[0][0][0][0])\n",
    "plt.title('An example of removed start in filter')"
   ]
  },
  {
   "cell_type": "markdown",
   "metadata": {},
   "source": [
    "# Doing the simulation with lower frequency"
   ]
  },
  {
   "cell_type": "code",
   "execution_count": 50,
   "metadata": {
    "ExecuteTime": {
     "end_time": "2018-12-20T08:13:54.761646Z",
     "start_time": "2018-12-20T08:13:54.740518Z"
    }
   },
   "outputs": [
    {
     "name": "stderr",
     "output_type": "stream",
     "text": [
      "/home/hugo/anaconda3/lib/python3.7/site-packages/ipykernel_launcher.py:24: DeprecationWarning: object of type <class 'float'> cannot be safely interpreted as an integer.\n"
     ]
    }
   ],
   "source": [
    "##########\n",
    "# Params #\n",
    "##########\n",
    "neuron_params = {'cm': .5, #nF - McCormick\n",
    "                 'e_rev_E': 0.0, #mV - McCormick but default values\n",
    "                 'e_rev_I': -70.0, #mV - McCormick but default values\n",
    "                 'tau_m': 30, #ms - Markram\n",
    "                 'tau_refrac': 1.5, #ms - McCormick\n",
    "                 'tau_syn_E': 0.25, #ms -McCormick\n",
    "                 'tau_syn_I': 0.75, #ms - McCormick\n",
    "                 'v_reset': -56.5, #mV - McCormick\n",
    "                 'v_rest': -73.6, #mV - McCormick\n",
    "                 'v_thresh': -52.5 #mV - McCormick #mV - McCormick\n",
    "                    }\n",
    "                \n",
    "syn_params = {'sparseness' : .05, # U.Arb.\n",
    "             'w' : .005, # siemens ?,\n",
    "             'delay' : 2. #ms\n",
    "             }\n",
    "gain = .05\n",
    "injection_sampling_rate = 5\n",
    "total_time = 600\n",
    "\n",
    "current_times = np.linspace(0,total_time,total_time/injection_sampling_rate)"
   ]
  },
  {
   "cell_type": "markdown",
   "metadata": {
    "ExecuteTime": {
     "end_time": "2018-11-20T13:38:15.982474Z",
     "start_time": "2018-11-20T13:38:15.972253Z"
    }
   },
   "source": [
    "The maximum input from the filters is :"
   ]
  },
  {
   "cell_type": "code",
   "execution_count": 51,
   "metadata": {
    "ExecuteTime": {
     "end_time": "2018-12-20T08:13:55.848879Z",
     "start_time": "2018-12-20T08:13:55.827993Z"
    }
   },
   "outputs": [
    {
     "ename": "ValueError",
     "evalue": "operands could not be broadcast together with shapes (19,1000) (30,1000) ",
     "output_type": "error",
     "traceback": [
      "\u001b[0;31m---------------------------------------------------------------------------\u001b[0m",
      "\u001b[0;31mValueError\u001b[0m                                Traceback (most recent call last)",
      "\u001b[0;32m<ipython-input-51-af674f51b7e8>\u001b[0m in \u001b[0;36m<module>\u001b[0;34m()\u001b[0m\n\u001b[0;32m----> 1\u001b[0;31m \u001b[0mplt\u001b[0m\u001b[0;34m.\u001b[0m\u001b[0mplot\u001b[0m\u001b[0;34m(\u001b[0m\u001b[0mnp\u001b[0m\u001b[0;34m.\u001b[0m\u001b[0mmax\u001b[0m\u001b[0;34m(\u001b[0m\u001b[0mnp\u001b[0m\u001b[0;34m.\u001b[0m\u001b[0mmax\u001b[0m\u001b[0;34m(\u001b[0m\u001b[0mtest_arr\u001b[0m\u001b[0;34m)\u001b[0m\u001b[0;34m,\u001b[0m \u001b[0maxis\u001b[0m \u001b[0;34m=\u001b[0m \u001b[0;36m1\u001b[0m\u001b[0;34m)\u001b[0m\u001b[0;34m,\u001b[0m \u001b[0;34m'.b'\u001b[0m\u001b[0;34m)\u001b[0m\u001b[0;34m\u001b[0m\u001b[0m\n\u001b[0m",
      "\u001b[0;32m~/anaconda3/lib/python3.7/site-packages/numpy/core/fromnumeric.py\u001b[0m in \u001b[0;36mamax\u001b[0;34m(a, axis, out, keepdims, initial)\u001b[0m\n\u001b[1;32m   2332\u001b[0m     \"\"\"\n\u001b[1;32m   2333\u001b[0m     return _wrapreduction(a, np.maximum, 'max', axis, None, out, keepdims=keepdims,\n\u001b[0;32m-> 2334\u001b[0;31m                           initial=initial)\n\u001b[0m\u001b[1;32m   2335\u001b[0m \u001b[0;34m\u001b[0m\u001b[0m\n\u001b[1;32m   2336\u001b[0m \u001b[0;34m\u001b[0m\u001b[0m\n",
      "\u001b[0;32m~/anaconda3/lib/python3.7/site-packages/numpy/core/fromnumeric.py\u001b[0m in \u001b[0;36m_wrapreduction\u001b[0;34m(obj, ufunc, method, axis, dtype, out, **kwargs)\u001b[0m\n\u001b[1;32m     81\u001b[0m                 \u001b[0;32mreturn\u001b[0m \u001b[0mreduction\u001b[0m\u001b[0;34m(\u001b[0m\u001b[0maxis\u001b[0m\u001b[0;34m=\u001b[0m\u001b[0maxis\u001b[0m\u001b[0;34m,\u001b[0m \u001b[0mout\u001b[0m\u001b[0;34m=\u001b[0m\u001b[0mout\u001b[0m\u001b[0;34m,\u001b[0m \u001b[0;34m**\u001b[0m\u001b[0mpasskwargs\u001b[0m\u001b[0;34m)\u001b[0m\u001b[0;34m\u001b[0m\u001b[0m\n\u001b[1;32m     82\u001b[0m \u001b[0;34m\u001b[0m\u001b[0m\n\u001b[0;32m---> 83\u001b[0;31m     \u001b[0;32mreturn\u001b[0m \u001b[0mufunc\u001b[0m\u001b[0;34m.\u001b[0m\u001b[0mreduce\u001b[0m\u001b[0;34m(\u001b[0m\u001b[0mobj\u001b[0m\u001b[0;34m,\u001b[0m \u001b[0maxis\u001b[0m\u001b[0;34m,\u001b[0m \u001b[0mdtype\u001b[0m\u001b[0;34m,\u001b[0m \u001b[0mout\u001b[0m\u001b[0;34m,\u001b[0m \u001b[0;34m**\u001b[0m\u001b[0mpasskwargs\u001b[0m\u001b[0;34m)\u001b[0m\u001b[0;34m\u001b[0m\u001b[0m\n\u001b[0m\u001b[1;32m     84\u001b[0m \u001b[0;34m\u001b[0m\u001b[0m\n\u001b[1;32m     85\u001b[0m \u001b[0;34m\u001b[0m\u001b[0m\n",
      "\u001b[0;31mValueError\u001b[0m: operands could not be broadcast together with shapes (19,1000) (30,1000) "
     ]
    }
   ],
   "source": [
    "plt.plot(np.max(np.max(test_arr), axis = 1), '.b')"
   ]
  },
  {
   "cell_type": "markdown",
   "metadata": {},
   "source": [
    "multiplied by the gain :"
   ]
  },
  {
   "cell_type": "code",
   "execution_count": 52,
   "metadata": {
    "ExecuteTime": {
     "end_time": "2018-12-20T08:13:59.272668Z",
     "start_time": "2018-12-20T08:13:59.269695Z"
    }
   },
   "outputs": [
    {
     "data": {
      "text/plain": [
       "0.05"
      ]
     },
     "execution_count": 52,
     "metadata": {},
     "output_type": "execute_result"
    }
   ],
   "source": [
    "1. * gain"
   ]
  },
  {
   "cell_type": "markdown",
   "metadata": {},
   "source": [
    "Each neuron has, on average :  "
   ]
  },
  {
   "cell_type": "code",
   "execution_count": 53,
   "metadata": {
    "ExecuteTime": {
     "end_time": "2018-12-20T08:14:00.147322Z",
     "start_time": "2018-12-20T08:14:00.139123Z"
    }
   },
   "outputs": [
    {
     "data": {
      "text/plain": [
       "9.600000000000001"
      ]
     },
     "execution_count": 53,
     "metadata": {},
     "output_type": "execute_result"
    }
   ],
   "source": [
    "total_neurons * syn_params['sparseness']"
   ]
  },
  {
   "cell_type": "markdown",
   "metadata": {},
   "source": [
    "lateral synapses. So if we want to have a non-noisy circuit, where lateral interactions have the same influence on the network, we'll use a synaptic weight of :"
   ]
  },
  {
   "cell_type": "code",
   "execution_count": 54,
   "metadata": {
    "ExecuteTime": {
     "end_time": "2018-12-20T08:14:01.024733Z",
     "start_time": "2018-12-20T08:14:01.014761Z"
    }
   },
   "outputs": [
    {
     "data": {
      "text/plain": [
       "0.0033333333333333335"
      ]
     },
     "execution_count": 54,
     "metadata": {},
     "output_type": "execute_result"
    }
   ],
   "source": [
    "(1.*gain)/15"
   ]
  },
  {
   "cell_type": "code",
   "execution_count": 55,
   "metadata": {
    "ExecuteTime": {
     "end_time": "2018-12-20T08:14:20.948505Z",
     "start_time": "2018-12-20T08:14:04.934713Z"
    },
    "scrolled": true
   },
   "outputs": [
    {
     "name": "stderr",
     "output_type": "stream",
     "text": [
      "LGN is communicating with V1: 100%|██████████| 192/192 [00:15<00:00, 11.57it/s]\n"
     ]
    }
   ],
   "source": [
    "#############\n",
    "# Simulation#\n",
    "#############\n",
    "sim.setup(timestep=0.1, threads = 8)\n",
    "\n",
    "simple_cells = sim.Population(total_neurons, sim.IF_cond_alpha(**neuron_params),\n",
    "                        initial_values={\"v\": neuron_params[\"v_reset\"]}, label=\"simple_cells\")\n",
    "exc_exc_connexion = sim.Projection(simple_cells, simple_cells,\n",
    "                                sim.FixedProbabilityConnector(syn_params['sparseness']\n",
    "                                                              ,rng=sim.NumpyRNG(seed=42)), \n",
    "                                sim.StaticSynapse(weight=syn_params['w'], \n",
    "                                                  delay=syn_params['delay'])\n",
    "                                )\n",
    "\n",
    "neuron_iterator = 0\n",
    "\n",
    "with tqdm(total = total_neurons, desc = 'LGN is communicating with V1') as progress_bar :\n",
    "    for positions in test_arr: #WRONG VARIABLE NAME but it works the same nonetheless\n",
    "        for orientations in positions :\n",
    "            #injecting all ON LGN current\n",
    "            for inputs in orientations[0]:\n",
    "                current_level = inputs[::injection_sampling_rate]\n",
    "                current_level = np.asarray(current_level)\n",
    "\n",
    "                current_input = sim.StepCurrentSource(times = current_times,\n",
    "                                                 amplitudes = current_level*gain)\n",
    "                current_input.inject_into(simple_cells[neuron_iterator:neuron_iterator+1])\n",
    "                current_input.record()\n",
    "                \n",
    "            #injecting all OFF LGN current\n",
    "            for inputs in orientations[1]:\n",
    "                current_level = inputs[::injection_sampling_rate]\n",
    "                current_level = np.asarray(current_level)\n",
    "\n",
    "                current_input = sim.StepCurrentSource(times = current_times,\n",
    "                                                 amplitudes = current_level*gain)\n",
    "                current_input.inject_into(simple_cells[neuron_iterator:neuron_iterator+1])\n",
    "                current_input.record()\n",
    "                \n",
    "            #moving on to next V1 neuron \n",
    "            neuron_iterator +=1\n",
    "            progress_bar.update(1)"
   ]
  },
  {
   "cell_type": "code",
   "execution_count": 56,
   "metadata": {
    "ExecuteTime": {
     "end_time": "2018-12-20T08:27:12.175508Z",
     "start_time": "2018-12-20T08:15:14.528462Z"
    }
   },
   "outputs": [],
   "source": [
    "simple_cells.record(['spikes', 'v'])\n",
    "sim.run(total_time)\n",
    "sim.end()"
   ]
  },
  {
   "cell_type": "code",
   "execution_count": null,
   "metadata": {
    "ExecuteTime": {
     "end_time": "2018-12-20T08:00:36.211266Z",
     "start_time": "2018-12-20T08:00:33.591Z"
    }
   },
   "outputs": [],
   "source": [
    "v1_data = simple_cells.get_data().segments[0]\n",
    "v1_voltage = v1_data.analogsignals[0]"
   ]
  },
  {
   "cell_type": "code",
   "execution_count": null,
   "metadata": {
    "ExecuteTime": {
     "end_time": "2018-12-20T08:00:36.211963Z",
     "start_time": "2018-12-20T08:00:33.592Z"
    }
   },
   "outputs": [],
   "source": [
    "#NEO's arrays are weirdly shaped, we have to transpose them\n",
    "fig, ax = plt.subplots(figsize = (16,10))\n",
    "colors = plt.cm.autumn(np.linspace(.1, 1, 25))\n",
    "\n",
    "neuron_iterator = 0\n",
    "orientation = 3\n",
    "\n",
    "for positions in test_arr[orientation]:\n",
    "    index = neuron_iterator + (orientation * test_arr.shape[0]) #we're skipping the other positions\n",
    "\n",
    "    ax.plot(v1_voltage.T[index],\n",
    "            color=colors[neuron_iterator],\n",
    "            alpha = 1)\n",
    "        \n",
    "    for spikes in np.asarray(v1_data.spiketrains[index]):\n",
    "        plt.plot([ spikes*10,spikes*10 ] , [v1_voltage.T[index][int(spikes)] , 20],\n",
    "        color=colors[neuron_iterator])\n",
    "\n",
    "    neuron_iterator +=1\n",
    "\n",
    "\n",
    "plt.title(\"Spikes for neurons preferring theta = %s\" % ((np.pi/12)*3*180/np.pi))\n",
    "plt.show()"
   ]
  },
  {
   "cell_type": "code",
   "execution_count": null,
   "metadata": {
    "ExecuteTime": {
     "end_time": "2018-12-20T08:00:36.212754Z",
     "start_time": "2018-12-20T08:00:33.594Z"
    },
    "scrolled": false
   },
   "outputs": [],
   "source": [
    "fig, ax = plt.subplots(figsize=(12, 8))\n",
    "colors = plt.cm.Blues(np.linspace(.4, 1, 12))\n",
    "\n",
    "neuron_iterator = 0\n",
    "total_spikes, total_spiking_neurons = 0, 0\n",
    "\n",
    "\n",
    "for i,orientations in enumerate(test_arr):\n",
    "    for positions in orientations:\n",
    "        ax.scatter(v1_data.spiketrains[neuron_iterator],\n",
    "                   np.full_like(v1_data.spiketrains[neuron_iterator], neuron_iterator),\n",
    "                   s=5, color=colors[i],\n",
    "                   label='%.1f°' % (i*(np.pi/12)*180/np.pi) if neuron_iterator%25 ==0 else '')\n",
    "        \n",
    "        total_spikes += len(v1_data.spiketrains[neuron_iterator])\n",
    "        if len(v1_data.spiketrains[neuron_iterator]) > 0:\n",
    "            total_spiking_neurons += 1\n",
    "            \n",
    "        neuron_iterator += 1\n",
    "\n",
    "plt.ylim(-5, total_neurons)\n",
    "plt.xlim(150, total_time)\n",
    "\n",
    "plt.ylabel('Neuron index')\n",
    "plt.xlabel('Time (ms)')\n",
    "handles, labels = ax.get_legend_handles_labels()\n",
    "#handles[::-1], labels[::-1],\n",
    "plt.legend(markerscale=3, title='Preferred orientation\\n    for one position',\n",
    "           ncol=2)\n",
    "\n",
    "plt.title('''\n",
    "            Mean population FR : %.2f Hz''' % (total_spikes/total_spiking_neurons))\n",
    "\n",
    "#plt.savefig('./figs/2018_11_16_Ring_spikes_nosynapses_orientation.pdf', format = 'pdf', dpi = 200, bbox_inches = 'tight')\n",
    "plt.show()"
   ]
  },
  {
   "cell_type": "code",
   "execution_count": null,
   "metadata": {
    "ExecuteTime": {
     "end_time": "2018-12-20T08:00:36.213738Z",
     "start_time": "2018-12-20T08:00:33.595Z"
    }
   },
   "outputs": [],
   "source": [
    "#we loop through the spiketrains and append those after the early onset discard phase\n",
    "fr_list = []\n",
    "for neuron_fr in v1_data.spiketrains :\n",
    "    fr_list.append(np.where(neuron_fr>200))\n",
    "    \n",
    "print('Len fr list', len(fr_list))\n",
    "\n",
    "#we split it in 12 orientations\n",
    "k = np.split(np.asarray(fr_list),12)\n",
    "len(k)\n",
    "\n",
    "#faut bien s'amuser un peu dans les noms de variables\n",
    "k_means = np.mean(k, axis = -1)\n",
    "print('Means of K shape', k_means.shape)"
   ]
  },
  {
   "cell_type": "code",
   "execution_count": null,
   "metadata": {
    "ExecuteTime": {
     "end_time": "2018-12-20T08:00:36.214785Z",
     "start_time": "2018-12-20T08:00:33.597Z"
    }
   },
   "outputs": [],
   "source": [
    "#for some reason numpy became retarded, so i have to use a retarded solution\n",
    "\n",
    "mean_list = []\n",
    "for means in k_means:\n",
    "    _list = []\n",
    "    for mean in means :\n",
    "        _list.append(len(mean))\n",
    "    mean_list.append(_list)\n",
    "    \n",
    "#well this was harder than expected    \n",
    "final_array = np.mean(mean_list, axis = 1)\n",
    "\n",
    "print('Final firing rate means', final_array)"
   ]
  },
  {
   "cell_type": "code",
   "execution_count": null,
   "metadata": {
    "ExecuteTime": {
     "end_time": "2018-12-20T08:00:36.215343Z",
     "start_time": "2018-12-20T08:00:33.598Z"
    }
   },
   "outputs": [],
   "source": [
    "plt.figure(figsize = (8,6))\n",
    "\n",
    "plt.xlabel('Orientation preference (°)')\n",
    "plt.ylabel('Averaged sparse firing rate (hence the low level)')\n",
    "plt.title('Sparse Network FR over %s ms\\nStimulus at 60° with a bandwidth of 15°' % total_time)\n",
    "\n",
    "#the two pis can be removed\n",
    "plt.xticks(np.linspace(0,12,13), \n",
    "           np.round(np.linspace(0,12,12)/12*180, 1))\n",
    "\n",
    "nbr_mc_vspan = 25\n",
    "for vspan in range(nbr_mc_vspan) :\n",
    "    plt.axvspan(2.7+vspan/nbr_mc_vspan,\n",
    "               4.7-vspan/nbr_mc_vspan,\n",
    "               color = 'blue', alpha = .05+vspan/(nbr_mc_vspan*15),\n",
    "               label = 'Gradient of oriented input' if vspan == nbr_mc_vspan-1 else '')\n",
    "plt.plot(final_array, color = 'black')\n",
    "plt.scatter(np.linspace(0,12,12, endpoint = False), final_array, color = 'black')\n",
    "\n",
    "plt.legend()\n",
    "\n",
    "#plt.savefig('./figs/2018_11_23_Simple_ring_FR_MC.pdf', format = 'pdf', dpi = 200, bbox_inches = 'tight')"
   ]
  }
 ],
 "metadata": {
  "kernelspec": {
   "display_name": "Python 3",
   "language": "python",
   "name": "python3"
  },
  "language_info": {
   "codemirror_mode": {
    "name": "ipython",
    "version": 3
   },
   "file_extension": ".py",
   "mimetype": "text/x-python",
   "name": "python",
   "nbconvert_exporter": "python",
   "pygments_lexer": "ipython3",
   "version": "3.7.0"
  },
  "toc": {
   "base_numbering": 1,
   "nav_menu": {},
   "number_sections": true,
   "sideBar": true,
   "skip_h1_title": false,
   "title_cell": "Table of Contents",
   "title_sidebar": "Contents",
   "toc_cell": false,
   "toc_position": {},
   "toc_section_display": true,
   "toc_window_display": false
  }
 },
 "nbformat": 4,
 "nbformat_minor": 2
}
