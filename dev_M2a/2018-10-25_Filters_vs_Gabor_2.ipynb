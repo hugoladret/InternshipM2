{
 "cells": [
  {
   "cell_type": "markdown",
   "metadata": {},
   "source": [
    "# 2018 10 25 : Spatiotemporal filters vs Gabor II : Electric Boogaloo"
   ]
  },
  {
   "cell_type": "code",
   "execution_count": 1,
   "metadata": {
    "ExecuteTime": {
     "end_time": "2018-10-26T09:25:02.558809Z",
     "start_time": "2018-10-26T09:25:02.166825Z"
    }
   },
   "outputs": [
    {
     "name": "stdout",
     "output_type": "stream",
     "text": [
      "video.shape= (640, 36, 64)\n"
     ]
    }
   ],
   "source": [
    "import numpy as np\n",
    "import matplotlib.pyplot as plt\n",
    "from tqdm import tqdm\n",
    "\n",
    "video = np.load('LifeOfBrian.npy')\n",
    "print('video.shape=', video.shape)"
   ]
  },
  {
   "cell_type": "code",
   "execution_count": 2,
   "metadata": {
    "ExecuteTime": {
     "end_time": "2018-10-26T09:25:02.564544Z",
     "start_time": "2018-10-26T09:25:02.561047Z"
    }
   },
   "outputs": [
    {
     "name": "stdout",
     "output_type": "stream",
     "text": [
      "video.shape= (64, 36, 640)\n"
     ]
    }
   ],
   "source": [
    "video = np.swapaxes(video, 0, -1)\n",
    "print('video.shape=', video.shape)"
   ]
  },
  {
   "cell_type": "code",
   "execution_count": 3,
   "metadata": {
    "ExecuteTime": {
     "end_time": "2018-10-26T09:25:02.571273Z",
     "start_time": "2018-10-26T09:25:02.567719Z"
    }
   },
   "outputs": [
    {
     "name": "stdout",
     "output_type": "stream",
     "text": [
      "video.shape= (36, 64, 640)\n"
     ]
    }
   ],
   "source": [
    "video = np.swapaxes(video, 0, 1)\n",
    "print('video.shape=', video.shape)"
   ]
  },
  {
   "cell_type": "code",
   "execution_count": 4,
   "metadata": {
    "ExecuteTime": {
     "end_time": "2018-10-26T09:25:02.577043Z",
     "start_time": "2018-10-26T09:25:02.574153Z"
    }
   },
   "outputs": [],
   "source": [
    "video = video[:, :36, :]"
   ]
  },
  {
   "cell_type": "markdown",
   "metadata": {},
   "source": [
    "# Filters definition"
   ]
  },
  {
   "cell_type": "code",
   "execution_count": 5,
   "metadata": {
    "ExecuteTime": {
     "end_time": "2018-10-26T09:25:02.595007Z",
     "start_time": "2018-10-26T09:25:02.578997Z"
    }
   },
   "outputs": [
    {
     "name": "stdout",
     "output_type": "stream",
     "text": [
      "Filter array size (10, 2)\n"
     ]
    }
   ],
   "source": [
    "def spatial_filter(wx=5., wy=5., xres=.1, yres=.1, sigma_center=1., sigma_surround=1.2,\n",
    "                   x_trans=0, y_trans=0, theta=0, end_multiplier=-1.):\n",
    "    ''' wx, wy : x/y width\n",
    "    xres, yres : x/y resolution\n",
    "    sigma_center : U.A related to the center of the circle\n",
    "    sigma_surround : U.A related to the surround of of the circle\n",
    "    x_trans, y_trans : 0, 0 #translation of the filter\n",
    "    end_mutiplier : decreases the spatial filter response and triggers ON(negative value) or OFF(positives)\n",
    "    center-surround fields\n",
    "    '''\n",
    "    x = np.arange((-wx+x_trans), (wx+x_trans), xres)\n",
    "    y = np.arange((-wy+y_trans), (wy+y_trans), yres)\n",
    "    X,Y = np.meshgrid(x,y)\n",
    "\n",
    "    radius = np.sqrt((X-x_trans)**2 + (Y-y_trans)**2)\n",
    "    center = (1.0 / sigma_center**2) * np.exp(-.5*(radius / sigma_center)**2)\n",
    "    surround = (1.0 / sigma_surround**2) * \\\n",
    "        np.exp(-.5*(radius / sigma_surround)**2)\n",
    "\n",
    "    Z = surround - center\n",
    "    Z *= end_multiplier\n",
    "    return X, Y, Z\n",
    "\n",
    "def temporal_filter(t = 1 , response_time = 175, refrac_time = 50,\n",
    "                   K1 = .92, c1 = 0.2, n1 = 7, t1 = -6,\n",
    "                   K2 = .2, c2 = .12, n2 = 8, t2 = -6,\n",
    "                   baseline = 0., gain = 90):\n",
    "    '''\n",
    "    Arguments :\n",
    "    --> time = time for which the filter's reponse is calculated\n",
    "    --> total_time = time the filter takes to do a full response, starting from 0, peaking, undershooting\n",
    "    and going to 0 again\n",
    "    --> refrac_time = refraction time after which the filter can be activated again\n",
    "    --> other params are as f(x) = K * [ (c*(t-1))**2 * e^(-c1(t-t1)) ] / [ (n**2) * e^-n]\n",
    "    (see wikipedia for formula)\n",
    "    -->-->K relates to the height, c to the opening\n",
    "    '''\n",
    "    \n",
    "    #t = np.arange(0, total_time*t_res, t_res)\n",
    "    p = baseline\n",
    "    p += K1 * ( (c1 * (t - t1))**n1 * np.exp(-c1 * (t-t1))) / (n1**2)*np.exp(-n1)\n",
    "    p -= K2 * ( (c2 * (t - t2))**n2 * np.exp(-c2 * (t-t2))) / (n2**2)*np.exp(-n2)\n",
    "    return p*gain #oups je me suis planté d'un facteur 90, c'est un sacré miss\n",
    "\n",
    "\n",
    "\n",
    "############\n",
    "# Constants\n",
    "############\n",
    "total_time = 3000 #ms,\n",
    "fps = 24 #c'est pas très gamer tout ça \n",
    "filter_size = 2.\n",
    "filter_res = .1\n",
    "\n",
    "coo_min = len(video[:,:,0])/2 - 5\n",
    "coo_max = len(video[:,:,0])/2 + 5\n",
    "grid_res = .5\n",
    "\n",
    "filters_coordinates = np.mgrid[coo_min:coo_max:grid_res].reshape(2,-1).T\n",
    "\n",
    "print('Filter array size', filters_coordinates.shape)"
   ]
  },
  {
   "cell_type": "markdown",
   "metadata": {},
   "source": [
    "# Video handling"
   ]
  },
  {
   "cell_type": "code",
   "execution_count": 6,
   "metadata": {
    "ExecuteTime": {
     "end_time": "2018-10-26T09:25:02.921633Z",
     "start_time": "2018-10-26T09:25:02.596797Z"
    }
   },
   "outputs": [
    {
     "name": "stdout",
     "output_type": "stream",
     "text": [
      "Video shape (36, 36, 640)\n",
      "Frames shape (36, 36)\n"
     ]
    },
    {
     "data": {
      "image/png": "[encoded data removed]",
      "text/plain": [
       "<Figure size 432x288 with 2 Axes>"
      ]
     },
     "metadata": {
      "needs_background": "light"
     },
     "output_type": "display_data"
    }
   ],
   "source": [
    "print('Video shape', video.shape)\n",
    "print('Frames shape',video[:,:,0].shape)\n",
    "plt.imshow(video[:,:,0], cmap = plt.cm.viridis)\n",
    "plt.colorbar()\n",
    "for filt in filters_coordinates :\n",
    "    plt.scatter(filt[0], filt[1], color = 'r', s = 10**2, facecolor = 'None', edgecolor = 'r')\n",
    "\n",
    "plt.title('A frame of the visual stimulus\\n with the overlapping RFs in the center')\n",
    "#plt.savefig('./figs/2018_10_24_MontyPython_frame.pdf', format = 'pdf', dpi = 200, bbox_inches = 'tight')\n",
    "plt.show()"
   ]
  },
  {
   "cell_type": "code",
   "execution_count": 7,
   "metadata": {
    "ExecuteTime": {
     "end_time": "2018-10-26T09:25:03.288819Z",
     "start_time": "2018-10-26T09:25:02.923958Z"
    }
   },
   "outputs": [
    {
     "name": "stdout",
     "output_type": "stream",
     "text": [
      "Total frames 640\n",
      "Frame duration at 24 fps: 125.0\n",
      "Number of second of video at 24fps: 27\n",
      "Sanity check passed\n"
     ]
    },
    {
     "data": {
      "image/png": "[encoded data removed]",
      "text/plain": [
       "<Figure size 432x288 with 2 Axes>"
      ]
     },
     "metadata": {
      "needs_background": "light"
     },
     "output_type": "display_data"
    }
   ],
   "source": [
    "print('Total frames', video.shape[-1])\n",
    "print('Frame duration at 24 fps:', total_time/fps)\n",
    "print('Number of second of video at 24fps:', video[:,:,::24].shape[-1])\n",
    "frame_duration = int(total_time/fps)\n",
    "\n",
    "stimuli = []\n",
    "for ms in range(int(total_time/frame_duration)) :\n",
    "    for same_frame in range(frame_duration):\n",
    "        stimuli.append(video[:,:,ms])\n",
    "while len(stimuli) < total_time:\n",
    "    stimuli.append(stimuli[-1])\n",
    "        \n",
    "#Check that a random pixel is different from the same pixel in the previous frame\n",
    "if stimuli[0][0,30]!=stimuli[frame_duration+1][0,30] : print('Sanity check passed')\n",
    "    \n",
    "fig, axs = plt.subplots(1,2)\n",
    "axs[0].imshow(stimuli[0])\n",
    "axs[0].set_title('Stimulis at 0ms')\n",
    "for filt in filters_coordinates :\n",
    "    axs[0].scatter(filt[0], filt[1], color = 'r', s = 10**2, facecolor = 'None', edgecolor = 'r')\n",
    "axs[1].imshow(stimuli[4])\n",
    "axs[1].set_title('Same stimulus at 40ms')\n",
    "for filt in filters_coordinates :\n",
    "    axs[1].scatter(filt[0], filt[1], color = 'r', s = 10**2, facecolor = 'None', edgecolor = 'r')\n",
    "plt.show()"
   ]
  },
  {
   "cell_type": "code",
   "execution_count": 8,
   "metadata": {
    "ExecuteTime": {
     "end_time": "2018-10-26T09:25:04.472999Z",
     "start_time": "2018-10-26T09:25:03.291882Z"
    }
   },
   "outputs": [
    {
     "name": "stderr",
     "output_type": "stream",
     "text": [
      "Making filters: 100%|██████████| 10/10 [00:01<00:00,  6.78it/s]\n"
     ]
    }
   ],
   "source": [
    "###########\n",
    "# Multiple filters \n",
    "###########\n",
    "\n",
    "convo_list = []\n",
    "st_list = [] # a list of spatiotemporal filters for tests with plotting\n",
    "Xs = []\n",
    "Ys = []\n",
    "\n",
    "for filt in tqdm(range(len(filters_coordinates)), 'Making filters') :\n",
    "    X,Y,Z = spatial_filter(wx = filter_size, wy=filter_size,\n",
    "                           xres = filter_res, yres = filter_res,\n",
    "                           x_trans= filters_coordinates[filt][0],\n",
    "                          y_trans = filters_coordinates[filt][1]) \n",
    "    t = [temporal_filter(i, gain = 55) for i in np.linspace(0,total_time, total_time)]\n",
    "    \n",
    "    #Convolution coordinates, centered around the filter and the size of the filter space\n",
    "    X_convo_minus = int(filters_coordinates[filt][0]-filter_size)\n",
    "    X_convo_plus = int(filters_coordinates[filt][0]+filter_size)\n",
    "    Y_convo_minus = int(filters_coordinates[filt][1]-filter_size)\n",
    "    Y_convo_plus = int(filters_coordinates[filt][1]+filter_size)\n",
    "    \n",
    "    activations = []\n",
    "    for i in np.linspace(0, total_time-1, total_time):\n",
    "        activations.append(np.max(stimuli[int(i)][X_convo_minus:X_convo_plus,Y_convo_minus:Y_convo_plus] \\\n",
    "                                  *Z[X_convo_minus:X_convo_plus,Y_convo_minus:Y_convo_plus]))\n",
    "    \n",
    "    ys = np.convolve(t, activations)\n",
    "    st = Z[:, :, None] * ys[None, None, :]\n",
    "    \n",
    "    convo_list.append(ys)\n",
    "    st_list.append(st)\n",
    "    \n",
    "    Xs.append(X)\n",
    "    Ys.append(Y)"
   ]
  },
  {
   "cell_type": "code",
   "execution_count": 9,
   "metadata": {
    "ExecuteTime": {
     "end_time": "2018-10-26T09:25:06.964842Z",
     "start_time": "2018-10-26T09:25:04.475209Z"
    }
   },
   "outputs": [
    {
     "data": {
      "text/plain": [
       "Text(0.5, 0.92, \"Multiple RF response from Monty Python's Flying Circus \")"
      ]
     },
     "execution_count": 9,
     "metadata": {},
     "output_type": "execute_result"
    },
    {
     "data": {
      "image/png": "[encoded data removed]",
      "text/plain": [
       "<Figure size 864x576 with 10 Axes>"
      ]
     },
     "metadata": {
      "needs_background": "light"
     },
     "output_type": "display_data"
    }
   ],
   "source": [
    "plt.figure(figsize=(12, 8))\n",
    "\n",
    "st_levels = []\n",
    "for ft in range(len(st_list)):\n",
    "    ax = plt.subplot(5, 2,ft+1)\n",
    "    \n",
    "    st_level = []\n",
    "    for i in range(len(stimuli)):\n",
    "        st_level.append(np.max(st_list[ft][:,:,i]))\n",
    "    st_levels.append(st_level)\n",
    "    \n",
    "    ax.plot(st_level)\n",
    "    ax.axvspan(0, 125, alpha=0.5, color='gray', label = 'Initialization artifact' if ft == 0 else '')\n",
    "    if ft == 0 : ax.legend()\n",
    "    \n",
    "plt.suptitle(\n",
    "    \"Multiple RF response from Monty Python's Flying Circus \", x=.5, y=.92)\n"
   ]
  },
  {
   "cell_type": "markdown",
   "metadata": {},
   "source": [
    "# Gabor filters"
   ]
  },
  {
   "cell_type": "code",
   "execution_count": 10,
   "metadata": {
    "ExecuteTime": {
     "end_time": "2018-10-26T09:25:06.972740Z",
     "start_time": "2018-10-26T09:25:06.967159Z"
    }
   },
   "outputs": [],
   "source": [
    "parameterfile = {'B_sf': 0.4, 'B_theta': 0.17453277777777776, 'N_X': 256, 'N_Y': 256,\n",
    " 'N_image': 100, 'base_levels': 1.618, 'datapath': 'database', 'do_mask': True,\n",
    " 'do_whitening': True, 'dpi': 450,'edgefigpath': 'results/edges','edgematpath': 'cache_dir/edges',\n",
    " 'ext': '.pdf','figpath': 'results','figsize': 14.0,'formats': ['pdf', 'png', 'jpg'],\n",
    " 'mask_exponent': 3.0, 'matpath': 'cache_dir','n_theta': 24, 'noise': 0.1, 'seed': None,\n",
    " 'use_cache': True, 'verbose': 0, 'white_N': 0.07, 'white_N_0': 0.0, 'white_alpha': 1.4,\n",
    " 'white_f_0': 0.4, 'white_n_learning': 0, 'white_name_database': 'kodakdb',\n",
    " 'white_recompute': False, 'white_steepness': 4.0}"
   ]
  },
  {
   "cell_type": "code",
   "execution_count": 11,
   "metadata": {
    "ExecuteTime": {
     "end_time": "2018-10-26T09:25:07.198666Z",
     "start_time": "2018-10-26T09:25:06.975133Z"
    }
   },
   "outputs": [
    {
     "data": {
      "image/png": "[encoded data removed]",
      "text/plain": [
       "<Figure size 432x288 with 1 Axes>"
      ]
     },
     "metadata": {
      "needs_background": "light"
     },
     "output_type": "display_data"
    }
   ],
   "source": [
    "from LogGabor import LogGabor\n",
    "N_X, N_Y, N_frame = video.shape\n",
    "N_X = int(N_X/7)+1\n",
    "N_Y = int(N_Y/7)+1\n",
    "\n",
    "lg = LogGabor(parameterfile)\n",
    "lg.set_size((N_X, N_Y))\n",
    "\n",
    "B_theta = 10 /180 * np.pi\n",
    "params= {'sf_0':.05, 'B_sf': 1.5, 'B_theta': B_theta}\n",
    "\n",
    "N_phase = 2\n",
    "theta = 3*np.pi/4\n",
    "phi = np.zeros((1, N_phase, N_X, N_Y))\n",
    "\n",
    "x = N_X/2 #gabor centered\n",
    "y = N_Y/2\n",
    "params.update(theta=theta)\n",
    "for i_phase in range(N_phase):\n",
    "    phase = i_phase * np.pi/2\n",
    "    kernel = lg.invert(lg.loggabor(x, y, **params)*np.exp(-1j*phase))\n",
    "    phi[0, i_phase, :] = lg.normalize(kernel)\n",
    "\n",
    "fig, ax = plt.subplots()\n",
    "ax.imshow(phi[0, 0,], cmap=plt.gray()) #[theta_nbr, phase, content]\n",
    "ax.set_xlabel('X')\n",
    "ax.set_ylabel('Y')\n",
    "ax.set_title('Gabor as an equivalent to multiples RF')\n",
    "plt.tight_layout()"
   ]
  },
  {
   "cell_type": "code",
   "execution_count": 12,
   "metadata": {
    "ExecuteTime": {
     "end_time": "2018-10-26T09:25:07.679752Z",
     "start_time": "2018-10-26T09:25:07.201104Z"
    }
   },
   "outputs": [
    {
     "data": {
      "text/plain": [
       "Text(0.5, 0.85, 'Gabor filter applied to the same blue zone as the RF filters')"
      ]
     },
     "execution_count": 12,
     "metadata": {},
     "output_type": "execute_result"
    },
    {
     "data": {
      "image/png": "[encoded data removed]",
      "text/plain": [
       "<Figure size 720x432 with 2 Axes>"
      ]
     },
     "metadata": {
      "needs_background": "light"
     },
     "output_type": "display_data"
    }
   ],
   "source": [
    "import matplotlib.patches as patches\n",
    "fig, ax = plt.subplots(1,2, figsize = (10,6))\n",
    "gabor_video = np.asarray(stimuli).T[23:31, 23:31]\n",
    "\n",
    "ax[0].imshow(gabor_video[:,:,0], cmap = plt.cm.viridis)\n",
    "ax[0].imshow(phi[0,0,], cmap = plt.cm.gray, alpha = .8)\n",
    "rect = patches.Rectangle((0,0),7,7,linewidth=1.5,edgecolor='b',facecolor='none')\n",
    "ax[0].add_patch(rect)\n",
    "\n",
    "ax[1].imshow(video[:,:,0], plt.cm.viridis)\n",
    "rect = patches.Rectangle((20,25),8,8,linewidth=1.5,edgecolor='b',facecolor='none')\n",
    "ax[1].add_patch(rect)\n",
    "for filt in filters_coordinates :\n",
    "    ax[1].scatter(filt[0], filt[1], color = 'r', s = 10**2, facecolor = 'None', edgecolor = 'r')\n",
    "    \n",
    "plt.suptitle(x = .5, y = .85, t ='Gabor filter applied to the same blue zone as the RF filters')\n",
    "#fig.savefig('./figs/2018_10_25_Applied_Gabor.pdf', format = 'pdf', dpi = 200, bbox_inches = 'tight')"
   ]
  },
  {
   "cell_type": "code",
   "execution_count": 13,
   "metadata": {
    "ExecuteTime": {
     "end_time": "2018-10-26T09:25:07.721636Z",
     "start_time": "2018-10-26T09:25:07.682043Z"
    }
   },
   "outputs": [
    {
     "name": "stdout",
     "output_type": "stream",
     "text": [
      "gabor_video.shape (64, 3000)\n"
     ]
    }
   ],
   "source": [
    "#Je fais un petit gabor parce que j'ai fais des petits champs récepteurs qui couvrent 8 degrés d'arc\n",
    "gabor_video = np.asarray(stimuli).T[23:31, 23:31]\n",
    "gabor_video = gabor_video.reshape((8*8, total_time))\n",
    "print('gabor_video.shape', gabor_video.shape)"
   ]
  },
  {
   "cell_type": "code",
   "execution_count": 14,
   "metadata": {
    "ExecuteTime": {
     "end_time": "2018-10-26T09:25:07.853567Z",
     "start_time": "2018-10-26T09:25:07.725117Z"
    }
   },
   "outputs": [
    {
     "ename": "ValueError",
     "evalue": "cannot reshape array of size 72 into shape (1,2,64)",
     "output_type": "error",
     "traceback": [
      "\u001b[0;31m---------------------------------------------------------------------------\u001b[0m",
      "\u001b[0;31mValueError\u001b[0m                                Traceback (most recent call last)",
      "\u001b[0;32m<ipython-input-14-f09c25e2c35d>\u001b[0m in \u001b[0;36m<module>\u001b[0;34m\u001b[0m\n\u001b[0;32m----> 1\u001b[0;31m \u001b[0mphi_\u001b[0m \u001b[0;34m=\u001b[0m \u001b[0mphi\u001b[0m\u001b[0;34m.\u001b[0m\u001b[0mreshape\u001b[0m\u001b[0;34m(\u001b[0m\u001b[0;34m(\u001b[0m\u001b[0;36m1\u001b[0m\u001b[0;34m,\u001b[0m \u001b[0;36m2\u001b[0m\u001b[0;34m,\u001b[0m \u001b[0;36m8\u001b[0m\u001b[0;34m*\u001b[0m\u001b[0;36m8\u001b[0m\u001b[0;34m)\u001b[0m\u001b[0;34m)\u001b[0m\u001b[0;34m\u001b[0m\u001b[0;34m\u001b[0m\u001b[0m\n\u001b[0m\u001b[1;32m      2\u001b[0m \u001b[0mprint\u001b[0m\u001b[0;34m(\u001b[0m\u001b[0;34m'phi_.shape'\u001b[0m\u001b[0;34m,\u001b[0m \u001b[0mphi_\u001b[0m\u001b[0;34m.\u001b[0m\u001b[0mshape\u001b[0m\u001b[0;34m)\u001b[0m\u001b[0;34m\u001b[0m\u001b[0;34m\u001b[0m\u001b[0m\n",
      "\u001b[0;31mValueError\u001b[0m: cannot reshape array of size 72 into shape (1,2,64)"
     ]
    }
   ],
   "source": [
    "phi_ = phi.reshape((1, 2, 8*8))\n",
    "print('phi_.shape', phi_.shape)"
   ]
  },
  {
   "cell_type": "code",
   "execution_count": null,
   "metadata": {
    "ExecuteTime": {
     "end_time": "2018-10-26T09:25:07.857482Z",
     "start_time": "2018-10-26T09:25:02.181Z"
    }
   },
   "outputs": [],
   "source": [
    "code = phi_ @ gabor_video\n",
    "\n",
    "plt.plot(code[0][0], label = 'Phase')\n",
    "plt.plot(code[0][1], label = 'Antiphase')\n",
    "plt.legend()"
   ]
  },
  {
   "cell_type": "markdown",
   "metadata": {},
   "source": [
    "# V1 membrane potential driver"
   ]
  },
  {
   "cell_type": "code",
   "execution_count": null,
   "metadata": {
    "ExecuteTime": {
     "end_time": "2018-10-26T09:25:07.858746Z",
     "start_time": "2018-10-26T09:25:02.183Z"
    }
   },
   "outputs": [],
   "source": [
    "import pyNN.nest as sim\n",
    "from pyNN.random import RandomDistribution as rnd\n",
    "from pyNN.parameters import Sequence\n",
    "from pyNN.utility.plotting import Figure, Panel"
   ]
  },
  {
   "cell_type": "code",
   "execution_count": null,
   "metadata": {
    "ExecuteTime": {
     "end_time": "2018-10-26T09:25:07.860119Z",
     "start_time": "2018-10-26T09:25:02.185Z"
    }
   },
   "outputs": [],
   "source": [
    "def VanillaRasterPlot( SpikesP, SpikesE, spike_thresh,injections, title = 'Title', markersize = .5, \n",
    "                         figsize = (9,6), shifts = None):\n",
    "    \n",
    "        def plot_spiketrains(ax, spikes, color, ylabel, do_ticks): #oh la jolie double fonction\n",
    "            for spiketrain in spikes.spiketrains:\n",
    "                y = np.ones_like(spiketrain) * spiketrain.annotations['source_id']\n",
    "                ax.scatter(spiketrain, y, color = color, s = markersize)\n",
    "                ax.set_ylabel(ylabel)\n",
    "                if not do_ticks : ax.set_xticklabels([])\n",
    "                if shifts != None :\n",
    "                    for i, times in enumerate(shifts): ax.axvline(x = times, color = 'k',\n",
    "                                                                 linestyle = '-.', linewidth = 1)\n",
    "        \n",
    "        fig, axs = plt.subplots(nrows = 2, ncols = 1, figsize = figsize)\n",
    "        \n",
    "        color=iter(plt.cm.gist_heat(np.linspace(.5,.8, 20)))\n",
    "        for traces in injections:\n",
    "            axs[0].plot(traces.get_data(), color = next(color))\n",
    "        axs[0].set_ylabel('I (nA)')\n",
    "        axs[0].set_title('Input')\n",
    "        axs[0].set_xticklabels([])\n",
    "        \n",
    "        axs[1].plot(SpikesE.analogsignals[0].times, SpikesE.analogsignals[0])\n",
    "        axs[1].set_ylabel('Voltage')\n",
    "        axs[1].set_title('V1 neuron with alpha-function dynamics ')\n",
    "        \n",
    "        plt.xlabel('Time (ms)')\n",
    "        \n",
    "        return fig, axs  "
   ]
  },
  {
   "cell_type": "code",
   "execution_count": null,
   "metadata": {
    "ExecuteTime": {
     "end_time": "2018-10-26T09:25:07.861649Z",
     "start_time": "2018-10-26T09:25:02.187Z"
    }
   },
   "outputs": [],
   "source": [
    "##########\n",
    "# Params #\n",
    "##########\n",
    "import time\n",
    "now = time.time()\n",
    "neuron_params = {'cm': .5, #nF - McCormick\n",
    "                 'e_rev_E': 0.0, #mV - McCormick but default values\n",
    "                 'e_rev_I': -70.0, #mV - McCormick but default values\n",
    "                 'tau_m': 30, #ms - Markram\n",
    "                 'tau_refrac': 1.5, #ms - McCormick\n",
    "                 'tau_syn_E': 0.25, #ms -McCormick\n",
    "                 'tau_syn_I': 0.75, #ms - McCormick\n",
    "                 'v_reset': -56.5, #mV - McCormick\n",
    "                 'v_rest': -73.6, #mV - McCormick\n",
    "                 'v_thresh': -52.5 #mV - McCormick\n",
    "                    }\n",
    "\n",
    "injection_sampling_rate = 1\n",
    "current_times = np.linspace(0,total_time,len(st_levels[0][::injection_sampling_rate]))\n",
    "current_list = []\n",
    "##############\n",
    "# Simulation #\n",
    "##############\n",
    "sim.setup(timestep=0.01)\n",
    "\n",
    "post = sim.Population(1, sim.IF_cond_alpha(**neuron_params),\n",
    "                    initial_values={\"v\": neuron_params[\"v_reset\"]}, label=\"postsynaptic\")\n",
    "\n",
    "\n",
    "\n",
    "for inputs in range(len(st_levels)):\n",
    "    '''current_times = np.linspace(0, len(st_levels[inputs][::injection_sampling_rate]),\n",
    "                                len(st_levels[inputs][::injection_sampling_rate]))\n",
    "    '''\n",
    "    current_levels = st_levels[inputs][::injection_sampling_rate]\n",
    "    current_levels = np.asarray(current_levels)\n",
    "    \n",
    "    current_input = sim.StepCurrentSource(times = current_times,\n",
    "                                     amplitudes = current_levels)\n",
    "    current_input.inject_into(post)\n",
    "    current_list.append(current_input)\n",
    "    current_input.record()\n",
    "\n",
    "post.record(['spikes', 'v'])\n",
    "\n",
    "sim.run(total_time)\n",
    "sim.end()\n",
    "\n",
    "#PLOTTING and DATA\n",
    "post_v = post.get_data().segments[0]\n",
    "sig = post_v.analogsignals[0]\n",
    "\n",
    "\n",
    "markersize = 3\n",
    "fig, axs = VanillaRasterPlot(SpikesP = None, SpikesE = post_v, injections = current_list,\n",
    "                 spike_thresh = neuron_params['v_thresh'], markersize = 3)\n",
    "\n",
    "then = time.time()\n",
    "print('Simulation done in %.2f s' % (then-now))\n",
    "#fig.savefig('./figs/2018_10_24_Filters_to_V1_angular.pdf', format = 'pdf', dpi = 200, bbox_inches = 'tight')"
   ]
  },
  {
   "cell_type": "code",
   "execution_count": null,
   "metadata": {
    "ExecuteTime": {
     "end_time": "2018-10-26T09:25:07.863104Z",
     "start_time": "2018-10-26T09:25:02.190Z"
    }
   },
   "outputs": [],
   "source": [
    "##########\n",
    "# Params #\n",
    "##########\n",
    "import time\n",
    "now = time.time()\n",
    "neuron_params = {'cm': .5, #nF - McCormick\n",
    "                 'e_rev_E': 0.0, #mV - McCormick but default values\n",
    "                 'e_rev_I': -70.0, #mV - McCormick but default values\n",
    "                 'tau_m': 30, #ms - Markram\n",
    "                 'tau_refrac': 1.5, #ms - McCormick\n",
    "                 'tau_syn_E': 0.25, #ms -McCormick\n",
    "                 'tau_syn_I': 0.75, #ms - McCormick\n",
    "                 'v_reset': -56.5, #mV - McCormick\n",
    "                 'v_rest': -73.6, #mV - McCormick\n",
    "                 'v_thresh': -52.5 #mV - McCormick\n",
    "                    }\n",
    "\n",
    "injection_sampling_rate = 1\n",
    "current_times = np.linspace(0,total_time,len(code[0][0][::injection_sampling_rate]))\n",
    "current_list = []\n",
    "##############\n",
    "# Simulation #\n",
    "##############\n",
    "sim.setup(timestep=0.01)\n",
    "\n",
    "post = sim.Population(1, sim.IF_cond_alpha(**neuron_params),\n",
    "                    initial_values={\"v\": neuron_params[\"v_reset\"]}, label=\"postsynaptic\")\n",
    "\n",
    "\n",
    "current_levels = code[0][1][::injection_sampling_rate]/1.72\n",
    "current_input = sim.StepCurrentSource(times = current_times,\n",
    "                                 amplitudes = current_levels)\n",
    "current_input.inject_into(post)\n",
    "current_list.append(current_input)\n",
    "current_input.record()\n",
    "\n",
    "post.record(['spikes', 'v'])\n",
    "\n",
    "sim.run(total_time)\n",
    "sim.end()\n",
    "\n",
    "#PLOTTING and DATA\n",
    "post_v2 = post.get_data().segments[0]\n",
    "sig = post_v2.analogsignals[0]\n",
    "\n",
    "\n",
    "markersize = 3\n",
    "fig, axs = VanillaRasterPlot(SpikesP = None, SpikesE = post_v2, injections = current_list,\n",
    "                 spike_thresh = neuron_params['v_thresh'], markersize = 3)\n",
    "\n",
    "axs[0].set_ylim(.25, .45)\n",
    "then = time.time()\n",
    "print('Simulation done in %.2f s' % (then-now))\n",
    "#fig.savefig('./figs/2018_10_24_GABOR_to_V1_.pdf', format = 'pdf', dpi = 200, bbox_inches = 'tight')"
   ]
  },
  {
   "cell_type": "markdown",
   "metadata": {},
   "source": [
    "# Gabor vs Filter : numerical comparison"
   ]
  },
  {
   "cell_type": "code",
   "execution_count": null,
   "metadata": {
    "ExecuteTime": {
     "end_time": "2018-10-26T09:25:07.864212Z",
     "start_time": "2018-10-26T09:25:02.195Z"
    }
   },
   "outputs": [],
   "source": [
    "fig, axs = plt.subplots(2,1, figsize = (10,6))\n",
    "axs[0].plot(post_v.analogsignals[0].times, post_v.analogsignals[0])\n",
    "axs[0].set_ylim(-57,-52)\n",
    "axs[0].set_title('Filters')\n",
    "axs[0].set_xticklabels([])\n",
    "\n",
    "\n",
    "axs[1].plot(post_v2.analogsignals[0].times, post_v2.analogsignals[0])\n",
    "axs[1].set_title('Gabor')\n",
    "\n",
    "plt.suptitle ('Qualitatively related activations from ST or Gabor')"
   ]
  },
  {
   "cell_type": "code",
   "execution_count": null,
   "metadata": {
    "ExecuteTime": {
     "end_time": "2018-10-26T09:25:07.865307Z",
     "start_time": "2018-10-26T09:25:02.200Z"
    }
   },
   "outputs": [],
   "source": [
    "mean_filter_input = np.mean(st_levels, axis = 0) #mean of RF filters\n",
    "mean_gabor_input = np.mean(code[0], axis = 0) #mean of phase and antiphase activations\n",
    "\n",
    "#rectifying by the same factor and aligning\n",
    "plt.plot(mean_gabor_input/1.7-.09)\n",
    "plt.plot(mean_filter_input/1.7)\n",
    "\n",
    "plt.title('Both input functions seem VERY roughly equal\\n Pearson R = .385')\n",
    "plt.show()"
   ]
  },
  {
   "cell_type": "code",
   "execution_count": null,
   "metadata": {
    "ExecuteTime": {
     "end_time": "2018-10-26T09:25:07.866404Z",
     "start_time": "2018-10-26T09:25:02.204Z"
    }
   },
   "outputs": [],
   "source": [
    "print('Mean input correlation : %.3f'% np.corrcoef(mean_gabor_input, mean_filter_input)[0][1])\n",
    "print('Phase to filter correlation : %.3f' % np.corrcoef(code[0][1], mean_filter_input)[0][1])\n",
    "print('Antiphase to filter correlation : %.3f' % np.corrcoef(code[0][0], mean_filter_input)[0][1])\n",
    "print('--')\n",
    "print('Neuron output correlation : %.3f' % np.corrcoef(post_v.analogsignals[0].T, post_v2.analogsignals[0].T)[0][1])"
   ]
  }
 ],
 "metadata": {
  "kernelspec": {
   "display_name": "Python 3",
   "language": "python",
   "name": "python3"
  },
  "language_info": {
   "codemirror_mode": {
    "name": "ipython",
    "version": 3
   },
   "file_extension": ".py",
   "mimetype": "text/x-python",
   "name": "python",
   "nbconvert_exporter": "python",
   "pygments_lexer": "ipython3",
   "version": "3.7.2"
  },
  "toc": {
   "base_numbering": 1,
   "nav_menu": {},
   "number_sections": true,
   "sideBar": true,
   "skip_h1_title": false,
   "title_cell": "Table of Contents",
   "title_sidebar": "Contents",
   "toc_cell": false,
   "toc_position": {},
   "toc_section_display": true,
   "toc_window_display": false
  }
 },
 "nbformat": 4,
 "nbformat_minor": 2
}
