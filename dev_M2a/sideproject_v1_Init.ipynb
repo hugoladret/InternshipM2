{
 "cells": [
  {
   "cell_type": "markdown",
   "metadata": {},
   "source": [
    "# 2018-10-30 : LIP Spiking Network\n",
    "## 1/ Initialisation\n",
    "Pour faire des réseaux de neurones spiking en Python, le plus simple est d'utiliser une toolbox qui s'appelle PyNN : c'est un meta-simulateur qui regroupe les simulateurs les plus connus tout en ayant une interface de haut-niveau (relativement) simple. \n",
    "\n",
    "Le seul souci c'est qu'il est pas simple à installer et je crois qu'il est même carrément pas disponible si tu es sur Windows... à voir quand Laurent reviens, il a surement une astuce pour le faire marcher\n",
    "\n",
    "On importe PyNN et un simulateur efficace, NEST :"
   ]
  },
  {
   "cell_type": "code",
   "execution_count": 1,
   "metadata": {},
   "outputs": [
    {
     "name": "stdout",
     "output_type": "stream",
     "text": [
      "CSAConnector: libneurosim support not available in NEST.\n",
      "Falling back on PyNN's default CSAConnector.\n",
      "Please re-compile NEST using --with-libneurosim=PATH\n",
      "Les avertissements ne servent à rien on peut les ignorer\n"
     ]
    },
    {
     "name": "stderr",
     "output_type": "stream",
     "text": [
      "/home/hugo/.local/lib/python3.7/site-packages/pyNN/nest/__init__.py:55: UserWarning: Unable to install NEST extensions. Certain models may not be available.\n",
      "Further details: DictError in SLIInterpreter::execute: Key '/Install' does not exist in dictionary.\n",
      "  warnings.warn(\"Unable to install NEST extensions. Certain models may not be available.\\nFurther details: {}\".format(err))\n"
     ]
    }
   ],
   "source": [
    "import pyNN.nest as sim\n",
    "from pyNN.random import RandomDistribution, NumpyRNG\n",
    "\n",
    "print('Les avertissements ne servent à rien on peut les ignorer')"
   ]
  },
  {
   "cell_type": "markdown",
   "metadata": {},
   "source": [
    "## 2/ Paramètres des neurones"
   ]
  },
  {
   "cell_type": "markdown",
   "metadata": {},
   "source": [
    "On peut définir les paramètres des neurones avec un dictionnaire Python. Celles là viennent d'un moyennage de cortex moteur de rat (McCormick et al, 95) complémentés avec des datas de l'EPFL (2015-ish?) :"
   ]
  },
  {
   "cell_type": "code",
   "execution_count": 2,
   "metadata": {},
   "outputs": [
    {
     "data": {
      "text/plain": [
       "{'v_rest': -65.0,\n",
       " 'cm': 1.0,\n",
       " 'tau_m': 20.0,\n",
       " 'tau_refrac': 0.1,\n",
       " 'tau_syn_E': 5.0,\n",
       " 'tau_syn_I': 5.0,\n",
       " 'e_rev_E': 0.0,\n",
       " 'e_rev_I': -70.0,\n",
       " 'v_thresh': -50.0,\n",
       " 'v_reset': -65.0,\n",
       " 'i_offset': 0.0}"
      ]
     },
     "execution_count": 2,
     "metadata": {},
     "output_type": "execute_result"
    }
   ],
   "source": [
    "sim.IF_cond_exp.default_parameters"
   ]
  },
  {
   "cell_type": "code",
   "execution_count": 3,
   "metadata": {},
   "outputs": [],
   "source": [
    "neuron_parameters = {'cm': .5, #nF - McCormick\n",
    "                 'e_rev_E': 0.0, #mV - McCormick but default values\n",
    "                 'e_rev_I': -70.0, #mV - McCormick but default values\n",
    "                 'tau_m': 30, #ms - Markram\n",
    "                 'tau_refrac': 1.5, #ms - McCormick\n",
    "                 'tau_syn_E': 0.25, #ms -McCormick\n",
    "                 'tau_syn_I': 0.75, #ms - McCormick\n",
    "                 'v_reset': -56.5, #mV - McCormick\n",
    "                 'v_rest': -65.5, #mV - McCormick\n",
    "                 'v_thresh': -52.5 #mV - McCormick\n",
    "                    }"
   ]
  },
  {
   "cell_type": "markdown",
   "metadata": {},
   "source": [
    "Chaque neurone / ensemble de neurones est défini comme une population du simulateur qu'on a instancié plus haut. Histoire de faire quelque chose de clair et didactique on va les créer un a un, mais c'est pas la manière la plus efficace (i.e. Laurent me taperait sur les doigts si il voyait ça).\n",
    "\n",
    "Concernant le modèle lui même, le simulateur en a pas mal mais le plus courant c'est le conductance-based avec des constantes de temps exponentielles (IF_cond_exp)\n",
    "\n",
    "\n",
    "Tu peux aussi rajouter de la distance et de la topologie dans le réseau si jamais tu pense que c'est un facteur dans le LIP. Et changer les paramètres d'excitabilité de chaque neurone indépendament."
   ]
  },
  {
   "cell_type": "code",
   "execution_count": 4,
   "metadata": {},
   "outputs": [],
   "source": [
    "#on lance le simulateur pour qu'il intègre les modèles a venir\n",
    "sim.setup()\n",
    "\n",
    "#nom du neurone = sim.Population(nbr neurone, type de neurone(paramètres), valeurs initiales, label)\n",
    "M_NM = sim.Population(1, sim.IF_cond_exp(**neuron_parameters),\n",
    "                    initial_values={\"v\": neuron_parameters[\"v_reset\"]},\n",
    "                    label=\"Match/NonMatch\")\n",
    "\n",
    "I = sim.Population(1, sim.IF_cond_exp(**neuron_parameters),\n",
    "                    initial_values={\"v\": neuron_parameters[\"v_reset\"]},\n",
    "                    label=\"Constant Inhibitor\")\n",
    "\n",
    "Test_A = sim.Population(1, sim.IF_cond_exp(**neuron_parameters),\n",
    "                    initial_values={\"v\": neuron_parameters[\"v_reset\"]},\n",
    "                    label=\"Test A\")\n",
    "Test_B = sim.Population(1, sim.IF_cond_exp(**neuron_parameters),\n",
    "                    initial_values={\"v\": neuron_parameters[\"v_reset\"]},\n",
    "                    label=\"Test B\")\n",
    "\n",
    "Sample_A = sim.Population(1, sim.IF_cond_exp(**neuron_parameters),\n",
    "                    initial_values={\"v\": neuron_parameters[\"v_reset\"]},\n",
    "                    label=\"Sample A\")\n",
    "Sample_B = sim.Population(1, sim.IF_cond_exp(**neuron_parameters),\n",
    "                    initial_values={\"v\": neuron_parameters[\"v_reset\"]},\n",
    "                    label=\"Sample B\")\n",
    "\n",
    "Inter_A = sim.Population(1, sim.IF_cond_exp(**neuron_parameters),\n",
    "                    initial_values={\"v\": neuron_parameters[\"v_reset\"]},\n",
    "                    label=\"Inter A\")\n",
    "Inter_B = sim.Population(1, sim.IF_cond_exp(**neuron_parameters),\n",
    "                    initial_values={\"v\": neuron_parameters[\"v_reset\"]},\n",
    "                    label=\"Inter B\")"
   ]
  },
  {
   "cell_type": "markdown",
   "metadata": {},
   "source": [
    "## 3/ Connectivité"
   ]
  },
  {
   "cell_type": "markdown",
   "metadata": {},
   "source": [
    "Comme tu l'as remarqué c'est pas dans le neurone qu'on défini le type de neurotransmetteur, ça se fait directement dans la connectivité. Comme pour les neurones, on va la faire synapse par synapse, ça sera plus clair et modulable. L'objet ici c'est sim.Projection()\n",
    "\n",
    "Pour l'instant je les mets en synapse statique mais il y a des tas de modèles pour la plasticité qu'on peut intégrer"
   ]
  },
  {
   "cell_type": "code",
   "execution_count": 5,
   "metadata": {},
   "outputs": [],
   "source": [
    "#schéma de connexion des synapses une a une, mais demande que les deux pops soient de taille identiques\n",
    "one_connector = sim.OneToOneConnector() \n",
    "\n",
    "#plasticité de la synapse, ici j'en mets pas mais si c'est de l'apprentissage ça serait intéressant de \n",
    "#tester la STDP\n",
    "#poids en nA (ou nS ?) et delai synaptique en ms\n",
    "static_syn = sim.StaticSynapse(weight = .5, delay = 2)\n",
    "\n",
    "#################\n",
    "# Les inhibiteurs\n",
    "#################\n",
    "#sim.Projection(presyn_pop, postsyn_pop, schema de connexion, type de synapse, type de recepteurs, label)\n",
    "I_to_MNM = sim.Projection(I, M_NM,\n",
    "                        connector=one_connector,\n",
    "                        synapse_type=static_syn,\n",
    "                        receptor_type='inhibitory',\n",
    "                        label=\"I to MNM connection\")\n",
    "Ia_to_I = sim.Projection(Inter_A, I,\n",
    "                        connector=one_connector,\n",
    "                        synapse_type=static_syn,\n",
    "                        receptor_type='inhibitory',\n",
    "                        label=\"Ia to I connection\")\n",
    "Ib_to_I = sim.Projection(Inter_B, I,\n",
    "                        connector=one_connector,\n",
    "                        synapse_type=static_syn,\n",
    "                        receptor_type='inhibitory',\n",
    "                        label=\"Ib to I connection\")\n",
    "\n",
    "#################\n",
    "# Les tests\n",
    "#################\n",
    "TA_to_MNM = sim.Projection(Test_A, M_NM,\n",
    "                        connector=one_connector,\n",
    "                        synapse_type=static_syn,\n",
    "                        receptor_type='excitatory',\n",
    "                        label=\"TA to MNM connection\")\n",
    "TA_to_Ib = sim.Projection(Test_A, Inter_B,\n",
    "                        connector=one_connector,\n",
    "                        synapse_type=static_syn,\n",
    "                        receptor_type='excitatory',\n",
    "                        label=\"TA to Ib connection\")\n",
    "TB_to_MNM = sim.Projection(Test_B, M_NM,\n",
    "                        connector=one_connector,\n",
    "                        synapse_type=static_syn,\n",
    "                        receptor_type='excitatory',\n",
    "                        label=\"TB to MNM connection\")\n",
    "TB_to_Ia = sim.Projection(Test_B, Inter_A,\n",
    "                        connector=one_connector,\n",
    "                        synapse_type=static_syn,\n",
    "                        receptor_type='excitatory',\n",
    "                        label=\"TB to Ia connection\")\n",
    "\n",
    "#################\n",
    "# Les priors\n",
    "#################\n",
    "SA_to_MNM = sim.Projection(Sample_A, M_NM,\n",
    "                        connector=one_connector,\n",
    "                        synapse_type=static_syn,\n",
    "                        receptor_type='excitatory',\n",
    "                        label=\"SA to MNM connection\")\n",
    "SA_to_Ia = sim.Projection(Sample_A, Inter_A,\n",
    "                        connector=one_connector,\n",
    "                        synapse_type=static_syn,\n",
    "                        receptor_type='excitatory',\n",
    "                        label=\"SA to Ia connection\")\n",
    "SB_to_MNM = sim.Projection(Sample_B, M_NM,\n",
    "                        connector=one_connector,\n",
    "                        synapse_type=static_syn,\n",
    "                        receptor_type='excitatory',\n",
    "                        label=\"SA to Ia connection\")\n",
    "SB_to_Ib = sim.Projection(Sample_B, Inter_B,\n",
    "                        connector=one_connector,\n",
    "                        synapse_type=static_syn,\n",
    "                        receptor_type='excitatory',\n",
    "                        label=\"SA to Ia connection\")"
   ]
  },
  {
   "cell_type": "markdown",
   "metadata": {},
   "source": [
    "On défini des injections de courants sinon il se passera pas grand chose.\n",
    "\n",
    "Ici j'injecte un pulse de courant continu dans le sample A pour faire augmenter le firing rate, puis une injection delayée d'une dizaine de ms dans test A pour faire un match "
   ]
  },
  {
   "cell_type": "code",
   "execution_count": 6,
   "metadata": {},
   "outputs": [],
   "source": [
    "amp = .3\n",
    "pulse = sim.DCSource(amplitude = amp, start = 300., stop = 350.)\n",
    "pulse.inject_into(Sample_A)\n",
    "\n",
    "pulse2 = sim.DCSource(amplitude = amp, start = 310., stop = 350.)\n",
    "pulse2.inject_into(Test_A)\n",
    "\n",
    "pulse3 = sim.DCSource(amplitude = amp/2, start = 100., stop = 800.)\n",
    "pulse3.inject_into(I)"
   ]
  },
  {
   "cell_type": "markdown",
   "metadata": {},
   "source": [
    "On enregistre les variations des neurones pendant la simulation"
   ]
  },
  {
   "cell_type": "code",
   "execution_count": 7,
   "metadata": {},
   "outputs": [],
   "source": [
    "M_NM.record(['spikes', 'v'])\n",
    "I.record(['spikes', 'v'])\n",
    "Test_A.record(['spikes', 'v'])\n",
    "Test_B.record(['spikes', 'v'])\n",
    "Sample_A.record(['spikes', 'v'])\n",
    "Sample_B.record(['spikes', 'v'])\n",
    "Inter_A.record(['spikes', 'v'])\n",
    "Inter_B.record(['spikes', 'v'])\n",
    "\n",
    "sim.run(1000)\n",
    "sim.end()"
   ]
  },
  {
   "cell_type": "markdown",
   "metadata": {},
   "source": [
    "Maintenant on plotte"
   ]
  },
  {
   "cell_type": "code",
   "execution_count": 8,
   "metadata": {},
   "outputs": [],
   "source": [
    "import matplotlib.pyplot as plt\n",
    "\n",
    "M_NM_data = M_NM.get_data()\n",
    "M_NM_voltage = M_NM_data.filter(name = 'v')[0]\n",
    "\n",
    "Test_A = Test_A.get_data()\n",
    "Test_A_voltage = Test_A.filter(name = 'v')[0]\n",
    "\n",
    "Sample_A = Sample_A.get_data()\n",
    "Sample_A_voltage = Sample_A.filter(name = 'v')[0]\n",
    "\n",
    "I = I.get_data()\n",
    "I_voltage = I.filter(name = 'v')[0]\n",
    "\n",
    "Inter_A = Inter_A.get_data()\n",
    "Inter_A_voltage = Inter_A.filter(name = 'v')[0]"
   ]
  },
  {
   "cell_type": "code",
   "execution_count": 9,
   "metadata": {},
   "outputs": [
    {
     "data": {
      "text/plain": [
       "Text(0.5,0.98,'Match case (TestA+SampleA)')"
      ]
     },
     "execution_count": 9,
     "metadata": {},
     "output_type": "execute_result"
    },
    {
     "data": {
      "image/png": "[encoded data removed]",
      "text/plain": [
       "<Figure size 864x576 with 5 Axes>"
      ]
     },
     "metadata": {
      "needs_background": "light"
     },
     "output_type": "display_data"
    }
   ],
   "source": [
    "fig, axs = plt.subplots(5,1, figsize = (12,8))\n",
    "\n",
    "axs[0].plot(M_NM_voltage, color = 'black')\n",
    "axs[0].set_title('Match/NoMatch Neuron')\n",
    "axs[0].set_xticklabels([])\n",
    "axs[0].set_ylabel('Mbr voltage (mV)')\n",
    "\n",
    "\n",
    "axs[1].plot(Test_A_voltage, color = 'r')\n",
    "axs[1].set_title('Test A Neuron')\n",
    "axs[1].set_xticklabels([])\n",
    "\n",
    "axs[2].plot(Sample_A_voltage, color = 'r')\n",
    "axs[2].set_title('Sample A Neuron')\n",
    "axs[2].set_xticklabels([])\n",
    "\n",
    "axs[3].plot(I_voltage, color = 'b')\n",
    "axs[3].set_title('Constant Inhibition of  MNM')\n",
    "axs[3].set_xticklabels([])\n",
    "\n",
    "axs[4].plot(Inter_A_voltage, color = 'b')\n",
    "axs[4].set_title('Inter_A Neuron')\n",
    "axs[4].set_xticklabels([0,0,200,400,600,800,1000])\n",
    "axs[4].set_xlabel('Time (ms)')\n",
    "\n",
    "plt.suptitle('Match case (TestA+SampleA)')"
   ]
  },
  {
   "cell_type": "markdown",
   "metadata": {},
   "source": [
    "Maintenant en no match"
   ]
  },
  {
   "cell_type": "code",
   "execution_count": 10,
   "metadata": {},
   "outputs": [],
   "source": [
    "#on lance le simulateur pour qu'il intègre les modèles a venir\n",
    "sim.setup()\n",
    "\n",
    "#nom du neurone = sim.Population(nbr neurone, type de neurone(paramètres), valeurs initiales, label)\n",
    "M_NM = sim.Population(1, sim.IF_cond_exp(**neuron_parameters),\n",
    "                    initial_values={\"v\": neuron_parameters[\"v_reset\"]},\n",
    "                    label=\"Match/NonMatch\")\n",
    "\n",
    "I = sim.Population(1, sim.IF_cond_exp(**neuron_parameters),\n",
    "                    initial_values={\"v\": neuron_parameters[\"v_reset\"]},\n",
    "                    label=\"Constant Inhibitor\")\n",
    "\n",
    "Test_A = sim.Population(1, sim.IF_cond_exp(**neuron_parameters),\n",
    "                    initial_values={\"v\": neuron_parameters[\"v_reset\"]},\n",
    "                    label=\"Test A\")\n",
    "Test_B = sim.Population(1, sim.IF_cond_exp(**neuron_parameters),\n",
    "                    initial_values={\"v\": neuron_parameters[\"v_reset\"]},\n",
    "                    label=\"Test B\")\n",
    "\n",
    "Sample_A = sim.Population(1, sim.IF_cond_exp(**neuron_parameters),\n",
    "                    initial_values={\"v\": neuron_parameters[\"v_reset\"]},\n",
    "                    label=\"Sample A\")\n",
    "Sample_B = sim.Population(1, sim.IF_cond_exp(**neuron_parameters),\n",
    "                    initial_values={\"v\": neuron_parameters[\"v_reset\"]},\n",
    "                    label=\"Sample B\")\n",
    "\n",
    "Inter_A = sim.Population(1, sim.IF_cond_exp(**neuron_parameters),\n",
    "                    initial_values={\"v\": neuron_parameters[\"v_reset\"]},\n",
    "                    label=\"Inter A\")\n",
    "Inter_B = sim.Population(1, sim.IF_cond_exp(**neuron_parameters),\n",
    "                    initial_values={\"v\": neuron_parameters[\"v_reset\"]},\n",
    "                    label=\"Inter B\")\n",
    "\n",
    "#schéma de connexion des synapses une a une, mais demande que les deux pops soient de taille identiques\n",
    "one_connector = sim.OneToOneConnector() \n",
    "\n",
    "#plasticité de la synapse, ici j'en mets pas mais si c'est de l'apprentissage ça serait intéressant de \n",
    "#tester la STDP\n",
    "#poids en nA (ou nS ?) et delai synaptique en ms\n",
    "static_syn = sim.StaticSynapse(weight = .5, delay = 2)\n",
    "\n",
    "#################\n",
    "# Les inhibiteurs\n",
    "#################\n",
    "#sim.Projection(presyn_pop, postsyn_pop, schema de connexion, type de synapse, type de recepteurs, label)\n",
    "I_to_MNM = sim.Projection(I, M_NM,\n",
    "                        connector=one_connector,\n",
    "                        synapse_type=static_syn,\n",
    "                        receptor_type='inhibitory',\n",
    "                        label=\"I to MNM connection\")\n",
    "Ia_to_I = sim.Projection(Inter_A, I,\n",
    "                        connector=one_connector,\n",
    "                        synapse_type=static_syn,\n",
    "                        receptor_type='inhibitory',\n",
    "                        label=\"Ia to I connection\")\n",
    "Ib_to_I = sim.Projection(Inter_B, I,\n",
    "                        connector=one_connector,\n",
    "                        synapse_type=static_syn,\n",
    "                        receptor_type='inhibitory',\n",
    "                        label=\"Ib to I connection\")\n",
    "\n",
    "#################\n",
    "# Les tests\n",
    "#################\n",
    "TA_to_MNM = sim.Projection(Test_A, M_NM,\n",
    "                        connector=one_connector,\n",
    "                        synapse_type=static_syn,\n",
    "                        receptor_type='excitatory',\n",
    "                        label=\"TA to MNM connection\")\n",
    "TA_to_Ib = sim.Projection(Test_A, Inter_B,\n",
    "                        connector=one_connector,\n",
    "                        synapse_type=static_syn,\n",
    "                        receptor_type='excitatory',\n",
    "                        label=\"TA to Ib connection\")\n",
    "TB_to_MNM = sim.Projection(Test_B, M_NM,\n",
    "                        connector=one_connector,\n",
    "                        synapse_type=static_syn,\n",
    "                        receptor_type='excitatory',\n",
    "                        label=\"TB to MNM connection\")\n",
    "TB_to_Ia = sim.Projection(Test_B, Inter_A,\n",
    "                        connector=one_connector,\n",
    "                        synapse_type=static_syn,\n",
    "                        receptor_type='excitatory',\n",
    "                        label=\"TB to Ia connection\")\n",
    "\n",
    "#################\n",
    "# Les priors\n",
    "#################\n",
    "SA_to_MNM = sim.Projection(Sample_A, M_NM,\n",
    "                        connector=one_connector,\n",
    "                        synapse_type=static_syn,\n",
    "                        receptor_type='excitatory',\n",
    "                        label=\"SA to MNM connection\")\n",
    "SA_to_Ia = sim.Projection(Sample_A, Inter_A,\n",
    "                        connector=one_connector,\n",
    "                        synapse_type=static_syn,\n",
    "                        receptor_type='excitatory',\n",
    "                        label=\"SA to Ia connection\")\n",
    "SB_to_MNM = sim.Projection(Sample_B, M_NM,\n",
    "                        connector=one_connector,\n",
    "                        synapse_type=static_syn,\n",
    "                        receptor_type='excitatory',\n",
    "                        label=\"SA to Ia connection\")\n",
    "SB_to_Ib = sim.Projection(Sample_B, Inter_B,\n",
    "                        connector=one_connector,\n",
    "                        synapse_type=static_syn,\n",
    "                        receptor_type='excitatory',\n",
    "                        label=\"SA to Ia connection\")\n",
    "\n",
    "amp = .3\n",
    "\n",
    "pulse = sim.DCSource(amplitude = amp, start = 300., stop = 350.)\n",
    "pulse.inject_into(Sample_A)\n",
    "\n",
    "pulse2 = sim.DCSource(amplitude = amp, start = 310., stop = 350.)\n",
    "pulse2.inject_into(Test_B)\n",
    "\n",
    "pulse3 = sim.DCSource(amplitude = amp/2, start = 100., stop = 800.)\n",
    "pulse3.inject_into(I)\n",
    "\n",
    "M_NM.record(['spikes', 'v'])\n",
    "I.record(['spikes', 'v'])\n",
    "Test_A.record(['spikes', 'v'])\n",
    "Test_B.record(['spikes', 'v'])\n",
    "Sample_A.record(['spikes', 'v'])\n",
    "Sample_B.record(['spikes', 'v'])\n",
    "Inter_A.record(['spikes', 'v'])\n",
    "Inter_B.record(['spikes', 'v'])\n",
    "\n",
    "sim.run(1000)\n",
    "sim.end()"
   ]
  },
  {
   "cell_type": "code",
   "execution_count": 11,
   "metadata": {},
   "outputs": [],
   "source": [
    "import matplotlib.pyplot as plt\n",
    "\n",
    "M_NM_data = M_NM.get_data()\n",
    "M_NM_voltage = M_NM_data.filter(name = 'v')[0]\n",
    "\n",
    "Test_B = Test_B.get_data()\n",
    "Test_B_voltage = Test_B.filter(name = 'v')[0]\n",
    "\n",
    "Sample_A = Sample_A.get_data()\n",
    "Sample_A_voltage = Sample_A.filter(name = 'v')[0]\n",
    "\n",
    "I = I.get_data()\n",
    "I_voltage = I.filter(name = 'v')[0]\n",
    "\n",
    "Inter_A = Inter_A.get_data()\n",
    "Inter_A_voltage = Inter_A.filter(name = 'v')[0]"
   ]
  },
  {
   "cell_type": "code",
   "execution_count": 12,
   "metadata": {},
   "outputs": [
    {
     "data": {
      "text/plain": [
       "Text(0.5,0.98,'No Match case (TestB+SampleA)')"
      ]
     },
     "execution_count": 12,
     "metadata": {},
     "output_type": "execute_result"
    },
    {
     "data": {
      "image/png": "[encoded data removed]",
      "text/plain": [
       "<Figure size 864x576 with 5 Axes>"
      ]
     },
     "metadata": {
      "needs_background": "light"
     },
     "output_type": "display_data"
    }
   ],
   "source": [
    "fig, axs = plt.subplots(5,1, figsize = (12,8))\n",
    "\n",
    "axs[0].plot(M_NM_voltage, color = 'black')\n",
    "axs[0].set_title('Match/NoMatch Neuron')\n",
    "axs[0].set_xticklabels([])\n",
    "\n",
    "axs[1].plot(Test_A_voltage, color = 'r')\n",
    "axs[1].set_title('Test B Neuron')\n",
    "axs[1].set_xticklabels([])\n",
    "\n",
    "axs[2].plot(Sample_A_voltage, color = 'r')\n",
    "axs[2].set_title('Sample A Neuron')\n",
    "axs[2].set_xticklabels([])\n",
    "\n",
    "axs[3].plot(I_voltage, color = 'b')\n",
    "axs[3].set_title('Constant Inhibition of  MNM')\n",
    "axs[3].set_xticklabels([])\n",
    "\n",
    "axs[4].plot(Inter_A_voltage, color = 'b')\n",
    "axs[4].set_title('Inter_A Neuron')\n",
    "axs[4].set_xticklabels([0,0,200,400,600,800,1000])\n",
    "axs[4].set_xlabel('Time (ms)')\n",
    "\n",
    "plt.suptitle('Match case (TestA+SampleA)')\n",
    "\n",
    "plt.suptitle('No Match case (TestB+SampleA)')"
   ]
  },
  {
   "cell_type": "code",
   "execution_count": null,
   "metadata": {},
   "outputs": [],
   "source": []
  }
 ],
 "metadata": {
  "kernelspec": {
   "display_name": "Python 3",
   "language": "python",
   "name": "python3"
  },
  "language_info": {
   "codemirror_mode": {
    "name": "ipython",
    "version": 3
   },
   "file_extension": ".py",
   "mimetype": "text/x-python",
   "name": "python",
   "nbconvert_exporter": "python",
   "pygments_lexer": "ipython3",
   "version": "3.7.1"
  }
 },
 "nbformat": 4,
 "nbformat_minor": 2
}
