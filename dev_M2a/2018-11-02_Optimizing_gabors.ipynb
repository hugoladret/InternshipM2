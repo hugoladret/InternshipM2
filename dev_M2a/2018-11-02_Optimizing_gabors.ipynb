{
 "cells": [
  {
   "cell_type": "markdown",
   "metadata": {},
   "source": [
    "# 2018 11 02 Optimisation des Gabors\n",
    "Youpi ça marche, maintenant il me faut une fonction de sauvegarde des courants de chaque filtre pour pouvoir les inputs sur une cellule V1\n",
    "\n",
    "Il faut tout passer en fonction\n",
    "\n",
    "Puis passer en mutlithreading\n",
    "\n",
    "Et faire des bugfixes\n",
    "\n",
    "Il est 14h, en avant guingamp"
   ]
  },
  {
   "cell_type": "markdown",
   "metadata": {},
   "source": [
    "# Partie 1 : Faire des fonctions"
   ]
  },
  {
   "cell_type": "code",
   "execution_count": 1,
   "metadata": {
    "ExecuteTime": {
     "end_time": "2018-12-20T10:12:07.445307Z",
     "start_time": "2018-12-20T10:12:07.437816Z"
    }
   },
   "outputs": [],
   "source": [
    "# les classiques\n",
    "def spatial_filter(wx=5., wy=5., xres=.1, yres=.1, sigma_center=1., sigma_surround=1.2,\n",
    "                   x_trans=0, y_trans=0, theta=0, end_multiplier=-1.):\n",
    "    ''' wx, wy : x/y width\n",
    "    xres, yres : x/y resolution\n",
    "    sigma_center : U.A related to the center of the circle\n",
    "    sigma_surround : U.A related to the surround of of the circle\n",
    "    x_trans, y_trans : 0, 0 #translation of the filter\n",
    "    end_mutiplier : decreases the spatial filter response and triggers ON(negative value) or OFF(positives)\n",
    "    center-surround fields\n",
    "    '''\n",
    "    x = np.arange((-wx+x_trans), (wx+x_trans), xres)\n",
    "    y = np.arange((-wy+y_trans), (wy+y_trans), yres)\n",
    "    X,Y = np.meshgrid(x,y)\n",
    "\n",
    "    radius = np.sqrt((X-x_trans)**2 + (Y-y_trans)**2)\n",
    "    center = (1.0 / sigma_center**2) * np.exp(-.5*(radius / sigma_center)**2)\n",
    "    surround = (1.0 / sigma_surround**2) * \\\n",
    "        np.exp(-.5*(radius / sigma_surround)**2)\n",
    "\n",
    "    Z = surround - center\n",
    "    Z *= end_multiplier\n",
    "    return X, Y, Z\n",
    "\n",
    "def temporal_filter(t = 1 , response_time = 175, refrac_time = 50,\n",
    "                   K1 = .92, c1 = 0.2, n1 = 7, t1 = -6,\n",
    "                   K2 = .2, c2 = .12, n2 = 8, t2 = -6,\n",
    "                   baseline = 0., gain = 90):\n",
    "    '''\n",
    "    Arguments :\n",
    "    --> time = time for which the filter's reponse is calculated\n",
    "    --> total_time = time the filter takes to do a full response, starting from 0, peaking, undershooting\n",
    "    and going to 0 again\n",
    "    --> refrac_time = refraction time after which the filter can be activated again\n",
    "    --> other params are as f(x) = K * [ (c*(t-1))**2 * e^(-c1(t-t1)) ] / [ (n**2) * e^-n]\n",
    "    (see wikipedia for formula)\n",
    "    -->-->K relates to the height, c to the opening\n",
    "    '''\n",
    "    \n",
    "    #t = np.arange(0, total_time*t_res, t_res)\n",
    "    p = baseline\n",
    "    p += K1 * ( (c1 * (t - t1))**n1 * np.exp(-c1 * (t-t1))) / (n1**2)*np.exp(-n1)\n",
    "    p -= K2 * ( (c2 * (t - t2))**n2 * np.exp(-c2 * (t-t2))) / (n2**2)*np.exp(-n2)\n",
    "    return p*gain #oups je me suis planté d'un facteur 90, c'est un sacré miss"
   ]
  },
  {
   "cell_type": "code",
   "execution_count": 2,
   "metadata": {
    "ExecuteTime": {
     "end_time": "2018-12-20T10:12:07.571738Z",
     "start_time": "2018-12-20T10:12:07.446676Z"
    }
   },
   "outputs": [],
   "source": [
    "#les gabors\n",
    "def generate_small_gabors(params, N_X, N_Y, N_theta, centers_coordinates, nbr_gabors=6,\n",
    "                   B_theta= 15 , sf_0 = .05, B_sf = .5):\n",
    "    '''\n",
    "    UNUSED\n",
    "    Given some gabor parameters, a set of coordinates for centering gabors, returns\n",
    "    a bunch of gabors' phi-space per each theta\n",
    "    Params :\n",
    "        params : the default parameters dictionnary\n",
    "        N_X, N_Y : Gabor size, usually the same as the video, 54 usually\n",
    "        N_theta : number of orientations\n",
    "        centers_coordinates : a 2D array containing two list of coordinates for\n",
    "                                centering the gabors\n",
    "        nbr_gabors : the number of gabor done per each theta\n",
    "        B_theta, sf_0, B_sf : usual params for the gabor shape\n",
    "    '''\n",
    "    \n",
    "    xs = centers_coordinates[0]\n",
    "    ys = centers_coordinates[1]\n",
    "    \n",
    "    N_X = int(N_X)\n",
    "    N_Y = int(N_Y)\n",
    "    N_phase = 2\n",
    "\n",
    "    lg = LogGabor(params)\n",
    "    lg.set_size((N_X, N_Y))\n",
    "\n",
    "    B_theta = B_theta /180 * np.pi\n",
    "    params= {'sf_0':sf_0, 'B_sf': B_sf, 'B_theta': B_theta}\n",
    "    thetas = np.linspace(0, np.pi, N_theta)\n",
    "    \n",
    "    theta_phi_list = []\n",
    "    for t in range(N_theta) :\n",
    "        phi = np.zeros((1, N_phase, N_X, N_Y))\n",
    "        theta = thetas[t]\n",
    "        params.update(theta=theta) \n",
    "        \n",
    "        phi_list = []\n",
    "        for gab in range(nbr_gabors) :\n",
    "            x = xs[gab]\n",
    "            y = ys[gab]\n",
    "\n",
    "            for i_phase in range(N_phase):\n",
    "                phase = i_phase * np.pi/2\n",
    "                kernel = lg.invert(lg.loggabor(x, y, **params)*np.exp(-1j*phase))\n",
    "                phi[0, i_phase, :] = lg.normalize(kernel)\n",
    "            \n",
    "            phi_list.append(phi)\n",
    "        theta_phi_list.append(phi_list)\n",
    "    return theta_phi_list\n",
    "    \n",
    "def gabor_connectivity(filters, phi, theta, threshold, on = True):\n",
    "    '''\n",
    "    From an array of filters and a gabor phi-space, returns the filters in the phi-space above a threshold\n",
    "    Args :\n",
    "        Filters (ndarray) : A 2D array of filters to localize on the gabor\n",
    "        Phi : A phi space from a LogGabor\n",
    "        Threshold : the threshold above which (or below, given 'on' param) we select the filters\n",
    "        on : True if we're passing on center filters, False if we're doing off center filters\n",
    "    '''\n",
    "    if on : gab_above_threshold = np.array([*np.where(phi[theta,0] > threshold)], dtype = float).T\n",
    "    else :gab_above_threshold = np.array([*np.where(phi[theta ,0] < threshold)], dtype = float).T\n",
    "\n",
    "    filters_in_gabor = []\n",
    "    for it, filt in enumerate(filters) :\n",
    "        for gabs in gab_above_threshold :\n",
    "            if np.all(filt.astype(int) == gabs): filters_in_gabor.append(filt)\n",
    "\n",
    "    return filters_in_gabor"
   ]
  },
  {
   "cell_type": "code",
   "execution_count": 3,
   "metadata": {
    "ExecuteTime": {
     "end_time": "2018-12-20T10:12:07.682259Z",
     "start_time": "2018-12-20T10:12:07.576043Z"
    }
   },
   "outputs": [],
   "source": [
    "def generate_small_gabors_coordinates(params, N_X, N_Y, N_theta, centers_coordinates, nbr_gabors=6,\n",
    "                                   B_theta= 15 , sf_0 = .05, B_sf = .5,\n",
    "                                     distrib_size = 8, grid_res = 3, on_thresh = .1, off_thresh = -.1,\n",
    "                                     verbose = True):\n",
    "    '''\n",
    "    Given some gabor parameters, a set of coordinates for centering gabors, returns a set of \n",
    "    coordinates for filters belonging into the gabors\n",
    "    \n",
    "    The code iterates through thetas and generate nbr_gabors set of ON/OFF filters\n",
    "    \n",
    "    Params :\n",
    "        params : the default parameters dictionnary\n",
    "        N_X, N_Y : Gabor size, usually the same as the video, 54 usually\n",
    "        N_theta : number of orientations\n",
    "        centers_coordinates : a 2D array containing two list of coordinates for\n",
    "                                centering the gabors\n",
    "        nbr_gabors : the number of gabor done per each theta\n",
    "        B_theta, sf_0, B_sf : usual params for the gabor shape, \n",
    "                                B_theta being the opening of the gabor, sf_0 the spatia frequency \n",
    "                                and b_sf the bandwidth frequency\n",
    "    '''\n",
    "    \n",
    "    xs = centers_coordinates[0]\n",
    "    ys = centers_coordinates[1]\n",
    "    \n",
    "    N_X = int(N_X)\n",
    "    N_Y = int(N_Y)\n",
    "    N_phase = 2\n",
    "\n",
    "    lg = LogGabor(params)\n",
    "    lg.set_size((N_X, N_Y))\n",
    "\n",
    "    B_theta = B_theta /180 * np.pi\n",
    "    params= {'sf_0':sf_0, 'B_sf': B_sf, 'B_theta': B_theta}\n",
    "    thetas = np.linspace(0, np.pi, N_theta)\n",
    "    \n",
    "    filters_per_theta = []\n",
    "    for t in range(N_theta) :\n",
    "        phi = np.zeros((1, N_phase, N_X, N_Y))\n",
    "        theta = thetas[t]\n",
    "        params.update(theta=theta) \n",
    "        \n",
    "        filters_per_gab = []\n",
    "        for gab in range(nbr_gabors) :\n",
    "            x = xs[gab]\n",
    "            y = ys[gab]\n",
    "\n",
    "            for i_phase in range(N_phase):\n",
    "                phase = i_phase * np.pi/2\n",
    "                kernel = lg.invert(lg.loggabor(x, y, **params)*np.exp(-1j*phase))\n",
    "                phi[0, i_phase, :] = lg.normalize(kernel)\n",
    "            \n",
    "            fx_min = x - distrib_size\n",
    "            fx_max = x + distrib_size\n",
    "            fy_min = y - distrib_size\n",
    "            fy_max = y + distrib_size\n",
    "            filters_coordinates = np.mgrid[fx_min:fx_max:grid_res,fy_min:fy_max:grid_res].reshape(2,-1).T\n",
    "            if verbose and t == 0 and gab == 0 : print('Filter grid shape', filters_coordinates.shape)\n",
    "                \n",
    "            filters_in_gabor = gabor_connectivity(filters = filters_coordinates,\n",
    "                                                  phi = phi,theta =  0, threshold =on_thresh)\n",
    "            off_filters_in_gabor = gabor_connectivity(filters = filters_coordinates,\n",
    "                                                  phi = phi,theta =  0, threshold =off_thresh, on = False)\n",
    "            \n",
    "            filters_per_gab.append((filters_in_gabor, off_filters_in_gabor))\n",
    "            \n",
    "        filters_per_theta.append(filters_per_gab)\n",
    "        \n",
    "    return filters_per_theta\n",
    "\n"
   ]
  },
  {
   "cell_type": "code",
   "execution_count": 4,
   "metadata": {
    "ExecuteTime": {
     "end_time": "2018-12-20T10:12:07.798996Z",
     "start_time": "2018-12-20T10:12:07.686683Z"
    }
   },
   "outputs": [],
   "source": [
    "def generate_big_gabors_coordinates(params, N_X, N_Y, N_theta,center_coordinates,\n",
    "                                   B_theta= 15 , sf_0 = .075, B_sf = .7,\n",
    "                                     distrib_size = 25, grid_res = 3, on_thresh = .1, off_thresh = -.1,\n",
    "                                     verbose = True):\n",
    "    '''\n",
    "    Given some gabor parameters, a set of coordinates for centering gabors, returns a set of \n",
    "    coordinates for filters belonging into the one gabor per theta\n",
    "    \n",
    "    The code iterates through thetas and generate one gabor set of ON/OFF filters per theta\n",
    "    \n",
    "    Params :\n",
    "        params : the default parameters dictionnary\n",
    "        N_X, N_Y : Gabor size, usually the same as the video, 54 usually\n",
    "        N_theta : number of orientations\n",
    "        center_coordinates : a 2D array containing two ints for the center of the big gabor\n",
    "        nbr_gabors : the number of gabor done per each theta\n",
    "        B_theta, sf_0, B_sf : usual params for the gabor shape, \n",
    "                                B_theta being the opening of the gabor, sf_0 the spatia frequency \n",
    "                                and b_sf the bandwidth frequency\n",
    "    '''\n",
    "    \n",
    "    x = center_coordinates[0]\n",
    "    y = center_coordinates[1]\n",
    "    \n",
    "    N_X = int(N_X)\n",
    "    N_Y = int(N_Y)\n",
    "    N_phase = 2\n",
    "\n",
    "    lg = LogGabor(params)\n",
    "    lg.set_size((N_X, N_Y))\n",
    "\n",
    "    B_theta = B_theta /180 * np.pi\n",
    "    params= {'sf_0':sf_0, 'B_sf': B_sf, 'B_theta': B_theta}\n",
    "    thetas = np.linspace(0, np.pi, N_theta)\n",
    "    \n",
    "    filters_per_theta = []\n",
    "    for t in range(N_theta) :\n",
    "        phi = np.zeros((1, N_phase, N_X, N_Y))\n",
    "        theta = thetas[t]\n",
    "        params.update(theta=theta) \n",
    "\n",
    "        for i_phase in range(N_phase):\n",
    "            phase = i_phase * np.pi/2\n",
    "            kernel = lg.invert(lg.loggabor(x, y, **params)*np.exp(-1j*phase))\n",
    "            phi[0, i_phase, :] = lg.normalize(kernel)\n",
    "\n",
    "        fx_min = x - distrib_size\n",
    "        fx_max = x + distrib_size\n",
    "        fy_min = y - distrib_size\n",
    "        fy_max = y + distrib_size\n",
    "        filters_coordinates = np.mgrid[fx_min:fx_max:grid_res,fy_min:fy_max:grid_res].reshape(2,-1).T\n",
    "        if verbose and t == 0 : print('Filter grid shape', filters_coordinates.shape)\n",
    "                \n",
    "        filters_in_gabor = gabor_connectivity(filters = filters_coordinates,\n",
    "                                              phi = phi,theta =  0, threshold =on_thresh)\n",
    "        off_filters_in_gabor = gabor_connectivity(filters = filters_coordinates,\n",
    "                                              phi = phi,theta =  0, threshold =off_thresh, on = False)\n",
    "\n",
    "        filters_per_theta.append((filters_in_gabor, off_filters_in_gabor))\n",
    "\n",
    "    return filters_per_theta"
   ]
  },
  {
   "cell_type": "code",
   "execution_count": 5,
   "metadata": {
    "ExecuteTime": {
     "end_time": "2018-12-20T10:12:08.080697Z",
     "start_time": "2018-12-20T10:12:07.803089Z"
    }
   },
   "outputs": [
    {
     "name": "stdout",
     "output_type": "stream",
     "text": [
      "Video shape (64, 64, 128)\n"
     ]
    }
   ],
   "source": [
    "import numpy as np\n",
    "import matplotlib.pyplot as plt\n",
    "from tqdm import tqdm\n",
    "from LogGabor import LogGabor\n",
    "\n",
    "############\n",
    "# Constantes\n",
    "############\n",
    "gabors_parameterfile = {'B_sf': 0.4, 'B_theta': 0.17453277777777776, 'N_X': 256, 'N_Y': 256,\n",
    " 'N_image': 100, 'base_levels': 1.618, 'datapath': 'database', 'do_mask': True,\n",
    " 'do_whitening': True, 'dpi': 450,'edgefigpath': 'results/edges','edgematpath': 'cache_dir/edges',\n",
    " 'ext': '.pdf','figpath': 'results','figsize': 14.0,'formats': ['pdf', 'png', 'jpg'],\n",
    " 'mask_exponent': 3.0, 'matpath': 'cache_dir','n_theta': 24, 'noise': 0.1, 'seed': None,\n",
    " 'use_cache': True, 'verbose': 0, 'white_N': 0.07, 'white_N_0': 0.0, 'white_alpha': 1.4,\n",
    " 'white_f_0': 0.4, 'white_n_learning': 0, 'white_name_database': 'kodakdb',\n",
    " 'white_recompute': False, 'white_steepness': 4.0}\n",
    "\n",
    "video = np.load('MotionClouds_64x64x128_24FPS.npy')\n",
    "video = np.rot90(video)\n",
    "print('Video shape', video.shape)\n",
    "\n",
    "total_time = 1000 #ms, temps de simulation\n",
    "filter_size = 2.\n",
    "\n",
    "distrib_size = 8\n",
    "grid_res = 3\n",
    "\n",
    "centers_coordinates = np.array([[35, 20, 35, 10, 20, 35]\n",
    "                            ,[35, 20, 10, 35, 35, 20]])"
   ]
  },
  {
   "cell_type": "code",
   "execution_count": 6,
   "metadata": {
    "ExecuteTime": {
     "end_time": "2018-12-20T10:12:17.227008Z",
     "start_time": "2018-12-20T10:12:08.081877Z"
    }
   },
   "outputs": [
    {
     "name": "stdout",
     "output_type": "stream",
     "text": [
      "Filter grid shape (36, 2)\n"
     ]
    }
   ],
   "source": [
    "gsgc = generate_small_gabors_coordinates(params = gabors_parameterfile, N_X = 54, N_Y = 54, N_theta = 12,\n",
    "                     centers_coordinates = centers_coordinates, distrib_size = distrib_size,\n",
    "                        grid_res = grid_res)"
   ]
  },
  {
   "cell_type": "code",
   "execution_count": 7,
   "metadata": {
    "ExecuteTime": {
     "end_time": "2018-12-20T10:12:17.230544Z",
     "start_time": "2018-12-20T10:12:17.228057Z"
    }
   },
   "outputs": [
    {
     "name": "stdout",
     "output_type": "stream",
     "text": [
      "Example : \n",
      "[array([18, 27]), array([18, 30]), array([18, 33]), array([18, 36]), array([18, 39]), array([18, 42]), array([21, 27]), array([21, 30]), array([21, 33]), array([21, 36]), array([21, 39]), array([21, 42])]\n"
     ]
    }
   ],
   "source": [
    "#Data structure is, per list index, gsgc[theta][gabor][0=ON;1=OFF][specific tuple of coordinates]\n",
    "print('Example : ')\n",
    "print(gsgc[0][4][0])"
   ]
  },
  {
   "cell_type": "code",
   "execution_count": 8,
   "metadata": {
    "ExecuteTime": {
     "end_time": "2018-12-20T10:12:21.280542Z",
     "start_time": "2018-12-20T10:12:17.231704Z"
    }
   },
   "outputs": [
    {
     "name": "stdout",
     "output_type": "stream",
     "text": [
      "Filter grid shape (289, 2)\n"
     ]
    }
   ],
   "source": [
    "gbgc = generate_big_gabors_coordinates(params = gabors_parameterfile, N_X = 54, N_Y = 54, N_theta = 12,\n",
    "                     center_coordinates = np.array([[27], [27]]))"
   ]
  },
  {
   "cell_type": "code",
   "execution_count": 9,
   "metadata": {
    "ExecuteTime": {
     "end_time": "2018-12-20T10:12:21.283668Z",
     "start_time": "2018-12-20T10:12:21.281693Z"
    }
   },
   "outputs": [
    {
     "name": "stdout",
     "output_type": "stream",
     "text": [
      "20\n"
     ]
    }
   ],
   "source": [
    "#For big gabor data structure is gbgc[theta][0=ON;1=OFF][specific tuple of coordinates]\n",
    "print(len(gbgc[0][1]))"
   ]
  },
  {
   "cell_type": "markdown",
   "metadata": {},
   "source": [
    "# Génerer un Gabor et y associer des filtres"
   ]
  },
  {
   "cell_type": "code",
   "execution_count": 10,
   "metadata": {
    "ExecuteTime": {
     "end_time": "2018-12-20T10:12:21.575534Z",
     "start_time": "2018-12-20T10:12:21.284912Z"
    }
   },
   "outputs": [
    {
     "ename": "NameError",
     "evalue": "name 'phi' is not defined",
     "output_type": "error",
     "traceback": [
      "\u001b[0;31m---------------------------------------------------------------------------\u001b[0m",
      "\u001b[0;31mNameError\u001b[0m                                 Traceback (most recent call last)",
      "\u001b[0;32m<ipython-input-10-8bb04f2e5362>\u001b[0m in \u001b[0;36m<module>\u001b[0;34m()\u001b[0m\n\u001b[1;32m      1\u001b[0m \u001b[0mfig\u001b[0m\u001b[0;34m,\u001b[0m \u001b[0max\u001b[0m \u001b[0;34m=\u001b[0m \u001b[0mplt\u001b[0m\u001b[0;34m.\u001b[0m\u001b[0msubplots\u001b[0m\u001b[0;34m(\u001b[0m\u001b[0mfigsize\u001b[0m \u001b[0;34m=\u001b[0m \u001b[0;34m(\u001b[0m\u001b[0;36m7\u001b[0m\u001b[0;34m,\u001b[0m\u001b[0;36m6\u001b[0m\u001b[0;34m)\u001b[0m\u001b[0;34m)\u001b[0m\u001b[0;34m\u001b[0m\u001b[0m\n\u001b[0;32m----> 2\u001b[0;31m \u001b[0max\u001b[0m\u001b[0;34m.\u001b[0m\u001b[0mimshow\u001b[0m\u001b[0;34m(\u001b[0m\u001b[0mphi\u001b[0m\u001b[0;34m[\u001b[0m\u001b[0;36m0\u001b[0m\u001b[0;34m,\u001b[0m\u001b[0;36m0\u001b[0m\u001b[0;34m]\u001b[0m\u001b[0;34m,\u001b[0m \u001b[0mcmap\u001b[0m\u001b[0;34m=\u001b[0m\u001b[0mplt\u001b[0m\u001b[0;34m.\u001b[0m\u001b[0mgray\u001b[0m\u001b[0;34m(\u001b[0m\u001b[0;34m)\u001b[0m\u001b[0;34m)\u001b[0m \u001b[0;31m#[theta_nbr, phase, content]\u001b[0m\u001b[0;34m\u001b[0m\u001b[0m\n\u001b[0m\u001b[1;32m      3\u001b[0m \u001b[0;31m#fig.colorbar(ax.contourf(phi[0,0], cmap=plt.gray()))\u001b[0m\u001b[0;34m\u001b[0m\u001b[0;34m\u001b[0m\u001b[0m\n\u001b[1;32m      4\u001b[0m \u001b[0;34m\u001b[0m\u001b[0m\n\u001b[1;32m      5\u001b[0m \u001b[0;32mfor\u001b[0m \u001b[0mfilt\u001b[0m \u001b[0;32min\u001b[0m \u001b[0mfilters_coordinates\u001b[0m \u001b[0;34m:\u001b[0m\u001b[0;34m\u001b[0m\u001b[0m\n",
      "\u001b[0;31mNameError\u001b[0m: name 'phi' is not defined"
     ]
    },
    {
     "data": {
      "image/png": "[encoded data removed]",
      "text/plain": [
       "<Figure size 504x432 with 1 Axes>"
      ]
     },
     "metadata": {
      "needs_background": "light"
     },
     "output_type": "display_data"
    }
   ],
   "source": [
    "fig, ax = plt.subplots(figsize = (7,6))\n",
    "ax.imshow(phi[0,0], cmap=plt.gray()) #[theta_nbr, phase, content]\n",
    "#fig.colorbar(ax.contourf(phi[0,0], cmap=plt.gray()))\n",
    "\n",
    "for filt in filters_coordinates :\n",
    "    ax.scatter(filt[0], filt[1], color = 'r', s = 20**2, facecolor = 'None', edgecolor = 'orange',\n",
    "               alpha = .8)\n",
    "    \n",
    "for filt in filters_in_gabor :\n",
    "    ax.scatter(filt[0], filt[1], color = 'r', s = 20**2, facecolor = 'None', edgecolor = 'red')\n",
    "    \n",
    "for filt in off_filters_in_gabor :\n",
    "    ax.scatter(filt[0], filt[1], color = 'r', s = 20**2, facecolor = 'None', edgecolor = 'blue')\n",
    "    \n",
    "ax.set_xlabel('X')\n",
    "ax.set_ylabel('Y')\n",
    "ax.set_title('Gabor connectivity for V1 columns')\n",
    "plt.tight_layout()"
   ]
  },
  {
   "cell_type": "markdown",
   "metadata": {},
   "source": [
    "# Comparison 1 : One big Gabor per orientation AKA Full Field Gabor\n",
    "## Laptop : Wall time: 1min 56s\n",
    "Simplifié en 25 RF par orientation "
   ]
  },
  {
   "cell_type": "code",
   "execution_count": 11,
   "metadata": {
    "ExecuteTime": {
     "end_time": "2018-12-20T10:12:30.819102Z",
     "start_time": "2018-12-20T10:12:30.788594Z"
    }
   },
   "outputs": [
    {
     "ename": "NameError",
     "evalue": "name 'parameterfile' is not defined",
     "output_type": "error",
     "traceback": [
      "\u001b[0;31m---------------------------------------------------------------------------\u001b[0m",
      "\u001b[0;31mNameError\u001b[0m                                 Traceback (most recent call last)",
      "\u001b[0;32m<timed exec>\u001b[0m in \u001b[0;36m<module>\u001b[0;34m()\u001b[0m\n",
      "\u001b[0;31mNameError\u001b[0m: name 'parameterfile' is not defined"
     ]
    }
   ],
   "source": [
    "%%time\n",
    "# GABOR\n",
    "from LogGabor import LogGabor\n",
    "N_X, N_Y, N_frame = video.shape\n",
    "N_X = int(N_X)\n",
    "N_Y = int(N_Y)\n",
    "\n",
    "lg = LogGabor(parameterfile)\n",
    "lg.set_size((N_X, N_Y))\n",
    "\n",
    "B_theta = 15 /180 * np.pi\n",
    "params= {'sf_0':.075, 'B_sf': .07, 'B_theta': B_theta}\n",
    "\n",
    "N_theta, N_phase = 12, 2\n",
    "theta = np.linspace(0, np.pi, N_theta)\n",
    "\n",
    "phi = np.zeros((N_theta, N_phase, N_X, N_Y))\n",
    "\n",
    "for i_theta in range(N_theta):\n",
    "    x = N_X/2\n",
    "    y = N_Y/2\n",
    "    params.update(theta=i_theta*np.pi/N_theta)\n",
    "    for i_phase in range(N_phase):\n",
    "        \n",
    "        phase = i_phase * np.pi/2\n",
    "        kernel = lg.invert(lg.loggabor(x, y, **params)*np.exp(-1j*phase))\n",
    "        phi[i_theta, i_phase, :] = lg.normalize(kernel)\n",
    "        \n",
    "        \n",
    "        \n",
    "#CONSTANTS\n",
    "total_time = 1000 #ms,\n",
    "fps = 24 #c'est pas très gamer tout ça \n",
    "filter_size = 2.\n",
    "filter_res = .1\n",
    "\n",
    "distrib_size = 8\n",
    "fx_min = x - distrib_size\n",
    "fx_max = x + distrib_size\n",
    "fy_min = y - distrib_size\n",
    "fy_max = y + distrib_size\n",
    "grid_res = 3\n",
    "\n",
    "filters_coordinates = np.mgrid[fx_min:fx_max:grid_res,fy_min:fy_max:grid_res].reshape(2,-1).T\n",
    "\n",
    "print('Filter array size', filters_coordinates.shape)  \n",
    "\n",
    "filters_per_theta = []\n",
    "stimuli = video\n",
    "#FILTERS IN GABOR\n",
    "for theta in tqdm(range(N_theta), 'Iterating through thetas') :\n",
    "    filters_in_gabor = gabor_connectivity(filters = filters_coordinates,\n",
    "                                          phi = phi,theta =  theta, threshold =0)\n",
    "\n",
    "    off_filters_in_gabor = gabor_connectivity(filters = filters_coordinates,\n",
    "                                          phi = phi,theta =  theta, threshold =0, on = False)\n",
    "    \n",
    "    #CAlCULER TOUT LES FILTRES\n",
    "    convo_list = []\n",
    "    st_list = []\n",
    "    on_st_levels = []\n",
    "    \n",
    "    #LES FILTRES ON \n",
    "    for filt in range(len(filters_in_gabor)):\n",
    "        X,Y,Z = spatial_filter(wx = filter_size, wy=filter_size,\n",
    "                               xres = filter_res, yres = filter_res,\n",
    "                               x_trans= filters_in_gabor[filt][0],\n",
    "                              y_trans = filters_in_gabor[filt][1]) \n",
    "        t = [temporal_filter(i) for i in np.linspace(0,total_time, total_time)]\n",
    "\n",
    "        #Convolution coordinates, centered around the filter and the size of the filter space\n",
    "        X_convo_minus = int(filters_in_gabor[filt][0]-filter_size)\n",
    "        X_convo_plus = int(filters_in_gabor[filt][0]+filter_size)\n",
    "        Y_convo_minus = int(filters_in_gabor[filt][1]-filter_size)\n",
    "        Y_convo_plus = int(filters_in_gabor[filt][1]+filter_size)\n",
    "\n",
    "        activations = []\n",
    "        for i in np.linspace(0, total_time-1, total_time):\n",
    "            activations.append(np.max(stimuli[:,:,int(i)][X_convo_minus:X_convo_plus,Y_convo_minus:Y_convo_plus] \\\n",
    "                                      *Z[X_convo_minus:X_convo_plus,Y_convo_minus:Y_convo_plus]))\n",
    "\n",
    "        ys = np.convolve(t, activations)\n",
    "        st = Z[:, :, None] * ys[None, None, :]\n",
    "\n",
    "        convo_list.append(ys)\n",
    "        st_list.append(st)\n",
    "        \n",
    "        on_st_level = []\n",
    "        for i in range(total_time):\n",
    "            on_st_level.append(np.max(st[:,:,i]))\n",
    "        on_st_levels.append(on_st_level)\n",
    "        \n",
    "    convo_list = []\n",
    "    st_list = []\n",
    "    off_st_levels = []\n",
    "    \n",
    "    #LES FILTRES OFF \n",
    "    for filt in range(len(off_filters_in_gabor)):\n",
    "        X,Y,Z = spatial_filter(wx = filter_size, wy=filter_size,\n",
    "                               xres = filter_res, yres = filter_res,\n",
    "                               x_trans= off_filters_in_gabor[filt][0],\n",
    "                              y_trans = off_filters_in_gabor[filt][1],\n",
    "                              end_multiplier = 1.) \n",
    "        t = [temporal_filter(i) for i in np.linspace(0,total_time, total_time)]\n",
    "\n",
    "        #Convolution coordinates, centered around the filter and the size of the filter space\n",
    "        X_convo_minus = int(off_filters_in_gabor[filt][0]-filter_size)\n",
    "        X_convo_plus = int(off_filters_in_gabor[filt][0]+filter_size)\n",
    "        Y_convo_minus = int(off_filters_in_gabor[filt][1]-filter_size)\n",
    "        Y_convo_plus = int(off_filters_in_gabor[filt][1]+filter_size)\n",
    "\n",
    "        activations = []\n",
    "        for i in np.linspace(0, total_time-1, total_time):\n",
    "            activations.append(np.max(stimuli[:,:,int(i)][X_convo_minus:X_convo_plus,Y_convo_minus:Y_convo_plus] \\\n",
    "                                      *Z[X_convo_minus:X_convo_plus,Y_convo_minus:Y_convo_plus]))\n",
    "\n",
    "        ys = np.convolve(t, activations)\n",
    "        st = Z[:, :, None] * ys[None, None, :]\n",
    "\n",
    "        convo_list.append(ys)\n",
    "        st_list.append(st)\n",
    "        \n",
    "        off_st_level = []\n",
    "        for i in range(total_time):\n",
    "            off_st_level.append(np.max(st[:,:,i]))\n",
    "        off_st_levels.append(off_st_level)\n",
    "    \n",
    "    filters_per_theta.append((on_st_levels, off_st_levels))"
   ]
  },
  {
   "cell_type": "code",
   "execution_count": 12,
   "metadata": {
    "ExecuteTime": {
     "end_time": "2018-12-20T10:12:32.021557Z",
     "start_time": "2018-12-20T10:12:32.004650Z"
    }
   },
   "outputs": [
    {
     "ename": "NameError",
     "evalue": "name 'filters_per_theta' is not defined",
     "output_type": "error",
     "traceback": [
      "\u001b[0;31m---------------------------------------------------------------------------\u001b[0m",
      "\u001b[0;31mNameError\u001b[0m                                 Traceback (most recent call last)",
      "\u001b[0;32m<ipython-input-12-265481f32aca>\u001b[0m in \u001b[0;36m<module>\u001b[0;34m()\u001b[0m\n\u001b[1;32m      5\u001b[0m \u001b[0mtheta_nbr\u001b[0m \u001b[0;34m=\u001b[0m \u001b[0;36m10\u001b[0m\u001b[0;34m\u001b[0m\u001b[0m\n\u001b[1;32m      6\u001b[0m \u001b[0;34m\u001b[0m\u001b[0m\n\u001b[0;32m----> 7\u001b[0;31m \u001b[0mon_st_levels\u001b[0m \u001b[0;34m=\u001b[0m \u001b[0mfilters_per_theta\u001b[0m\u001b[0;34m[\u001b[0m\u001b[0mtheta_nbr\u001b[0m\u001b[0;34m]\u001b[0m\u001b[0;34m[\u001b[0m\u001b[0;36m0\u001b[0m\u001b[0;34m]\u001b[0m\u001b[0;34m\u001b[0m\u001b[0m\n\u001b[0m\u001b[1;32m      8\u001b[0m \u001b[0moff_st_levels\u001b[0m \u001b[0;34m=\u001b[0m \u001b[0mfilters_per_theta\u001b[0m\u001b[0;34m[\u001b[0m\u001b[0mtheta_nbr\u001b[0m\u001b[0;34m]\u001b[0m\u001b[0;34m[\u001b[0m\u001b[0;36m1\u001b[0m\u001b[0;34m]\u001b[0m\u001b[0;34m\u001b[0m\u001b[0m\n\u001b[1;32m      9\u001b[0m \u001b[0mchans\u001b[0m \u001b[0;34m=\u001b[0m \u001b[0mlen\u001b[0m\u001b[0;34m(\u001b[0m\u001b[0mon_st_levels\u001b[0m\u001b[0;34m)\u001b[0m \u001b[0;34m+\u001b[0m \u001b[0mlen\u001b[0m\u001b[0;34m(\u001b[0m\u001b[0moff_st_levels\u001b[0m\u001b[0;34m)\u001b[0m \u001b[0;31m#channels\u001b[0m\u001b[0;34m\u001b[0m\u001b[0m\n",
      "\u001b[0;31mNameError\u001b[0m: name 'filters_per_theta' is not defined"
     ]
    }
   ],
   "source": [
    "import numpy as np\n",
    "import pylab as plt\n",
    "import itertools\n",
    "\n",
    "theta_nbr = 10\n",
    "\n",
    "on_st_levels = filters_per_theta[theta_nbr][0]\n",
    "off_st_levels = filters_per_theta[theta_nbr][1]\n",
    "chans = len(on_st_levels) + len(off_st_levels) #channels\n",
    "\n",
    "fig = plt.figure(figsize = (15,8))\n",
    "ax = fig.add_subplot(111)\n",
    "\n",
    "ax.set_facecolor('black')\n",
    "\n",
    "on_colors=plt.cm.autumn(np.linspace(0,.7,len(on_st_levels)))\n",
    "off_colors=plt.cm.winter(np.linspace(0,.7,len(off_st_levels)))\n",
    "\n",
    "on_arr = np.asarray(on_st_levels)\n",
    "off_arr = np.asarray(off_st_levels)\n",
    "divby = 10\n",
    "\n",
    "for channel in range(chans):\n",
    "    if channel < len(off_st_levels) :\n",
    "        plt.fill_between(np.linspace(0, len(on_st_levels[0]), len(on_st_levels[0])),\n",
    "                         off_arr[channel]+channel/divby, channel/divby,\n",
    "                         facecolor='black',\n",
    "                         zorder = chans-channel)\n",
    "        plt.plot(off_arr[channel]+channel/divby, zorder = chans-channel,\n",
    "                color = off_colors[channel])\n",
    "    else : \n",
    "        plt.fill_between(np.linspace(0, len(off_st_levels[0]), len(off_st_levels[0])),\n",
    "                         on_arr[channel-len(off_st_levels)]+channel/divby, channel/divby,\n",
    "                         facecolor='black',\n",
    "                         zorder = chans-channel)\n",
    "        plt.plot(on_arr[channel-len(off_st_levels)]+channel/divby, zorder = chans-channel,\n",
    "                color = on_colors[channel-len(off_st_levels)])\n",
    "ax.set_yticklabels(['','','OFF fields','','' 'ON fields'])\n",
    "\n",
    "ax.set_xticklabels([])\n",
    "\n",
    "ax = fig.add_subplot(1, 2,1)\n",
    "theta_nbr = 6\n",
    "\n",
    "on_st_levels = filters_per_theta[theta_nbr][0]\n",
    "off_st_levels = filters_per_theta[theta_nbr][1]\n",
    "chans = len(on_st_levels) + len(off_st_levels) #channels\n",
    "\n",
    "\n",
    "ax.set_facecolor('black')\n",
    "\n",
    "on_colors=plt.cm.autumn(np.linspace(0,.7,len(on_st_levels)))\n",
    "off_colors=plt.cm.winter(np.linspace(0,.7,len(off_st_levels)))\n",
    "\n",
    "on_arr = np.asarray(on_st_levels)\n",
    "off_arr = np.asarray(off_st_levels)\n",
    "divby = 10\n",
    "\n",
    "for channel in range(chans):\n",
    "    if channel < len(off_st_levels) :\n",
    "        plt.fill_between(np.linspace(0, len(on_st_levels[0]), len(on_st_levels[0])),\n",
    "                         off_arr[channel]+channel/divby, channel/divby,\n",
    "                         facecolor='black',\n",
    "                         zorder = chans-channel)\n",
    "        plt.plot(off_arr[channel]+channel/divby, zorder = chans-channel,\n",
    "                color = off_colors[channel])\n",
    "    else : \n",
    "        plt.fill_between(np.linspace(0, len(off_st_levels[0]), len(off_st_levels[0])),\n",
    "                         on_arr[channel-len(off_st_levels)]+channel/divby, channel/divby,\n",
    "                         facecolor='black',\n",
    "                         zorder = chans-channel)\n",
    "        plt.plot(on_arr[channel-len(off_st_levels)]+channel/divby, zorder = chans-channel,\n",
    "                color = on_colors[channel-len(off_st_levels)])\n",
    "        \n",
    "\n",
    "ax.set_yticklabels([])\n",
    "ax.set_xticklabels([])\n",
    "plt.xlabel('Time (ms)')\n",
    "plt.suptitle(x = .5, y = .94,t = 'Full-Field Gabor, Theta = 0 and 90 °\\nThe stimulus is mainly horizontal')\n",
    "\n",
    "plt.subplots_adjust(wspace = .1)\n",
    "\n",
    "#plt.savefig('./figs/2018_10_30_Comparison_Large_Gabors.pdf', format = 'pdf', dpi = 200, bbox_inches = 'tight')\n",
    "plt.show() \n"
   ]
  },
  {
   "cell_type": "markdown",
   "metadata": {},
   "source": [
    "# Comparison 2 : Small Gabors\n",
    "## Laptop : Wall time: 4min 20s\n"
   ]
  },
  {
   "cell_type": "code",
   "execution_count": 13,
   "metadata": {
    "ExecuteTime": {
     "end_time": "2018-12-20T10:12:44.468795Z",
     "start_time": "2018-12-20T10:12:37.960280Z"
    },
    "scrolled": false
   },
   "outputs": [
    {
     "ename": "NameError",
     "evalue": "name 'parameterfile' is not defined",
     "output_type": "error",
     "traceback": [
      "\u001b[0;31m---------------------------------------------------------------------------\u001b[0m",
      "\u001b[0;31mNameError\u001b[0m                                 Traceback (most recent call last)",
      "\u001b[0;32m<ipython-input-13-134d35666ad9>\u001b[0m in \u001b[0;36m<module>\u001b[0;34m()\u001b[0m\n\u001b[1;32m     13\u001b[0m     \u001b[0mN_Y\u001b[0m \u001b[0;34m=\u001b[0m \u001b[0mint\u001b[0m\u001b[0;34m(\u001b[0m\u001b[0mN_Y\u001b[0m\u001b[0;34m)\u001b[0m\u001b[0;34m\u001b[0m\u001b[0m\n\u001b[1;32m     14\u001b[0m \u001b[0;34m\u001b[0m\u001b[0m\n\u001b[0;32m---> 15\u001b[0;31m     \u001b[0mlg\u001b[0m \u001b[0;34m=\u001b[0m \u001b[0mLogGabor\u001b[0m\u001b[0;34m(\u001b[0m\u001b[0mparameterfile\u001b[0m\u001b[0;34m)\u001b[0m\u001b[0;34m\u001b[0m\u001b[0m\n\u001b[0m\u001b[1;32m     16\u001b[0m     \u001b[0mlg\u001b[0m\u001b[0;34m.\u001b[0m\u001b[0mset_size\u001b[0m\u001b[0;34m(\u001b[0m\u001b[0;34m(\u001b[0m\u001b[0mN_X\u001b[0m\u001b[0;34m,\u001b[0m \u001b[0mN_Y\u001b[0m\u001b[0;34m)\u001b[0m\u001b[0;34m)\u001b[0m\u001b[0;34m\u001b[0m\u001b[0m\n\u001b[1;32m     17\u001b[0m \u001b[0;34m\u001b[0m\u001b[0m\n",
      "\u001b[0;31mNameError\u001b[0m: name 'parameterfile' is not defined"
     ]
    },
    {
     "data": {
      "image/png": "[encoded data removed]",
      "text/plain": [
       "<Figure size 720x1296 with 144 Axes>"
      ]
     },
     "metadata": {
      "needs_background": "light"
     },
     "output_type": "display_data"
    }
   ],
   "source": [
    "from LogGabor import LogGabor\n",
    "import random\n",
    "\n",
    "nbr_gabors = 12\n",
    "N_theta, N_phase = 12, 2\n",
    "thetas = np.linspace(0, np.pi, N_theta)\n",
    "\n",
    "fig, axs = plt.subplots(N_theta,nbr_gabors,figsize = (10,18))\n",
    "for t in range(N_theta) :\n",
    "    \n",
    "    N_X, N_Y, N_frame = video.shape\n",
    "    N_X = int(N_X)\n",
    "    N_Y = int(N_Y)\n",
    "\n",
    "    lg = LogGabor(parameterfile)\n",
    "    lg.set_size((N_X, N_Y))\n",
    "\n",
    "    B_theta = 15 /180 * np.pi\n",
    "\n",
    "\n",
    "    N_phase = 2\n",
    "    theta = thetas[t]\n",
    "    phi = np.zeros((t, N_phase, N_X, N_Y))\n",
    "    params= {'sf_0':.05, 'B_sf': .5, 'B_theta': B_theta}\n",
    "    params.update(theta=theta)\n",
    "\n",
    "    nbr_gabors = 6 \n",
    "    xs = [40, 20, 40, 10, 20, 40]\n",
    "    ys = [40, 20, 10, 40, 40, 20]\n",
    "    \n",
    "    xs = [35, 20, 35, 10, 20, 35]\n",
    "    ys = [35, 20, 10, 35, 35, 20]\n",
    "    \n",
    "    for gab in range(nbr_gabors) :\n",
    "        x = xs[gab]\n",
    "        y = ys[gab]\n",
    "\n",
    "        for i_phase in range(N_phase):\n",
    "            phase = i_phase * np.pi/2\n",
    "            kernel = lg.invert(lg.loggabor(x, y, **params)*np.exp(-1j*phase))\n",
    "            phi[0, i_phase, :] = lg.normalize(kernel)\n",
    "        \n",
    "        distrib_size = 8\n",
    "        fx_min = x - distrib_size\n",
    "        fx_max = x + distrib_size\n",
    "        fy_min = y - distrib_size\n",
    "        fy_max = y + distrib_size\n",
    "        grid_res = 3\n",
    "\n",
    "        filters_coordinates = np.mgrid[fx_min:fx_max:grid_res,fy_min:fy_max:grid_res].reshape(2,-1).T\n",
    "\n",
    "        #print('Filter array size', filters_coordinates.shape)\n",
    "\n",
    "\n",
    "        filters_in_gabor = gabor_connectivity(filters = filters_coordinates,\n",
    "                                              phi = phi,theta =  0, threshold =.3)\n",
    "\n",
    "        off_filters_in_gabor = gabor_connectivity(filters = filters_coordinates,\n",
    "                                              phi = phi,theta =  0, threshold =-0.1, on = False)\n",
    "\n",
    "\n",
    "        axs[t][gab].imshow(phi[0,0], cmap=plt.gray()) #[theta_nbr, phase, content]\n",
    "        #fig.colorbar(ax.contourf(phi[0,0], cmap=plt.gray()))\n",
    "\n",
    "        '''for filt in filters_coordinates :\n",
    "             axs[t][gab].scatter(filt[1], filt[0], color = 'r', s = 20**2, facecolor = 'None', edgecolor = 'orange',\n",
    "                       alpha = .8)'''\n",
    "\n",
    "        for filt in filters_in_gabor :\n",
    "             axs[t][gab].scatter(filt[1], filt[0], color = 'r', s = 15**2, facecolor = 'None', \n",
    "                                 edgecolor = 'red')\n",
    "\n",
    "        for filt in off_filters_in_gabor :\n",
    "             axs[t][gab].scatter(filt[1], filt[0], color = 'r', s = 15**2, facecolor = 'None', \n",
    "                                 edgecolor = 'blue', alpha = .6)\n",
    "        \n",
    "        axs[t][gab].set_ylabel((r\"$\\Theta$ = %.2f°\" % (theta*180/np.pi)) if gab == 0 else '')\n",
    "        axs[t][gab].set_xlim(54,0)\n",
    "        axs[t][gab].set_ylim(0,54)\n",
    "        axs[t][gab].set_yticklabels([])\n",
    "        axs[t][gab].set_xticklabels([])\n",
    "        \n",
    "        \n",
    "\n",
    "    '''plt.suptitle(x = .5, y = .7, \n",
    "                 t ='Theta = %.2f°' % (theta*180/np.pi))'''\n",
    "#plt.subplots_adjust(left = .1, right = .9, bottom = .1, top = .7,hspace = .01, wspace = .01)\n",
    "plt.tight_layout()\n",
    "#plt.savefig('./figs/2018_11_02_Gab_vs_thetas.pdf', format = 'pdf', bbox_inches = 'tight')\n",
    "plt.show()\n",
    "    #plt.savefig('./figs/2018_11_02_GabTheta%s.pdf'%theta, format = 'pdf', bbox_inches = 'tight')\n",
    "    #plt.pause(.1)"
   ]
  },
  {
   "cell_type": "code",
   "execution_count": null,
   "metadata": {
    "ExecuteTime": {
     "end_time": "2018-12-20T10:12:21.577814Z",
     "start_time": "2018-12-20T10:12:07.461Z"
    }
   },
   "outputs": [],
   "source": [
    "%%time\n",
    "from LogGabor import LogGabor\n",
    "import random\n",
    "\n",
    "N_theta, N_phase = 12, 2\n",
    "thetas = np.linspace(0, np.pi, N_theta)\n",
    "\n",
    "gabors_per_theta = []\n",
    "stimuli = video\n",
    "# loop through thetas\n",
    "for theta in tqdm(range(N_theta), 'Iterating through thetas') :\n",
    "    \n",
    "    N_X, N_Y, N_frame = video.shape\n",
    "    N_X = int(N_X)\n",
    "    N_Y = int(N_Y)\n",
    "\n",
    "    lg = LogGabor(parameterfile)\n",
    "    lg.set_size((N_X, N_Y))\n",
    "\n",
    "    B_theta = 15 /180 * np.pi\n",
    "\n",
    "\n",
    "    N_phase = 2\n",
    "    theta = thetas[theta]\n",
    "    phi = np.zeros((1, N_phase, N_X, N_Y))\n",
    "    params= {'sf_0':.05, 'B_sf': .5, 'B_theta': B_theta}\n",
    "    params.update(theta=theta)\n",
    "\n",
    "    nbr_gabors = 6 \n",
    "    xs = [40, 20, 40, 10, 20, 40]\n",
    "    ys = [40, 20, 10, 40, 40, 20]\n",
    "    \n",
    "    xs = [30, 20, 30, 10, 20, 30]\n",
    "    ys = [30, 20, 10, 30, 30, 20]\n",
    "    \n",
    "    \n",
    "    filters_per_theta = []\n",
    "    #loop through gabors\n",
    "    for gab in range(nbr_gabors) :\n",
    "        x = xs[gab]\n",
    "        y = ys[gab]\n",
    "\n",
    "        for i_phase in range(N_phase):\n",
    "            phase = i_phase * np.pi/2\n",
    "            kernel = lg.invert(lg.loggabor(x, y, **params)*np.exp(-1j*phase))\n",
    "            phi[0, i_phase, :] = lg.normalize(kernel)\n",
    "        \n",
    "        distrib_size = 8\n",
    "        fx_min = x - distrib_size\n",
    "        fx_max = x + distrib_size\n",
    "        fy_min = y - distrib_size\n",
    "        fy_max = y + distrib_size\n",
    "        grid_res = 3\n",
    "\n",
    "        filters_coordinates = np.mgrid[fx_min:fx_max:grid_res,fy_min:fy_max:grid_res].reshape(2,-1).T\n",
    "\n",
    "        #print('Filter array size', filters_coordinates.shape)\n",
    "\n",
    "\n",
    "        filters_in_gabor = gabor_connectivity(filters = filters_coordinates,\n",
    "                                              phi = phi,theta =  0, threshold =.3)\n",
    "\n",
    "        off_filters_in_gabor = gabor_connectivity(filters = filters_coordinates,\n",
    "                                              phi = phi,theta =  0, threshold =-0.1, on = False)\n",
    "\n",
    "        #LES FILTRES ON \n",
    "        convo_list = []\n",
    "        st_list = []\n",
    "        on_st_levels = []\n",
    "\n",
    "        for filt in range(len(filters_in_gabor)):\n",
    "            try :\n",
    "                X,Y,Z = spatial_filter(wx = filter_size, wy=filter_size,\n",
    "                                       xres = filter_res, yres = filter_res,\n",
    "                                       x_trans= filters_in_gabor[filt][0],\n",
    "                                      y_trans = filters_in_gabor[filt][1]) \n",
    "                t = [temporal_filter(i) for i in np.linspace(0,total_time, total_time)]\n",
    "\n",
    "                #Convolution coordinates, centered around the filter and the size of the filter space\n",
    "                X_convo_minus = int(filters_in_gabor[filt][0]-filter_size)\n",
    "                X_convo_plus = int(filters_in_gabor[filt][0]+filter_size)\n",
    "                Y_convo_minus = int(filters_in_gabor[filt][1]-filter_size)\n",
    "                Y_convo_plus = int(filters_in_gabor[filt][1]+filter_size)\n",
    "\n",
    "                activations = []\n",
    "                for i in np.linspace(0, total_time-1, total_time):\n",
    "                    activations.append(np.max(stimuli[:,:,int(i)][X_convo_minus:X_convo_plus,Y_convo_minus:Y_convo_plus] \\\n",
    "                                              *Z[X_convo_minus:X_convo_plus,Y_convo_minus:Y_convo_plus]))\n",
    "\n",
    "                ys = np.convolve(t, activations)\n",
    "                st = Z[:, :, None] * ys[None, None, :]\n",
    "\n",
    "                convo_list.append(ys)\n",
    "                st_list.append(st)\n",
    "\n",
    "                on_st_level = []\n",
    "                for i in range(total_time):\n",
    "                    on_st_level.append(np.max(st[:,:,i]))\n",
    "                on_st_levels.append(on_st_level)\n",
    "            except :\n",
    "                print('Error : The RF is outside the image')\n",
    "                pass\n",
    "        \n",
    "        #LES FILTRES OFF \n",
    "        convo_list = []\n",
    "        st_list = []\n",
    "        off_st_levels = []\n",
    "\n",
    "        for filt in range(len(off_filters_in_gabor)):\n",
    "            try :\n",
    "                X,Y,Z = spatial_filter(wx = filter_size, wy=filter_size,\n",
    "                                       xres = filter_res, yres = filter_res,\n",
    "                                       x_trans= off_filters_in_gabor[filt][0],\n",
    "                                      y_trans = off_filters_in_gabor[filt][1],\n",
    "                                      end_multiplier = 1.) \n",
    "                t = [temporal_filter(i) for i in np.linspace(0,total_time, total_time)]\n",
    "\n",
    "                #Convolution coordinates, centered around the filter and the size of the filter space\n",
    "                X_convo_minus = int(off_filters_in_gabor[filt][0]-filter_size)\n",
    "                X_convo_plus = int(off_filters_in_gabor[filt][0]+filter_size)\n",
    "                Y_convo_minus = int(off_filters_in_gabor[filt][1]-filter_size)\n",
    "                Y_convo_plus = int(off_filters_in_gabor[filt][1]+filter_size)\n",
    "\n",
    "                activations = []\n",
    "                for i in np.linspace(0, total_time-1, total_time):\n",
    "                    activations.append(np.max(stimuli[:,:,int(i)][X_convo_minus:X_convo_plus,Y_convo_minus:Y_convo_plus] \\\n",
    "                                              *Z[X_convo_minus:X_convo_plus,Y_convo_minus:Y_convo_plus]))\n",
    "\n",
    "                ys = np.convolve(t, activations)\n",
    "                st = Z[:, :, None] * ys[None, None, :]\n",
    "\n",
    "                convo_list.append(ys)\n",
    "                st_list.append(st)\n",
    "\n",
    "                off_st_level = []\n",
    "                for i in range(total_time):\n",
    "                    off_st_level.append(np.max(st[:,:,i]))\n",
    "                off_st_levels.append(off_st_level)\n",
    "            except :\n",
    "                print('Error : The RF is outside the image')\n",
    "                pass\n",
    "\n",
    "\n",
    "        filters_per_theta.append((on_st_levels, off_st_levels))\n",
    "    gabors_per_theta.append(filters_per_theta)\n"
   ]
  },
  {
   "cell_type": "code",
   "execution_count": null,
   "metadata": {
    "ExecuteTime": {
     "end_time": "2018-12-20T10:12:21.578334Z",
     "start_time": "2018-12-20T10:12:07.463Z"
    }
   },
   "outputs": [],
   "source": [
    "#the structure is weird as fuck, here is how it works.\n",
    "print('We used %s thetas' % len(gabors_per_theta))\n",
    "print('There is %s gabor per theta' %len(gabors_per_theta[0]))\n",
    "print('There are %s types of filters per gabor' %len(gabors_per_theta[0][0]))\n",
    "print('For the first theta and first gabor, we have %s ON filters' %len(gabors_per_theta[0][0][0]))\n",
    "\n",
    "print('For the first theta and first gabor, we have %s OFF filters' %len(gabors_per_theta[0][0][1]))"
   ]
  },
  {
   "cell_type": "code",
   "execution_count": null,
   "metadata": {
    "ExecuteTime": {
     "end_time": "2018-12-20T10:12:21.579020Z",
     "start_time": "2018-12-20T10:12:07.464Z"
    }
   },
   "outputs": [],
   "source": [
    "plt.plot(gabors_per_theta[0][1][1][2]) #theta = 0, premier gabor, RF on, deuxième RF de la liste"
   ]
  }
 ],
 "metadata": {
  "kernelspec": {
   "display_name": "Python 3",
   "language": "python",
   "name": "python3"
  },
  "language_info": {
   "codemirror_mode": {
    "name": "ipython",
    "version": 3
   },
   "file_extension": ".py",
   "mimetype": "text/x-python",
   "name": "python",
   "nbconvert_exporter": "python",
   "pygments_lexer": "ipython3",
   "version": "3.7.2"
  },
  "toc": {
   "base_numbering": 1,
   "nav_menu": {},
   "number_sections": true,
   "sideBar": true,
   "skip_h1_title": false,
   "title_cell": "Table of Contents",
   "title_sidebar": "Contents",
   "toc_cell": false,
   "toc_position": {},
   "toc_section_display": true,
   "toc_window_display": false
  }
 },
 "nbformat": 4,
 "nbformat_minor": 2
}
