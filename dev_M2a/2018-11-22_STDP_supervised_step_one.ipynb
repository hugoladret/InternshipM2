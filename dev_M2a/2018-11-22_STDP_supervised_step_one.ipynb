{
 "cells": [
  {
   "cell_type": "markdown",
   "metadata": {},
   "source": [
    "# 2018-11-22 Supervised Learning et STDP\n",
    "Le notebook de la veille est une non-supervisée à la K-means, qui force le ring à être topographique ET sparse, c'est merveilleux ça marche toubien.\n",
    "\n",
    "La logique aurait été de faire le notebook d'aujourd'hui en premier mais une fois encore le plan du développement ne suit pas le plan de ce que mon cerveau veut bien coder :-) \n",
    "\n",
    "Dans ce notebook on va donc utiliser la STDP dans le ring et des cellulese externes qui connaissent le ground-truth pour imposer l'apprentissage de l'orientation, dans le but d'apprendre un pattern qui ressemblerait a une cellule complexe.\n",
    "\n",
    "# Pas de topologie pour bien séparer les deux !\n",
    "\n",
    "Pour le retrieval : http://neuralensemble.org/docs/PyNN/connections.html?highlight=stdpmechanism#accessing-weights-and-delays\n",
    "\n",
    "# On cite le papier de bengio qui approxime la stdp comme une descente de gradient ?"
   ]
  },
  {
   "cell_type": "code",
   "execution_count": 1,
   "metadata": {
    "ExecuteTime": {
     "end_time": "2018-11-26T14:42:42.226741Z",
     "start_time": "2018-11-26T14:42:39.438218Z"
    }
   },
   "outputs": [
    {
     "name": "stderr",
     "output_type": "stream",
     "text": [
      "/home/hugo/anaconda3/lib/python3.6/site-packages/h5py/__init__.py:36: FutureWarning: Conversion of the second argument of issubdtype from `float` to `np.floating` is deprecated. In future, it will be treated as `np.float64 == np.dtype(float).type`.\n",
      "  from ._conv import register_converters as _register_converters\n"
     ]
    },
    {
     "name": "stdout",
     "output_type": "stream",
     "text": [
      "CSAConnector: libneurosim support not available in NEST.\n",
      "Falling back on PyNN's default CSAConnector.\n",
      "Please re-compile NEST using --with-libneurosim=PATH\n"
     ]
    }
   ],
   "source": [
    "import numpy as np\n",
    "import matplotlib.pyplot as plt\n",
    "from LogGabor import LogGabor\n",
    "import Spiking_LGN as SpiLGN\n",
    "import datetime\n",
    "from tqdm import tqdm\n",
    "\n",
    "import pyNN.nest as sim\n",
    "from pyNN.random import RandomDistribution as rnd\n",
    "from pyNN.parameters import Sequence\n",
    "from pyNN.utility.plotting import Figure, Panel"
   ]
  },
  {
   "cell_type": "markdown",
   "metadata": {},
   "source": [
    "# On va tout regénerer dans le notebook pour bien controler\n",
    "# Les MotionClouds, theta = pi/4 :"
   ]
  },
  {
   "cell_type": "code",
   "execution_count": 2,
   "metadata": {
    "ExecuteTime": {
     "end_time": "2018-11-26T14:42:43.607046Z",
     "start_time": "2018-11-26T14:42:42.235554Z"
    }
   },
   "outputs": [
    {
     "name": "stdout",
     "output_type": "stream",
     "text": [
      "MC shape (64, 64, 128)\n"
     ]
    },
    {
     "data": {
      "image/png": "[encoded data removed]",
      "text/plain": [
       "<Figure size 432x432 with 1 Axes>"
      ]
     },
     "metadata": {},
     "output_type": "display_data"
    }
   ],
   "source": [
    "import MotionClouds as mc\n",
    "\n",
    "mc_theta = np.pi/4\n",
    "fx, fy, ft = mc.get_grids(64, 64, 128)\n",
    "\n",
    "envelope = mc.envelope_gabor(fx, fy, ft,\n",
    "                             V_X=1., V_Y=0., B_V=.1,\n",
    "                             sf_0=.15, B_sf=.1,\n",
    "                             theta=mc_theta, B_theta=np.pi/12, alpha=1.)\n",
    "\n",
    "movie = mc.random_cloud(envelope)\n",
    "movie = mc.rectif(movie)\n",
    "\n",
    "print('MC shape', movie.shape)\n",
    "\n",
    "plt.figure(figsize = (6,6))\n",
    "plt.imshow(movie[:,:,4], cmap = plt.cm.cividis)\n",
    "plt.title('Theta = %.2f°' % (mc_theta*180/np.pi))\n",
    "plt.show()"
   ]
  },
  {
   "cell_type": "markdown",
   "metadata": {},
   "source": [
    "# Les courants"
   ]
  },
  {
   "cell_type": "code",
   "execution_count": 3,
   "metadata": {
    "ExecuteTime": {
     "end_time": "2018-11-26T15:11:13.635257Z",
     "start_time": "2018-11-26T14:42:43.614823Z"
    }
   },
   "outputs": [
    {
     "name": "stdout",
     "output_type": "stream",
     "text": [
      "MotionCloud shape (64, 64, 128)\n",
      "Video shape (64, 64, 128)\n",
      "Frames per second: 24.0\n",
      "Frame duration at 24.0 FPS: 41.67 ms\n",
      "Video length inferred from fps: 6 s\n",
      "FPS conversion sanity check passed !\n",
      "\n",
      "Stimuli shape (64, 64, 1000)\n",
      "Warning : offset lower than distribution, risk of filters being eliminated\n",
      "\n",
      "Generating filters coordinates with gabors ..\n"
     ]
    },
    {
     "name": "stderr",
     "output_type": "stream",
     "text": [
      "[Parallel(n_jobs=-1)]: Using backend LokyBackend with 4 concurrent workers.\n",
      "[Parallel(n_jobs=-1)]: Done   5 tasks      | elapsed:  8.8min\n",
      "[Parallel(n_jobs=-1)]: Done   7 out of  12 | elapsed:  8.9min remaining:  6.4min\n",
      "[Parallel(n_jobs=-1)]: Done   9 out of  12 | elapsed: 13.1min remaining:  4.4min\n",
      "[Parallel(n_jobs=-1)]: Done  12 out of  12 | elapsed: 13.3min finished\n",
      "[Parallel(n_jobs=-1)]: Using backend LokyBackend with 4 concurrent workers.\n"
     ]
    },
    {
     "name": "stdout",
     "output_type": "stream",
     "text": [
      "Done ! Generating currents from filters ..\n"
     ]
    },
    {
     "name": "stderr",
     "output_type": "stream",
     "text": [
      "[Parallel(n_jobs=-1)]: Done   5 tasks      | elapsed:  9.6min\n",
      "[Parallel(n_jobs=-1)]: Done   7 out of  12 | elapsed:  9.7min remaining:  7.0min\n",
      "[Parallel(n_jobs=-1)]: Done   9 out of  12 | elapsed: 15.1min remaining:  5.0min\n",
      "[Parallel(n_jobs=-1)]: Done  12 out of  12 | elapsed: 15.2min finished\n"
     ]
    }
   ],
   "source": [
    "video = movie\n",
    "print('MotionCloud shape', video.shape)\n",
    "\n",
    "output_currents = SpiLGN.input_to_currents(video=video, FPS=24., total_time=1000,\n",
    "                                           distrib_size=8, safeguard_offset=5, random_shift=1, grid_res=3,\n",
    "                                           N_theta=12, B_theta=15, sf_0=.05, B_sf=.5,\n",
    "                                           on_thresh=0, off_thresh=0,\n",
    "                                           filter_size=2., filter_res=.1,\n",
    "                                           sampling_rate = 1,\n",
    "                                           n_jobs=-1, backend='loky', mt_verbose=10)\n",
    "\n",
    "load_arr = np.asarray(output_currents) #ça evite de réécrire tout le code"
   ]
  },
  {
   "cell_type": "markdown",
   "metadata": {},
   "source": [
    "# Hyperparams de simulation"
   ]
  },
  {
   "cell_type": "code",
   "execution_count": 4,
   "metadata": {
    "ExecuteTime": {
     "end_time": "2018-11-26T15:11:13.874356Z",
     "start_time": "2018-11-26T15:11:13.696983Z"
    }
   },
   "outputs": [
    {
     "name": "stdout",
     "output_type": "stream",
     "text": [
      "Total neurons 588\n"
     ]
    },
    {
     "name": "stderr",
     "output_type": "stream",
     "text": [
      "/home/hugo/anaconda3/lib/python3.6/site-packages/ipykernel_launcher.py:34: DeprecationWarning: object of type <class 'float'> cannot be safely interpreted as an integer.\n"
     ]
    }
   ],
   "source": [
    "##########\n",
    "# Params #\n",
    "##########\n",
    "neuron_params = {'cm': .5, #nF - McCormick\n",
    "                 'e_rev_E': 0.0, #mV - McCormick but default values\n",
    "                 'e_rev_I': -70.0, #mV - McCormick but default values\n",
    "                 'tau_m': 30, #ms - Markram\n",
    "                 'tau_refrac': 1.5, #ms - McCormick\n",
    "                 'tau_syn_E': 0.25, #ms -McCormick\n",
    "                 'tau_syn_I': 0.75, #ms - McCormick\n",
    "                 'v_reset': -56.5, #mV - McCormick\n",
    "                 'v_rest': -73.6, #mV - McCormick\n",
    "                 'v_thresh': -52.5 #mV - McCormick #mV - McCormick\n",
    "                    }\n",
    "\n",
    "syn_params = {'sparseness' : .05, # U.Arb.\n",
    "             'w' : .01, # siemens ?,\n",
    "             'delay' : 2. #ms\n",
    "             }\n",
    "\n",
    "stdp_params = {'tplus' : 20., #bi and po 98\n",
    "              'tminus' : 20., #bi and po 98\n",
    "              'aplus' : .05, #a calibrer avec le W synaptique\n",
    "              'aminus' : .05,\n",
    "               'wmin' : 0, #silent synapse at the very least\n",
    "               'wmax' : .5 #50 times potentation at max (not very biolike)\n",
    "              }\n",
    "gain = .05\n",
    "injection_sampling_rate = 1\n",
    "total_time = 1000\n",
    "\n",
    "total_neurons = load_arr.shape[0] * load_arr.shape[1]\n",
    "\n",
    "current_times = np.linspace(0,total_time,total_time/injection_sampling_rate)\n",
    "print('Total neurons', total_neurons)"
   ]
  },
  {
   "cell_type": "code",
   "execution_count": null,
   "metadata": {
    "ExecuteTime": {
     "start_time": "2018-11-26T14:42:39.437Z"
    }
   },
   "outputs": [
    {
     "name": "stderr",
     "output_type": "stream",
     "text": [
      "LGN is communicating with V1: 100%|██████████| 588/588 [01:43<00:00,  5.69it/s]"
     ]
    }
   ],
   "source": [
    "#############\n",
    "# Simulation#\n",
    "#############\n",
    "sim.setup(timestep=0.1)\n",
    "\n",
    "simple_cells = sim.Population(total_neurons, sim.IF_cond_alpha(**neuron_params),\n",
    "                        initial_values={\"v\": neuron_params[\"v_reset\"]}, label=\"simple_cells\")\n",
    "\n",
    "stdp_connexion = sim.STDPMechanism(\n",
    "                    weight=syn_params['w'],\n",
    "                    delay=syn_params['delay'],\n",
    "                    timing_dependence=sim.SpikePairRule(tau_plus=stdp_params['tplus'], \n",
    "                                                        tau_minus=stdp_params['tminus'],\n",
    "                                                        A_plus=stdp_params['aplus'],\n",
    "                                                        A_minus=stdp_params['aminus']),\n",
    "                    weight_dependence=sim.AdditiveWeightDependence(w_min=stdp_params['wmin'],\n",
    "                                                                   w_max=stdp_params['wmax']),\n",
    "                    dendritic_delay_fraction=1.)\n",
    "\n",
    "neuron_iterator = 0\n",
    "\n",
    "with tqdm(total = total_neurons, desc = 'LGN is communicating with V1') as progress_bar :\n",
    "    for orientations in load_arr:\n",
    "        for positions in orientations :\n",
    "            #injecting all ON LGN current\n",
    "            for inputs in positions[0]:\n",
    "                current_level = inputs[::injection_sampling_rate]\n",
    "                current_level = np.asarray(current_level)\n",
    "\n",
    "                current_input = sim.StepCurrentSource(times = current_times,\n",
    "                                                 amplitudes = current_level*gain)\n",
    "                current_input.inject_into(simple_cells[neuron_iterator:neuron_iterator+1])\n",
    "                current_input.record()\n",
    "                \n",
    "            #injecting all OFF LGN current\n",
    "            for inputs in positions[1]:\n",
    "                current_level = inputs[::injection_sampling_rate]\n",
    "                current_level = np.asarray(current_level)\n",
    "\n",
    "                current_input = sim.StepCurrentSource(times = current_times,\n",
    "                                                 amplitudes = current_level*gain)\n",
    "                current_input.inject_into(simple_cells[neuron_iterator:neuron_iterator+1])\n",
    "                current_input.record()\n",
    "                \n",
    "            #moving on to next V1 neuron \n",
    "            neuron_iterator +=1\n",
    "            progress_bar.update(1)\n",
    "            \n",
    "simple_cells.record(['spikes', 'v'])\n",
    "sim.run(total_time)\n",
    "sim.end()"
   ]
  },
  {
   "cell_type": "code",
   "execution_count": null,
   "metadata": {
    "ExecuteTime": {
     "start_time": "2018-11-26T14:42:39.449Z"
    }
   },
   "outputs": [],
   "source": [
    "v1_data = simple_cells.get_data().segments[0]\n",
    "v1_voltage = v1_data.analogsignals[0]"
   ]
  },
  {
   "cell_type": "code",
   "execution_count": null,
   "metadata": {
    "ExecuteTime": {
     "start_time": "2018-11-26T14:42:39.459Z"
    }
   },
   "outputs": [],
   "source": [
    "#NEO's arrays are weirdly shaped, we have to transpose them\n",
    "fig, ax = plt.subplots(figsize = (16,10))\n",
    "colors = plt.cm.autumn(np.linspace(.1, 1, 49))\n",
    "\n",
    "neuron_iterator = 0\n",
    "orientation = 3\n",
    "\n",
    "for positions in load_arr[orientation]:\n",
    "    index = neuron_iterator + (orientation * load_arr.shape[0]) #we're skipping the other positions\n",
    "\n",
    "    ax.plot(v1_voltage.T[index],\n",
    "            color=colors[neuron_iterator],\n",
    "            alpha = 1)\n",
    "        \n",
    "    for spikes in np.asarray(v1_data.spiketrains[index]):\n",
    "        plt.plot([ spikes*10,spikes*10 ] , [v1_voltage.T[index][int(spikes)] , 20],\n",
    "        color=colors[neuron_iterator])\n",
    "\n",
    "    neuron_iterator +=1\n",
    "\n",
    "\n",
    "plt.title(\"Spikes for neurons preferring theta = %s\" % ((np.pi/12)*3*180/np.pi))\n",
    "plt.show()"
   ]
  },
  {
   "cell_type": "code",
   "execution_count": null,
   "metadata": {
    "ExecuteTime": {
     "start_time": "2018-11-26T14:42:39.469Z"
    },
    "scrolled": false
   },
   "outputs": [],
   "source": [
    "fig, ax = plt.subplots(figsize=(12, 8))\n",
    "colors = plt.cm.Blues(np.linspace(.4, 1, 12))\n",
    "\n",
    "neuron_iterator = 0\n",
    "total_spikes, total_spiking_neurons = 0, 0\n",
    "\n",
    "\n",
    "for i,orientations in enumerate(load_arr):\n",
    "    for positions in orientations:\n",
    "        ax.scatter(v1_data.spiketrains[neuron_iterator],\n",
    "                   np.full_like(v1_data.spiketrains[neuron_iterator], neuron_iterator),\n",
    "                   s=5, color=colors[i],\n",
    "                   label='%.1f°' % (i*(np.pi/12)*180/np.pi) if neuron_iterator%25 ==0 else '')\n",
    "        \n",
    "        total_spikes += len(v1_data.spiketrains[neuron_iterator])\n",
    "        if len(v1_data.spiketrains[neuron_iterator]) > 0:\n",
    "            total_spiking_neurons += 1\n",
    "            \n",
    "        neuron_iterator += 1\n",
    "\n",
    "plt.ylim(-5, total_neurons)\n",
    "plt.xlim(150, total_time)\n",
    "\n",
    "plt.ylabel('Neuron index')\n",
    "plt.xlabel('Time (ms)')\n",
    "handles, labels = ax.get_legend_handles_labels()\n",
    "#handles[::-1], labels[::-1],\n",
    "plt.legend(markerscale=3, title='Preferred orientation\\n    for one position',\n",
    "           ncol=2)\n",
    "\n",
    "plt.title('''\n",
    "            Mean population FR : %.2f Hz''' % (total_spikes/total_spiking_neurons))\n",
    "\n",
    "#plt.savefig('./figs/2018_11_16_Ring_spikes_nosynapses_orientation.pdf', format = 'pdf', dpi = 200, bbox_inches = 'tight')\n",
    "plt.show()"
   ]
  },
  {
   "cell_type": "code",
   "execution_count": null,
   "metadata": {
    "ExecuteTime": {
     "start_time": "2018-11-26T14:42:39.477Z"
    }
   },
   "outputs": [],
   "source": [
    "#firing rates for all neurons, excluding the initialisation artifact\n",
    "fr_list = []\n",
    "for neuron_fr in v1_data.spiketrains :\n",
    "    fr_list.append(len(np.where(neuron_fr>150)[0]))\n",
    "    \n",
    "len(fr_list)"
   ]
  },
  {
   "cell_type": "code",
   "execution_count": null,
   "metadata": {
    "ExecuteTime": {
     "start_time": "2018-11-26T14:42:39.485Z"
    }
   },
   "outputs": [],
   "source": [
    "# We split for each orientation\n",
    "k = np.split(np.asarray(fr_list), 12)\n",
    "k"
   ]
  },
  {
   "cell_type": "code",
   "execution_count": null,
   "metadata": {
    "ExecuteTime": {
     "start_time": "2018-11-26T14:42:39.497Z"
    }
   },
   "outputs": [],
   "source": [
    "#wrong axis ?? ask laurent\n",
    "plt.plot(np.mean(k, axis = 0))"
   ]
  },
  {
   "cell_type": "code",
   "execution_count": null,
   "metadata": {
    "ExecuteTime": {
     "start_time": "2018-11-26T14:42:39.505Z"
    }
   },
   "outputs": [],
   "source": [
    "#that seems more like it\n",
    "plt.plot(np.mean(k, axis = 1))\n",
    "plt.xlabel('Thetas')\n",
    "plt.ylabel('Mean FR')"
   ]
  },
  {
   "cell_type": "code",
   "execution_count": null,
   "metadata": {
    "ExecuteTime": {
     "start_time": "2018-11-26T14:42:39.514Z"
    }
   },
   "outputs": [],
   "source": [
    "from lmfit.models import GaussianModel\n",
    "\n",
    "x = np.linspace(0, 6,6)\n",
    "y = np.asarray(np.mean(k, axis = 1)[:6])\n",
    "\n",
    "mod = GaussianModel()\n",
    "\n",
    "pars = mod.guess(y, x=x)\n",
    "out = mod.fit(y, pars, x=x)\n",
    "print(out.fit_report(min_correl=0.25))\n",
    "\n",
    "def fit_curve(xs, sigma, center, amplitude):\n",
    "    return amplitude/(sigma *np.sqrt(2*np.pi)) * np.exp( (-(xs-center)**2)/ (2*sigma**2)) \n",
    "\n",
    "gaussian_distrib1 = fit_curve(xs=np.linspace(0, 6, 100),\n",
    "                             sigma=out.best_values['sigma'],\n",
    "                             center=out.best_values['center'],\n",
    "                             amplitude=out.best_values['amplitude'])\n",
    "\n",
    "#####################################################################################################\n",
    "x = np.linspace(7, 12,6)\n",
    "y = np.asarray(np.mean(k, axis = 1)[6:])\n",
    "\n",
    "mod = GaussianModel()\n",
    "\n",
    "pars = mod.guess(y, x=x)\n",
    "out = mod.fit(y, pars, x=x)\n",
    "print(out.fit_report(min_correl=0.25))\n",
    "\n",
    "def fit_curve(xs, sigma, center, amplitude):\n",
    "    return amplitude/(sigma *np.sqrt(2*np.pi)) * np.exp( (-(xs-center)**2)/ (2*sigma**2)) \n",
    "\n",
    "gaussian_distrib2 = fit_curve(xs=np.linspace(6, 12, 100),\n",
    "                             sigma=out.best_values['sigma'],\n",
    "                             center=out.best_values['center'],\n",
    "                             amplitude=out.best_values['amplitude'])"
   ]
  },
  {
   "cell_type": "code",
   "execution_count": null,
   "metadata": {
    "ExecuteTime": {
     "start_time": "2018-11-26T14:42:39.522Z"
    }
   },
   "outputs": [],
   "source": [
    "plt.figure(figsize = (8,6))\n",
    "plt.plot(np.mean(k, axis = 1), '.b')\n",
    "plt.plot(np.linspace(0,6,100),gaussian_distrib1, color = 'black')\n",
    "plt.plot(np.linspace(6,12,100),gaussian_distrib2, color = 'black')\n",
    "\n",
    "\n",
    "plt.title('Mean firing rate for each orientation, described by two gaussians\\nGround truth = 4')\n",
    "\n",
    "plt.xlabel('Orientation (theta)')\n",
    "plt.ylabel('Meaniring rate (Hz)')\n",
    "#plt.savefig('./figs/2018_11_22_Orientation_curves.pdf', dpi = 200, format = 'pdf', bbox_inches = 'tight')\n",
    "plt.show()"
   ]
  }
 ],
 "metadata": {
  "kernelspec": {
   "display_name": "Python 3",
   "language": "python",
   "name": "python3"
  },
  "language_info": {
   "codemirror_mode": {
    "name": "ipython",
    "version": 3
   },
   "file_extension": ".py",
   "mimetype": "text/x-python",
   "name": "python",
   "nbconvert_exporter": "python",
   "pygments_lexer": "ipython3",
   "version": "3.7.0"
  },
  "toc": {
   "base_numbering": 1,
   "nav_menu": {},
   "number_sections": true,
   "sideBar": true,
   "skip_h1_title": false,
   "title_cell": "Table of Contents",
   "title_sidebar": "Contents",
   "toc_cell": false,
   "toc_position": {},
   "toc_section_display": true,
   "toc_window_display": false
  }
 },
 "nbformat": 4,
 "nbformat_minor": 2
}
