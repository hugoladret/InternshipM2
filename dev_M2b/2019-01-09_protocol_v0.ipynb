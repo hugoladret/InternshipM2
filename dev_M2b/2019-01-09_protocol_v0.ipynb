{
 "cells": [
  {
   "cell_type": "markdown",
   "metadata": {},
   "source": [
    "A feature of MotionClouds is the ability to precisely tune the precision of information  following the principal axes. One which is particularly relevant for the primary visual cortical area of primates (area V1) is to tune the otirentation mean and bandwidth.\n",
    "\n",
    "## Studying the role of orientation bvandwidth in V1 using MotionClouds\n",
    "\n",
    "<!-- TEASER_END -->\n",
    "\n",
    "This is part of a larger study to tune [orientation bandwidth](http://blog.invibe.net/categories/orientation.html).\n",
    "\n"
   ]
  },
  {
   "cell_type": "code",
   "execution_count": 1,
   "metadata": {
    "ExecuteTime": {
     "end_time": "2019-01-10T09:07:25.948001Z",
     "start_time": "2019-01-10T09:07:23.819718Z"
    }
   },
   "outputs": [],
   "source": [
    "import os\n",
    "import numpy as np\n",
    "import MotionClouds as mc\n",
    "downscale = 1\n",
    "fx, fy, ft = mc.get_grids(mc.N_X//downscale, mc.N_Y//downscale, mc.N_frame//downscale)\n",
    "\n",
    "name = '2019-01-09_protocol'\n",
    "mc.figpath = os.path.join('output/', name)\n",
    "if not(os.path.isdir(mc.figpath)): os.mkdir(mc.figpath)"
   ]
  },
  {
   "cell_type": "code",
   "execution_count": 2,
   "metadata": {
    "ExecuteTime": {
     "end_time": "2019-01-10T09:07:26.202253Z",
     "start_time": "2019-01-10T09:07:26.194842Z"
    }
   },
   "outputs": [],
   "source": [
    "N_X = fx.shape[0]\n",
    "width = 29.7*256/1050\n",
    "\n",
    "sf_0 = 4.*width/N_X\n",
    "B_V = .0     # BW temporal frequency (speed plane thickness)\n",
    "B_sf = sf_0   # BW spatial frequency\n",
    "theta = 0.0   # Central orientation\n",
    "B_thetas = [np.pi/32, np.pi/16, np.pi/8, np.pi/4]\n",
    "seed = 12234565"
   ]
  },
  {
   "cell_type": "code",
   "execution_count": 3,
   "metadata": {},
   "outputs": [
    {
     "name": "stderr",
     "output_type": "stream",
     "text": [
      "/usr/local/lib/python3.7/site-packages/vispy/visuals/isocurve.py:22: UserWarning: VisPy is not yet compatible with matplotlib 2.2+\n",
      "  warnings.warn(\"VisPy is not yet compatible with matplotlib 2.2+\")\n"
     ]
    },
    {
     "data": {
      "text/html": [
       "\n",
       "                <center><table border=none width=100% height=100%>\n",
       "                <tr>\n",
       "                <td width=33%%><center><img src=\"output/2019-01-09_protocol/2019-01-09_protocol_narrow.png\" width=100%/></td>\n",
       "                <td rowspan=2  colspan=2><center><video src=\"output/2019-01-09_protocol/2019-01-09_protocol_narrow.mp4\"   loop=\"1\" autoplay=\"1\" controls   type=\"video/mp4\" width=100%/></td>\n",
       "                </tr>\n",
       "                <tr>\n",
       "                <td><center><img src=\"output/2019-01-09_protocol/2019-01-09_protocol_narrow_cube.png\" width=100%/></td>\n",
       "                </tr>\n",
       "                </table></center>"
      ],
      "text/plain": [
       "<IPython.core.display.HTML object>"
      ]
     },
     "metadata": {},
     "output_type": "display_data"
    },
    {
     "data": {
      "text/html": [
       "\n",
       "                <center><table border=none width=100% height=100%>\n",
       "                <tr>\n",
       "                <td width=33%%><center><img src=\"output/2019-01-09_protocol/2019-01-09_protocol_broad.png\" width=100%/></td>\n",
       "                <td rowspan=2  colspan=2><center><video src=\"output/2019-01-09_protocol/2019-01-09_protocol_broad.mp4\"   loop=\"1\" autoplay=\"1\" controls   type=\"video/mp4\" width=100%/></td>\n",
       "                </tr>\n",
       "                <tr>\n",
       "                <td><center><img src=\"output/2019-01-09_protocol/2019-01-09_protocol_broad_cube.png\" width=100%/></td>\n",
       "                </tr>\n",
       "                </table></center>"
      ],
      "text/plain": [
       "<IPython.core.display.HTML object>"
      ]
     },
     "metadata": {},
     "output_type": "display_data"
    }
   ],
   "source": [
    "B_theta_low, B_theta_high = np.min(B_thetas), np.max(B_thetas)\n",
    "mc1 = mc.envelope_gabor(fx, fy, ft, V_X=0., V_Y=0., B_V=B_V, sf_0=sf_0, B_sf=B_sf, theta=theta, B_theta=B_theta_low)\n",
    "mc2 = mc.envelope_gabor(fx, fy, ft, V_X=0., V_Y=0., B_V=B_V, sf_0=sf_0, B_sf=B_sf, theta=theta, B_theta=B_theta_high)\n",
    "name_ = name + '_narrow'\n",
    "mc.figures(mc1, name_, seed=seed, figpath=mc.figpath)\n",
    "mc.in_show_video(name_, figpath=mc.figpath)\n",
    "name_ = name + '_broad'\n",
    "mc.figures(mc2, name_, seed=seed, figpath=mc.figpath)\n",
    "mc.in_show_video(name_, figpath=mc.figpath)"
   ]
  },
  {
   "cell_type": "markdown",
   "metadata": {},
   "source": [
    "## designing one block with different orientations"
   ]
  },
  {
   "cell_type": "markdown",
   "metadata": {},
   "source": [
    "The [Exponential distribution](https://en.wikipedia.org/wiki/Exponential_distribution) is the probability distribution that describes the time between events in a Poisson point process"
   ]
  },
  {
   "cell_type": "code",
   "execution_count": 3,
   "metadata": {
    "ExecuteTime": {
     "end_time": "2019-01-10T09:07:34.882267Z",
     "start_time": "2019-01-10T09:07:29.334577Z"
    },
    "scrolled": false
   },
   "outputs": [
    {
     "data": {
      "text/html": [
       "\n",
       "            <center><table border=none width=100% height=100%>\n",
       "            <tr> <td width=100%><center><video  loop=\"1\" autoplay=\"1\" controls  src=\"output/2019-01-09_protocol/2019-01-09_protocol_block.mp4\" type=\"video/mp4\"  width=100%\\>\n",
       "            </td></tr></table></center>"
      ],
      "text/plain": [
       "<IPython.core.display.HTML object>"
      ]
     },
     "metadata": {},
     "output_type": "display_data"
    }
   ],
   "source": [
    "import os\n",
    "def make_one_block(N_X, N_Y, seed, B_thetas, N_frame_total,  \n",
    "                   N_frame_mean=6, N_theta=12, contrast=1.):\n",
    "    fx, fy, ft = mc.get_grids(N_X, N_Y, 1)\n",
    "\n",
    "    rng = np.random.RandomState(seed)\n",
    "\n",
    "    N_frame = 0\n",
    "    im = np.zeros((N_X, N_Y, 0))\n",
    "    disk = mc.frequency_radius(fx, fy, ft) < .5\n",
    "    \n",
    "    while N_frame < N_frame_total:\n",
    "        N_frame_sub = int(rng.exponential(N_frame_mean))\n",
    "        theta = np.int(rng.rand()*N_theta) * np.pi / N_theta\n",
    "        B_theta = B_thetas[rng.randint(len(B_thetas))]\n",
    "        mc_i = mc.envelope_gabor(fx, fy, ft, \n",
    "                                         V_X=0., V_Y=0., B_V=0., \n",
    "                                         sf_0=sf_0, B_sf=B_sf, \n",
    "                                         theta=theta, B_theta=B_theta)\n",
    "        im_ = np.zeros((N_X, N_Y, 1))\n",
    "        im_ += mc.rectif(mc.random_cloud(mc_i, seed=seed+N_frame), contrast=contrast)\n",
    "        im_ *= disk # masking outside the disk \n",
    "        im_ += .5*(1-disk) # gray outside the disk\n",
    "        im_ = im_ * np.ones((1, 1, N_frame_sub)) #  expand to N_frame_sub frames\n",
    "        im_[0, 0, :] = 0. # black dot on the top left\n",
    "        im_[0, 0, 0] = 1. # white dot on the top left at time of switch\n",
    "        im = np.concatenate((im, im_), axis=-1) # montage\n",
    "        N_frame = im.shape[-1]\n",
    "    return im[:, :, :N_frame_total]\n",
    "\n",
    "N_X, N_Y = mc.N_X, mc.N_Y\n",
    "im = make_one_block(N_X, N_Y, seed=1234, B_thetas=B_thetas, \n",
    "                    N_frame_total=200, N_frame_mean=12, N_theta=12)\n",
    "name_ = name + '_block'\n",
    "mc.anim_save(im, os.path.join(mc.figpath, name_), figpath=mc.figpath)\n",
    "mc.in_show_video(name_, figpath=mc.figpath)"
   ]
  },
  {
   "cell_type": "code",
   "execution_count": 5,
   "metadata": {},
   "outputs": [],
   "source": [
    "# TODO: show that using the same seed always returns the same movie"
   ]
  },
  {
   "cell_type": "markdown",
   "metadata": {},
   "source": [
    "## summary of the protocol\n",
    "\n",
    "We show successive blocks of X seconds consisting on average of sub-blocks of 1000ms.\n",
    "\n",
    "- orientation and bandwidths is changed within one block\n",
    "\n",
    "To summarize this (POST = TO BE DONE AT THE PRESENTATION SOFTWARE LEVEL):\n",
    "\n",
    "* Rapid presentation of 20 stimuli within a circular disk (POST) during 100 ms @ 60Hz = 6 frames each\n",
    "* fixed parameters:\n",
    " - mean spatial frequency tuned for optimal neural tuning,\n",
    " - frequency bandwidth tuned for optimal neural tuning (0.1 - 5 cyc/deg),\n",
    " - temporal frequency bandwidth tuned for optimal neural tuning (1-15Hz (singh et al + Henriksson et al)) / one bandwidth in speed: dynamic (B_V=.5) or static (my preference for this short period)\n",
    "\n",
    "* parameters:\n",
    " - 12 orientations including cardinals\n",
    " - 4 orientation bandwidths (pi/4, pi/8, pi/16, pi/32),\n",
    " - 3 different seeds: 42, 1973 and 1996 (completely arbitrary)\n",
    " - 4 different contrasts 0.03 0.07 0.18 0.42 (Boynton et al) (POST)"
   ]
  },
  {
   "cell_type": "markdown",
   "metadata": {},
   "source": [
    "Grand total for one block is (12 orientations times 6 BWo + 1) * 2s :"
   ]
  },
  {
   "cell_type": "code",
   "execution_count": 6,
   "metadata": {
    "scrolled": true
   },
   "outputs": [
    {
     "name": "stdout",
     "output_type": "stream",
     "text": [
      "One super-block= 21  conditions\n",
      "One super-block= 42  seconds\n",
      "16 repetitions of one super-block= 336  conditions\n",
      "16 repetitions of one super-block= 672  seconds\n"
     ]
    }
   ],
   "source": [
    "print('One super-block=', (7*3), ' conditions')\n",
    "print('One super-block=', (7*3) * 2, ' seconds')\n",
    "print('16 repetitions of one super-block=', (7*3) * 16, ' conditions')\n",
    "print('16 repetitions of one super-block=', (7*3) * 2 * 16, ' seconds')"
   ]
  },
  {
   "cell_type": "markdown",
   "metadata": {},
   "source": [
    "One session amounts  $672$ seconds, that is about $10$ minutes. \n",
    "\n",
    "Let's first get the optimal values for the\n",
    " - mean spatial frequency tuned for optimal neural tuning,\n",
    " - spatial frequency bandwidth tuned for optimal neural tuning"
   ]
  },
  {
   "cell_type": "code",
   "execution_count": 7,
   "metadata": {},
   "outputs": [
    {
     "name": "stdout",
     "output_type": "stream",
     "text": [
      "visual angle of the screen 32.28867756056697\n",
      "degrees per centimeter 0.9784447745626353\n"
     ]
    }
   ],
   "source": [
    "viewingDistance = 57 # cm # TODO = me donner ces informations!\n",
    "screen_width_cm = 33 # cm # TODO = me donner ces informations!\n",
    "#un deg / cm\n",
    "print('visual angle of the screen', 2*np.arctan(screen_width_cm/2/viewingDistance)*180/np.pi)\n",
    "print('degrees per centimeter', 2*np.arctan(screen_width_cm/2/viewingDistance)*180/np.pi/screen_width_cm)"
   ]
  },
  {
   "cell_type": "code",
   "execution_count": 8,
   "metadata": {},
   "outputs": [
    {
     "name": "stdout",
     "output_type": "stream",
     "text": [
      "degrees per pixel 0.03153191168024118\n"
     ]
    }
   ],
   "source": [
    "screen_width_px = 1024 # pixels \n",
    "screen_height_px = 768 # pixels\n",
    "\n",
    "#un pixel = 33/800 deg\n",
    "deg_per_px = 2*np.arctan(screen_width_cm/2/viewingDistance)*180/np.pi/screen_width_px\n",
    "print('degrees per pixel', deg_per_px)"
   ]
  },
  {
   "cell_type": "markdown",
   "metadata": {},
   "source": [
    "The central spatial frequency ``sf_0`` is defined as the frequency (number of cycles) *per pixel*, so that to get "
   ]
  },
  {
   "cell_type": "code",
   "execution_count": 9,
   "metadata": {},
   "outputs": [
    {
     "name": "stdout",
     "output_type": "stream",
     "text": [
      "width of these motion clouds ( 256 ,  256 )\n",
      "width of stimulus in degrees 8.072169390141742\n",
      "Optimal spatial frequency in cycles per degree 2.0\n",
      "Optimal spatial frequency in cycles per window =  16.144338780283483\n",
      "cycles per pixel =  0.06306382336048236\n"
     ]
    }
   ],
   "source": [
    "print('width of these motion clouds (', mc.N_X, ', ', mc.N_Y, ')')\n",
    "print('width of stimulus in degrees', mc.N_X * deg_per_px)\n",
    "phi_sf_0 = 2. # Optimal spatial frequency [cpd]\n",
    "print('Optimal spatial frequency in cycles per degree', phi_sf_0)\n",
    "print('Optimal spatial frequency in cycles per window = ', phi_sf_0 *  mc.N_X * deg_per_px)\n",
    "sf_0 = phi_sf_0 * deg_per_px\n",
    "print('cycles per pixel = ', sf_0)"
   ]
  },
  {
   "cell_type": "markdown",
   "metadata": {},
   "source": [
    "Similarly the spatial frequeny bandwidth as a function of the experimental parameters:"
   ]
  },
  {
   "cell_type": "code",
   "execution_count": 10,
   "metadata": {
    "collapsed": true
   },
   "outputs": [],
   "source": [
    "phi_sf_0 = 2. # Optimal spatial frequency [cpd]\n",
    "phi_B_sf = 2. # Optimal spatial frequency bandwidth [in octaves]\n",
    "B_Sf = sf_0 # good qualitative approximation"
   ]
  },
  {
   "cell_type": "code",
   "execution_count": 11,
   "metadata": {},
   "outputs": [],
   "source": [
    "phi_B_V = 5. # Optimal temporal frequency bandwidth [Hz]\n",
    "\n",
    "#tf_opt = 1 # Hz\n",
    "T = 0.250            # Stimulus duration [s] \n",
    "framerate = 100.    # Refreshing rate in [Hz]\n",
    "Bv = phi_B_V # good qualitative approximation "
   ]
  },
  {
   "cell_type": "markdown",
   "metadata": {},
   "source": [
    "In one script:"
   ]
  },
  {
   "cell_type": "code",
   "execution_count": 12,
   "metadata": {},
   "outputs": [],
   "source": [
    "!rm -fr output/{name}/*seed*"
   ]
  },
  {
   "cell_type": "code",
   "execution_count": 13,
   "metadata": {},
   "outputs": [],
   "source": [
    "import numpy as np\n",
    "import MotionClouds as mc\n",
    "import os\n",
    "\n",
    "\n",
    "name = '2019-01-09_protocol'\n",
    "mc.figpath = os.path.join('output/', name)\n",
    "if not(os.path.isdir(mc.figpath)): os.mkdir(mc.figpath)\n",
    "vext = '.png'\n",
    "vext = '.mp4'\n",
    "\n",
    "# Experimental constants \n",
    "contrast = 1.\n",
    "# Clouds parameters in absolute units\n",
    "N_X = 512\n",
    "width = 29.7*N_X/1050\n",
    "phi_sf_0 = 2. # Optimal spatial frequency [cpd]\n",
    "\n",
    "sf_0 = phi_sf_0*width/N_X\n",
    "B_sf = sf_0   # BW spatial frequency\n",
    "B_V = .5     # BW temporal frequency (speed plane thickness) WARNING temporal autocorrelation depends on N_frame\n",
    "\n",
    "# generate zip files\n",
    "dry_run = True\n",
    "dry_run = False\n",
    "      \n",
    "for seed in [2016 + i for i in range(7)]:\n",
    "    name_ = name + '_seed_' + str(seed)\n",
    "    if not dry_run:\n",
    "        if  not(os.path.isfile(os.path.join(mc.figpath, name_ + vext))):\n",
    "            im = make_one_block(N_X, N_X, seed=seed, B_thetas=B_thetas, N_frame_total=200, N_frame_mean=25, N_theta=12)\n",
    "            mc.anim_save(mc.rectif(im, contrast=contrast), os.path.join(mc.figpath, name_), vext=vext)\n",
    "        else:\n",
    "            print(' MC ' + os.path.join(mc.figpath, name_) + ' already done')\n",
    "    else:\n",
    "        print(' MC ' + os.path.join(mc.figpath, name_) + ' skipped  (dry run)')\n"
   ]
  },
  {
   "cell_type": "raw",
   "metadata": {},
   "source": [
    "!zip output/{name}.zip output/{name} output/{name}/* {name}/**/*\n",
    "!rm -fr output/{name}"
   ]
  },
  {
   "cell_type": "markdown",
   "metadata": {},
   "source": [
    "## some book keeping for the notebook"
   ]
  },
  {
   "cell_type": "code",
   "execution_count": 14,
   "metadata": {
    "ExecuteTime": {
     "end_time": "2018-11-07T16:19:23.177738Z",
     "start_time": "2018-11-07T16:19:23.125993Z"
    }
   },
   "outputs": [
    {
     "data": {
      "application/json": {
       "Software versions": [
        {
         "module": "Python",
         "version": "3.7.2 64bit [Clang 10.0.0 (clang-1000.11.45.5)]"
        },
        {
         "module": "IPython",
         "version": "7.2.0"
        },
        {
         "module": "OS",
         "version": "Darwin 18.2.0 x86_64 i386 64bit"
        },
        {
         "module": "numpy",
         "version": "1.15.4"
        },
        {
         "module": "scipy",
         "version": "1.2.0"
        },
        {
         "module": "matplotlib",
         "version": "3.0.2"
        },
        {
         "module": "MotionClouds",
         "version": "20180606"
        }
       ]
      },
      "text/html": [
       "<table><tr><th>Software</th><th>Version</th></tr><tr><td>Python</td><td>3.7.2 64bit [Clang 10.0.0 (clang-1000.11.45.5)]</td></tr><tr><td>IPython</td><td>7.2.0</td></tr><tr><td>OS</td><td>Darwin 18.2.0 x86_64 i386 64bit</td></tr><tr><td>numpy</td><td>1.15.4</td></tr><tr><td>scipy</td><td>1.2.0</td></tr><tr><td>matplotlib</td><td>3.0.2</td></tr><tr><td>MotionClouds</td><td>20180606</td></tr><tr><td colspan='2'>Wed Jan 09 16:33:18 2019 CET</td></tr></table>"
      ],
      "text/latex": [
       "\\begin{tabular}{|l|l|}\\hline\n",
       "{\\bf Software} & {\\bf Version} \\\\ \\hline\\hline\n",
       "Python & 3.7.2 64bit [Clang 10.0.0 (clang-1000.11.45.5)] \\\\ \\hline\n",
       "IPython & 7.2.0 \\\\ \\hline\n",
       "OS & Darwin 18.2.0 x86\\_64 i386 64bit \\\\ \\hline\n",
       "numpy & 1.15.4 \\\\ \\hline\n",
       "scipy & 1.2.0 \\\\ \\hline\n",
       "matplotlib & 3.0.2 \\\\ \\hline\n",
       "MotionClouds & 20180606 \\\\ \\hline\n",
       "\\hline \\multicolumn{2}{|l|}{Wed Jan 09 16:33:18 2019 CET} \\\\ \\hline\n",
       "\\end{tabular}\n"
      ],
      "text/plain": [
       "Software versions\n",
       "Python 3.7.2 64bit [Clang 10.0.0 (clang-1000.11.45.5)]\n",
       "IPython 7.2.0\n",
       "OS Darwin 18.2.0 x86_64 i386 64bit\n",
       "numpy 1.15.4\n",
       "scipy 1.2.0\n",
       "matplotlib 3.0.2\n",
       "MotionClouds 20180606\n",
       "Wed Jan 09 16:33:18 2019 CET"
      ]
     },
     "execution_count": 14,
     "metadata": {},
     "output_type": "execute_result"
    }
   ],
   "source": [
    "%load_ext version_information\n",
    "%version_information numpy, scipy, matplotlib, MotionClouds"
   ]
  }
 ],
 "metadata": {
  "kernelspec": {
   "display_name": "Python 3",
   "language": "python",
   "name": "python3"
  },
  "language_info": {
   "codemirror_mode": {
    "name": "ipython",
    "version": 3
   },
   "file_extension": ".py",
   "mimetype": "text/x-python",
   "name": "python",
   "nbconvert_exporter": "python",
   "pygments_lexer": "ipython3",
   "version": "3.7.2"
  }
 },
 "nbformat": 4,
 "nbformat_minor": 2
}
