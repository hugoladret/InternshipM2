{
 "cells": [
  {
   "cell_type": "markdown",
   "metadata": {},
   "source": [
    "# 2019-01-29 - Génération de MotionClouds\n",
    "Pour l'electrophysiologie au Canada, avec un pixel qui blink pendant le shift pour la photodiode et une sauvegarde des séquences"
   ]
  },
  {
   "cell_type": "code",
   "execution_count": 44,
   "metadata": {
    "ExecuteTime": {
     "end_time": "2019-01-31T22:05:22.723870Z",
     "start_time": "2019-01-31T22:05:22.209799Z"
    }
   },
   "outputs": [
    {
     "ename": "FileNotFoundError",
     "evalue": "[Errno 2] No such file or directory: 'sequences/MC2019-02-01_14:54:54'",
     "output_type": "error",
     "traceback": [
      "\u001b[0;31m---------------------------------------------------------------------------\u001b[0m",
      "\u001b[0;31mFileNotFoundError\u001b[0m                         Traceback (most recent call last)",
      "\u001b[0;32m<ipython-input-1-c5ebdb131575>\u001b[0m in \u001b[0;36m<module>\u001b[0;34m\u001b[0m\n\u001b[1;32m     13\u001b[0m \u001b[0;34m\u001b[0m\u001b[0m\n\u001b[1;32m     14\u001b[0m \u001b[0mmc\u001b[0m\u001b[0;34m.\u001b[0m\u001b[0mfigpath\u001b[0m \u001b[0;34m=\u001b[0m \u001b[0mos\u001b[0m\u001b[0;34m.\u001b[0m\u001b[0mpath\u001b[0m\u001b[0;34m.\u001b[0m\u001b[0mjoin\u001b[0m\u001b[0;34m(\u001b[0m\u001b[0;34m'sequences/MC%s'\u001b[0m\u001b[0;34m%\u001b[0m \u001b[0mstrtime\u001b[0m\u001b[0;34m)\u001b[0m\u001b[0;34m\u001b[0m\u001b[0;34m\u001b[0m\u001b[0m\n\u001b[0;32m---> 15\u001b[0;31m \u001b[0;32mif\u001b[0m \u001b[0;32mnot\u001b[0m\u001b[0;34m(\u001b[0m\u001b[0mos\u001b[0m\u001b[0;34m.\u001b[0m\u001b[0mpath\u001b[0m\u001b[0;34m.\u001b[0m\u001b[0misdir\u001b[0m\u001b[0;34m(\u001b[0m\u001b[0mmc\u001b[0m\u001b[0;34m.\u001b[0m\u001b[0mfigpath\u001b[0m\u001b[0;34m)\u001b[0m\u001b[0;34m)\u001b[0m\u001b[0;34m:\u001b[0m \u001b[0mos\u001b[0m\u001b[0;34m.\u001b[0m\u001b[0mmkdir\u001b[0m\u001b[0;34m(\u001b[0m\u001b[0mmc\u001b[0m\u001b[0;34m.\u001b[0m\u001b[0mfigpath\u001b[0m\u001b[0;34m)\u001b[0m\u001b[0;34m\u001b[0m\u001b[0;34m\u001b[0m\u001b[0m\n\u001b[0m",
      "\u001b[0;31mFileNotFoundError\u001b[0m: [Errno 2] No such file or directory: 'sequences/MC2019-02-01_14:54:54'"
     ]
    }
   ],
   "source": [
    "import os\n",
    "import numpy as np\n",
    "import MotionClouds as mc\n",
    "import datetime\n",
    "import matplotlib.pyplot as plt\n",
    "import csv\n",
    "\n",
    "downscale = 1\n",
    "fx, fy, ft = mc.get_grids(mc.N_X//downscale, mc.N_Y//downscale, mc.N_frame//downscale)\n",
    "\n",
    "now = datetime.datetime.now()\n",
    "strtime = now.strftime(\"%Y-%m-%d_%H:%M:%S\")   \n",
    "\n",
    "mc.figpath = os.path.join('sequences/MC%s'% strtime)\n",
    "if not(os.path.isdir(mc.figpath)): os.mkdir(mc.figpath)"
   ]
  },
  {
   "cell_type": "markdown",
   "metadata": {},
   "source": [
    "The [Exponential distribution](https://en.wikipedia.org/wiki/Exponential_distribution) is the probability distribution that describes the time between events in a Poisson point process"
   ]
  },
  {
   "cell_type": "code",
<<<<<<< HEAD
   "execution_count": 45,
=======
   "execution_count": null,
>>>>>>> 76ce922705ce41fbb839ab699f3185fc25e128b5
   "metadata": {
    "ExecuteTime": {
     "end_time": "2019-01-31T22:05:43.527966Z",
     "start_time": "2019-01-31T22:05:24.851384Z"
    },
    "scrolled": false
   },
   "outputs": [],
   "source": [
    "def make_one_block(N_X, N_Y, seed, B_thetas, N_frame_total,  \n",
    "                   N_frame_mean=6, N_theta=12, contrast=1.,\n",
    "                  refresh_rate = 120, duration = 60,mean_duration = 3):\n",
    "    fx, fy, ft = mc.get_grids(N_X, N_Y, 1)\n",
    "\n",
    "    rng = np.random.RandomState(seed)\n",
    "\n",
    "    N_frame = 0\n",
    "    im = np.zeros((N_X, N_Y, 0))\n",
    "    disk = mc.frequency_radius(fx, fy, ft) < .5\n",
    "    itr = 0\n",
    "    \n",
    "    if duration != None and mean_duration != None and refresh_rate != None :\n",
    "        N_frame_total = refresh_rate * duration\n",
    "        N_frame_mean = refresh_rate * mean_duration\n",
    "    \n",
    "    while N_frame < N_frame_total:\n",
    "        itr +=1\n",
    "        N_frame_sub = int(rng.exponential(N_frame_mean))+1\n",
    "        theta = np.int(rng.rand()*N_theta) * np.pi / N_theta\n",
    "        B_theta = B_thetas[rng.randint(len(B_thetas))]\n",
    "        mc_i = mc.envelope_gabor(fx, fy, ft, \n",
    "                                         V_X=0., V_Y=0., B_V=0., \n",
    "                                         sf_0=sf_0, B_sf=B_sf, \n",
    "                                         theta=theta, B_theta=B_theta)\n",
    "        im_ = np.zeros((N_X, N_Y, 1))\n",
    "        im_ += mc.rectif(mc.random_cloud(mc_i, seed=seed+N_frame), contrast=contrast)\n",
    "        im_ *= disk # masking outside the disk \n",
    "        im_ += .5*(1-disk) # gray outside the disk\n",
    "        im_ = im_ * np.ones((1, 1, N_frame_sub)) #  expand to N_frame_sub frames\n",
    "\n",
    "        im_[6:20,6:20,:] = 0\n",
    "        if itr % 2 == 0 :\n",
    "            im_[6:20,6:20,-3:-1] = 1\n",
    "        else :\n",
    "            im_[6:20,6:20,-1] = 1 \n",
    "        im = np.concatenate((im, im_), axis=-1) # montage\n",
    "        N_frame = im.shape[-1]\n",
    "\n",
    "        #data appending\n",
    "        with open(mc.figpath+'/'+'sequence.csv', \"a+\") as writer_file:\n",
    "            data_writer = csv.writer(writer_file, delimiter=',', quotechar='\"', quoting=csv.QUOTE_MINIMAL)\n",
    "            data_writer.writerow([itr, N_frame, N_frame/refresh_rate, \n",
    "                                  theta, B_theta, sf_0, B_sf, N_X, N_Y, N_frame_total, refresh_rate])\n",
    "\n",
    "    return im[:, :, :N_frame_total], itr\n",
    "\n",
    "#Parameters\n",
    "N_X = fx.shape[0]\n",
    "width = 29.7*256/1050 \n",
    "N_X, N_Y = mc.N_X, mc.N_Y\n",
    "\n",
    "N_frame_total = 200\n",
    "N_frame_mean = 12\n",
    "N_theta = 12\n",
    "\n",
    "sf_0 = 4.*width/N_X\n",
    "B_V = .0     # BW temporal frequency (speed plane thickness)\n",
    "B_sf = sf_0   # BW spatial frequency\n",
    "\n",
    "B_thetas = [np.pi/32, np.pi/16, np.pi/8, np.pi/4] #bandwidth opening choices\n",
    "seed = 42 #standardized random vector\n",
    "\n",
    "#Overrides N_frame total, nframe mean\n",
    "refresh_rate = 60 #Hz\n",
    "duration = 30 #s\n",
    "mean_duration = 3 #s\n",
    "\n",
    "'''refresh_rate = None #Hz\n",
    "duration = None #s\n",
    "mean_duration = None #s'''\n",
    "\n",
    "vext = '.png'\n",
    "\n",
    "#refresh rate and duration and mean duration override the N_frame total;N_frame_mean unless left to None\n",
    "im = make_one_block(N_X, N_Y, seed=seed, B_thetas=B_thetas, \n",
    "                    N_frame_total=N_frame_total, N_frame_mean=12, N_theta=12,\n",
    "                   refresh_rate = refresh_rate, duration = duration, mean_duration = mean_duration)\n",
    "\n",
    "mc.anim_save(im[0], os.path.join(mc.figpath, 'MC_files'), figpath=mc.figpath, vext = vext, T_movie = duration)"
   ]
  },
  {
   "cell_type": "markdown",
   "metadata": {},
   "source": [
    "# Protocol description"
   ]
  },
  {
   "cell_type": "code",
<<<<<<< HEAD
   "execution_count": 6,
=======
   "execution_count": 2,
>>>>>>> 76ce922705ce41fbb839ab699f3185fc25e128b5
   "metadata": {
    "ExecuteTime": {
     "end_time": "2019-01-31T20:56:27.677569Z",
     "start_time": "2019-01-31T20:56:27.617171Z"
    }
   },
   "outputs": [
    {
<<<<<<< HEAD
     "name": "stdout",
     "output_type": "stream",
     "text": [
      "Total duration of 200 frames, which is 3.333s at 60 Hz\n",
      "A total of 10 blocks where generated, with the mean duration of each block being 12 frames\n",
      "12 differents angles where shown, with 4 possible bandwiths\n",
      "-----------------\n",
      "All files were saved in /sequences/MC2019-01-31_15:56:10 with format .png\n"
=======
     "ename": "NameError",
     "evalue": "name 'N_frame_total' is not defined",
     "output_type": "error",
     "traceback": [
      "\u001b[0;31m---------------------------------------------------------------------------\u001b[0m",
      "\u001b[0;31mNameError\u001b[0m                                 Traceback (most recent call last)",
      "\u001b[0;32m<ipython-input-2-fdd33e05a605>\u001b[0m in \u001b[0;36m<module>\u001b[0;34m\u001b[0m\n\u001b[0;32m----> 1\u001b[0;31m \u001b[0mprint\u001b[0m\u001b[0;34m(\u001b[0m\u001b[0;34m'Total duration of %s frames, which is %.3fs at %s Hz'\u001b[0m \u001b[0;34m%\u001b[0m \u001b[0;34m(\u001b[0m\u001b[0mN_frame_total\u001b[0m\u001b[0;34m,\u001b[0m \u001b[0mN_frame_total\u001b[0m\u001b[0;34m/\u001b[0m\u001b[0mrefresh_rate\u001b[0m\u001b[0;34m,\u001b[0m \u001b[0mrefresh_rate\u001b[0m\u001b[0;34m)\u001b[0m\u001b[0;34m)\u001b[0m\u001b[0;34m\u001b[0m\u001b[0;34m\u001b[0m\u001b[0m\n\u001b[0m\u001b[1;32m      2\u001b[0m \u001b[0mprint\u001b[0m\u001b[0;34m(\u001b[0m\u001b[0;34m'A total of %s blocks where generated, with the mean duration of each block being %s frames'\u001b[0m \u001b[0;34m%\u001b[0m \u001b[0;34m(\u001b[0m\u001b[0mim\u001b[0m\u001b[0;34m[\u001b[0m\u001b[0;36m1\u001b[0m\u001b[0;34m]\u001b[0m\u001b[0;34m,\u001b[0m\u001b[0mN_frame_mean\u001b[0m\u001b[0;34m)\u001b[0m\u001b[0;34m)\u001b[0m\u001b[0;34m\u001b[0m\u001b[0;34m\u001b[0m\u001b[0m\n\u001b[1;32m      3\u001b[0m \u001b[0mprint\u001b[0m\u001b[0;34m(\u001b[0m\u001b[0;34m'%s differents angles where shown, with %s possible bandwiths'\u001b[0m \u001b[0;34m%\u001b[0m \u001b[0;34m(\u001b[0m\u001b[0mN_theta\u001b[0m\u001b[0;34m,\u001b[0m \u001b[0mlen\u001b[0m\u001b[0;34m(\u001b[0m\u001b[0mB_thetas\u001b[0m\u001b[0;34m)\u001b[0m\u001b[0;34m)\u001b[0m\u001b[0;34m)\u001b[0m\u001b[0;34m\u001b[0m\u001b[0;34m\u001b[0m\u001b[0m\n\u001b[1;32m      4\u001b[0m \u001b[0mprint\u001b[0m\u001b[0;34m(\u001b[0m\u001b[0;34m'-----------------\\nAll files were saved in /%s with format %s'\u001b[0m \u001b[0;34m%\u001b[0m \u001b[0;34m(\u001b[0m\u001b[0mmc\u001b[0m\u001b[0;34m.\u001b[0m\u001b[0mfigpath\u001b[0m\u001b[0;34m,\u001b[0m \u001b[0mvext\u001b[0m\u001b[0;34m)\u001b[0m\u001b[0;34m)\u001b[0m\u001b[0;34m\u001b[0m\u001b[0;34m\u001b[0m\u001b[0m\n",
      "\u001b[0;31mNameError\u001b[0m: name 'N_frame_total' is not defined"
>>>>>>> 76ce922705ce41fbb839ab699f3185fc25e128b5
     ]
    }
   ],
   "source": [
    "print('Total duration of %s frames, which is %.3fs at %s Hz' % (N_frame_total, N_frame_total/refresh_rate, refresh_rate))\n",
    "print('A total of %s blocks where generated, with the mean duration of each block being %s frames' % (im[1],N_frame_mean))\n",
    "print('%s differents angles where shown, with %s possible bandwiths' % (N_theta, len(B_thetas)))\n",
    "print('-----------------\\nAll files were saved in /%s with format %s' % (mc.figpath, vext))"
   ]
  },
  {
   "cell_type": "markdown",
   "metadata": {},
   "source": [
    "# Adapting the spatial frequency parameters for the screen (and the mouse)\n",
    "\n",
    "My version :"
   ]
  },
  {
   "cell_type": "code",
<<<<<<< HEAD
   "execution_count": 7,
=======
   "execution_count": 3,
>>>>>>> 76ce922705ce41fbb839ab699f3185fc25e128b5
   "metadata": {
    "ExecuteTime": {
     "end_time": "2019-01-31T20:56:27.866780Z",
     "start_time": "2019-01-31T20:56:27.678825Z"
    }
   },
   "outputs": [],
   "source": [
    "object_px = N_X #px\n",
    "dpi = 72 #dot per inches\n",
    "pixel_per_cm = dpi * .393701 # pixel per cm = dot per inches * inch per cm\n",
    "distance = 60 #cm\n",
    "\n",
    "object_size_cm = object_px/pixel_per_cm #cm\n",
    "print('The size of the MC is %s degrees' % object_size_angles)"
   ]
  },
  {
   "cell_type": "code",
   "execution_count": 3,
   "metadata": {
    "ExecuteTime": {
     "end_time": "2019-01-30T14:24:14.404132Z",
     "start_time": "2019-01-30T14:24:14.272499Z"
    }
   },
   "outputs": [
    {
     "ename": "NameError",
     "evalue": "name 'N_X' is not defined",
     "output_type": "error",
     "traceback": [
      "\u001b[0;31m---------------------------------------------------------------------------\u001b[0m",
      "\u001b[0;31mNameError\u001b[0m                                 Traceback (most recent call last)",
      "\u001b[0;32m<ipython-input-3-978d6d37ff53>\u001b[0m in \u001b[0;36m<module>\u001b[0;34m\u001b[0m\n\u001b[0;32m----> 1\u001b[0;31m \u001b[0mobject_px\u001b[0m \u001b[0;34m=\u001b[0m \u001b[0mN_X\u001b[0m \u001b[0;31m#px\u001b[0m\u001b[0;34m\u001b[0m\u001b[0;34m\u001b[0m\u001b[0m\n\u001b[0m\u001b[1;32m      2\u001b[0m \u001b[0mdpi\u001b[0m \u001b[0;34m=\u001b[0m \u001b[0;36m72\u001b[0m \u001b[0;31m#dot per inches\u001b[0m\u001b[0;34m\u001b[0m\u001b[0;34m\u001b[0m\u001b[0m\n\u001b[1;32m      3\u001b[0m \u001b[0mpixel_per_cm\u001b[0m \u001b[0;34m=\u001b[0m \u001b[0mdpi\u001b[0m\u001b[0;34m*\u001b[0m \u001b[0;36m.393701\u001b[0m \u001b[0;31m#pixel per cm\u001b[0m\u001b[0;34m\u001b[0m\u001b[0;34m\u001b[0m\u001b[0m\n\u001b[1;32m      4\u001b[0m \u001b[0mdistance\u001b[0m \u001b[0;34m=\u001b[0m \u001b[0;36m60\u001b[0m \u001b[0;31m#cm\u001b[0m\u001b[0;34m\u001b[0m\u001b[0;34m\u001b[0m\u001b[0m\n\u001b[1;32m      5\u001b[0m \u001b[0;34m\u001b[0m\u001b[0m\n",
      "\u001b[0;31mNameError\u001b[0m: name 'N_X' is not defined"
     ]
    }
   ],
   "source": [
    "object_size_angles = np.degrees(2* np.arctan( (object_size_cm/2)/distance))\n",
    "deg_per_px = object_size_angles/N_X\n",
    "print('The size of a single pixel is %s degrees' % (object_size_angles/N_X))"
   ]
  },
  {
   "cell_type": "markdown",
   "metadata": {},
   "source": [
    "Laurent's (probably the one that's correct)"
   ]
  },
  {
   "cell_type": "code",
   "execution_count": null,
   "metadata": {
    "ExecuteTime": {
     "end_time": "2019-01-30T13:56:00.642647Z",
     "start_time": "2019-01-30T13:56:00.551069Z"
    }
   },
   "outputs": [],
   "source": [
    "if False:\n",
    "    viewingDistance = 60 # cm A MODIFIER\n",
    "    screen_width_cm = 30 # cm A MODIFIER\n",
    "\n",
    "    print('Visual angle of the screen', 2*np.arctan(screen_width_cm/2/viewingDistance)*180/np.pi)\n",
    "    print('Degrees per centimeter', 2*np.arctan(screen_width_cm/2/viewingDistance)*180/np.pi/screen_width_cm)\n",
    "\n",
    "    screen_width_px = 1600 # pixels \n",
    "    screen_height_px = 900 # pixels\n",
    "\n",
    "    deg_per_px = 2*np.arctan(screen_width_cm/2/viewingDistance)*180/np.pi/screen_width_px\n",
    "    print('Degrees per pixel', deg_per_px)\n",
    "\n",
    "    stim_size = deg_per_px*N_X\n",
    "    print('Stimulus angular size', stim_size)"
   ]
  },
  {
   "cell_type": "markdown",
   "metadata": {},
   "source": [
    "The central spatial frequency ``sf_0`` is defined as the frequency (number of cycles) *per pixel*, so that to get "
   ]
  },
  {
   "cell_type": "code",
   "execution_count": 8,
   "metadata": {
    "ExecuteTime": {
     "end_time": "2019-01-31T20:56:27.966475Z",
     "start_time": "2019-01-31T20:56:27.867911Z"
    }
   },
   "outputs": [
    {
     "name": "stdout",
     "output_type": "stream",
     "text": [
      "width of these motion clouds ( 256 ,  256 )\n",
      "width of stimulus in degrees 8.607844199766669\n",
      "Optimal spatial frequency in cycles per degree 0.5\n",
      "Optimal spatial frequency in cycles per window =  4.3039220998833345\n",
      "cycles per pixel =  0.016812195702669275\n"
     ]
    }
   ],
   "source": [
    "print('width of these motion clouds (', N_X, ', ', N_Y, ')')\n",
    "print('width of stimulus in degrees', N_X * deg_per_px)\n",
    "phi_sf_0 = .5 # Optimal spatial frequency [cpd]\n",
    "print('Optimal spatial frequency in cycles per degree', phi_sf_0)\n",
    "print('Optimal spatial frequency in cycles per window = ', phi_sf_0 *  N_X * deg_per_px)\n",
    "sf_0 = phi_sf_0 * deg_per_px\n",
    "print('cycles per pixel = ', sf_0)"
   ]
  },
  {
   "cell_type": "markdown",
   "metadata": {},
   "source": [
    "Similarly the spatial frequeny bandwidth as a function of the experimental parameters:"
   ]
  },
  {
   "cell_type": "code",
   "execution_count": 9,
   "metadata": {
    "ExecuteTime": {
     "end_time": "2019-01-31T20:56:28.092827Z",
     "start_time": "2019-01-31T20:56:27.967838Z"
    }
   },
   "outputs": [],
   "source": [
    "phi_sf_0 = .5 # Optimal spatial frequency [cpd] https://www.sciencedirect.com/science/article/pii/S0042698904004390\n",
    "phi_B_sf = 2. # Optimal spatial frequency bandwidth [in octaves]\n",
    "B_Sf = sf_0 # good qualitative approximation"
   ]
  },
  {
   "cell_type": "code",
   "execution_count": 10,
   "metadata": {
    "ExecuteTime": {
     "end_time": "2019-01-31T20:56:28.177256Z",
     "start_time": "2019-01-31T20:56:28.095502Z"
    }
   },
   "outputs": [],
   "source": [
    "phi_B_V = 5. # Optimal temporal frequency bandwidth [Hz]\n",
    "\n",
    "#tf_opt = 1 # Hz\n",
    "T = 0.250            # Stimulus duration [s] \n",
    "framerate = 100.    # Refreshing rate in [Hz]\n",
    "Bv = phi_B_V # good qualitative approximation "
   ]
  },
  {
   "cell_type": "markdown",
   "metadata": {},
   "source": [
    "In one script:"
   ]
  },
  {
   "cell_type": "code",
   "execution_count": null,
   "metadata": {
    "ExecuteTime": {
     "end_time": "2019-01-30T14:20:43.743988Z",
     "start_time": "2019-01-30T14:20:28.530Z"
    }
   },
   "outputs": [],
   "source": [
    "if False:\n",
    "    import numpy as np\n",
    "    import MotionClouds as mc\n",
    "    import os\n",
    "\n",
    "    # Clouds parameters in absolute units\n",
    "    N_X = 512\n",
    "    width = 29.7*N_X/1050\n",
    "    phi_sf_0 = .5 # Optimal spatial frequency [cpd]\n",
    "\n",
    "    sf_0 = phi_sf_0*width/N_X\n",
    "    B_sf = sf_0   # BW spatial frequency\n",
    "    B_V = .5     # BW temporal frequency (speed plane thickness) WARNING temporal autocorrelation depends on N_frame\n",
    "\n",
    "    # generate zip files\n",
    "    dry_run = True\n",
    "    dry_run = False\n",
    "\n",
    "    for seed in [2016 + i for i in range(7)]:\n",
    "        name_ = name + '_seed_' + str(seed)\n",
    "        if not dry_run:\n",
    "            if  not(os.path.isfile(os.path.join(mc.figpath, name_ + vext))):\n",
    "                im = make_one_block(N_X, N_X, seed=seed, B_thetas=B_thetas, N_frame_total=200, N_frame_mean=25, N_theta=12)\n",
    "                mc.anim_save(mc.rectif(im, contrast=contrast), os.path.join(mc.figpath, name_), vext=vext)\n",
    "            else:\n",
    "                print(' MC ' + os.path.join(mc.figpath, name_) + ' already done')\n",
    "        else:\n",
    "            print(' MC ' + os.path.join(mc.figpath, name_) + ' skipped  (dry run)')\n"
   ]
  }
 ],
 "metadata": {
  "kernelspec": {
   "display_name": "Python 3",
   "language": "python",
   "name": "python3"
  },
  "language_info": {
   "codemirror_mode": {
    "name": "ipython",
    "version": 3
   },
   "file_extension": ".py",
   "mimetype": "text/x-python",
   "name": "python",
   "nbconvert_exporter": "python",
   "pygments_lexer": "ipython3",
   "version": "3.7.2"
  }
 },
 "nbformat": 4,
 "nbformat_minor": 2
}
