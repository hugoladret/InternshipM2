{
 "cells": [
  {
   "cell_type": "markdown",
   "metadata": {},
   "source": [
    "# 2019-01-31 - Generer une tuning curve avec les MC\n",
    "Je sais pas si c'est vraiment utile, mais mon intuition est qu'on va devoir savoir dans quoi on a planté l'electrode pour pouvoir faire des analyses avec le modèle. Donc pour connaitre la préférence à l'orientation de la colonne corticale, on va faire un ensemble d'orientations aléatoires avec le même bandwith bien discriminable et regarder la réponse max.\n",
    "\n",
    "# B_theta n'a pas d'effet, il faut le spécifier dans la fonction\n",
    "# Les frames sont toutes fixés à la durée moyenne, pas à la durée aléatoire"
   ]
  },
  {
   "cell_type": "code",
   "execution_count": 1,
   "metadata": {
    "ExecuteTime": {
     "end_time": "2019-01-31T15:07:58.566718Z",
     "start_time": "2019-01-31T15:07:56.212118Z"
    }
   },
   "outputs": [],
   "source": [
    "import os\n",
    "import numpy as np\n",
    "import MotionClouds as mc\n",
    "import datetime\n",
    "import matplotlib.pyplot as plt\n",
    "import csv\n",
    "\n",
    "downscale = 1\n",
    "fx, fy, ft = mc.get_grids(mc.N_X//downscale, mc.N_Y//downscale, mc.N_frame//downscale)\n",
    "\n",
    "now = datetime.datetime.now()\n",
    "strtime = now.strftime(\"%Y-%m-%d_%H:%M:%S\")   \n",
    "\n",
    "mc.figpath = os.path.join('sequences/Tuning_curve%s'% strtime)\n",
    "if not(os.path.isdir(mc.figpath)): os.mkdir(mc.figpath)"
   ]
  },
  {
   "cell_type": "code",
   "execution_count": 2,
   "metadata": {
    "ExecuteTime": {
     "end_time": "2019-01-31T15:08:25.508579Z",
     "start_time": "2019-01-31T15:07:58.568006Z"
    },
    "scrolled": false
   },
   "outputs": [],
   "source": [
    "def make_one_block(N_X, N_Y, seed, B_thetas, N_frame_total,  \n",
    "                   N_frame_mean=6, N_theta=12, contrast=1.,\n",
    "                  refresh_rate = 120, duration = 60,mean_duration = 3):\n",
    "    fx, fy, ft = mc.get_grids(N_X, N_Y, 1)\n",
    "\n",
    "    rng = np.random.RandomState(seed)\n",
    "\n",
    "    N_frame = 0\n",
    "    im = np.zeros((N_X, N_Y, 0))\n",
    "    disk = mc.frequency_radius(fx, fy, ft) < .5\n",
    "    itr = 0\n",
    "    \n",
    "    if duration != None and mean_duration != None and refresh_rate != None :\n",
    "        N_frame_total = refresh_rate * duration\n",
    "        N_frame_mean = refresh_rate * mean_duration\n",
    "    \n",
    "    while N_frame < N_frame_total:\n",
    "        itr +=1\n",
    "        N_frame_sub = N_frame_mean\n",
    "        theta = np.int(rng.rand()*N_theta) * np.pi / N_theta\n",
    "        B_theta = np.pi/32\n",
    "        mc_i = mc.envelope_gabor(fx, fy, ft, \n",
    "                                         V_X=0., V_Y=0., B_V=0., \n",
    "                                         sf_0=sf_0, B_sf=B_sf, \n",
    "                                         theta=theta, B_theta=B_theta)\n",
    "        im_ = np.zeros((N_X, N_Y, 1))\n",
    "        im_ += mc.rectif(mc.random_cloud(mc_i, seed=seed+N_frame), contrast=contrast)\n",
    "        im_ *= disk # masking outside the disk \n",
    "        im_ += .5*(1-disk) # gray outside the disk\n",
    "        im_ = im_ * np.ones((1, 1, N_frame_sub)) #  expand to N_frame_sub frames\n",
    "\n",
    "        im_[6:20,6:20,:] = 0\n",
    "        im_[6:20,6:20,-1] = 1\n",
    "        im = np.concatenate((im, im_), axis=-1) # montage\n",
    "        N_frame = im.shape[-1]\n",
    "\n",
    "        #data appending\n",
    "        with open(mc.figpath+'/'+'sequence.csv', \"a+\") as writer_file:\n",
    "            data_writer = csv.writer(writer_file, delimiter=',', quotechar='\"', quoting=csv.QUOTE_MINIMAL)\n",
    "            data_writer.writerow([itr, N_frame, N_frame/refresh_rate, \n",
    "                                  theta, B_theta, sf_0, B_sf, N_X, N_Y, N_frame_total, refresh_rate])\n",
    "\n",
    "    return im[:, :, :N_frame_total], itr\n",
    "\n",
    "#Parameters\n",
    "N_X = fx.shape[0]\n",
    "width = 29.7*256/1050 \n",
    "N_X, N_Y = mc.N_X, mc.N_Y\n",
    "\n",
    "N_frame_total = 200\n",
    "N_frame_mean = 12\n",
    "N_theta = 12\n",
    "\n",
    "sf_0 = 4.*width/N_X\n",
    "B_V = .0     # BW temporal frequency (speed plane thickness)\n",
    "B_sf = sf_0   # BW spatial frequency\n",
    "\n",
    "B_thetas = [np.pi/32, np.pi/16, np.pi/8, np.pi/4] #bandwidth opening choices\n",
    "seed = 42 #standardized random vector\n",
    "\n",
    "#Overrides N_frame total, nframe mean\n",
    "refresh_rate = 24 #Hz\n",
    "duration = 60 #s\n",
    "mean_duration = 2 #s\n",
    "\n",
    "'''refresh_rate = None #Hz\n",
    "duration = None #s\n",
    "mean_duration = None #s'''\n",
    "\n",
    "vext = '.mp4'\n",
    "\n",
    "#refresh rate and duration and mean duration override the N_frame total;N_frame_mean unless left to None\n",
    "im = make_one_block(N_X, N_Y, seed=seed, B_thetas=B_thetas,\n",
    "                    N_frame_total=N_frame_total, N_frame_mean=12, N_theta=12,\n",
    "                   refresh_rate = refresh_rate, duration = duration, mean_duration = mean_duration)\n",
    "\n",
    "mc.anim_save(im[0], os.path.join(mc.figpath, 'MC_files'), figpath=mc.figpath, vext = vext, T_movie = duration)"
   ]
  },
  {
   "cell_type": "markdown",
   "metadata": {},
   "source": [
    "# Protocol description"
   ]
  },
  {
   "cell_type": "code",
   "execution_count": 3,
   "metadata": {
    "ExecuteTime": {
     "end_time": "2019-01-31T15:08:25.516576Z",
     "start_time": "2019-01-31T15:08:25.511805Z"
    }
   },
   "outputs": [
    {
     "name": "stdout",
     "output_type": "stream",
     "text": [
      "Generation of a tuning curve using motionclouds as gratings\n",
      "Total duration of 200 frames, which is 8.333s at 24 Hz\n",
      "A total of 30 blocks where generated, with the mean duration of each block being 12 frames\n",
      "12 differents angles where shown, with 4 possible bandwiths\n",
      "-----------------\n",
      "All files were saved in /sequences/Tuning_curve2019-01-31_10:07:58 with format .mp4\n"
     ]
    }
   ],
   "source": [
    "print('Generation of a tuning curve using motionclouds as gratings')\n",
    "print('Total duration of %s frames, which is %.3fs at %s Hz' % (N_frame_total, N_frame_total/refresh_rate, refresh_rate))\n",
    "print('A total of %s blocks where generated, with the mean duration of each block being %s frames' % (im[1],N_frame_mean))\n",
    "print('%s differents angles where shown, with %s possible bandwiths' % (N_theta, len(B_thetas)))\n",
    "print('-----------------\\nAll files were saved in /%s with format %s' % (mc.figpath, vext))"
   ]
  }
 ],
 "metadata": {
  "kernelspec": {
   "display_name": "Python 3",
   "language": "python",
   "name": "python3"
  },
  "language_info": {
   "codemirror_mode": {
    "name": "ipython",
    "version": 3
   },
   "file_extension": ".py",
   "mimetype": "text/x-python",
   "name": "python",
   "nbconvert_exporter": "python",
   "pygments_lexer": "ipython3",
   "version": "3.7.0"
  }
 },
 "nbformat": 4,
 "nbformat_minor": 2
}
