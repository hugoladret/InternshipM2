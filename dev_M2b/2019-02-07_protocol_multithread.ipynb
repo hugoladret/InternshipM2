{
 "cells": [
  {
   "cell_type": "markdown",
   "metadata": {},
   "source": [
    "# 2019-02-04 - Protocol V2\n",
    "Sans artéfacts et avec des écrans noirs au début et à la fin"
   ]
  },
  {
   "cell_type": "code",
   "execution_count": 1,
   "metadata": {
    "ExecuteTime": {
     "end_time": "2019-02-07T19:24:04.147956Z",
     "start_time": "2019-02-07T19:23:59.173978Z"
    }
   },
   "outputs": [],
   "source": [
    "import os\n",
    "import numpy as np\n",
    "import MotionClouds as mc\n",
    "import datetime\n",
    "import matplotlib.pyplot as plt\n",
    "import csv\n",
    "from tqdm import tqdm\n",
    "import imageio\n",
    "import warnings\n",
    "from joblib import Parallel, delayed\n",
    "\n",
    "downscale = 1\n",
    "fx, fy, ft = mc.get_grids(mc.N_X//downscale, mc.N_Y//downscale, mc.N_frame//downscale)\n",
    "\n",
    "now = datetime.datetime.now()\n",
    "strtime = now.strftime(\"%Y-%m-%d_%H:%M:%S\")   \n",
    "\n",
    "mc.figpath = os.path.join('sequences/MC%s'% strtime)\n",
    "if not(os.path.isdir(mc.figpath)): os.mkdir(mc.figpath)"
   ]
  },
  {
   "cell_type": "markdown",
   "metadata": {},
   "source": [
    "The [Exponential distribution](https://en.wikipedia.org/wiki/Exponential_distribution) is the probability distribution that describes the time between events in a Poisson point process"
   ]
  },
  {
   "cell_type": "code",
   "execution_count": null,
   "metadata": {
    "ExecuteTime": {
     "start_time": "2019-02-07T19:24:05.418Z"
    },
    "scrolled": false
   },
   "outputs": [],
   "source": [
    "def make_one_block(N_X, N_Y, seed, B_thetas, N_frame_total,  \n",
    "                   N_frame_mean=6, N_theta=12, contrast=1.,\n",
    "                  refresh_rate = 120, duration = 60,mean_duration = 3):\n",
    "    fx, fy, ft = mc.get_grids(N_X, N_Y, 1)\n",
    "\n",
    "    rng = np.random.RandomState(seed)\n",
    "\n",
    "    N_frame = 0\n",
    "    im = np.zeros((N_X, N_Y, 0))\n",
    "    disk = mc.frequency_radius(fx, fy, ft) < .5\n",
    "    itr = 0\n",
    "    \n",
    "    if duration != None and mean_duration != None and refresh_rate != None :\n",
    "        N_frame_total = refresh_rate * duration\n",
    "        N_frame_mean = refresh_rate * mean_duration\n",
    "    \n",
    "    while N_frame < N_frame_total:\n",
    "        itr +=1\n",
    "        N_frame_sub = int(rng.exponential(N_frame_mean))+1\n",
    "        theta = np.int(rng.rand()*N_theta) * np.pi / N_theta\n",
    "        B_theta = B_thetas[rng.randint(len(B_thetas))]\n",
    "        mc_i = mc.envelope_gabor(fx, fy, ft, \n",
    "                                         V_X=0., V_Y=0., B_V=0., \n",
    "                                         sf_0=sf_0, B_sf=B_sf, \n",
    "                                         theta=theta, B_theta=B_theta)\n",
    "        im_ = np.zeros((N_X, N_Y, 1))\n",
    "        im_ += mc.rectif(mc.random_cloud(mc_i, seed=seed+N_frame), contrast=contrast)\n",
    "        im_ *= disk # masking outside the disk \n",
    "        im_ += .5*(1-disk) # gray outside the disk\n",
    "        im_ = im_ * np.ones((1, 1, N_frame_sub)) #  expand to N_frame_sub frames\n",
    "\n",
    "        im_[6:20,6:20,:] = 0\n",
    "        if itr % 2 == 0 :\n",
    "            im_[6:20,6:20,-3:-1] = 1\n",
    "        else :\n",
    "            im_[6:20,6:20,-1] = 1 \n",
    "        im = np.concatenate((im, im_), axis=-1) # montage\n",
    "        '''im /= im.max()\n",
    "        im *= 255\n",
    "        im /= 4\n",
    "        im = im.astype(np.uint8)'''\n",
    "        N_frame = im.shape[-1]\n",
    "\n",
    "        #data appending\n",
    "        with open(mc.figpath+'/'+'sequence.csv', \"a+\") as writer_file:\n",
    "            data_writer = csv.writer(writer_file, delimiter=',', quotechar='\"', quoting=csv.QUOTE_MINIMAL)\n",
    "            data_writer.writerow([itr, N_frame, N_frame/refresh_rate, \n",
    "                                  theta, B_theta, sf_0, B_sf, N_X, N_Y, N_frame_total, refresh_rate])\n",
    "\n",
    "    return im[:, :, :N_frame_total], itr\n",
    "\n",
    "#Parameters\n",
    "N_X = fx.shape[0]\n",
    "width = 29.7*256/1050 \n",
    "N_X, N_Y = mc.N_X, mc.N_Y\n",
    "\n",
    "N_frame_total = 200\n",
    "N_frame_mean = 12\n",
    "N_theta = 12\n",
    "\n",
    "sf_0 = 4.*width/N_X\n",
    "B_V = .0     # BW temporal frequency (speed plane thickness)\n",
    "B_sf = sf_0   # BW spatial frequency\n",
    "\n",
    "B_thetas = [np.pi/32, np.pi/16, np.pi/8, np.pi/4] #bandwidth opening choices\n",
    "seed = 42 #standardized random vector\n",
    "\n",
    "#Overrides N_frame total, nframe mean\n",
    "refresh_rate = 24 #Hz\n",
    "duration = 1800 #s\n",
    "mean_duration = 10 #s\n",
    "\n",
    "'''refresh_rate = None #Hz\n",
    "duration = None #s\n",
    "mean_duration = None #s'''\n",
    "\n",
    "\n",
    "#refresh rate and duration and mean duration override the N_frame total;N_frame_mean unless left to None\n",
    "im = make_one_block(N_X, N_Y, seed=seed, B_thetas=B_thetas, \n",
    "                    N_frame_total=N_frame_total, N_frame_mean=12, N_theta=12,\n",
    "                   refresh_rate = refresh_rate, duration = duration, mean_duration = mean_duration)\n",
    "\n",
    "warnings.filterwarnings(\"ignore\")\n",
    "for i in range(250):\n",
    "    imageio.imwrite(mc.figpath+'/%s.png'% i, np.zeros_like(im[0][:,:,0]))\n",
    "    \n",
    "for i in range(im[0].shape[-1]+250, im[0].shape[-1]+500):\n",
    "    print(i)\n",
    "    imageio.imwrite(mc.figpath+'/%s.png' %i, np.zeros_like(im[0][:,:,0]))\n",
    "    \n",
    "for i in range(im[0].shape[-1]):\n",
    "    imageio.imwrite(mc.figpath+'/%s.png' % (i+250) , np.rot90(im[0][:,:,i]))"
   ]
  },
  {
   "cell_type": "code",
   "execution_count": null,
   "metadata": {
    "ExecuteTime": {
     "start_time": "2019-02-07T19:17:24.320Z"
    }
   },
   "outputs": [],
   "source": [
    "pixvals = []\n",
    "for i in range(im[0].shape[-1]+500):\n",
    "    pixval = imageio.imread('./sequences/MC2019-02-05_11:51:42/%s.png'%i)[0,0]\n",
    "    pixvals.append(pixval)"
   ]
  },
  {
   "cell_type": "code",
   "execution_count": null,
   "metadata": {
    "ExecuteTime": {
     "start_time": "2019-02-07T19:17:24.321Z"
    }
   },
   "outputs": [],
   "source": [
    "plt.plot(pixvals)"
   ]
  },
  {
   "cell_type": "code",
   "execution_count": null,
   "metadata": {
    "ExecuteTime": {
     "start_time": "2019-02-07T19:17:24.324Z"
    }
   },
   "outputs": [],
   "source": [
    "plt.imshow(im[0][:,:,0])"
   ]
  },
  {
   "cell_type": "markdown",
   "metadata": {},
   "source": [
    "# Protocol description"
   ]
  },
  {
   "cell_type": "code",
   "execution_count": null,
   "metadata": {
    "ExecuteTime": {
     "start_time": "2019-02-07T19:17:24.326Z"
    }
   },
   "outputs": [],
   "source": [
    "print('Total duration of %s frames, which is %.3fs at %s Hz' % (N_frame_total, N_frame_total/refresh_rate, refresh_rate))\n",
    "print('A total of %s blocks where generated, with the mean duration of each block being %s frames' % (im[1],N_frame_mean))\n",
    "print('%s differents angles where shown, with %s possible bandwiths' % (N_theta, len(B_thetas)))\n",
    "print('-----------------\\nAll files were saved in /%s with format %s' % (mc.figpath, vext))"
   ]
  },
  {
   "cell_type": "markdown",
   "metadata": {},
   "source": [
    "# Adapting the spatial frequency parameters for the screen (and the mouse)\n",
    "\n",
    "My version :"
   ]
  },
  {
   "cell_type": "code",
   "execution_count": null,
   "metadata": {
    "ExecuteTime": {
     "start_time": "2019-02-07T19:17:24.329Z"
    }
   },
   "outputs": [],
   "source": [
    "object_px = N_X #px\n",
    "dpi = 72 #dot per inches\n",
    "pixel_per_cm = dpi* .393701 #pixel per cm\n",
    "distance = 60 #cm\n",
    "\n",
    "object_size_cm = object_px/pixel_per_cm #cm\n",
    "\n",
    "object_size_angles = np.degrees(2* np.arctan( (object_size_cm/2)/distance))\n",
    "deg_per_px = object_size_angles/N_X\n",
    "print('The size of the MC is %s degrees' % object_size_angles)\n",
    "print('The size of a single pixel is %s degrees' % (object_size_angles/N_X))"
   ]
  },
  {
   "cell_type": "markdown",
   "metadata": {},
   "source": [
    "Laurent's (probably the one that's correct)"
   ]
  },
  {
   "cell_type": "markdown",
   "metadata": {
    "ExecuteTime": {
     "end_time": "2019-01-30T13:56:00.642647Z",
     "start_time": "2019-01-30T13:56:00.551069Z"
    }
   },
   "source": [
    "viewingDistance = 60 # cm A MODIFIER\n",
    "screen_width_cm = 30 # cm A MODIFIER\n",
    "\n",
    "print('Visual angle of the screen', 2*np.arctan(screen_width_cm/2/viewingDistance)*180/np.pi)\n",
    "print('Degrees per centimeter', 2*np.arctan(screen_width_cm/2/viewingDistance)*180/np.pi/screen_width_cm)\n",
    "\n",
    "screen_width_px = 1600 # pixels \n",
    "screen_height_px = 900 # pixels\n",
    "\n",
    "deg_per_px = 2*np.arctan(screen_width_cm/2/viewingDistance)*180/np.pi/screen_width_px\n",
    "print('Degrees per pixel', deg_per_px)\n",
    "\n",
    "stim_size = deg_per_px*N_X\n",
    "print('Stimulus angular size', stim_size)"
   ]
  },
  {
   "cell_type": "markdown",
   "metadata": {},
   "source": [
    "The central spatial frequency ``sf_0`` is defined as the frequency (number of cycles) *per pixel*, so that to get "
   ]
  },
  {
   "cell_type": "code",
   "execution_count": null,
   "metadata": {
    "ExecuteTime": {
     "start_time": "2019-02-07T19:17:24.333Z"
    }
   },
   "outputs": [],
   "source": [
    "print('width of these motion clouds (', N_X, ', ', N_Y, ')')\n",
    "print('width of stimulus in degrees', N_X * deg_per_px)\n",
    "phi_sf_0 = .5 # Optimal spatial frequency [cpd]\n",
    "print('Optimal spatial frequency in cycles per degree', phi_sf_0)\n",
    "print('Optimal spatial frequency in cycles per window = ', phi_sf_0 *  N_X * deg_per_px)\n",
    "sf_0 = phi_sf_0 * deg_per_px\n",
    "print('cycles per pixel = ', sf_0)"
   ]
  },
  {
   "cell_type": "markdown",
   "metadata": {},
   "source": [
    "Similarly the spatial frequeny bandwidth as a function of the experimental parameters:"
   ]
  },
  {
   "cell_type": "code",
   "execution_count": null,
   "metadata": {
    "ExecuteTime": {
     "start_time": "2019-02-07T19:17:24.334Z"
    }
   },
   "outputs": [],
   "source": [
    "phi_sf_0 = .5 # Optimal spatial frequency [cpd] https://www.sciencedirect.com/science/article/pii/S0042698904004390\n",
    "phi_B_sf = 2. # Optimal spatial frequency bandwidth [in octaves]\n",
    "B_Sf = sf_0 # good qualitative approximation"
   ]
  },
  {
   "cell_type": "code",
   "execution_count": null,
   "metadata": {
    "ExecuteTime": {
     "start_time": "2019-02-07T19:17:24.335Z"
    }
   },
   "outputs": [],
   "source": [
    "phi_B_V = 5. # Optimal temporal frequency bandwidth [Hz]\n",
    "\n",
    "#tf_opt = 1 # Hz\n",
    "T = 0.250            # Stimulus duration [s] \n",
    "framerate = 100.    # Refreshing rate in [Hz]\n",
    "Bv = phi_B_V # good qualitative approximation "
   ]
  },
  {
   "cell_type": "markdown",
   "metadata": {},
   "source": [
    "In one script:"
   ]
  },
  {
   "cell_type": "markdown",
   "metadata": {
    "ExecuteTime": {
     "end_time": "2019-01-30T14:20:43.743988Z",
     "start_time": "2019-01-30T14:20:28.530Z"
    }
   },
   "source": [
    "import numpy as np\n",
    "import MotionClouds as mc\n",
    "import os\n",
    "\n",
    "# Clouds parameters in absolute units\n",
    "N_X = 512\n",
    "width = 29.7*N_X/1050\n",
    "phi_sf_0 = .5 # Optimal spatial frequency [cpd]\n",
    "\n",
    "sf_0 = phi_sf_0*width/N_X\n",
    "B_sf = sf_0   # BW spatial frequency\n",
    "B_V = .5     # BW temporal frequency (speed plane thickness) WARNING temporal autocorrelation depends on N_frame\n",
    "\n",
    "# generate zip files\n",
    "dry_run = True\n",
    "dry_run = False\n",
    "      \n",
    "for seed in [2016 + i for i in range(7)]:\n",
    "    name_ = name + '_seed_' + str(seed)\n",
    "    if not dry_run:\n",
    "        if  not(os.path.isfile(os.path.join(mc.figpath, name_ + vext))):\n",
    "            im = make_one_block(N_X, N_X, seed=seed, B_thetas=B_thetas, N_frame_total=200, N_frame_mean=25, N_theta=12)\n",
    "            mc.anim_save(mc.rectif(im, contrast=contrast), os.path.join(mc.figpath, name_), vext=vext)\n",
    "        else:\n",
    "            print(' MC ' + os.path.join(mc.figpath, name_) + ' already done')\n",
    "    else:\n",
    "        print(' MC ' + os.path.join(mc.figpath, name_) + ' skipped  (dry run)')\n"
   ]
  }
 ],
 "metadata": {
  "kernelspec": {
   "display_name": "Python 3",
   "language": "python",
   "name": "python3"
  },
  "language_info": {
   "codemirror_mode": {
    "name": "ipython",
    "version": 3
   },
   "file_extension": ".py",
   "mimetype": "text/x-python",
   "name": "python",
   "nbconvert_exporter": "python",
   "pygments_lexer": "ipython3",
   "version": "3.7.0"
  }
 },
 "nbformat": 4,
 "nbformat_minor": 2
}
